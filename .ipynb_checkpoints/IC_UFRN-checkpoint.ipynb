{
 "cells": [
  {
   "cell_type": "markdown",
   "metadata": {
    "colab_type": "text",
    "id": "JO8FMBU-ET_E"
   },
   "source": [
    "## Análise da Iniciação Científica"
   ]
  },
  {
   "cell_type": "markdown",
   "metadata": {
    "colab_type": "text",
    "id": "mFoMjcy4Ffwt"
   },
   "source": [
    "### Importando e tratando"
   ]
  },
  {
   "cell_type": "code",
   "execution_count": 0,
   "metadata": {
    "colab": {},
    "colab_type": "code",
    "id": "PE5DOFS6EZmU"
   },
   "outputs": [],
   "source": [
    "import pandas as pd"
   ]
  },
  {
   "cell_type": "code",
   "execution_count": 109,
   "metadata": {
    "colab": {
     "base_uri": "https://localhost:8080/",
     "height": 610
    },
    "colab_type": "code",
    "executionInfo": {
     "elapsed": 2239,
     "status": "ok",
     "timestamp": 1555419417311,
     "user": {
      "displayName": "Maradona Morais",
      "photoUrl": "https://lh4.googleusercontent.com/-L3T00naEHnQ/AAAAAAAAAAI/AAAAAAAAAD0/lvqtbDxpVCE/s64/photo.jpg",
      "userId": "03122654508368846507"
     },
     "user_tz": 180
    },
    "id": "pDniXhfTEj4Q",
    "outputId": "1929c76d-c337-46d6-8d3e-4264b12925f4"
   },
   "outputs": [
    {
     "data": {
      "text/html": [
       "<div>\n",
       "<style scoped>\n",
       "    .dataframe tbody tr th:only-of-type {\n",
       "        vertical-align: middle;\n",
       "    }\n",
       "\n",
       "    .dataframe tbody tr th {\n",
       "        vertical-align: top;\n",
       "    }\n",
       "\n",
       "    .dataframe thead th {\n",
       "        text-align: right;\n",
       "    }\n",
       "</style>\n",
       "<table border=\"1\" class=\"dataframe\">\n",
       "  <thead>\n",
       "    <tr style=\"text-align: right;\">\n",
       "      <th></th>\n",
       "      <th>id_discente</th>\n",
       "      <th>matricula</th>\n",
       "      <th>discente</th>\n",
       "      <th>titulo</th>\n",
       "      <th>codigo_projeto</th>\n",
       "      <th>id_projeto_pesquisa</th>\n",
       "      <th>ano</th>\n",
       "      <th>id_orientador</th>\n",
       "      <th>orientador</th>\n",
       "      <th>categoria</th>\n",
       "      <th>...</th>\n",
       "      <th>linha_pesquisa</th>\n",
       "      <th>id_grupo_pesquisa</th>\n",
       "      <th>grupo_pesquisa</th>\n",
       "      <th>cota</th>\n",
       "      <th>inicio</th>\n",
       "      <th>fim</th>\n",
       "      <th>id_unidade</th>\n",
       "      <th>unidade</th>\n",
       "      <th>status</th>\n",
       "      <th>Unnamed: 20</th>\n",
       "    </tr>\n",
       "  </thead>\n",
       "  <tbody>\n",
       "    <tr>\n",
       "      <th>0</th>\n",
       "      <td>88234</td>\n",
       "      <td>200504593</td>\n",
       "      <td>ABDON SILVA RIBEIRO DA CUNHA</td>\n",
       "      <td>Geração e disseminação da inovação na carcinic...</td>\n",
       "      <td>PVE2463-2008</td>\n",
       "      <td>5554243</td>\n",
       "      <td>2008</td>\n",
       "      <td>64653</td>\n",
       "      <td>MARIANA BALDI</td>\n",
       "      <td>Iniciação Científica (IC)</td>\n",
       "      <td>...</td>\n",
       "      <td>Organizações e comportamento organizacional</td>\n",
       "      <td>38.0</td>\n",
       "      <td>BASE DE ESTUDOS E PESQUISAS EM ESTRATÉGIAS E P...</td>\n",
       "      <td>2008-2009</td>\n",
       "      <td>2008-08-25</td>\n",
       "      <td>2008-11-06 13:35:24.877</td>\n",
       "      <td>161</td>\n",
       "      <td>DEPARTAMENTO DE CIÊNCIAS ADMINISTRATIVAS - DEP...</td>\n",
       "      <td>FINALIZADO</td>\n",
       "      <td>NaN</td>\n",
       "    </tr>\n",
       "    <tr>\n",
       "      <th>1</th>\n",
       "      <td>88234</td>\n",
       "      <td>200504593</td>\n",
       "      <td>ABDON SILVA RIBEIRO DA CUNHA</td>\n",
       "      <td>Motivos de Adesão e Filiação ao Trabalho Volun...</td>\n",
       "      <td>PVE3275-2009</td>\n",
       "      <td>11687003</td>\n",
       "      <td>2009</td>\n",
       "      <td>23198</td>\n",
       "      <td>WASHINGTON JOSE DE SOUSA</td>\n",
       "      <td>Iniciação Científica (IC)</td>\n",
       "      <td>...</td>\n",
       "      <td>Análise e Avaliação de Políticas Públicas;;;</td>\n",
       "      <td>NaN</td>\n",
       "      <td>NaN</td>\n",
       "      <td>2009-2010</td>\n",
       "      <td>2009-08-01</td>\n",
       "      <td>2009-12-25 00:00:00</td>\n",
       "      <td>161</td>\n",
       "      <td>DEPARTAMENTO DE CIÊNCIAS ADMINISTRATIVAS - DEP...</td>\n",
       "      <td>FINALIZADO</td>\n",
       "      <td>NaN</td>\n",
       "    </tr>\n",
       "    <tr>\n",
       "      <th>2</th>\n",
       "      <td>88234</td>\n",
       "      <td>200504593</td>\n",
       "      <td>ABDON SILVA RIBEIRO DA CUNHA</td>\n",
       "      <td>O agronegócio da carcinicultura no RN e a estr...</td>\n",
       "      <td>PVE334-2006</td>\n",
       "      <td>41258</td>\n",
       "      <td>2006</td>\n",
       "      <td>64653</td>\n",
       "      <td>MARIANA BALDI</td>\n",
       "      <td>Iniciação Científica (IC)</td>\n",
       "      <td>...</td>\n",
       "      <td>Organizações e comportamento organizacional;;;</td>\n",
       "      <td>38.0</td>\n",
       "      <td>BASE DE ESTUDOS E PESQUISAS EM ESTRATÉGIAS E P...</td>\n",
       "      <td>2006-2007</td>\n",
       "      <td>2006-08-01</td>\n",
       "      <td>2007-07-31 00:00:00</td>\n",
       "      <td>443</td>\n",
       "      <td>CENTRO DE CIÊNCIAS SOCIAIS APLICADAS - CCSA</td>\n",
       "      <td>FINALIZADO</td>\n",
       "      <td>NaN</td>\n",
       "    </tr>\n",
       "    <tr>\n",
       "      <th>3</th>\n",
       "      <td>88234</td>\n",
       "      <td>200504593</td>\n",
       "      <td>ABDON SILVA RIBEIRO DA CUNHA</td>\n",
       "      <td>ELEMENTOS DO COMPORTAMENTO ORGANIZACIONAL:Tipo...</td>\n",
       "      <td>PVE513-2008</td>\n",
       "      <td>5487590</td>\n",
       "      <td>2008</td>\n",
       "      <td>23198</td>\n",
       "      <td>WASHINGTON JOSE DE SOUSA</td>\n",
       "      <td>Iniciação Científica (IC)</td>\n",
       "      <td>...</td>\n",
       "      <td>Gestão de Organizações Sociais;Trabalho Volunt...</td>\n",
       "      <td>43.0</td>\n",
       "      <td>GRUPO DE ESTUDOS E PESQUISAS EM GESTÃO INSTITU...</td>\n",
       "      <td>2008-2009</td>\n",
       "      <td>2008-11-06</td>\n",
       "      <td>2009-07-31 00:00:00</td>\n",
       "      <td>443</td>\n",
       "      <td>CENTRO DE CIÊNCIAS SOCIAIS APLICADAS - CCSA</td>\n",
       "      <td>FINALIZADO</td>\n",
       "      <td>NaN</td>\n",
       "    </tr>\n",
       "    <tr>\n",
       "      <th>4</th>\n",
       "      <td>545009</td>\n",
       "      <td>2011049415</td>\n",
       "      <td>ABEL LUIS DA SILVA NETO</td>\n",
       "      <td>Estudo de Antenas com Reflectarrays e suas Apl...</td>\n",
       "      <td>PVG6992-2013</td>\n",
       "      <td>97873251</td>\n",
       "      <td>2013</td>\n",
       "      <td>5754609</td>\n",
       "      <td>ADAILDO GOMES D ASSUNCAO</td>\n",
       "      <td>Iniciação Tecnológica (IT)</td>\n",
       "      <td>...</td>\n",
       "      <td>ANTENAS, PROPAGAÇÃO E COMUNICAÇÕES SEM FIO</td>\n",
       "      <td>16.0</td>\n",
       "      <td>GRUPO DE MICROONDAS E ANTENAS</td>\n",
       "      <td>2013-2014</td>\n",
       "      <td>2013-08-14</td>\n",
       "      <td>2014-06-26 00:00:00</td>\n",
       "      <td>5204</td>\n",
       "      <td>DEPARTAMENTO DE ENGENHARIA DE COMUNICACOES - DCO</td>\n",
       "      <td>PENDENTE DE RELATORIO</td>\n",
       "      <td>NaN</td>\n",
       "    </tr>\n",
       "  </tbody>\n",
       "</table>\n",
       "<p>5 rows × 21 columns</p>\n",
       "</div>"
      ],
      "text/plain": [
       "   id_discente   matricula                      discente  \\\n",
       "0        88234   200504593  ABDON SILVA RIBEIRO DA CUNHA   \n",
       "1        88234   200504593  ABDON SILVA RIBEIRO DA CUNHA   \n",
       "2        88234   200504593  ABDON SILVA RIBEIRO DA CUNHA   \n",
       "3        88234   200504593  ABDON SILVA RIBEIRO DA CUNHA   \n",
       "4       545009  2011049415       ABEL LUIS DA SILVA NETO   \n",
       "\n",
       "                                              titulo codigo_projeto  \\\n",
       "0  Geração e disseminação da inovação na carcinic...   PVE2463-2008   \n",
       "1  Motivos de Adesão e Filiação ao Trabalho Volun...   PVE3275-2009   \n",
       "2  O agronegócio da carcinicultura no RN e a estr...    PVE334-2006   \n",
       "3  ELEMENTOS DO COMPORTAMENTO ORGANIZACIONAL:Tipo...    PVE513-2008   \n",
       "4  Estudo de Antenas com Reflectarrays e suas Apl...   PVG6992-2013   \n",
       "\n",
       "   id_projeto_pesquisa   ano  id_orientador                orientador  \\\n",
       "0              5554243  2008          64653             MARIANA BALDI   \n",
       "1             11687003  2009          23198  WASHINGTON JOSE DE SOUSA   \n",
       "2                41258  2006          64653             MARIANA BALDI   \n",
       "3              5487590  2008          23198  WASHINGTON JOSE DE SOUSA   \n",
       "4             97873251  2013        5754609  ADAILDO GOMES D ASSUNCAO   \n",
       "\n",
       "                    categoria     ...      \\\n",
       "0   Iniciação Científica (IC)     ...       \n",
       "1   Iniciação Científica (IC)     ...       \n",
       "2   Iniciação Científica (IC)     ...       \n",
       "3   Iniciação Científica (IC)     ...       \n",
       "4  Iniciação Tecnológica (IT)     ...       \n",
       "\n",
       "                                      linha_pesquisa id_grupo_pesquisa  \\\n",
       "0        Organizações e comportamento organizacional              38.0   \n",
       "1       Análise e Avaliação de Políticas Públicas;;;               NaN   \n",
       "2     Organizações e comportamento organizacional;;;              38.0   \n",
       "3  Gestão de Organizações Sociais;Trabalho Volunt...              43.0   \n",
       "4         ANTENAS, PROPAGAÇÃO E COMUNICAÇÕES SEM FIO              16.0   \n",
       "\n",
       "                                      grupo_pesquisa       cota      inicio  \\\n",
       "0  BASE DE ESTUDOS E PESQUISAS EM ESTRATÉGIAS E P...  2008-2009  2008-08-25   \n",
       "1                                                NaN  2009-2010  2009-08-01   \n",
       "2  BASE DE ESTUDOS E PESQUISAS EM ESTRATÉGIAS E P...  2006-2007  2006-08-01   \n",
       "3  GRUPO DE ESTUDOS E PESQUISAS EM GESTÃO INSTITU...  2008-2009  2008-11-06   \n",
       "4                      GRUPO DE MICROONDAS E ANTENAS  2013-2014  2013-08-14   \n",
       "\n",
       "                       fim id_unidade  \\\n",
       "0  2008-11-06 13:35:24.877        161   \n",
       "1      2009-12-25 00:00:00        161   \n",
       "2      2007-07-31 00:00:00        443   \n",
       "3      2009-07-31 00:00:00        443   \n",
       "4      2014-06-26 00:00:00       5204   \n",
       "\n",
       "                                             unidade                 status  \\\n",
       "0  DEPARTAMENTO DE CIÊNCIAS ADMINISTRATIVAS - DEP...             FINALIZADO   \n",
       "1  DEPARTAMENTO DE CIÊNCIAS ADMINISTRATIVAS - DEP...             FINALIZADO   \n",
       "2        CENTRO DE CIÊNCIAS SOCIAIS APLICADAS - CCSA             FINALIZADO   \n",
       "3        CENTRO DE CIÊNCIAS SOCIAIS APLICADAS - CCSA             FINALIZADO   \n",
       "4   DEPARTAMENTO DE ENGENHARIA DE COMUNICACOES - DCO  PENDENTE DE RELATORIO   \n",
       "\n",
       "  Unnamed: 20  \n",
       "0         NaN  \n",
       "1         NaN  \n",
       "2         NaN  \n",
       "3         NaN  \n",
       "4         NaN  \n",
       "\n",
       "[5 rows x 21 columns]"
      ]
     },
     "execution_count": 109,
     "metadata": {
      "tags": []
     },
     "output_type": "execute_result"
    }
   ],
   "source": [
    "bolsas_ic = pd.read_csv('bolsistas-de-iniciacao-cientifica.csv', error_bad_lines=False, delimiter=\";\")\n",
    "bolsas_ic.head()"
   ]
  },
  {
   "cell_type": "code",
   "execution_count": 110,
   "metadata": {
    "colab": {
     "base_uri": "https://localhost:8080/",
     "height": 306
    },
    "colab_type": "code",
    "executionInfo": {
     "elapsed": 2229,
     "status": "ok",
     "timestamp": 1555419417313,
     "user": {
      "displayName": "Maradona Morais",
      "photoUrl": "https://lh4.googleusercontent.com/-L3T00naEHnQ/AAAAAAAAAAI/AAAAAAAAAD0/lvqtbDxpVCE/s64/photo.jpg",
      "userId": "03122654508368846507"
     },
     "user_tz": 180
    },
    "id": "6lwWbiO-E2_5",
    "outputId": "063dbdd3-6172-4617-aa49-d23f4c80eebc"
   },
   "outputs": [
    {
     "name": "stdout",
     "output_type": "stream",
     "text": [
      "<class 'pandas.core.frame.DataFrame'>\n",
      "RangeIndex: 26725 entries, 0 to 26724\n",
      "Data columns (total 12 columns):\n",
      "id_discente          26725 non-null int64\n",
      "ano                  26725 non-null int64\n",
      "id_orientador        26725 non-null int64\n",
      "categoria            26725 non-null object\n",
      "tipo_de_bolsa        26725 non-null object\n",
      "linha_pesquisa       25851 non-null object\n",
      "id_grupo_pesquisa    22479 non-null float64\n",
      "grupo_pesquisa       22437 non-null object\n",
      "cota                 26725 non-null object\n",
      "id_unidade           26725 non-null int64\n",
      "unidade              26725 non-null object\n",
      "status               26725 non-null object\n",
      "dtypes: float64(1), int64(4), object(7)\n",
      "memory usage: 2.4+ MB\n"
     ]
    }
   ],
   "source": [
    "bolsas_ic = bolsas_ic.drop(columns=['discente', 'matricula', 'titulo', 'orientador', 'codigo_projeto', 'id_projeto_pesquisa', 'inicio', 'fim', 'Unnamed: 20'])\n",
    "bolsas_ic.info()"
   ]
  },
  {
   "cell_type": "markdown",
   "metadata": {
    "colab_type": "text",
    "id": "H2lCtIXVGFaK"
   },
   "source": [
    "### Importando Bokeh"
   ]
  },
  {
   "cell_type": "code",
   "execution_count": 0,
   "metadata": {
    "colab": {},
    "colab_type": "code",
    "id": "YUBC4FdSGH15"
   },
   "outputs": [],
   "source": [
    "from bokeh.plotting import figure, output_file, show\n",
    "from bokeh.models import ColumnDataSource, HoverTool\n",
    "from bokeh.palettes import Category20c\n",
    "from bokeh.transform import cumsum\n",
    "from math import pi"
   ]
  },
  {
   "cell_type": "markdown",
   "metadata": {
    "colab_type": "text",
    "id": "IUl5kP6iFM1h"
   },
   "source": [
    "### Unidades que mais possuem projetos de IC"
   ]
  },
  {
   "cell_type": "code",
   "execution_count": 142,
   "metadata": {
    "colab": {
     "base_uri": "https://localhost:8080/",
     "height": 119
    },
    "colab_type": "code",
    "executionInfo": {
     "elapsed": 834,
     "status": "ok",
     "timestamp": 1555419833180,
     "user": {
      "displayName": "Maradona Morais",
      "photoUrl": "https://lh4.googleusercontent.com/-L3T00naEHnQ/AAAAAAAAAAI/AAAAAAAAAD0/lvqtbDxpVCE/s64/photo.jpg",
      "userId": "03122654508368846507"
     },
     "user_tz": 180
    },
    "id": "qr4ZQ8rmFS5J",
    "outputId": "c27c7406-1f1b-419c-f1ee-1d317be36d28"
   },
   "outputs": [
    {
     "data": {
      "text/plain": [
       "ESCOLA AGRÍCOLA DE JUNDIAÍ - EAJ                      1097\n",
       "CENTRO DE CIÊNCIAS DA SAÚDE - CCS                     1012\n",
       "CENTRO DE CIÊNCIAS HUMANAS, LETRAS E ARTES - CCHLA    1010\n",
       "CT VICE-DIRETORIA - CT-VICEDIR                         953\n",
       "ESCOLA DE CIÊNCIAS E TECNOLOGIA - ECT                  945\n",
       "Name: unidade, dtype: int64"
      ]
     },
     "execution_count": 142,
     "metadata": {
      "tags": []
     },
     "output_type": "execute_result"
    }
   ],
   "source": [
    "projetos_unidade = bolsas_ic.unidade.value_counts()\n",
    "projetos_unidade.head()"
   ]
  },
  {
   "cell_type": "code",
   "execution_count": 0,
   "metadata": {
    "colab": {},
    "colab_type": "code",
    "id": "zIe7lwokF6OA"
   },
   "outputs": [],
   "source": [
    "output_file('projetos_unidade.html')"
   ]
  },
  {
   "cell_type": "code",
   "execution_count": 180,
   "metadata": {
    "colab": {
     "base_uri": "https://localhost:8080/",
     "height": 204
    },
    "colab_type": "code",
    "executionInfo": {
     "elapsed": 1753,
     "status": "ok",
     "timestamp": 1555420070673,
     "user": {
      "displayName": "Maradona Morais",
      "photoUrl": "https://lh4.googleusercontent.com/-L3T00naEHnQ/AAAAAAAAAAI/AAAAAAAAAD0/lvqtbDxpVCE/s64/photo.jpg",
      "userId": "03122654508368846507"
     },
     "user_tz": 180
    },
    "id": "B--iCpSsHS5Y",
    "outputId": "fc514fc7-e85a-4cb0-900a-b21de0f2092d"
   },
   "outputs": [
    {
     "data": {
      "text/html": [
       "<div>\n",
       "<style scoped>\n",
       "    .dataframe tbody tr th:only-of-type {\n",
       "        vertical-align: middle;\n",
       "    }\n",
       "\n",
       "    .dataframe tbody tr th {\n",
       "        vertical-align: top;\n",
       "    }\n",
       "\n",
       "    .dataframe thead th {\n",
       "        text-align: right;\n",
       "    }\n",
       "</style>\n",
       "<table border=\"1\" class=\"dataframe\">\n",
       "  <thead>\n",
       "    <tr style=\"text-align: right;\">\n",
       "      <th></th>\n",
       "      <th>unidade</th>\n",
       "      <th>value</th>\n",
       "      <th>angle</th>\n",
       "      <th>color</th>\n",
       "    </tr>\n",
       "  </thead>\n",
       "  <tbody>\n",
       "    <tr>\n",
       "      <th>0</th>\n",
       "      <td>ESCOLA AGRÍCOLA DE JUNDIAÍ - EAJ</td>\n",
       "      <td>1097</td>\n",
       "      <td>0.488875</td>\n",
       "      <td>#3182bd</td>\n",
       "    </tr>\n",
       "    <tr>\n",
       "      <th>1</th>\n",
       "      <td>CENTRO DE CIÊNCIAS DA SAÚDE - CCS</td>\n",
       "      <td>1012</td>\n",
       "      <td>0.450995</td>\n",
       "      <td>#6baed6</td>\n",
       "    </tr>\n",
       "    <tr>\n",
       "      <th>2</th>\n",
       "      <td>CENTRO DE CIÊNCIAS HUMANAS, LETRAS E ARTES - C...</td>\n",
       "      <td>1010</td>\n",
       "      <td>0.450104</td>\n",
       "      <td>#9ecae1</td>\n",
       "    </tr>\n",
       "    <tr>\n",
       "      <th>3</th>\n",
       "      <td>CT VICE-DIRETORIA - CT-VICEDIR</td>\n",
       "      <td>953</td>\n",
       "      <td>0.424702</td>\n",
       "      <td>#c6dbef</td>\n",
       "    </tr>\n",
       "    <tr>\n",
       "      <th>4</th>\n",
       "      <td>ESCOLA DE CIÊNCIAS E TECNOLOGIA - ECT</td>\n",
       "      <td>945</td>\n",
       "      <td>0.421137</td>\n",
       "      <td>#e6550d</td>\n",
       "    </tr>\n",
       "  </tbody>\n",
       "</table>\n",
       "</div>"
      ],
      "text/plain": [
       "                                             unidade  value     angle    color\n",
       "0                   ESCOLA AGRÍCOLA DE JUNDIAÍ - EAJ   1097  0.488875  #3182bd\n",
       "1                  CENTRO DE CIÊNCIAS DA SAÚDE - CCS   1012  0.450995  #6baed6\n",
       "2  CENTRO DE CIÊNCIAS HUMANAS, LETRAS E ARTES - C...   1010  0.450104  #9ecae1\n",
       "3                     CT VICE-DIRETORIA - CT-VICEDIR    953  0.424702  #c6dbef\n",
       "4              ESCOLA DE CIÊNCIAS E TECNOLOGIA - ECT    945  0.421137  #e6550d"
      ]
     },
     "execution_count": 180,
     "metadata": {
      "tags": []
     },
     "output_type": "execute_result"
    }
   ],
   "source": [
    "data_unidades = projetos_unidade.head(20).reset_index(name='value').rename(columns={'index': 'unidade'})\n",
    "data_unidades['angle'] = data_unidades['value']/data_unidades['value'].sum() * 2 * pi\n",
    "data_unidades['color'] = Category20c[len(data_unidades)]\n",
    "data_unidades.head()"
   ]
  },
  {
   "cell_type": "code",
   "execution_count": 0,
   "metadata": {
    "colab": {},
    "colab_type": "code",
    "id": "1wK6ezGsGoOu"
   },
   "outputs": [],
   "source": [
    "pie_unidades = figure(title=\"Unidades da UFRN com mais bolsas de IC\", toolbar_location=None,\n",
    "                      plot_height=600, plot_width=1100,\n",
    "                      tools=\"hover\", tooltips=\"@unidade: @value\", x_range=(-0.5, 1.5))"
   ]
  },
  {
   "cell_type": "code",
   "execution_count": 182,
   "metadata": {
    "colab": {
     "base_uri": "https://localhost:8080/",
     "height": 34
    },
    "colab_type": "code",
    "executionInfo": {
     "elapsed": 1571,
     "status": "ok",
     "timestamp": 1555420075647,
     "user": {
      "displayName": "Maradona Morais",
      "photoUrl": "https://lh4.googleusercontent.com/-L3T00naEHnQ/AAAAAAAAAAI/AAAAAAAAAD0/lvqtbDxpVCE/s64/photo.jpg",
      "userId": "03122654508368846507"
     },
     "user_tz": 180
    },
    "id": "i34oFhKjIRE7",
    "outputId": "7695fbc7-a6e3-4dc2-e3ac-7d48ca3b98ed"
   },
   "outputs": [
    {
     "data": {
      "text/html": [
       "<div style=\"display: table;\"><div style=\"display: table-row;\"><div style=\"display: table-cell;\"><b title=\"bokeh.models.renderers.GlyphRenderer\">GlyphRenderer</b>(</div><div style=\"display: table-cell;\">id&nbsp;=&nbsp;'4622', <span id=\"4632\" style=\"cursor: pointer;\">&hellip;)</span></div></div><div class=\"4631\" style=\"display: none;\"><div style=\"display: table-cell;\"></div><div style=\"display: table-cell;\">data_source&nbsp;=&nbsp;ColumnDataSource(id='4618', ...),</div></div><div class=\"4631\" style=\"display: none;\"><div style=\"display: table-cell;\"></div><div style=\"display: table-cell;\">glyph&nbsp;=&nbsp;Wedge(id='4620', ...),</div></div><div class=\"4631\" style=\"display: none;\"><div style=\"display: table-cell;\"></div><div style=\"display: table-cell;\">hover_glyph&nbsp;=&nbsp;None,</div></div><div class=\"4631\" style=\"display: none;\"><div style=\"display: table-cell;\"></div><div style=\"display: table-cell;\">js_event_callbacks&nbsp;=&nbsp;{},</div></div><div class=\"4631\" style=\"display: none;\"><div style=\"display: table-cell;\"></div><div style=\"display: table-cell;\">js_property_callbacks&nbsp;=&nbsp;{},</div></div><div class=\"4631\" style=\"display: none;\"><div style=\"display: table-cell;\"></div><div style=\"display: table-cell;\">level&nbsp;=&nbsp;'glyph',</div></div><div class=\"4631\" style=\"display: none;\"><div style=\"display: table-cell;\"></div><div style=\"display: table-cell;\">muted&nbsp;=&nbsp;False,</div></div><div class=\"4631\" style=\"display: none;\"><div style=\"display: table-cell;\"></div><div style=\"display: table-cell;\">muted_glyph&nbsp;=&nbsp;None,</div></div><div class=\"4631\" style=\"display: none;\"><div style=\"display: table-cell;\"></div><div style=\"display: table-cell;\">name&nbsp;=&nbsp;None,</div></div><div class=\"4631\" style=\"display: none;\"><div style=\"display: table-cell;\"></div><div style=\"display: table-cell;\">nonselection_glyph&nbsp;=&nbsp;Wedge(id='4621', ...),</div></div><div class=\"4631\" style=\"display: none;\"><div style=\"display: table-cell;\"></div><div style=\"display: table-cell;\">selection_glyph&nbsp;=&nbsp;None,</div></div><div class=\"4631\" style=\"display: none;\"><div style=\"display: table-cell;\"></div><div style=\"display: table-cell;\">subscribed_events&nbsp;=&nbsp;[],</div></div><div class=\"4631\" style=\"display: none;\"><div style=\"display: table-cell;\"></div><div style=\"display: table-cell;\">tags&nbsp;=&nbsp;[],</div></div><div class=\"4631\" style=\"display: none;\"><div style=\"display: table-cell;\"></div><div style=\"display: table-cell;\">view&nbsp;=&nbsp;CDSView(id='4623', ...),</div></div><div class=\"4631\" style=\"display: none;\"><div style=\"display: table-cell;\"></div><div style=\"display: table-cell;\">visible&nbsp;=&nbsp;True,</div></div><div class=\"4631\" style=\"display: none;\"><div style=\"display: table-cell;\"></div><div style=\"display: table-cell;\">x_range_name&nbsp;=&nbsp;'default',</div></div><div class=\"4631\" style=\"display: none;\"><div style=\"display: table-cell;\"></div><div style=\"display: table-cell;\">y_range_name&nbsp;=&nbsp;'default')</div></div></div>\n",
       "<script>\n",
       "(function() {\n",
       "  var expanded = false;\n",
       "  var ellipsis = document.getElementById(\"4632\");\n",
       "  ellipsis.addEventListener(\"click\", function() {\n",
       "    var rows = document.getElementsByClassName(\"4631\");\n",
       "    for (var i = 0; i < rows.length; i++) {\n",
       "      var el = rows[i];\n",
       "      el.style.display = expanded ? \"none\" : \"table-row\";\n",
       "    }\n",
       "    ellipsis.innerHTML = expanded ? \"&hellip;)\" : \"&lsaquo;&lsaquo;&lsaquo;\";\n",
       "    expanded = !expanded;\n",
       "  });\n",
       "})();\n",
       "</script>\n"
      ],
      "text/plain": [
       "GlyphRenderer(id='4622', ...)"
      ]
     },
     "execution_count": 182,
     "metadata": {
      "tags": []
     },
     "output_type": "execute_result"
    }
   ],
   "source": [
    "pie_unidades.wedge(x=0, y=1, radius=0.4,\n",
    "        start_angle=cumsum('angle', include_zero=True), end_angle=cumsum('angle'),\n",
    "        line_color=\"white\", fill_color='color', legend='unidade', source=data_unidades)"
   ]
  },
  {
   "cell_type": "code",
   "execution_count": 0,
   "metadata": {
    "colab": {},
    "colab_type": "code",
    "id": "g4F2VELKInFs"
   },
   "outputs": [],
   "source": [
    "show(pie_unidades)"
   ]
  },
  {
   "cell_type": "markdown",
   "metadata": {
    "colab_type": "text",
    "id": "824FZtzSFpgk"
   },
   "source": [
    "### Grupos de pesquisa com mais projetos de IC"
   ]
  },
  {
   "cell_type": "code",
   "execution_count": 187,
   "metadata": {
    "colab": {
     "base_uri": "https://localhost:8080/",
     "height": 119
    },
    "colab_type": "code",
    "executionInfo": {
     "elapsed": 808,
     "status": "ok",
     "timestamp": 1555420676310,
     "user": {
      "displayName": "Maradona Morais",
      "photoUrl": "https://lh4.googleusercontent.com/-L3T00naEHnQ/AAAAAAAAAAI/AAAAAAAAAD0/lvqtbDxpVCE/s64/photo.jpg",
      "userId": "03122654508368846507"
     },
     "user_tz": 180
    },
    "id": "WKOpEfCCFubj",
    "outputId": "8ee732be-fcc6-4e75-e250-673e6b5f39b2"
   },
   "outputs": [
    {
     "data": {
      "text/plain": [
       "ISOLADO                            703\n",
       "DESENVOLVIMENTO DE MEDICAMENTOS    506\n",
       "ALIMENTOS, NUTRIÇÃO E SAÚDE        457\n",
       "BIOANÁLISES                        429\n",
       "PATOLOGIA ORAL                     339\n",
       "Name: grupo_pesquisa, dtype: int64"
      ]
     },
     "execution_count": 187,
     "metadata": {
      "tags": []
     },
     "output_type": "execute_result"
    }
   ],
   "source": [
    "projetos_grupos = bolsas_ic.grupo_pesquisa.value_counts()\n",
    "projetos_grupos.head()"
   ]
  },
  {
   "cell_type": "code",
   "execution_count": 0,
   "metadata": {
    "colab": {},
    "colab_type": "code",
    "id": "K27LD2UbNBeg"
   },
   "outputs": [],
   "source": [
    "output_file('projetos_grupo3.html')"
   ]
  },
  {
   "cell_type": "code",
   "execution_count": 207,
   "metadata": {
    "colab": {
     "base_uri": "https://localhost:8080/",
     "height": 204
    },
    "colab_type": "code",
    "executionInfo": {
     "elapsed": 1059,
     "status": "ok",
     "timestamp": 1555421171148,
     "user": {
      "displayName": "Maradona Morais",
      "photoUrl": "https://lh4.googleusercontent.com/-L3T00naEHnQ/AAAAAAAAAAI/AAAAAAAAAD0/lvqtbDxpVCE/s64/photo.jpg",
      "userId": "03122654508368846507"
     },
     "user_tz": 180
    },
    "id": "JQQheo2hSwWl",
    "outputId": "894dc248-d441-4a3f-c84e-ed8e90c76a06"
   },
   "outputs": [
    {
     "data": {
      "text/html": [
       "<div>\n",
       "<style scoped>\n",
       "    .dataframe tbody tr th:only-of-type {\n",
       "        vertical-align: middle;\n",
       "    }\n",
       "\n",
       "    .dataframe tbody tr th {\n",
       "        vertical-align: top;\n",
       "    }\n",
       "\n",
       "    .dataframe thead th {\n",
       "        text-align: right;\n",
       "    }\n",
       "</style>\n",
       "<table border=\"1\" class=\"dataframe\">\n",
       "  <thead>\n",
       "    <tr style=\"text-align: right;\">\n",
       "      <th></th>\n",
       "      <th>grupo</th>\n",
       "      <th>value</th>\n",
       "      <th>angle</th>\n",
       "      <th>color</th>\n",
       "    </tr>\n",
       "  </thead>\n",
       "  <tbody>\n",
       "    <tr>\n",
       "      <th>0</th>\n",
       "      <td>ISOLADO</td>\n",
       "      <td>703</td>\n",
       "      <td>0.834987</td>\n",
       "      <td>#3182bd</td>\n",
       "    </tr>\n",
       "    <tr>\n",
       "      <th>1</th>\n",
       "      <td>DESENVOLVIMENTO DE MEDICAMENTOS</td>\n",
       "      <td>506</td>\n",
       "      <td>0.601000</td>\n",
       "      <td>#6baed6</td>\n",
       "    </tr>\n",
       "    <tr>\n",
       "      <th>2</th>\n",
       "      <td>ALIMENTOS, NUTRIÇÃO E SAÚDE</td>\n",
       "      <td>457</td>\n",
       "      <td>0.542801</td>\n",
       "      <td>#9ecae1</td>\n",
       "    </tr>\n",
       "    <tr>\n",
       "      <th>3</th>\n",
       "      <td>BIOANÁLISES</td>\n",
       "      <td>429</td>\n",
       "      <td>0.509544</td>\n",
       "      <td>#c6dbef</td>\n",
       "    </tr>\n",
       "    <tr>\n",
       "      <th>4</th>\n",
       "      <td>PATOLOGIA ORAL</td>\n",
       "      <td>339</td>\n",
       "      <td>0.402646</td>\n",
       "      <td>#e6550d</td>\n",
       "    </tr>\n",
       "  </tbody>\n",
       "</table>\n",
       "</div>"
      ],
      "text/plain": [
       "                             grupo  value     angle    color\n",
       "0                          ISOLADO    703  0.834987  #3182bd\n",
       "1  DESENVOLVIMENTO DE MEDICAMENTOS    506  0.601000  #6baed6\n",
       "2      ALIMENTOS, NUTRIÇÃO E SAÚDE    457  0.542801  #9ecae1\n",
       "3                      BIOANÁLISES    429  0.509544  #c6dbef\n",
       "4                   PATOLOGIA ORAL    339  0.402646  #e6550d"
      ]
     },
     "execution_count": 207,
     "metadata": {
      "tags": []
     },
     "output_type": "execute_result"
    }
   ],
   "source": [
    "data_grupos = projetos_grupos.head(20).reset_index(name='value').rename(columns={'index': 'grupo'})\n",
    "data_grupos['angle'] = data_grupos['value']/data_grupos['value'].sum() * 2 * pi\n",
    "data_grupos['color'] = Category20c[len(data_grupos)]\n",
    "data_grupos.head()"
   ]
  },
  {
   "cell_type": "code",
   "execution_count": 0,
   "metadata": {
    "colab": {},
    "colab_type": "code",
    "id": "Q1YXOXwkTE-N"
   },
   "outputs": [],
   "source": [
    "pie_grupos = figure(title=\"Grupos de Pesquisa com mais bolsas de IC\", toolbar_location=None,\n",
    "                    plot_height=600, plot_width=1250,\n",
    "                    tools=\"hover\", tooltips=\"@grupo: @value\", x_range=(-0.5, 1.8))"
   ]
  },
  {
   "cell_type": "code",
   "execution_count": 209,
   "metadata": {
    "colab": {
     "base_uri": "https://localhost:8080/",
     "height": 34
    },
    "colab_type": "code",
    "executionInfo": {
     "elapsed": 593,
     "status": "ok",
     "timestamp": 1555421171472,
     "user": {
      "displayName": "Maradona Morais",
      "photoUrl": "https://lh4.googleusercontent.com/-L3T00naEHnQ/AAAAAAAAAAI/AAAAAAAAAD0/lvqtbDxpVCE/s64/photo.jpg",
      "userId": "03122654508368846507"
     },
     "user_tz": 180
    },
    "id": "8iASyugtTKjw",
    "outputId": "4f48aad4-1444-4c6a-99b8-7ae1dac1772d"
   },
   "outputs": [
    {
     "data": {
      "text/html": [
       "<div style=\"display: table;\"><div style=\"display: table-row;\"><div style=\"display: table-cell;\"><b title=\"bokeh.models.renderers.GlyphRenderer\">GlyphRenderer</b>(</div><div style=\"display: table-cell;\">id&nbsp;=&nbsp;'5055', <span id=\"5065\" style=\"cursor: pointer;\">&hellip;)</span></div></div><div class=\"5064\" style=\"display: none;\"><div style=\"display: table-cell;\"></div><div style=\"display: table-cell;\">data_source&nbsp;=&nbsp;ColumnDataSource(id='5051', ...),</div></div><div class=\"5064\" style=\"display: none;\"><div style=\"display: table-cell;\"></div><div style=\"display: table-cell;\">glyph&nbsp;=&nbsp;Wedge(id='5053', ...),</div></div><div class=\"5064\" style=\"display: none;\"><div style=\"display: table-cell;\"></div><div style=\"display: table-cell;\">hover_glyph&nbsp;=&nbsp;None,</div></div><div class=\"5064\" style=\"display: none;\"><div style=\"display: table-cell;\"></div><div style=\"display: table-cell;\">js_event_callbacks&nbsp;=&nbsp;{},</div></div><div class=\"5064\" style=\"display: none;\"><div style=\"display: table-cell;\"></div><div style=\"display: table-cell;\">js_property_callbacks&nbsp;=&nbsp;{},</div></div><div class=\"5064\" style=\"display: none;\"><div style=\"display: table-cell;\"></div><div style=\"display: table-cell;\">level&nbsp;=&nbsp;'glyph',</div></div><div class=\"5064\" style=\"display: none;\"><div style=\"display: table-cell;\"></div><div style=\"display: table-cell;\">muted&nbsp;=&nbsp;False,</div></div><div class=\"5064\" style=\"display: none;\"><div style=\"display: table-cell;\"></div><div style=\"display: table-cell;\">muted_glyph&nbsp;=&nbsp;None,</div></div><div class=\"5064\" style=\"display: none;\"><div style=\"display: table-cell;\"></div><div style=\"display: table-cell;\">name&nbsp;=&nbsp;None,</div></div><div class=\"5064\" style=\"display: none;\"><div style=\"display: table-cell;\"></div><div style=\"display: table-cell;\">nonselection_glyph&nbsp;=&nbsp;Wedge(id='5054', ...),</div></div><div class=\"5064\" style=\"display: none;\"><div style=\"display: table-cell;\"></div><div style=\"display: table-cell;\">selection_glyph&nbsp;=&nbsp;None,</div></div><div class=\"5064\" style=\"display: none;\"><div style=\"display: table-cell;\"></div><div style=\"display: table-cell;\">subscribed_events&nbsp;=&nbsp;[],</div></div><div class=\"5064\" style=\"display: none;\"><div style=\"display: table-cell;\"></div><div style=\"display: table-cell;\">tags&nbsp;=&nbsp;[],</div></div><div class=\"5064\" style=\"display: none;\"><div style=\"display: table-cell;\"></div><div style=\"display: table-cell;\">view&nbsp;=&nbsp;CDSView(id='5056', ...),</div></div><div class=\"5064\" style=\"display: none;\"><div style=\"display: table-cell;\"></div><div style=\"display: table-cell;\">visible&nbsp;=&nbsp;True,</div></div><div class=\"5064\" style=\"display: none;\"><div style=\"display: table-cell;\"></div><div style=\"display: table-cell;\">x_range_name&nbsp;=&nbsp;'default',</div></div><div class=\"5064\" style=\"display: none;\"><div style=\"display: table-cell;\"></div><div style=\"display: table-cell;\">y_range_name&nbsp;=&nbsp;'default')</div></div></div>\n",
       "<script>\n",
       "(function() {\n",
       "  var expanded = false;\n",
       "  var ellipsis = document.getElementById(\"5065\");\n",
       "  ellipsis.addEventListener(\"click\", function() {\n",
       "    var rows = document.getElementsByClassName(\"5064\");\n",
       "    for (var i = 0; i < rows.length; i++) {\n",
       "      var el = rows[i];\n",
       "      el.style.display = expanded ? \"none\" : \"table-row\";\n",
       "    }\n",
       "    ellipsis.innerHTML = expanded ? \"&hellip;)\" : \"&lsaquo;&lsaquo;&lsaquo;\";\n",
       "    expanded = !expanded;\n",
       "  });\n",
       "})();\n",
       "</script>\n"
      ],
      "text/plain": [
       "GlyphRenderer(id='5055', ...)"
      ]
     },
     "execution_count": 209,
     "metadata": {
      "tags": []
     },
     "output_type": "execute_result"
    }
   ],
   "source": [
    "pie_grupos.wedge(x=0, y=1, radius=0.4,\n",
    "                 start_angle=cumsum('angle', include_zero=True), end_angle=cumsum('angle'),\n",
    "                 line_color=\"white\", fill_color='color', legend='grupo', source=data_grupos)"
   ]
  },
  {
   "cell_type": "code",
   "execution_count": 0,
   "metadata": {
    "colab": {},
    "colab_type": "code",
    "id": "Pmm0F-ZKTV9X"
   },
   "outputs": [],
   "source": [
    "show(pie_grupos)"
   ]
  },
  {
   "cell_type": "markdown",
   "metadata": {
    "colab_type": "text",
    "id": "nirCviVtXCgC"
   },
   "source": [
    "### Projetos por ano"
   ]
  },
  {
   "cell_type": "code",
   "execution_count": 237,
   "metadata": {
    "colab": {
     "base_uri": "https://localhost:8080/",
     "height": 119
    },
    "colab_type": "code",
    "executionInfo": {
     "elapsed": 756,
     "status": "ok",
     "timestamp": 1555422591958,
     "user": {
      "displayName": "Maradona Morais",
      "photoUrl": "https://lh4.googleusercontent.com/-L3T00naEHnQ/AAAAAAAAAAI/AAAAAAAAAD0/lvqtbDxpVCE/s64/photo.jpg",
      "userId": "03122654508368846507"
     },
     "user_tz": 180
    },
    "id": "x0Ow8RBmXRJu",
    "outputId": "c382d2b9-afb4-4b1e-8557-d5a91dae634d"
   },
   "outputs": [
    {
     "data": {
      "text/plain": [
       "2001    662\n",
       "2002    704\n",
       "2003    735\n",
       "2004    788\n",
       "2005    789\n",
       "Name: ano, dtype: int64"
      ]
     },
     "execution_count": 237,
     "metadata": {
      "tags": []
     },
     "output_type": "execute_result"
    }
   ],
   "source": [
    "projetos_ano = bolsas_ic.ano.value_counts().sort_index()\n",
    "projetos_ano.head()"
   ]
  },
  {
   "cell_type": "code",
   "execution_count": 319,
   "metadata": {
    "colab": {
     "base_uri": "https://localhost:8080/",
     "height": 119
    },
    "colab_type": "code",
    "executionInfo": {
     "elapsed": 1253,
     "status": "ok",
     "timestamp": 1555424106344,
     "user": {
      "displayName": "Maradona Morais",
      "photoUrl": "https://lh4.googleusercontent.com/-L3T00naEHnQ/AAAAAAAAAAI/AAAAAAAAAD0/lvqtbDxpVCE/s64/photo.jpg",
      "userId": "03122654508368846507"
     },
     "user_tz": 180
    },
    "id": "3SKF8ypwXamx",
    "outputId": "ae7a9c8c-8257-450d-85a5-3aa81efde3e9"
   },
   "outputs": [
    {
     "data": {
      "text/plain": [
       "2001    6.8\n",
       "2002    6.2\n",
       "2003    7.0\n",
       "2004    7.2\n",
       "2005    8.1\n",
       "Name: orcamento, dtype: float64"
      ]
     },
     "execution_count": 319,
     "metadata": {
      "tags": []
     },
     "output_type": "execute_result"
    }
   ],
   "source": [
    "cnpq_orc = {2001: 6.8, 2002: 6.2, 2003: 7.0, 2004: 7.2, 2005: 8.1, 2006: 8.7, 2007: 9.1, 2008: 9.9, 2009: 11, 2010: 12.4, 2011: 10.7, 2012: 11.2, 2013: 14.1, 2014: 10.4, 2015: 9.9, 2016: 8.1, 2017: None, 2018: None }\n",
    "cnpq_orc = pd.Series(cnpq_orc, name='orcamento')\n",
    "cnpq_orc.head()"
   ]
  },
  {
   "cell_type": "code",
   "execution_count": 0,
   "metadata": {
    "colab": {},
    "colab_type": "code",
    "id": "kFWPLvzvbJwa"
   },
   "outputs": [],
   "source": [
    "data_projetos_ano = projetos_ano.reset_index(name='value').rename(columns={'index': 'ano'})"
   ]
  },
  {
   "cell_type": "code",
   "execution_count": 0,
   "metadata": {
    "colab": {},
    "colab_type": "code",
    "id": "kp9Eay5FYDlJ"
   },
   "outputs": [],
   "source": [
    "cnpq_orc = cnpq_orc.reset_index(name='value').drop(columns=['index'])"
   ]
  },
  {
   "cell_type": "code",
   "execution_count": 322,
   "metadata": {
    "colab": {
     "base_uri": "https://localhost:8080/",
     "height": 204
    },
    "colab_type": "code",
    "executionInfo": {
     "elapsed": 640,
     "status": "ok",
     "timestamp": 1555424110786,
     "user": {
      "displayName": "Maradona Morais",
      "photoUrl": "https://lh4.googleusercontent.com/-L3T00naEHnQ/AAAAAAAAAAI/AAAAAAAAAD0/lvqtbDxpVCE/s64/photo.jpg",
      "userId": "03122654508368846507"
     },
     "user_tz": 180
    },
    "id": "wt-5ABBYbHHU",
    "outputId": "481274b3-e69b-4c6c-f39e-bee45e36a4dd"
   },
   "outputs": [
    {
     "data": {
      "text/html": [
       "<div>\n",
       "<style scoped>\n",
       "    .dataframe tbody tr th:only-of-type {\n",
       "        vertical-align: middle;\n",
       "    }\n",
       "\n",
       "    .dataframe tbody tr th {\n",
       "        vertical-align: top;\n",
       "    }\n",
       "\n",
       "    .dataframe thead th {\n",
       "        text-align: right;\n",
       "    }\n",
       "</style>\n",
       "<table border=\"1\" class=\"dataframe\">\n",
       "  <thead>\n",
       "    <tr style=\"text-align: right;\">\n",
       "      <th></th>\n",
       "      <th>ano</th>\n",
       "      <th>value</th>\n",
       "      <th>orcamento</th>\n",
       "    </tr>\n",
       "  </thead>\n",
       "  <tbody>\n",
       "    <tr>\n",
       "      <th>0</th>\n",
       "      <td>2001</td>\n",
       "      <td>662</td>\n",
       "      <td>680.0</td>\n",
       "    </tr>\n",
       "    <tr>\n",
       "      <th>1</th>\n",
       "      <td>2002</td>\n",
       "      <td>704</td>\n",
       "      <td>620.0</td>\n",
       "    </tr>\n",
       "    <tr>\n",
       "      <th>2</th>\n",
       "      <td>2003</td>\n",
       "      <td>735</td>\n",
       "      <td>700.0</td>\n",
       "    </tr>\n",
       "    <tr>\n",
       "      <th>3</th>\n",
       "      <td>2004</td>\n",
       "      <td>788</td>\n",
       "      <td>720.0</td>\n",
       "    </tr>\n",
       "    <tr>\n",
       "      <th>4</th>\n",
       "      <td>2005</td>\n",
       "      <td>789</td>\n",
       "      <td>810.0</td>\n",
       "    </tr>\n",
       "  </tbody>\n",
       "</table>\n",
       "</div>"
      ],
      "text/plain": [
       "    ano  value  orcamento\n",
       "0  2001    662      680.0\n",
       "1  2002    704      620.0\n",
       "2  2003    735      700.0\n",
       "3  2004    788      720.0\n",
       "4  2005    789      810.0"
      ]
     },
     "execution_count": 322,
     "metadata": {
      "tags": []
     },
     "output_type": "execute_result"
    }
   ],
   "source": [
    "data_projetos_ano['orcamento'] = cnpq_orc * 100\n",
    "data_projetos_ano.head()"
   ]
  },
  {
   "cell_type": "code",
   "execution_count": 0,
   "metadata": {
    "colab": {},
    "colab_type": "code",
    "id": "hyJGTs5MbS0S"
   },
   "outputs": [],
   "source": [
    "output_file('projetos_ano10.html')"
   ]
  },
  {
   "cell_type": "code",
   "execution_count": 0,
   "metadata": {
    "colab": {},
    "colab_type": "code",
    "id": "PIpBG_01b7qf"
   },
   "outputs": [],
   "source": [
    "pie_anos = figure(title=\"Quantidade de projetos de IC por ano\", tooltips=\"<b>@ano: $ @orcamento mi</b><br/> @value\")"
   ]
  },
  {
   "cell_type": "code",
   "execution_count": 326,
   "metadata": {
    "colab": {
     "base_uri": "https://localhost:8080/",
     "height": 34
    },
    "colab_type": "code",
    "executionInfo": {
     "elapsed": 1758,
     "status": "ok",
     "timestamp": 1555424122467,
     "user": {
      "displayName": "Maradona Morais",
      "photoUrl": "https://lh4.googleusercontent.com/-L3T00naEHnQ/AAAAAAAAAAI/AAAAAAAAAD0/lvqtbDxpVCE/s64/photo.jpg",
      "userId": "03122654508368846507"
     },
     "user_tz": 180
    },
    "id": "4p7oVo1Mc7mr",
    "outputId": "f46207ca-bf8d-4568-ba2e-94d079fb27d5"
   },
   "outputs": [
    {
     "data": {
      "text/html": [
       "<div style=\"display: table;\"><div style=\"display: table-row;\"><div style=\"display: table-cell;\"><b title=\"bokeh.models.renderers.GlyphRenderer\">GlyphRenderer</b>(</div><div style=\"display: table-cell;\">id&nbsp;=&nbsp;'6999', <span id=\"7002\" style=\"cursor: pointer;\">&hellip;)</span></div></div><div class=\"7001\" style=\"display: none;\"><div style=\"display: table-cell;\"></div><div style=\"display: table-cell;\">data_source&nbsp;=&nbsp;ColumnDataSource(id='6995', ...),</div></div><div class=\"7001\" style=\"display: none;\"><div style=\"display: table-cell;\"></div><div style=\"display: table-cell;\">glyph&nbsp;=&nbsp;VBar(id='6997', ...),</div></div><div class=\"7001\" style=\"display: none;\"><div style=\"display: table-cell;\"></div><div style=\"display: table-cell;\">hover_glyph&nbsp;=&nbsp;None,</div></div><div class=\"7001\" style=\"display: none;\"><div style=\"display: table-cell;\"></div><div style=\"display: table-cell;\">js_event_callbacks&nbsp;=&nbsp;{},</div></div><div class=\"7001\" style=\"display: none;\"><div style=\"display: table-cell;\"></div><div style=\"display: table-cell;\">js_property_callbacks&nbsp;=&nbsp;{},</div></div><div class=\"7001\" style=\"display: none;\"><div style=\"display: table-cell;\"></div><div style=\"display: table-cell;\">level&nbsp;=&nbsp;'glyph',</div></div><div class=\"7001\" style=\"display: none;\"><div style=\"display: table-cell;\"></div><div style=\"display: table-cell;\">muted&nbsp;=&nbsp;False,</div></div><div class=\"7001\" style=\"display: none;\"><div style=\"display: table-cell;\"></div><div style=\"display: table-cell;\">muted_glyph&nbsp;=&nbsp;None,</div></div><div class=\"7001\" style=\"display: none;\"><div style=\"display: table-cell;\"></div><div style=\"display: table-cell;\">name&nbsp;=&nbsp;None,</div></div><div class=\"7001\" style=\"display: none;\"><div style=\"display: table-cell;\"></div><div style=\"display: table-cell;\">nonselection_glyph&nbsp;=&nbsp;VBar(id='6998', ...),</div></div><div class=\"7001\" style=\"display: none;\"><div style=\"display: table-cell;\"></div><div style=\"display: table-cell;\">selection_glyph&nbsp;=&nbsp;None,</div></div><div class=\"7001\" style=\"display: none;\"><div style=\"display: table-cell;\"></div><div style=\"display: table-cell;\">subscribed_events&nbsp;=&nbsp;[],</div></div><div class=\"7001\" style=\"display: none;\"><div style=\"display: table-cell;\"></div><div style=\"display: table-cell;\">tags&nbsp;=&nbsp;[],</div></div><div class=\"7001\" style=\"display: none;\"><div style=\"display: table-cell;\"></div><div style=\"display: table-cell;\">view&nbsp;=&nbsp;CDSView(id='7000', ...),</div></div><div class=\"7001\" style=\"display: none;\"><div style=\"display: table-cell;\"></div><div style=\"display: table-cell;\">visible&nbsp;=&nbsp;True,</div></div><div class=\"7001\" style=\"display: none;\"><div style=\"display: table-cell;\"></div><div style=\"display: table-cell;\">x_range_name&nbsp;=&nbsp;'default',</div></div><div class=\"7001\" style=\"display: none;\"><div style=\"display: table-cell;\"></div><div style=\"display: table-cell;\">y_range_name&nbsp;=&nbsp;'default')</div></div></div>\n",
       "<script>\n",
       "(function() {\n",
       "  var expanded = false;\n",
       "  var ellipsis = document.getElementById(\"7002\");\n",
       "  ellipsis.addEventListener(\"click\", function() {\n",
       "    var rows = document.getElementsByClassName(\"7001\");\n",
       "    for (var i = 0; i < rows.length; i++) {\n",
       "      var el = rows[i];\n",
       "      el.style.display = expanded ? \"none\" : \"table-row\";\n",
       "    }\n",
       "    ellipsis.innerHTML = expanded ? \"&hellip;)\" : \"&lsaquo;&lsaquo;&lsaquo;\";\n",
       "    expanded = !expanded;\n",
       "  });\n",
       "})();\n",
       "</script>\n"
      ],
      "text/plain": [
       "GlyphRenderer(id='6999', ...)"
      ]
     },
     "execution_count": 326,
     "metadata": {
      "tags": []
     },
     "output_type": "execute_result"
    }
   ],
   "source": [
    "pie_anos.vbar(top='value', x='ano', width=0.9, source=data_projetos_ano)"
   ]
  },
  {
   "cell_type": "code",
   "execution_count": 327,
   "metadata": {
    "colab": {
     "base_uri": "https://localhost:8080/",
     "height": 34
    },
    "colab_type": "code",
    "executionInfo": {
     "elapsed": 1338,
     "status": "ok",
     "timestamp": 1555424122470,
     "user": {
      "displayName": "Maradona Morais",
      "photoUrl": "https://lh4.googleusercontent.com/-L3T00naEHnQ/AAAAAAAAAAI/AAAAAAAAAD0/lvqtbDxpVCE/s64/photo.jpg",
      "userId": "03122654508368846507"
     },
     "user_tz": 180
    },
    "id": "CVeEW_PTdLtD",
    "outputId": "17375ee2-0c31-459a-cddb-65de7d0d01eb"
   },
   "outputs": [
    {
     "data": {
      "text/html": [
       "<div style=\"display: table;\"><div style=\"display: table-row;\"><div style=\"display: table-cell;\"><b title=\"bokeh.models.renderers.GlyphRenderer\">GlyphRenderer</b>(</div><div style=\"display: table-cell;\">id&nbsp;=&nbsp;'7013', <span id=\"7016\" style=\"cursor: pointer;\">&hellip;)</span></div></div><div class=\"7015\" style=\"display: none;\"><div style=\"display: table-cell;\"></div><div style=\"display: table-cell;\">data_source&nbsp;=&nbsp;ColumnDataSource(id='7009', ...),</div></div><div class=\"7015\" style=\"display: none;\"><div style=\"display: table-cell;\"></div><div style=\"display: table-cell;\">glyph&nbsp;=&nbsp;Circle(id='7011', ...),</div></div><div class=\"7015\" style=\"display: none;\"><div style=\"display: table-cell;\"></div><div style=\"display: table-cell;\">hover_glyph&nbsp;=&nbsp;None,</div></div><div class=\"7015\" style=\"display: none;\"><div style=\"display: table-cell;\"></div><div style=\"display: table-cell;\">js_event_callbacks&nbsp;=&nbsp;{},</div></div><div class=\"7015\" style=\"display: none;\"><div style=\"display: table-cell;\"></div><div style=\"display: table-cell;\">js_property_callbacks&nbsp;=&nbsp;{},</div></div><div class=\"7015\" style=\"display: none;\"><div style=\"display: table-cell;\"></div><div style=\"display: table-cell;\">level&nbsp;=&nbsp;'glyph',</div></div><div class=\"7015\" style=\"display: none;\"><div style=\"display: table-cell;\"></div><div style=\"display: table-cell;\">muted&nbsp;=&nbsp;False,</div></div><div class=\"7015\" style=\"display: none;\"><div style=\"display: table-cell;\"></div><div style=\"display: table-cell;\">muted_glyph&nbsp;=&nbsp;None,</div></div><div class=\"7015\" style=\"display: none;\"><div style=\"display: table-cell;\"></div><div style=\"display: table-cell;\">name&nbsp;=&nbsp;None,</div></div><div class=\"7015\" style=\"display: none;\"><div style=\"display: table-cell;\"></div><div style=\"display: table-cell;\">nonselection_glyph&nbsp;=&nbsp;Circle(id='7012', ...),</div></div><div class=\"7015\" style=\"display: none;\"><div style=\"display: table-cell;\"></div><div style=\"display: table-cell;\">selection_glyph&nbsp;=&nbsp;None,</div></div><div class=\"7015\" style=\"display: none;\"><div style=\"display: table-cell;\"></div><div style=\"display: table-cell;\">subscribed_events&nbsp;=&nbsp;[],</div></div><div class=\"7015\" style=\"display: none;\"><div style=\"display: table-cell;\"></div><div style=\"display: table-cell;\">tags&nbsp;=&nbsp;[],</div></div><div class=\"7015\" style=\"display: none;\"><div style=\"display: table-cell;\"></div><div style=\"display: table-cell;\">view&nbsp;=&nbsp;CDSView(id='7014', ...),</div></div><div class=\"7015\" style=\"display: none;\"><div style=\"display: table-cell;\"></div><div style=\"display: table-cell;\">visible&nbsp;=&nbsp;True,</div></div><div class=\"7015\" style=\"display: none;\"><div style=\"display: table-cell;\"></div><div style=\"display: table-cell;\">x_range_name&nbsp;=&nbsp;'default',</div></div><div class=\"7015\" style=\"display: none;\"><div style=\"display: table-cell;\"></div><div style=\"display: table-cell;\">y_range_name&nbsp;=&nbsp;'default')</div></div></div>\n",
       "<script>\n",
       "(function() {\n",
       "  var expanded = false;\n",
       "  var ellipsis = document.getElementById(\"7016\");\n",
       "  ellipsis.addEventListener(\"click\", function() {\n",
       "    var rows = document.getElementsByClassName(\"7015\");\n",
       "    for (var i = 0; i < rows.length; i++) {\n",
       "      var el = rows[i];\n",
       "      el.style.display = expanded ? \"none\" : \"table-row\";\n",
       "    }\n",
       "    ellipsis.innerHTML = expanded ? \"&hellip;)\" : \"&lsaquo;&lsaquo;&lsaquo;\";\n",
       "    expanded = !expanded;\n",
       "  });\n",
       "})();\n",
       "</script>\n"
      ],
      "text/plain": [
       "GlyphRenderer(id='7013', ...)"
      ]
     },
     "execution_count": 327,
     "metadata": {
      "tags": []
     },
     "output_type": "execute_result"
    }
   ],
   "source": [
    "pie_anos.line(y='orcamento', x='ano', color='orange', line_width=3, source=data_projetos_ano)\n",
    "pie_anos.circle(y='orcamento', x='ano', fill_color='white', size=8, source=data_projetos_ano)"
   ]
  },
  {
   "cell_type": "code",
   "execution_count": 0,
   "metadata": {
    "colab": {},
    "colab_type": "code",
    "id": "AuiEiIesdzCx"
   },
   "outputs": [],
   "source": [
    "show(pie_anos)"
   ]
  }
 ],
 "metadata": {
  "colab": {
   "name": "Untitled0.ipynb",
   "provenance": [],
   "toc_visible": true,
   "version": "0.3.2"
  },
  "kernelspec": {
   "display_name": "Python 3",
   "language": "python",
   "name": "python3"
  },
  "language_info": {
   "codemirror_mode": {
    "name": "ipython",
    "version": 3
   },
   "file_extension": ".py",
   "mimetype": "text/x-python",
   "name": "python",
   "nbconvert_exporter": "python",
   "pygments_lexer": "ipython3",
   "version": "3.6.8"
  }
 },
 "nbformat": 4,
 "nbformat_minor": 1
}
