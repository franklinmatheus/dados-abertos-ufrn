{
 "cells": [
  {
   "cell_type": "code",
   "execution_count": 13,
   "metadata": {},
   "outputs": [
    {
     "data": {
      "text/html": [
       "<script>\n",
       "code_show=true; \n",
       "function code_toggle() {\n",
       " if (code_show){\n",
       " $('div.input').hide();\n",
       " } else {\n",
       " $('div.input').show();\n",
       " }\n",
       " code_show = !code_show\n",
       "} \n",
       "$( document ).ready(code_toggle);\n",
       "</script>\n",
       "<form action=\"javascript:code_toggle()\"><input type=\"submit\" value=\"Click here to toggle on/off the raw code.\"></form>"
      ],
      "text/plain": [
       "<IPython.core.display.HTML object>"
      ]
     },
     "execution_count": 13,
     "metadata": {},
     "output_type": "execute_result"
    }
   ],
   "source": [
    "from IPython.display import HTML\n",
    "\n",
    "HTML('''<script>\n",
    "code_show=true; \n",
    "function code_toggle() {\n",
    " if (code_show){\n",
    " $('div.input').hide();\n",
    " } else {\n",
    " $('div.input').show();\n",
    " }\n",
    " code_show = !code_show\n",
    "} \n",
    "$( document ).ready(code_toggle);\n",
    "</script>\n",
    "<form action=\"javascript:code_toggle()\"><input type=\"submit\" value=\"Click here to toggle on/off the raw code.\"></form>''')"
   ]
  },
  {
   "cell_type": "code",
   "execution_count": 2,
   "metadata": {},
   "outputs": [],
   "source": [
    "import pandas as pd\n",
    "import plotly.plotly as py\n",
    "import plotly.graph_objs as go\n",
    "import plotly.offline as offline"
   ]
  },
  {
   "cell_type": "code",
   "execution_count": 380,
   "metadata": {
    "scrolled": true
   },
   "outputs": [
    {
     "name": "stderr",
     "output_type": "stream",
     "text": [
      "/home/franklin/anaconda3/lib/python3.6/site-packages/ipykernel_launcher.py:33: FutureWarning:\n",
      "\n",
      "using a dict with renaming is deprecated and will be removed in a future version\n",
      "\n"
     ]
    }
   ],
   "source": [
    "import calendar\n",
    "\n",
    "emprestimos_2010_1 = pd.read_csv('datasets/emprestimos/emprestimos-20101.csv',sep=';')\n",
    "emprestimos_2010_2 = pd.read_csv('datasets/emprestimos/emprestimos-20102.csv',sep=';')\n",
    "emprestimos_2011_1 = pd.read_csv('datasets/emprestimos/emprestimos-20111.csv',sep=';')\n",
    "emprestimos_2011_2 = pd.read_csv('datasets/emprestimos/emprestimos-20112.csv',sep=';')\n",
    "emprestimos_2012_1 = pd.read_csv('datasets/emprestimos/emprestimos-20121.csv',sep=';')\n",
    "emprestimos_2012_2 = pd.read_csv('datasets/emprestimos/emprestimos-20122.csv',sep=';')\n",
    "emprestimos_2013_1 = pd.read_csv('datasets/emprestimos/emprestimos-20131.csv',sep=';')\n",
    "emprestimos_2013_2 = pd.read_csv('datasets/emprestimos/emprestimos-20132.csv',sep=';')\n",
    "emprestimos_2014_1 = pd.read_csv('datasets/emprestimos/emprestimos-20141.csv',sep=';')\n",
    "emprestimos_2014_2 = pd.read_csv('datasets/emprestimos/emprestimos-20142.csv',sep=';')\n",
    "emprestimos_2015_1 = pd.read_csv('datasets/emprestimos/emprestimos-20151.csv',sep=';')\n",
    "emprestimos_2015_2 = pd.read_csv('datasets/emprestimos/emprestimos-20152.csv',sep=';')\n",
    "emprestimos_2016_1 = pd.read_csv('datasets/emprestimos/emprestimos-20161.csv',sep=';')\n",
    "emprestimos_2016_2 = pd.read_csv('datasets/emprestimos/emprestimos-20162.csv',sep=';')\n",
    "emprestimos_2017_1 = pd.read_csv('datasets/emprestimos/emprestimos-20171.csv',sep=';')\n",
    "emprestimos_2017_2 = pd.read_csv('datasets/emprestimos/emprestimos-20172.csv',sep=';')\n",
    "\n",
    "emprestimos = pd.concat([emprestimos_2010_1,emprestimos_2010_2,emprestimos_2011_1,emprestimos_2011_2,\n",
    "                         emprestimos_2012_1,emprestimos_2012_2,emprestimos_2013_1,emprestimos_2013_2,\n",
    "                         emprestimos_2014_1,emprestimos_2014_2,emprestimos_2015_1,emprestimos_2015_2,\n",
    "                         emprestimos_2016_1,emprestimos_2016_2,emprestimos_2017_1,emprestimos_2017_2])\n",
    "emprestimos.reset_index(drop=True)\n",
    "emprestimos.data_emprestimo = pd.to_datetime(emprestimos.data_emprestimo)\n",
    "\n",
    "# this makes a pandas series\n",
    "#emprestimos['count'] = 1\n",
    "#emprestimos_por_mes = pd.DataFrame(emprestimos.count,index=emprestimos.index)\n",
    "#emprestimos_por_mes = emprestimos.resample('M',on='data_emprestimo')['count'].sum()\n",
    "\n",
    "# count the number of rows grouping by month, that is, number of loans by month\n",
    "emprestimos_por_mes = emprestimos.resample('M',on='data_emprestimo').agg({\"mean\":\"size\"})\n",
    "\n",
    "media_emprestimos_por_mes = emprestimos_por_mes.groupby(emprestimos_por_mes.index.month).mean()\n",
    "emprestimos_por_ano = emprestimos_por_mes.groupby(emprestimos_por_mes.index.year).sum()\n",
    "# setting up the dataframe to futute uses\n",
    "media_emprestimos_por_mes.index.name = 'month'\n",
    "media_emprestimos_por_mes = media_emprestimos_por_mes.reset_index()\n",
    "media_emprestimos_por_mes['month'] = media_emprestimos_por_mes['month'].apply(lambda x: calendar.month_abbr[x])\n",
    "\n",
    "# setting up the dataframe to future uses\n",
    "emprestimos_por_mes = emprestimos_por_mes.reset_index()\n",
    "emprestimos_por_mes.data_emprestimo = emprestimos_por_mes.data_emprestimo.apply(lambda x: x.strftime('%b %Y'))"
   ]
  },
  {
   "cell_type": "code",
   "execution_count": 402,
   "metadata": {},
   "outputs": [
    {
     "data": {
      "application/vnd.plotly.v1+json": {
       "config": {
        "linkText": "Export to plot.ly",
        "plotlyServerURL": "https://plot.ly",
        "showLink": false
       },
       "data": [
        {
         "hovertemplate": "mean=%{r}<br>month=%{theta}<extra></extra>",
         "legendgroup": "",
         "marker": {
          "color": "#6b1cfb"
         },
         "name": "",
         "r": [
          7394.625,
          22913.125,
          27095,
          23878.625,
          23025.25,
          14926.75,
          13300.625,
          25760.25,
          23829.25,
          21543.25,
          19075.125,
          9102.125
         ],
         "showlegend": false,
         "theta": [
          "Jan",
          "Feb",
          "Mar",
          "Apr",
          "May",
          "Jun",
          "Jul",
          "Aug",
          "Sep",
          "Oct",
          "Nov",
          "Dec"
         ],
         "type": "barpolar",
         "uid": "ea4f9e02-20fb-48bd-bb2a-4f0bc8740edc"
        }
       ],
       "layout": {
        "barmode": "relative",
        "barnorm": "",
        "height": 800,
        "legend": {
         "tracegroupgap": 0
        },
        "polar": {
         "angularaxis": {
          "direction": "clockwise",
          "rotation": 90
         }
        },
        "template": {
         "data": {
          "bar": [
           {
            "marker": {
             "line": {
              "color": "rgb(17,17,17)",
              "width": 0.5
             }
            },
            "type": "bar"
           }
          ],
          "barpolar": [
           {
            "marker": {
             "line": {
              "color": "rgb(17,17,17)",
              "width": 0.5
             }
            },
            "type": "barpolar"
           }
          ],
          "carpet": [
           {
            "aaxis": {
             "endlinecolor": "#A2B1C6",
             "gridcolor": "#506784",
             "linecolor": "#506784",
             "minorgridcolor": "#506784",
             "startlinecolor": "#A2B1C6"
            },
            "baxis": {
             "endlinecolor": "#A2B1C6",
             "gridcolor": "#506784",
             "linecolor": "#506784",
             "minorgridcolor": "#506784",
             "startlinecolor": "#A2B1C6"
            },
            "type": "carpet"
           }
          ],
          "choropleth": [
           {
            "colorbar": {
             "outlinewidth": 0,
             "ticks": ""
            },
            "type": "choropleth"
           }
          ],
          "contour": [
           {
            "autocolorscale": true,
            "colorbar": {
             "outlinewidth": 0,
             "ticks": ""
            },
            "type": "contour"
           }
          ],
          "contourcarpet": [
           {
            "colorbar": {
             "outlinewidth": 0,
             "ticks": ""
            },
            "type": "contourcarpet"
           }
          ],
          "heatmap": [
           {
            "autocolorscale": true,
            "colorbar": {
             "outlinewidth": 0,
             "ticks": ""
            },
            "type": "heatmap"
           }
          ],
          "heatmapgl": [
           {
            "colorbar": {
             "outlinewidth": 0,
             "ticks": ""
            },
            "type": "heatmapgl"
           }
          ],
          "histogram": [
           {
            "marker": {
             "colorbar": {
              "outlinewidth": 0,
              "ticks": ""
             }
            },
            "type": "histogram"
           }
          ],
          "histogram2d": [
           {
            "autocolorscale": true,
            "colorbar": {
             "outlinewidth": 0,
             "ticks": ""
            },
            "type": "histogram2d"
           }
          ],
          "histogram2dcontour": [
           {
            "autocolorscale": true,
            "colorbar": {
             "outlinewidth": 0,
             "ticks": ""
            },
            "type": "histogram2dcontour"
           }
          ],
          "mesh3d": [
           {
            "colorbar": {
             "outlinewidth": 0,
             "ticks": ""
            },
            "type": "mesh3d"
           }
          ],
          "parcoords": [
           {
            "line": {
             "colorbar": {
              "outlinewidth": 0,
              "ticks": ""
             }
            },
            "type": "parcoords"
           }
          ],
          "scatter": [
           {
            "marker": {
             "line": {
              "color": "#283442"
             }
            },
            "type": "scatter"
           }
          ],
          "scatter3d": [
           {
            "marker": {
             "colorbar": {
              "outlinewidth": 0,
              "ticks": ""
             }
            },
            "type": "scatter3d"
           }
          ],
          "scattercarpet": [
           {
            "marker": {
             "colorbar": {
              "outlinewidth": 0,
              "ticks": ""
             }
            },
            "type": "scattercarpet"
           }
          ],
          "scattergeo": [
           {
            "marker": {
             "colorbar": {
              "outlinewidth": 0,
              "ticks": ""
             }
            },
            "type": "scattergeo"
           }
          ],
          "scattergl": [
           {
            "marker": {
             "line": {
              "color": "#283442"
             }
            },
            "type": "scattergl"
           }
          ],
          "scattermapbox": [
           {
            "marker": {
             "colorbar": {
              "outlinewidth": 0,
              "ticks": ""
             }
            },
            "type": "scattermapbox"
           }
          ],
          "scatterpolar": [
           {
            "marker": {
             "colorbar": {
              "outlinewidth": 0,
              "ticks": ""
             }
            },
            "type": "scatterpolar"
           }
          ],
          "scatterpolargl": [
           {
            "marker": {
             "colorbar": {
              "outlinewidth": 0,
              "ticks": ""
             }
            },
            "type": "scatterpolargl"
           }
          ],
          "scatterternary": [
           {
            "marker": {
             "colorbar": {
              "outlinewidth": 0,
              "ticks": ""
             }
            },
            "type": "scatterternary"
           }
          ],
          "surface": [
           {
            "colorbar": {
             "outlinewidth": 0,
             "ticks": ""
            },
            "type": "surface"
           }
          ],
          "table": [
           {
            "cells": {
             "fill": {
              "color": "#506784"
             },
             "line": {
              "color": "rgb(17,17,17)"
             }
            },
            "header": {
             "fill": {
              "color": "#2a3f5f"
             },
             "line": {
              "color": "rgb(17,17,17)"
             }
            },
            "type": "table"
           }
          ]
         },
         "layout": {
          "annotationdefaults": {
           "arrowcolor": "#f2f5fa",
           "arrowhead": 0,
           "arrowwidth": 1
          },
          "colorscale": {
           "diverging": [
            [
             0,
             "#8e0152"
            ],
            [
             0.1,
             "#c51b7d"
            ],
            [
             0.2,
             "#de77ae"
            ],
            [
             0.3,
             "#f1b6da"
            ],
            [
             0.4,
             "#fde0ef"
            ],
            [
             0.5,
             "#f7f7f7"
            ],
            [
             0.6,
             "#e6f5d0"
            ],
            [
             0.7,
             "#b8e186"
            ],
            [
             0.8,
             "#7fbc41"
            ],
            [
             0.9,
             "#4d9221"
            ],
            [
             1,
             "#276419"
            ]
           ],
           "sequential": [
            [
             0,
             "#0508b8"
            ],
            [
             0.0893854748603352,
             "#1910d8"
            ],
            [
             0.1787709497206704,
             "#3c19f0"
            ],
            [
             0.2681564245810056,
             "#6b1cfb"
            ],
            [
             0.3575418994413408,
             "#981cfd"
            ],
            [
             0.44692737430167595,
             "#bf1cfd"
            ],
            [
             0.5363128491620112,
             "#dd2bfd"
            ],
            [
             0.6256983240223464,
             "#f246fe"
            ],
            [
             0.7150837988826816,
             "#fc67fd"
            ],
            [
             0.8044692737430168,
             "#fe88fc"
            ],
            [
             0.8938547486033519,
             "#fea5fd"
            ],
            [
             0.9832402234636871,
             "#febefe"
            ],
            [
             1,
             "#fec3fe"
            ]
           ],
           "sequentialminus": [
            [
             0,
             "#0508b8"
            ],
            [
             0.0893854748603352,
             "#1910d8"
            ],
            [
             0.1787709497206704,
             "#3c19f0"
            ],
            [
             0.2681564245810056,
             "#6b1cfb"
            ],
            [
             0.3575418994413408,
             "#981cfd"
            ],
            [
             0.44692737430167595,
             "#bf1cfd"
            ],
            [
             0.5363128491620112,
             "#dd2bfd"
            ],
            [
             0.6256983240223464,
             "#f246fe"
            ],
            [
             0.7150837988826816,
             "#fc67fd"
            ],
            [
             0.8044692737430168,
             "#fe88fc"
            ],
            [
             0.8938547486033519,
             "#fea5fd"
            ],
            [
             0.9832402234636871,
             "#febefe"
            ],
            [
             1,
             "#fec3fe"
            ]
           ]
          },
          "colorway": [
           "#636efa",
           "#EF553B",
           "#00cc96",
           "#ab63fa",
           "#19d3f3",
           "#e763fa",
           "#FECB52",
           "#FFA15A",
           "#FF6692",
           "#B6E880"
          ],
          "font": {
           "color": "#f2f5fa"
          },
          "geo": {
           "bgcolor": "rgb(17,17,17)",
           "lakecolor": "rgb(17,17,17)",
           "landcolor": "rgb(17,17,17)",
           "showlakes": true,
           "showland": true,
           "subunitcolor": "#506784"
          },
          "hovermode": "closest",
          "mapbox": {
           "style": "dark"
          },
          "paper_bgcolor": "rgb(17,17,17)",
          "plot_bgcolor": "rgb(17,17,17)",
          "polar": {
           "angularaxis": {
            "gridcolor": "#506784",
            "linecolor": "#506784",
            "ticks": ""
           },
           "bgcolor": "rgb(17,17,17)",
           "radialaxis": {
            "gridcolor": "#506784",
            "linecolor": "#506784",
            "ticks": ""
           }
          },
          "scene": {
           "xaxis": {
            "backgroundcolor": "rgb(17,17,17)",
            "gridcolor": "#506784",
            "gridwidth": 2,
            "linecolor": "#506784",
            "showbackground": true,
            "ticks": "",
            "zerolinecolor": "#C8D4E3"
           },
           "yaxis": {
            "backgroundcolor": "rgb(17,17,17)",
            "gridcolor": "#506784",
            "gridwidth": 2,
            "linecolor": "#506784",
            "showbackground": true,
            "ticks": "",
            "zerolinecolor": "#C8D4E3"
           },
           "zaxis": {
            "backgroundcolor": "rgb(17,17,17)",
            "gridcolor": "#506784",
            "gridwidth": 2,
            "linecolor": "#506784",
            "showbackground": true,
            "ticks": "",
            "zerolinecolor": "#C8D4E3"
           }
          },
          "shapedefaults": {
           "fillcolor": "#f2f5fa",
           "line": {
            "width": 0
           },
           "opacity": 0.4
          },
          "sliderdefaults": {
           "bgcolor": "#C8D4E3",
           "bordercolor": "rgb(17,17,17)",
           "borderwidth": 1,
           "tickwidth": 0
          },
          "ternary": {
           "aaxis": {
            "gridcolor": "#506784",
            "linecolor": "#506784",
            "ticks": ""
           },
           "baxis": {
            "gridcolor": "#506784",
            "linecolor": "#506784",
            "ticks": ""
           },
           "bgcolor": "rgb(17,17,17)",
           "caxis": {
            "gridcolor": "#506784",
            "linecolor": "#506784",
            "ticks": ""
           }
          },
          "title": {
           "x": 0.05
          },
          "updatemenudefaults": {
           "bgcolor": "#506784",
           "borderwidth": 0
          },
          "xaxis": {
           "automargin": true,
           "gridcolor": "#283442",
           "linecolor": "#506784",
           "ticks": "",
           "zerolinecolor": "#283442",
           "zerolinewidth": 2
          },
          "yaxis": {
           "automargin": true,
           "gridcolor": "#283442",
           "linecolor": "#506784",
           "ticks": "",
           "zerolinecolor": "#283442",
           "zerolinewidth": 2
          }
         }
        },
        "title": {
         "text": "Média da empréstimos por mês"
        }
       }
      },
      "text/html": [
       "<div id=\"12352e62-86e8-40d1-bec9-f322a35e3a64\" style=\"height: 800px; width: 100%;\" class=\"plotly-graph-div\"></div><script type=\"text/javascript\">require([\"plotly\"], function(Plotly) { window.PLOTLYENV=window.PLOTLYENV || {};window.PLOTLYENV.BASE_URL=\"https://plot.ly\";\n",
       "if (document.getElementById(\"12352e62-86e8-40d1-bec9-f322a35e3a64\")) {\n",
       "    Plotly.newPlot(\"12352e62-86e8-40d1-bec9-f322a35e3a64\", [{\"hovertemplate\": \"mean=%{r}<br>month=%{theta}<extra></extra>\", \"legendgroup\": \"\", \"marker\": {\"color\": \"#6b1cfb\"}, \"name\": \"\", \"r\": [7394.625, 22913.125, 27095.0, 23878.625, 23025.25, 14926.75, 13300.625, 25760.25, 23829.25, 21543.25, 19075.125, 9102.125], \"showlegend\": false, \"theta\": [\"Jan\", \"Feb\", \"Mar\", \"Apr\", \"May\", \"Jun\", \"Jul\", \"Aug\", \"Sep\", \"Oct\", \"Nov\", \"Dec\"], \"type\": \"barpolar\", \"uid\": \"ea4f9e02-20fb-48bd-bb2a-4f0bc8740edc\"}], {\"barmode\": \"relative\", \"barnorm\": \"\", \"height\": 800, \"legend\": {\"tracegroupgap\": 0}, \"template\": {\"data\": {\"barpolar\": [{\"marker\": {\"line\": {\"color\": \"rgb(17,17,17)\", \"width\": 0.5}}, \"type\": \"barpolar\"}], \"bar\": [{\"marker\": {\"line\": {\"color\": \"rgb(17,17,17)\", \"width\": 0.5}}, \"type\": \"bar\"}], \"carpet\": [{\"aaxis\": {\"endlinecolor\": \"#A2B1C6\", \"gridcolor\": \"#506784\", \"linecolor\": \"#506784\", \"minorgridcolor\": \"#506784\", \"startlinecolor\": \"#A2B1C6\"}, \"baxis\": {\"endlinecolor\": \"#A2B1C6\", \"gridcolor\": \"#506784\", \"linecolor\": \"#506784\", \"minorgridcolor\": \"#506784\", \"startlinecolor\": \"#A2B1C6\"}, \"type\": \"carpet\"}], \"choropleth\": [{\"colorbar\": {\"outlinewidth\": 0, \"ticks\": \"\"}, \"type\": \"choropleth\"}], \"contourcarpet\": [{\"colorbar\": {\"outlinewidth\": 0, \"ticks\": \"\"}, \"type\": \"contourcarpet\"}], \"contour\": [{\"autocolorscale\": true, \"colorbar\": {\"outlinewidth\": 0, \"ticks\": \"\"}, \"type\": \"contour\"}], \"heatmapgl\": [{\"colorbar\": {\"outlinewidth\": 0, \"ticks\": \"\"}, \"type\": \"heatmapgl\"}], \"heatmap\": [{\"autocolorscale\": true, \"colorbar\": {\"outlinewidth\": 0, \"ticks\": \"\"}, \"type\": \"heatmap\"}], \"histogram2dcontour\": [{\"autocolorscale\": true, \"colorbar\": {\"outlinewidth\": 0, \"ticks\": \"\"}, \"type\": \"histogram2dcontour\"}], \"histogram2d\": [{\"autocolorscale\": true, \"colorbar\": {\"outlinewidth\": 0, \"ticks\": \"\"}, \"type\": \"histogram2d\"}], \"histogram\": [{\"marker\": {\"colorbar\": {\"outlinewidth\": 0, \"ticks\": \"\"}}, \"type\": \"histogram\"}], \"mesh3d\": [{\"colorbar\": {\"outlinewidth\": 0, \"ticks\": \"\"}, \"type\": \"mesh3d\"}], \"parcoords\": [{\"line\": {\"colorbar\": {\"outlinewidth\": 0, \"ticks\": \"\"}}, \"type\": \"parcoords\"}], \"scatter3d\": [{\"marker\": {\"colorbar\": {\"outlinewidth\": 0, \"ticks\": \"\"}}, \"type\": \"scatter3d\"}], \"scattercarpet\": [{\"marker\": {\"colorbar\": {\"outlinewidth\": 0, \"ticks\": \"\"}}, \"type\": \"scattercarpet\"}], \"scattergeo\": [{\"marker\": {\"colorbar\": {\"outlinewidth\": 0, \"ticks\": \"\"}}, \"type\": \"scattergeo\"}], \"scattergl\": [{\"marker\": {\"line\": {\"color\": \"#283442\"}}, \"type\": \"scattergl\"}], \"scattermapbox\": [{\"marker\": {\"colorbar\": {\"outlinewidth\": 0, \"ticks\": \"\"}}, \"type\": \"scattermapbox\"}], \"scatterpolargl\": [{\"marker\": {\"colorbar\": {\"outlinewidth\": 0, \"ticks\": \"\"}}, \"type\": \"scatterpolargl\"}], \"scatterpolar\": [{\"marker\": {\"colorbar\": {\"outlinewidth\": 0, \"ticks\": \"\"}}, \"type\": \"scatterpolar\"}], \"scatter\": [{\"marker\": {\"line\": {\"color\": \"#283442\"}}, \"type\": \"scatter\"}], \"scatterternary\": [{\"marker\": {\"colorbar\": {\"outlinewidth\": 0, \"ticks\": \"\"}}, \"type\": \"scatterternary\"}], \"surface\": [{\"colorbar\": {\"outlinewidth\": 0, \"ticks\": \"\"}, \"type\": \"surface\"}], \"table\": [{\"cells\": {\"fill\": {\"color\": \"#506784\"}, \"line\": {\"color\": \"rgb(17,17,17)\"}}, \"header\": {\"fill\": {\"color\": \"#2a3f5f\"}, \"line\": {\"color\": \"rgb(17,17,17)\"}}, \"type\": \"table\"}]}, \"layout\": {\"annotationdefaults\": {\"arrowcolor\": \"#f2f5fa\", \"arrowhead\": 0, \"arrowwidth\": 1}, \"colorscale\": {\"diverging\": [[0, \"#8e0152\"], [0.1, \"#c51b7d\"], [0.2, \"#de77ae\"], [0.3, \"#f1b6da\"], [0.4, \"#fde0ef\"], [0.5, \"#f7f7f7\"], [0.6, \"#e6f5d0\"], [0.7, \"#b8e186\"], [0.8, \"#7fbc41\"], [0.9, \"#4d9221\"], [1, \"#276419\"]], \"sequential\": [[0.0, \"#0508b8\"], [0.0893854748603352, \"#1910d8\"], [0.1787709497206704, \"#3c19f0\"], [0.2681564245810056, \"#6b1cfb\"], [0.3575418994413408, \"#981cfd\"], [0.44692737430167595, \"#bf1cfd\"], [0.5363128491620112, \"#dd2bfd\"], [0.6256983240223464, \"#f246fe\"], [0.7150837988826816, \"#fc67fd\"], [0.8044692737430168, \"#fe88fc\"], [0.8938547486033519, \"#fea5fd\"], [0.9832402234636871, \"#febefe\"], [1.0, \"#fec3fe\"]], \"sequentialminus\": [[0.0, \"#0508b8\"], [0.0893854748603352, \"#1910d8\"], [0.1787709497206704, \"#3c19f0\"], [0.2681564245810056, \"#6b1cfb\"], [0.3575418994413408, \"#981cfd\"], [0.44692737430167595, \"#bf1cfd\"], [0.5363128491620112, \"#dd2bfd\"], [0.6256983240223464, \"#f246fe\"], [0.7150837988826816, \"#fc67fd\"], [0.8044692737430168, \"#fe88fc\"], [0.8938547486033519, \"#fea5fd\"], [0.9832402234636871, \"#febefe\"], [1.0, \"#fec3fe\"]]}, \"colorway\": [\"#636efa\", \"#EF553B\", \"#00cc96\", \"#ab63fa\", \"#19d3f3\", \"#e763fa\", \"#FECB52\", \"#FFA15A\", \"#FF6692\", \"#B6E880\"], \"font\": {\"color\": \"#f2f5fa\"}, \"geo\": {\"bgcolor\": \"rgb(17,17,17)\", \"lakecolor\": \"rgb(17,17,17)\", \"landcolor\": \"rgb(17,17,17)\", \"showlakes\": true, \"showland\": true, \"subunitcolor\": \"#506784\"}, \"hovermode\": \"closest\", \"mapbox\": {\"style\": \"dark\"}, \"paper_bgcolor\": \"rgb(17,17,17)\", \"plot_bgcolor\": \"rgb(17,17,17)\", \"polar\": {\"angularaxis\": {\"gridcolor\": \"#506784\", \"linecolor\": \"#506784\", \"ticks\": \"\"}, \"bgcolor\": \"rgb(17,17,17)\", \"radialaxis\": {\"gridcolor\": \"#506784\", \"linecolor\": \"#506784\", \"ticks\": \"\"}}, \"scene\": {\"xaxis\": {\"backgroundcolor\": \"rgb(17,17,17)\", \"gridcolor\": \"#506784\", \"gridwidth\": 2, \"linecolor\": \"#506784\", \"showbackground\": true, \"ticks\": \"\", \"zerolinecolor\": \"#C8D4E3\"}, \"yaxis\": {\"backgroundcolor\": \"rgb(17,17,17)\", \"gridcolor\": \"#506784\", \"gridwidth\": 2, \"linecolor\": \"#506784\", \"showbackground\": true, \"ticks\": \"\", \"zerolinecolor\": \"#C8D4E3\"}, \"zaxis\": {\"backgroundcolor\": \"rgb(17,17,17)\", \"gridcolor\": \"#506784\", \"gridwidth\": 2, \"linecolor\": \"#506784\", \"showbackground\": true, \"ticks\": \"\", \"zerolinecolor\": \"#C8D4E3\"}}, \"shapedefaults\": {\"fillcolor\": \"#f2f5fa\", \"line\": {\"width\": 0}, \"opacity\": 0.4}, \"sliderdefaults\": {\"bgcolor\": \"#C8D4E3\", \"bordercolor\": \"rgb(17,17,17)\", \"borderwidth\": 1, \"tickwidth\": 0}, \"ternary\": {\"aaxis\": {\"gridcolor\": \"#506784\", \"linecolor\": \"#506784\", \"ticks\": \"\"}, \"baxis\": {\"gridcolor\": \"#506784\", \"linecolor\": \"#506784\", \"ticks\": \"\"}, \"bgcolor\": \"rgb(17,17,17)\", \"caxis\": {\"gridcolor\": \"#506784\", \"linecolor\": \"#506784\", \"ticks\": \"\"}}, \"title\": {\"x\": 0.05}, \"updatemenudefaults\": {\"bgcolor\": \"#506784\", \"borderwidth\": 0}, \"xaxis\": {\"automargin\": true, \"gridcolor\": \"#283442\", \"linecolor\": \"#506784\", \"ticks\": \"\", \"zerolinecolor\": \"#283442\", \"zerolinewidth\": 2}, \"yaxis\": {\"automargin\": true, \"gridcolor\": \"#283442\", \"linecolor\": \"#506784\", \"ticks\": \"\", \"zerolinecolor\": \"#283442\", \"zerolinewidth\": 2}}}, \"title\": {\"text\": \"M\\u00e9dia da empr\\u00e9stimos por m\\u00eas\"}, \"polar\": {\"angularaxis\": {\"direction\": \"clockwise\", \"rotation\": 90}}}, {\"showLink\": false, \"linkText\": \"Export to plot.ly\", \"plotlyServerURL\": \"https://plot.ly\"}); \n",
       "}\n",
       "});</script><script type=\"text/javascript\">window.addEventListener(\"resize\", function(){if (document.getElementById(\"12352e62-86e8-40d1-bec9-f322a35e3a64\")) {window._Plotly.Plots.resize(document.getElementById(\"12352e62-86e8-40d1-bec9-f322a35e3a64\"));};})</script>"
      ],
      "text/vnd.plotly.v1+html": [
       "<div id=\"12352e62-86e8-40d1-bec9-f322a35e3a64\" style=\"height: 800px; width: 100%;\" class=\"plotly-graph-div\"></div><script type=\"text/javascript\">require([\"plotly\"], function(Plotly) { window.PLOTLYENV=window.PLOTLYENV || {};window.PLOTLYENV.BASE_URL=\"https://plot.ly\";\n",
       "if (document.getElementById(\"12352e62-86e8-40d1-bec9-f322a35e3a64\")) {\n",
       "    Plotly.newPlot(\"12352e62-86e8-40d1-bec9-f322a35e3a64\", [{\"hovertemplate\": \"mean=%{r}<br>month=%{theta}<extra></extra>\", \"legendgroup\": \"\", \"marker\": {\"color\": \"#6b1cfb\"}, \"name\": \"\", \"r\": [7394.625, 22913.125, 27095.0, 23878.625, 23025.25, 14926.75, 13300.625, 25760.25, 23829.25, 21543.25, 19075.125, 9102.125], \"showlegend\": false, \"theta\": [\"Jan\", \"Feb\", \"Mar\", \"Apr\", \"May\", \"Jun\", \"Jul\", \"Aug\", \"Sep\", \"Oct\", \"Nov\", \"Dec\"], \"type\": \"barpolar\", \"uid\": \"ea4f9e02-20fb-48bd-bb2a-4f0bc8740edc\"}], {\"barmode\": \"relative\", \"barnorm\": \"\", \"height\": 800, \"legend\": {\"tracegroupgap\": 0}, \"template\": {\"data\": {\"barpolar\": [{\"marker\": {\"line\": {\"color\": \"rgb(17,17,17)\", \"width\": 0.5}}, \"type\": \"barpolar\"}], \"bar\": [{\"marker\": {\"line\": {\"color\": \"rgb(17,17,17)\", \"width\": 0.5}}, \"type\": \"bar\"}], \"carpet\": [{\"aaxis\": {\"endlinecolor\": \"#A2B1C6\", \"gridcolor\": \"#506784\", \"linecolor\": \"#506784\", \"minorgridcolor\": \"#506784\", \"startlinecolor\": \"#A2B1C6\"}, \"baxis\": {\"endlinecolor\": \"#A2B1C6\", \"gridcolor\": \"#506784\", \"linecolor\": \"#506784\", \"minorgridcolor\": \"#506784\", \"startlinecolor\": \"#A2B1C6\"}, \"type\": \"carpet\"}], \"choropleth\": [{\"colorbar\": {\"outlinewidth\": 0, \"ticks\": \"\"}, \"type\": \"choropleth\"}], \"contourcarpet\": [{\"colorbar\": {\"outlinewidth\": 0, \"ticks\": \"\"}, \"type\": \"contourcarpet\"}], \"contour\": [{\"autocolorscale\": true, \"colorbar\": {\"outlinewidth\": 0, \"ticks\": \"\"}, \"type\": \"contour\"}], \"heatmapgl\": [{\"colorbar\": {\"outlinewidth\": 0, \"ticks\": \"\"}, \"type\": \"heatmapgl\"}], \"heatmap\": [{\"autocolorscale\": true, \"colorbar\": {\"outlinewidth\": 0, \"ticks\": \"\"}, \"type\": \"heatmap\"}], \"histogram2dcontour\": [{\"autocolorscale\": true, \"colorbar\": {\"outlinewidth\": 0, \"ticks\": \"\"}, \"type\": \"histogram2dcontour\"}], \"histogram2d\": [{\"autocolorscale\": true, \"colorbar\": {\"outlinewidth\": 0, \"ticks\": \"\"}, \"type\": \"histogram2d\"}], \"histogram\": [{\"marker\": {\"colorbar\": {\"outlinewidth\": 0, \"ticks\": \"\"}}, \"type\": \"histogram\"}], \"mesh3d\": [{\"colorbar\": {\"outlinewidth\": 0, \"ticks\": \"\"}, \"type\": \"mesh3d\"}], \"parcoords\": [{\"line\": {\"colorbar\": {\"outlinewidth\": 0, \"ticks\": \"\"}}, \"type\": \"parcoords\"}], \"scatter3d\": [{\"marker\": {\"colorbar\": {\"outlinewidth\": 0, \"ticks\": \"\"}}, \"type\": \"scatter3d\"}], \"scattercarpet\": [{\"marker\": {\"colorbar\": {\"outlinewidth\": 0, \"ticks\": \"\"}}, \"type\": \"scattercarpet\"}], \"scattergeo\": [{\"marker\": {\"colorbar\": {\"outlinewidth\": 0, \"ticks\": \"\"}}, \"type\": \"scattergeo\"}], \"scattergl\": [{\"marker\": {\"line\": {\"color\": \"#283442\"}}, \"type\": \"scattergl\"}], \"scattermapbox\": [{\"marker\": {\"colorbar\": {\"outlinewidth\": 0, \"ticks\": \"\"}}, \"type\": \"scattermapbox\"}], \"scatterpolargl\": [{\"marker\": {\"colorbar\": {\"outlinewidth\": 0, \"ticks\": \"\"}}, \"type\": \"scatterpolargl\"}], \"scatterpolar\": [{\"marker\": {\"colorbar\": {\"outlinewidth\": 0, \"ticks\": \"\"}}, \"type\": \"scatterpolar\"}], \"scatter\": [{\"marker\": {\"line\": {\"color\": \"#283442\"}}, \"type\": \"scatter\"}], \"scatterternary\": [{\"marker\": {\"colorbar\": {\"outlinewidth\": 0, \"ticks\": \"\"}}, \"type\": \"scatterternary\"}], \"surface\": [{\"colorbar\": {\"outlinewidth\": 0, \"ticks\": \"\"}, \"type\": \"surface\"}], \"table\": [{\"cells\": {\"fill\": {\"color\": \"#506784\"}, \"line\": {\"color\": \"rgb(17,17,17)\"}}, \"header\": {\"fill\": {\"color\": \"#2a3f5f\"}, \"line\": {\"color\": \"rgb(17,17,17)\"}}, \"type\": \"table\"}]}, \"layout\": {\"annotationdefaults\": {\"arrowcolor\": \"#f2f5fa\", \"arrowhead\": 0, \"arrowwidth\": 1}, \"colorscale\": {\"diverging\": [[0, \"#8e0152\"], [0.1, \"#c51b7d\"], [0.2, \"#de77ae\"], [0.3, \"#f1b6da\"], [0.4, \"#fde0ef\"], [0.5, \"#f7f7f7\"], [0.6, \"#e6f5d0\"], [0.7, \"#b8e186\"], [0.8, \"#7fbc41\"], [0.9, \"#4d9221\"], [1, \"#276419\"]], \"sequential\": [[0.0, \"#0508b8\"], [0.0893854748603352, \"#1910d8\"], [0.1787709497206704, \"#3c19f0\"], [0.2681564245810056, \"#6b1cfb\"], [0.3575418994413408, \"#981cfd\"], [0.44692737430167595, \"#bf1cfd\"], [0.5363128491620112, \"#dd2bfd\"], [0.6256983240223464, \"#f246fe\"], [0.7150837988826816, \"#fc67fd\"], [0.8044692737430168, \"#fe88fc\"], [0.8938547486033519, \"#fea5fd\"], [0.9832402234636871, \"#febefe\"], [1.0, \"#fec3fe\"]], \"sequentialminus\": [[0.0, \"#0508b8\"], [0.0893854748603352, \"#1910d8\"], [0.1787709497206704, \"#3c19f0\"], [0.2681564245810056, \"#6b1cfb\"], [0.3575418994413408, \"#981cfd\"], [0.44692737430167595, \"#bf1cfd\"], [0.5363128491620112, \"#dd2bfd\"], [0.6256983240223464, \"#f246fe\"], [0.7150837988826816, \"#fc67fd\"], [0.8044692737430168, \"#fe88fc\"], [0.8938547486033519, \"#fea5fd\"], [0.9832402234636871, \"#febefe\"], [1.0, \"#fec3fe\"]]}, \"colorway\": [\"#636efa\", \"#EF553B\", \"#00cc96\", \"#ab63fa\", \"#19d3f3\", \"#e763fa\", \"#FECB52\", \"#FFA15A\", \"#FF6692\", \"#B6E880\"], \"font\": {\"color\": \"#f2f5fa\"}, \"geo\": {\"bgcolor\": \"rgb(17,17,17)\", \"lakecolor\": \"rgb(17,17,17)\", \"landcolor\": \"rgb(17,17,17)\", \"showlakes\": true, \"showland\": true, \"subunitcolor\": \"#506784\"}, \"hovermode\": \"closest\", \"mapbox\": {\"style\": \"dark\"}, \"paper_bgcolor\": \"rgb(17,17,17)\", \"plot_bgcolor\": \"rgb(17,17,17)\", \"polar\": {\"angularaxis\": {\"gridcolor\": \"#506784\", \"linecolor\": \"#506784\", \"ticks\": \"\"}, \"bgcolor\": \"rgb(17,17,17)\", \"radialaxis\": {\"gridcolor\": \"#506784\", \"linecolor\": \"#506784\", \"ticks\": \"\"}}, \"scene\": {\"xaxis\": {\"backgroundcolor\": \"rgb(17,17,17)\", \"gridcolor\": \"#506784\", \"gridwidth\": 2, \"linecolor\": \"#506784\", \"showbackground\": true, \"ticks\": \"\", \"zerolinecolor\": \"#C8D4E3\"}, \"yaxis\": {\"backgroundcolor\": \"rgb(17,17,17)\", \"gridcolor\": \"#506784\", \"gridwidth\": 2, \"linecolor\": \"#506784\", \"showbackground\": true, \"ticks\": \"\", \"zerolinecolor\": \"#C8D4E3\"}, \"zaxis\": {\"backgroundcolor\": \"rgb(17,17,17)\", \"gridcolor\": \"#506784\", \"gridwidth\": 2, \"linecolor\": \"#506784\", \"showbackground\": true, \"ticks\": \"\", \"zerolinecolor\": \"#C8D4E3\"}}, \"shapedefaults\": {\"fillcolor\": \"#f2f5fa\", \"line\": {\"width\": 0}, \"opacity\": 0.4}, \"sliderdefaults\": {\"bgcolor\": \"#C8D4E3\", \"bordercolor\": \"rgb(17,17,17)\", \"borderwidth\": 1, \"tickwidth\": 0}, \"ternary\": {\"aaxis\": {\"gridcolor\": \"#506784\", \"linecolor\": \"#506784\", \"ticks\": \"\"}, \"baxis\": {\"gridcolor\": \"#506784\", \"linecolor\": \"#506784\", \"ticks\": \"\"}, \"bgcolor\": \"rgb(17,17,17)\", \"caxis\": {\"gridcolor\": \"#506784\", \"linecolor\": \"#506784\", \"ticks\": \"\"}}, \"title\": {\"x\": 0.05}, \"updatemenudefaults\": {\"bgcolor\": \"#506784\", \"borderwidth\": 0}, \"xaxis\": {\"automargin\": true, \"gridcolor\": \"#283442\", \"linecolor\": \"#506784\", \"ticks\": \"\", \"zerolinecolor\": \"#283442\", \"zerolinewidth\": 2}, \"yaxis\": {\"automargin\": true, \"gridcolor\": \"#283442\", \"linecolor\": \"#506784\", \"ticks\": \"\", \"zerolinecolor\": \"#283442\", \"zerolinewidth\": 2}}}, \"title\": {\"text\": \"M\\u00e9dia da empr\\u00e9stimos por m\\u00eas\"}, \"polar\": {\"angularaxis\": {\"direction\": \"clockwise\", \"rotation\": 90}}}, {\"showLink\": false, \"linkText\": \"Export to plot.ly\", \"plotlyServerURL\": \"https://plot.ly\"}); \n",
       "}\n",
       "});</script><script type=\"text/javascript\">window.addEventListener(\"resize\", function(){if (document.getElementById(\"12352e62-86e8-40d1-bec9-f322a35e3a64\")) {window._Plotly.Plots.resize(document.getElementById(\"12352e62-86e8-40d1-bec9-f322a35e3a64\"));};})</script>"
      ]
     },
     "metadata": {},
     "output_type": "display_data"
    }
   ],
   "source": [
    "import plotly_express as px\n",
    "\n",
    "px.bar_polar(media_emprestimos_por_mes, r=\"mean\", theta=\"month\", template=\"plotly_dark\", title='Média da empréstimos por mês'\n",
    "            ,color_discrete_sequence= px.colors.sequential.Plotly[-10::-3],height=800)"
   ]
  },
  {
   "cell_type": "code",
   "execution_count": 371,
   "metadata": {},
   "outputs": [
    {
     "data": {
      "application/vnd.plotly.v1+json": {
       "config": {
        "linkText": "Export to plot.ly",
        "plotlyServerURL": "https://plot.ly",
        "showLink": false
       },
       "data": [
        {
         "marker": {
          "color": "rgb(50, 120, 140)"
         },
         "name": "Empréstimos",
         "type": "bar",
         "uid": "034b1357-e914-4620-96dd-864ef3937290",
         "x": [
          "Jan 2010",
          "Feb 2010",
          "Mar 2010",
          "Apr 2010",
          "May 2010",
          "Jun 2010",
          "Jul 2010",
          "Aug 2010",
          "Sep 2010",
          "Oct 2010",
          "Nov 2010",
          "Dec 2010",
          "Jan 2011",
          "Feb 2011",
          "Mar 2011",
          "Apr 2011",
          "May 2011",
          "Jun 2011",
          "Jul 2011",
          "Aug 2011",
          "Sep 2011",
          "Oct 2011",
          "Nov 2011",
          "Dec 2011",
          "Jan 2012",
          "Feb 2012",
          "Mar 2012",
          "Apr 2012",
          "May 2012",
          "Jun 2012",
          "Jul 2012",
          "Aug 2012",
          "Sep 2012",
          "Oct 2012",
          "Nov 2012",
          "Dec 2012",
          "Jan 2013",
          "Feb 2013",
          "Mar 2013",
          "Apr 2013",
          "May 2013",
          "Jun 2013",
          "Jul 2013",
          "Aug 2013",
          "Sep 2013",
          "Oct 2013",
          "Nov 2013",
          "Dec 2013",
          "Jan 2014",
          "Feb 2014",
          "Mar 2014",
          "Apr 2014",
          "May 2014",
          "Jun 2014",
          "Jul 2014",
          "Aug 2014",
          "Sep 2014",
          "Oct 2014",
          "Nov 2014",
          "Dec 2014",
          "Jan 2015",
          "Feb 2015",
          "Mar 2015",
          "Apr 2015",
          "May 2015",
          "Jun 2015",
          "Jul 2015",
          "Aug 2015",
          "Sep 2015",
          "Oct 2015",
          "Nov 2015",
          "Dec 2015",
          "Jan 2016",
          "Feb 2016",
          "Mar 2016",
          "Apr 2016",
          "May 2016",
          "Jun 2016",
          "Jul 2016",
          "Aug 2016",
          "Sep 2016",
          "Oct 2016",
          "Nov 2016",
          "Dec 2016",
          "Jan 2017",
          "Feb 2017",
          "Mar 2017",
          "Apr 2017",
          "May 2017",
          "Jun 2017",
          "Jul 2017",
          "Aug 2017",
          "Sep 2017",
          "Oct 2017",
          "Nov 2017",
          "Dec 2017"
         ],
         "y": [
          5404,
          12091,
          23409,
          19500,
          19309,
          15626,
          8191,
          22799,
          22690,
          19165,
          18086,
          9765,
          1871,
          15635,
          24531,
          22628,
          24567,
          19315,
          9451,
          27887,
          26528,
          22345,
          21288,
          13314,
          8054,
          23278,
          32047,
          27044,
          25857,
          16326,
          6919,
          25387,
          24215,
          25147,
          23277,
          12486,
          8505,
          28291,
          27591,
          29836,
          25630,
          15237,
          16967,
          26571,
          26503,
          23294,
          21181,
          9680,
          16860,
          27778,
          21911,
          20672,
          18485,
          7475,
          19952,
          26097,
          26675,
          23632,
          18773,
          7000,
          6968,
          27485,
          30312,
          25301,
          23227,
          13445,
          14653,
          20714,
          16900,
          19375,
          18943,
          7530,
          6219,
          28046,
          27915,
          24576,
          23192,
          13704,
          15045,
          27718,
          24653,
          19069,
          13783,
          6911,
          5276,
          20701,
          29044,
          21472,
          23935,
          18286,
          15227,
          28909,
          22470,
          20319,
          17270,
          6131
         ]
        }
       ],
       "layout": {
        "title": {
         "text": "Empréstimos por mês"
        },
        "xaxis": {
         "title": {
          "text": "Mês"
         }
        },
        "yaxis": {
         "title": {
          "text": "Quantidade de empréstimos"
         }
        }
       }
      },
      "text/html": [
       "<div id=\"f8cffa99-47d9-4e73-9040-310e5ab8d314\" style=\"height: 525px; width: 100%;\" class=\"plotly-graph-div\"></div><script type=\"text/javascript\">require([\"plotly\"], function(Plotly) { window.PLOTLYENV=window.PLOTLYENV || {};window.PLOTLYENV.BASE_URL=\"https://plot.ly\";\n",
       "if (document.getElementById(\"f8cffa99-47d9-4e73-9040-310e5ab8d314\")) {\n",
       "    Plotly.newPlot(\"f8cffa99-47d9-4e73-9040-310e5ab8d314\", [{\"marker\": {\"color\": \"rgb(50, 120, 140)\"}, \"name\": \"Empr\\u00e9stimos\", \"x\": [\"Jan 2010\", \"Feb 2010\", \"Mar 2010\", \"Apr 2010\", \"May 2010\", \"Jun 2010\", \"Jul 2010\", \"Aug 2010\", \"Sep 2010\", \"Oct 2010\", \"Nov 2010\", \"Dec 2010\", \"Jan 2011\", \"Feb 2011\", \"Mar 2011\", \"Apr 2011\", \"May 2011\", \"Jun 2011\", \"Jul 2011\", \"Aug 2011\", \"Sep 2011\", \"Oct 2011\", \"Nov 2011\", \"Dec 2011\", \"Jan 2012\", \"Feb 2012\", \"Mar 2012\", \"Apr 2012\", \"May 2012\", \"Jun 2012\", \"Jul 2012\", \"Aug 2012\", \"Sep 2012\", \"Oct 2012\", \"Nov 2012\", \"Dec 2012\", \"Jan 2013\", \"Feb 2013\", \"Mar 2013\", \"Apr 2013\", \"May 2013\", \"Jun 2013\", \"Jul 2013\", \"Aug 2013\", \"Sep 2013\", \"Oct 2013\", \"Nov 2013\", \"Dec 2013\", \"Jan 2014\", \"Feb 2014\", \"Mar 2014\", \"Apr 2014\", \"May 2014\", \"Jun 2014\", \"Jul 2014\", \"Aug 2014\", \"Sep 2014\", \"Oct 2014\", \"Nov 2014\", \"Dec 2014\", \"Jan 2015\", \"Feb 2015\", \"Mar 2015\", \"Apr 2015\", \"May 2015\", \"Jun 2015\", \"Jul 2015\", \"Aug 2015\", \"Sep 2015\", \"Oct 2015\", \"Nov 2015\", \"Dec 2015\", \"Jan 2016\", \"Feb 2016\", \"Mar 2016\", \"Apr 2016\", \"May 2016\", \"Jun 2016\", \"Jul 2016\", \"Aug 2016\", \"Sep 2016\", \"Oct 2016\", \"Nov 2016\", \"Dec 2016\", \"Jan 2017\", \"Feb 2017\", \"Mar 2017\", \"Apr 2017\", \"May 2017\", \"Jun 2017\", \"Jul 2017\", \"Aug 2017\", \"Sep 2017\", \"Oct 2017\", \"Nov 2017\", \"Dec 2017\"], \"y\": [5404, 12091, 23409, 19500, 19309, 15626, 8191, 22799, 22690, 19165, 18086, 9765, 1871, 15635, 24531, 22628, 24567, 19315, 9451, 27887, 26528, 22345, 21288, 13314, 8054, 23278, 32047, 27044, 25857, 16326, 6919, 25387, 24215, 25147, 23277, 12486, 8505, 28291, 27591, 29836, 25630, 15237, 16967, 26571, 26503, 23294, 21181, 9680, 16860, 27778, 21911, 20672, 18485, 7475, 19952, 26097, 26675, 23632, 18773, 7000, 6968, 27485, 30312, 25301, 23227, 13445, 14653, 20714, 16900, 19375, 18943, 7530, 6219, 28046, 27915, 24576, 23192, 13704, 15045, 27718, 24653, 19069, 13783, 6911, 5276, 20701, 29044, 21472, 23935, 18286, 15227, 28909, 22470, 20319, 17270, 6131], \"type\": \"bar\", \"uid\": \"034b1357-e914-4620-96dd-864ef3937290\"}], {\"title\": {\"text\": \"Empr\\u00e9stimos por m\\u00eas\"}, \"xaxis\": {\"title\": {\"text\": \"M\\u00eas\"}}, \"yaxis\": {\"title\": {\"text\": \"Quantidade de empr\\u00e9stimos\"}}}, {\"showLink\": false, \"linkText\": \"Export to plot.ly\", \"plotlyServerURL\": \"https://plot.ly\"}); \n",
       "}\n",
       "});</script><script type=\"text/javascript\">window.addEventListener(\"resize\", function(){if (document.getElementById(\"f8cffa99-47d9-4e73-9040-310e5ab8d314\")) {window._Plotly.Plots.resize(document.getElementById(\"f8cffa99-47d9-4e73-9040-310e5ab8d314\"));};})</script>"
      ],
      "text/vnd.plotly.v1+html": [
       "<div id=\"f8cffa99-47d9-4e73-9040-310e5ab8d314\" style=\"height: 525px; width: 100%;\" class=\"plotly-graph-div\"></div><script type=\"text/javascript\">require([\"plotly\"], function(Plotly) { window.PLOTLYENV=window.PLOTLYENV || {};window.PLOTLYENV.BASE_URL=\"https://plot.ly\";\n",
       "if (document.getElementById(\"f8cffa99-47d9-4e73-9040-310e5ab8d314\")) {\n",
       "    Plotly.newPlot(\"f8cffa99-47d9-4e73-9040-310e5ab8d314\", [{\"marker\": {\"color\": \"rgb(50, 120, 140)\"}, \"name\": \"Empr\\u00e9stimos\", \"x\": [\"Jan 2010\", \"Feb 2010\", \"Mar 2010\", \"Apr 2010\", \"May 2010\", \"Jun 2010\", \"Jul 2010\", \"Aug 2010\", \"Sep 2010\", \"Oct 2010\", \"Nov 2010\", \"Dec 2010\", \"Jan 2011\", \"Feb 2011\", \"Mar 2011\", \"Apr 2011\", \"May 2011\", \"Jun 2011\", \"Jul 2011\", \"Aug 2011\", \"Sep 2011\", \"Oct 2011\", \"Nov 2011\", \"Dec 2011\", \"Jan 2012\", \"Feb 2012\", \"Mar 2012\", \"Apr 2012\", \"May 2012\", \"Jun 2012\", \"Jul 2012\", \"Aug 2012\", \"Sep 2012\", \"Oct 2012\", \"Nov 2012\", \"Dec 2012\", \"Jan 2013\", \"Feb 2013\", \"Mar 2013\", \"Apr 2013\", \"May 2013\", \"Jun 2013\", \"Jul 2013\", \"Aug 2013\", \"Sep 2013\", \"Oct 2013\", \"Nov 2013\", \"Dec 2013\", \"Jan 2014\", \"Feb 2014\", \"Mar 2014\", \"Apr 2014\", \"May 2014\", \"Jun 2014\", \"Jul 2014\", \"Aug 2014\", \"Sep 2014\", \"Oct 2014\", \"Nov 2014\", \"Dec 2014\", \"Jan 2015\", \"Feb 2015\", \"Mar 2015\", \"Apr 2015\", \"May 2015\", \"Jun 2015\", \"Jul 2015\", \"Aug 2015\", \"Sep 2015\", \"Oct 2015\", \"Nov 2015\", \"Dec 2015\", \"Jan 2016\", \"Feb 2016\", \"Mar 2016\", \"Apr 2016\", \"May 2016\", \"Jun 2016\", \"Jul 2016\", \"Aug 2016\", \"Sep 2016\", \"Oct 2016\", \"Nov 2016\", \"Dec 2016\", \"Jan 2017\", \"Feb 2017\", \"Mar 2017\", \"Apr 2017\", \"May 2017\", \"Jun 2017\", \"Jul 2017\", \"Aug 2017\", \"Sep 2017\", \"Oct 2017\", \"Nov 2017\", \"Dec 2017\"], \"y\": [5404, 12091, 23409, 19500, 19309, 15626, 8191, 22799, 22690, 19165, 18086, 9765, 1871, 15635, 24531, 22628, 24567, 19315, 9451, 27887, 26528, 22345, 21288, 13314, 8054, 23278, 32047, 27044, 25857, 16326, 6919, 25387, 24215, 25147, 23277, 12486, 8505, 28291, 27591, 29836, 25630, 15237, 16967, 26571, 26503, 23294, 21181, 9680, 16860, 27778, 21911, 20672, 18485, 7475, 19952, 26097, 26675, 23632, 18773, 7000, 6968, 27485, 30312, 25301, 23227, 13445, 14653, 20714, 16900, 19375, 18943, 7530, 6219, 28046, 27915, 24576, 23192, 13704, 15045, 27718, 24653, 19069, 13783, 6911, 5276, 20701, 29044, 21472, 23935, 18286, 15227, 28909, 22470, 20319, 17270, 6131], \"type\": \"bar\", \"uid\": \"034b1357-e914-4620-96dd-864ef3937290\"}], {\"title\": {\"text\": \"Empr\\u00e9stimos por m\\u00eas\"}, \"xaxis\": {\"title\": {\"text\": \"M\\u00eas\"}}, \"yaxis\": {\"title\": {\"text\": \"Quantidade de empr\\u00e9stimos\"}}}, {\"showLink\": false, \"linkText\": \"Export to plot.ly\", \"plotlyServerURL\": \"https://plot.ly\"}); \n",
       "}\n",
       "});</script><script type=\"text/javascript\">window.addEventListener(\"resize\", function(){if (document.getElementById(\"f8cffa99-47d9-4e73-9040-310e5ab8d314\")) {window._Plotly.Plots.resize(document.getElementById(\"f8cffa99-47d9-4e73-9040-310e5ab8d314\"));};})</script>"
      ]
     },
     "metadata": {},
     "output_type": "display_data"
    }
   ],
   "source": [
    "emprestimos_mes_bar = go.Bar(x=emprestimos_por_mes.data_emprestimo,y=emprestimos_por_mes.quantity,name='Empréstimos',\n",
    "                  marker=dict(color='rgb(50, 120, 140)'))\n",
    "\n",
    "data_emprestimos_bar = [emprestimos_mes_bar]\n",
    "\n",
    "layout_emprestimos = go.Layout(title=\"Empréstimos por mês\",\n",
    "        xaxis=dict(title='Mês'),\n",
    "        yaxis=dict(title='Quantidade de empréstimos')\n",
    "    )\n",
    "\n",
    "fig_emprestimos = go.Figure(data=data_emprestimos_bar,layout=layout_emprestimos)\n",
    "offline.iplot(fig_emprestimos)"
   ]
  },
  {
   "cell_type": "code",
   "execution_count": 372,
   "metadata": {},
   "outputs": [
    {
     "data": {
      "application/vnd.plotly.v1+json": {
       "config": {
        "linkText": "Export to plot.ly",
        "plotlyServerURL": "https://plot.ly",
        "showLink": false
       },
       "data": [
        {
         "boxpoints": "all",
         "marker": {
          "color": "rgb(200, 10, 100)"
         },
         "name": "Empréstimos",
         "type": "box",
         "uid": "78764d20-356a-45c8-af09-432a6b554817",
         "y": [
          5404,
          12091,
          23409,
          19500,
          19309,
          15626,
          8191,
          22799,
          22690,
          19165,
          18086,
          9765,
          1871,
          15635,
          24531,
          22628,
          24567,
          19315,
          9451,
          27887,
          26528,
          22345,
          21288,
          13314,
          8054,
          23278,
          32047,
          27044,
          25857,
          16326,
          6919,
          25387,
          24215,
          25147,
          23277,
          12486,
          8505,
          28291,
          27591,
          29836,
          25630,
          15237,
          16967,
          26571,
          26503,
          23294,
          21181,
          9680,
          16860,
          27778,
          21911,
          20672,
          18485,
          7475,
          19952,
          26097,
          26675,
          23632,
          18773,
          7000,
          6968,
          27485,
          30312,
          25301,
          23227,
          13445,
          14653,
          20714,
          16900,
          19375,
          18943,
          7530,
          6219,
          28046,
          27915,
          24576,
          23192,
          13704,
          15045,
          27718,
          24653,
          19069,
          13783,
          6911,
          5276,
          20701,
          29044,
          21472,
          23935,
          18286,
          15227,
          28909,
          22470,
          20319,
          17270,
          6131
         ]
        }
       ],
       "layout": {
        "title": {
         "text": "Boxplot da quantidade de empréstimos por mês"
        }
       }
      },
      "text/html": [
       "<div id=\"b3da93e9-173f-4caa-bc19-6753cdbe3371\" style=\"height: 525px; width: 100%;\" class=\"plotly-graph-div\"></div><script type=\"text/javascript\">require([\"plotly\"], function(Plotly) { window.PLOTLYENV=window.PLOTLYENV || {};window.PLOTLYENV.BASE_URL=\"https://plot.ly\";\n",
       "if (document.getElementById(\"b3da93e9-173f-4caa-bc19-6753cdbe3371\")) {\n",
       "    Plotly.newPlot(\"b3da93e9-173f-4caa-bc19-6753cdbe3371\", [{\"boxpoints\": \"all\", \"marker\": {\"color\": \"rgb(200, 10, 100)\"}, \"name\": \"Empr\\u00e9stimos\", \"y\": [5404, 12091, 23409, 19500, 19309, 15626, 8191, 22799, 22690, 19165, 18086, 9765, 1871, 15635, 24531, 22628, 24567, 19315, 9451, 27887, 26528, 22345, 21288, 13314, 8054, 23278, 32047, 27044, 25857, 16326, 6919, 25387, 24215, 25147, 23277, 12486, 8505, 28291, 27591, 29836, 25630, 15237, 16967, 26571, 26503, 23294, 21181, 9680, 16860, 27778, 21911, 20672, 18485, 7475, 19952, 26097, 26675, 23632, 18773, 7000, 6968, 27485, 30312, 25301, 23227, 13445, 14653, 20714, 16900, 19375, 18943, 7530, 6219, 28046, 27915, 24576, 23192, 13704, 15045, 27718, 24653, 19069, 13783, 6911, 5276, 20701, 29044, 21472, 23935, 18286, 15227, 28909, 22470, 20319, 17270, 6131], \"type\": \"box\", \"uid\": \"78764d20-356a-45c8-af09-432a6b554817\"}], {\"title\": {\"text\": \"Boxplot da quantidade de empr\\u00e9stimos por m\\u00eas\"}}, {\"showLink\": false, \"linkText\": \"Export to plot.ly\", \"plotlyServerURL\": \"https://plot.ly\"}); \n",
       "}\n",
       "});</script><script type=\"text/javascript\">window.addEventListener(\"resize\", function(){if (document.getElementById(\"b3da93e9-173f-4caa-bc19-6753cdbe3371\")) {window._Plotly.Plots.resize(document.getElementById(\"b3da93e9-173f-4caa-bc19-6753cdbe3371\"));};})</script>"
      ],
      "text/vnd.plotly.v1+html": [
       "<div id=\"b3da93e9-173f-4caa-bc19-6753cdbe3371\" style=\"height: 525px; width: 100%;\" class=\"plotly-graph-div\"></div><script type=\"text/javascript\">require([\"plotly\"], function(Plotly) { window.PLOTLYENV=window.PLOTLYENV || {};window.PLOTLYENV.BASE_URL=\"https://plot.ly\";\n",
       "if (document.getElementById(\"b3da93e9-173f-4caa-bc19-6753cdbe3371\")) {\n",
       "    Plotly.newPlot(\"b3da93e9-173f-4caa-bc19-6753cdbe3371\", [{\"boxpoints\": \"all\", \"marker\": {\"color\": \"rgb(200, 10, 100)\"}, \"name\": \"Empr\\u00e9stimos\", \"y\": [5404, 12091, 23409, 19500, 19309, 15626, 8191, 22799, 22690, 19165, 18086, 9765, 1871, 15635, 24531, 22628, 24567, 19315, 9451, 27887, 26528, 22345, 21288, 13314, 8054, 23278, 32047, 27044, 25857, 16326, 6919, 25387, 24215, 25147, 23277, 12486, 8505, 28291, 27591, 29836, 25630, 15237, 16967, 26571, 26503, 23294, 21181, 9680, 16860, 27778, 21911, 20672, 18485, 7475, 19952, 26097, 26675, 23632, 18773, 7000, 6968, 27485, 30312, 25301, 23227, 13445, 14653, 20714, 16900, 19375, 18943, 7530, 6219, 28046, 27915, 24576, 23192, 13704, 15045, 27718, 24653, 19069, 13783, 6911, 5276, 20701, 29044, 21472, 23935, 18286, 15227, 28909, 22470, 20319, 17270, 6131], \"type\": \"box\", \"uid\": \"78764d20-356a-45c8-af09-432a6b554817\"}], {\"title\": {\"text\": \"Boxplot da quantidade de empr\\u00e9stimos por m\\u00eas\"}}, {\"showLink\": false, \"linkText\": \"Export to plot.ly\", \"plotlyServerURL\": \"https://plot.ly\"}); \n",
       "}\n",
       "});</script><script type=\"text/javascript\">window.addEventListener(\"resize\", function(){if (document.getElementById(\"b3da93e9-173f-4caa-bc19-6753cdbe3371\")) {window._Plotly.Plots.resize(document.getElementById(\"b3da93e9-173f-4caa-bc19-6753cdbe3371\"));};})</script>"
      ]
     },
     "metadata": {},
     "output_type": "display_data"
    }
   ],
   "source": [
    "emprestimos_mes_box = go.Box(y=emprestimos_por_mes.quantity,boxpoints='all',name='Empréstimos',\n",
    "                            marker=dict(color='rgb(200, 10, 100)'))\n",
    "data_emprestimos_box = [emprestimos_mes_box]\n",
    "\n",
    "fig_emprestimos_box = go.Figure(data=data_emprestimos_box,layout=go.Layout(title='Boxplot da quantidade de empréstimos por mês'))\n",
    "offline.iplot(fig_emprestimos_box)"
   ]
  },
  {
   "cell_type": "code",
   "execution_count": 360,
   "metadata": {
    "scrolled": false
   },
   "outputs": [],
   "source": [
    "discentes_2009 = pd.read_csv('datasets/discentes/discentes-2009.csv',sep=';')\n",
    "discentes_2010 = pd.read_csv('datasets/discentes/discentes-2010.csv',sep=';')\n",
    "discentes_2011 = pd.read_csv('datasets/discentes/discentes-2011.csv',sep=';')\n",
    "discentes_2012 = pd.read_csv('datasets/discentes/discentes-2012.csv',sep=';')\n",
    "discentes_2013 = pd.read_csv('datasets/discentes/discentes-2013.csv',sep=';')\n",
    "discentes_2014 = pd.read_csv('datasets/discentes/discentes-2014.csv',sep=';')\n",
    "discentes_2015 = pd.read_csv('datasets/discentes/discentes-2015.csv',sep=';')\n",
    "discentes_2016 = pd.read_csv('datasets/discentes/discentes-2016.csv',sep=';')\n",
    "discentes_2017 = pd.read_csv('datasets/discentes/discentes-2017.csv',sep=';')\n",
    "\n",
    "discentes = pd.concat([discentes_2009,discentes_2010,discentes_2011,discentes_2012,discentes_2013,discentes_2014,discentes_2015,discentes_2016,discentes_2017])\n",
    "discentes.reset_index(drop=True)\n",
    "\n",
    "ano_ingresso = pd.DataFrame(discentes.groupby('ano_ingresso', as_index=False).agg('tipo_discente').count())\n",
    "ano_ingresso.columns = ['ano','quantidade']\n",
    "\n",
    "pd.DataFrame(discentes.groupby(['nivel_ensino','ano_ingresso'])['matricula'].agg(['count']))\n",
    "ingresso_nivel_ensino = pd.DataFrame(discentes.groupby(['nivel_ensino','ano_ingresso'], as_index=False).agg('tipo_discente').count())\n",
    "ingresso_nivel_ensino = pd.pivot_table(ingresso_nivel_ensino, index='ano_ingresso',columns=['nivel_ensino'])\n",
    "ingresso_nivel_ensino.columns = ingresso_nivel_ensino.columns.droplevel(level=0)"
   ]
  },
  {
   "cell_type": "code",
   "execution_count": 399,
   "metadata": {
    "scrolled": false
   },
   "outputs": [
    {
     "data": {
      "application/vnd.plotly.v1+json": {
       "config": {
        "linkText": "Export to plot.ly",
        "plotlyServerURL": "https://plot.ly",
        "showLink": false
       },
       "data": [
        {
         "marker": {
          "color": "rgb(42, 169, 201)"
         },
         "name": "Doutorado",
         "type": "bar",
         "uid": "568bcf8f-acf9-4d9f-b59b-499d8d867bf5",
         "x": [
          2009,
          2010,
          2011,
          2012,
          2013,
          2014,
          2015,
          2016,
          2017
         ],
         "y": [
          456,
          629,
          616,
          618,
          722,
          681,
          728,
          825,
          704
         ]
        },
        {
         "marker": {
          "color": "rgb(71, 99, 132)"
         },
         "name": "Mestrado",
         "type": "bar",
         "uid": "dbbdff82-4572-4d91-9ebd-8869b6f6f94f",
         "x": [
          2009,
          2010,
          2011,
          2012,
          2013,
          2014,
          2015,
          2016,
          2017
         ],
         "y": [
          1784,
          1895,
          1931,
          1989,
          2103,
          2303,
          2225,
          2742,
          2545
         ]
        },
        {
         "marker": {
          "color": "rgb(128, 122, 249)"
         },
         "name": "Graduação",
         "type": "bar",
         "uid": "5f22f505-39e8-47ea-9985-f536da8f8be5",
         "x": [
          2009,
          2010,
          2011,
          2012,
          2013,
          2014,
          2015,
          2016,
          2017
         ],
         "y": [
          7507,
          8884,
          8352,
          10250,
          8713,
          9273,
          7668,
          8234,
          9540
         ]
        },
        {
         "marker": {
          "color": "rgb(111, 21, 124)"
         },
         "name": "Técnico",
         "type": "bar",
         "uid": "87e2fc5e-fd22-4b97-9c26-584d91a9be99",
         "x": [
          2009,
          2010,
          2011,
          2012,
          2013,
          2014,
          2015,
          2016,
          2017
         ],
         "y": [
          326,
          1662,
          778,
          2019,
          3702,
          4181,
          4914,
          2490,
          7179
         ]
        }
       ],
       "layout": {
        "font": {
         "size": 18
        },
        "title": {
         "text": "Ingressos por ano em diferentes níveis de ensino"
        },
        "xaxis": {
         "title": {
          "text": "Ano"
         }
        },
        "yaxis": {
         "title": {
          "text": "Quantidade de ingressos"
         }
        }
       }
      },
      "text/html": [
       "<div id=\"2f004940-cecd-4cf8-944b-8ff2a0fdff0a\" style=\"height: 525px; width: 100%;\" class=\"plotly-graph-div\"></div><script type=\"text/javascript\">require([\"plotly\"], function(Plotly) { window.PLOTLYENV=window.PLOTLYENV || {};window.PLOTLYENV.BASE_URL=\"https://plot.ly\";\n",
       "if (document.getElementById(\"2f004940-cecd-4cf8-944b-8ff2a0fdff0a\")) {\n",
       "    Plotly.newPlot(\"2f004940-cecd-4cf8-944b-8ff2a0fdff0a\", [{\"marker\": {\"color\": \"rgb(42, 169, 201)\"}, \"name\": \"Doutorado\", \"x\": [2009, 2010, 2011, 2012, 2013, 2014, 2015, 2016, 2017], \"y\": [456.0, 629.0, 616.0, 618.0, 722.0, 681.0, 728.0, 825.0, 704.0], \"type\": \"bar\", \"uid\": \"568bcf8f-acf9-4d9f-b59b-499d8d867bf5\"}, {\"marker\": {\"color\": \"rgb(71, 99, 132)\"}, \"name\": \"Mestrado\", \"x\": [2009, 2010, 2011, 2012, 2013, 2014, 2015, 2016, 2017], \"y\": [1784.0, 1895.0, 1931.0, 1989.0, 2103.0, 2303.0, 2225.0, 2742.0, 2545.0], \"type\": \"bar\", \"uid\": \"dbbdff82-4572-4d91-9ebd-8869b6f6f94f\"}, {\"marker\": {\"color\": \"rgb(128, 122, 249)\"}, \"name\": \"Gradua\\u00e7\\u00e3o\", \"x\": [2009, 2010, 2011, 2012, 2013, 2014, 2015, 2016, 2017], \"y\": [7507.0, 8884.0, 8352.0, 10250.0, 8713.0, 9273.0, 7668.0, 8234.0, 9540.0], \"type\": \"bar\", \"uid\": \"5f22f505-39e8-47ea-9985-f536da8f8be5\"}, {\"marker\": {\"color\": \"rgb(111, 21, 124)\"}, \"name\": \"T\\u00e9cnico\", \"x\": [2009, 2010, 2011, 2012, 2013, 2014, 2015, 2016, 2017], \"y\": [326.0, 1662.0, 778.0, 2019.0, 3702.0, 4181.0, 4914.0, 2490.0, 7179.0], \"type\": \"bar\", \"uid\": \"87e2fc5e-fd22-4b97-9c26-584d91a9be99\"}], {\"font\": {\"size\": 18}, \"title\": {\"text\": \"Ingressos por ano em diferentes n\\u00edveis de ensino\"}, \"xaxis\": {\"title\": {\"text\": \"Ano\"}}, \"yaxis\": {\"title\": {\"text\": \"Quantidade de ingressos\"}}}, {\"showLink\": false, \"linkText\": \"Export to plot.ly\", \"plotlyServerURL\": \"https://plot.ly\"}); \n",
       "}\n",
       "});</script><script type=\"text/javascript\">window.addEventListener(\"resize\", function(){if (document.getElementById(\"2f004940-cecd-4cf8-944b-8ff2a0fdff0a\")) {window._Plotly.Plots.resize(document.getElementById(\"2f004940-cecd-4cf8-944b-8ff2a0fdff0a\"));};})</script>"
      ],
      "text/vnd.plotly.v1+html": [
       "<div id=\"2f004940-cecd-4cf8-944b-8ff2a0fdff0a\" style=\"height: 525px; width: 100%;\" class=\"plotly-graph-div\"></div><script type=\"text/javascript\">require([\"plotly\"], function(Plotly) { window.PLOTLYENV=window.PLOTLYENV || {};window.PLOTLYENV.BASE_URL=\"https://plot.ly\";\n",
       "if (document.getElementById(\"2f004940-cecd-4cf8-944b-8ff2a0fdff0a\")) {\n",
       "    Plotly.newPlot(\"2f004940-cecd-4cf8-944b-8ff2a0fdff0a\", [{\"marker\": {\"color\": \"rgb(42, 169, 201)\"}, \"name\": \"Doutorado\", \"x\": [2009, 2010, 2011, 2012, 2013, 2014, 2015, 2016, 2017], \"y\": [456.0, 629.0, 616.0, 618.0, 722.0, 681.0, 728.0, 825.0, 704.0], \"type\": \"bar\", \"uid\": \"568bcf8f-acf9-4d9f-b59b-499d8d867bf5\"}, {\"marker\": {\"color\": \"rgb(71, 99, 132)\"}, \"name\": \"Mestrado\", \"x\": [2009, 2010, 2011, 2012, 2013, 2014, 2015, 2016, 2017], \"y\": [1784.0, 1895.0, 1931.0, 1989.0, 2103.0, 2303.0, 2225.0, 2742.0, 2545.0], \"type\": \"bar\", \"uid\": \"dbbdff82-4572-4d91-9ebd-8869b6f6f94f\"}, {\"marker\": {\"color\": \"rgb(128, 122, 249)\"}, \"name\": \"Gradua\\u00e7\\u00e3o\", \"x\": [2009, 2010, 2011, 2012, 2013, 2014, 2015, 2016, 2017], \"y\": [7507.0, 8884.0, 8352.0, 10250.0, 8713.0, 9273.0, 7668.0, 8234.0, 9540.0], \"type\": \"bar\", \"uid\": \"5f22f505-39e8-47ea-9985-f536da8f8be5\"}, {\"marker\": {\"color\": \"rgb(111, 21, 124)\"}, \"name\": \"T\\u00e9cnico\", \"x\": [2009, 2010, 2011, 2012, 2013, 2014, 2015, 2016, 2017], \"y\": [326.0, 1662.0, 778.0, 2019.0, 3702.0, 4181.0, 4914.0, 2490.0, 7179.0], \"type\": \"bar\", \"uid\": \"87e2fc5e-fd22-4b97-9c26-584d91a9be99\"}], {\"font\": {\"size\": 18}, \"title\": {\"text\": \"Ingressos por ano em diferentes n\\u00edveis de ensino\"}, \"xaxis\": {\"title\": {\"text\": \"Ano\"}}, \"yaxis\": {\"title\": {\"text\": \"Quantidade de ingressos\"}}}, {\"showLink\": false, \"linkText\": \"Export to plot.ly\", \"plotlyServerURL\": \"https://plot.ly\"}); \n",
       "}\n",
       "});</script><script type=\"text/javascript\">window.addEventListener(\"resize\", function(){if (document.getElementById(\"2f004940-cecd-4cf8-944b-8ff2a0fdff0a\")) {window._Plotly.Plots.resize(document.getElementById(\"2f004940-cecd-4cf8-944b-8ff2a0fdff0a\"));};})</script>"
      ]
     },
     "metadata": {},
     "output_type": "display_data"
    }
   ],
   "source": [
    "doutorado_quantidade_bar = go.Bar(x=ingresso_nivel_ensino.index,y=ingresso_nivel_ensino.DOUTORADO,name='Doutorado',\n",
    "                  marker=dict(color='rgb(42, 169, 201)'))\n",
    "graduacao_quantidade_bar = go.Bar(x=ingresso_nivel_ensino.index,y=ingresso_nivel_ensino.GRADUAÇÃO,name='Graduação',\n",
    "                  marker=dict(color='rgb(128, 122, 249)'))\n",
    "mestrado_quantidade_bar = go.Bar(x=ingresso_nivel_ensino.index,y=ingresso_nivel_ensino.MESTRADO,name='Mestrado',\n",
    "                 marker=dict(color='rgb(71, 99, 132)'))\n",
    "tecnico_quantidade_bar = go.Bar(x=ingresso_nivel_ensino.index,y=ingresso_nivel_ensino.TÉCNICO,name='Técnico',\n",
    "                marker=dict(color='rgb(111, 21, 124)'))\n",
    "\n",
    "data_quantidade_bar = [doutorado_quantidade_bar,mestrado_quantidade_bar,graduacao_quantidade_bar,tecnico_quantidade_bar]\n",
    "\n",
    "layout_quantidade_bar = go.Layout(title=\"Ingressos por ano em diferentes níveis de ensino\",\n",
    "        font={'size':18},\n",
    "        xaxis=dict(title='Ano'),\n",
    "        yaxis=dict(title='Quantidade de ingressos')\n",
    "    )\n",
    "\n",
    "fig_quantidade_bar = go.Figure(data=data_quantidade_bar,layout=layout_quantidade_bar)\n",
    "offline.iplot(fig_quantidade_bar)"
   ]
  },
  {
   "cell_type": "code",
   "execution_count": 391,
   "metadata": {},
   "outputs": [
    {
     "data": {
      "application/vnd.plotly.v1+json": {
       "config": {
        "linkText": "Export to plot.ly",
        "plotlyServerURL": "https://plot.ly",
        "showLink": false
       },
       "data": [
        {
         "marker": {
          "color": "rgb(36, 84, 160)"
         },
         "name": "Ativo",
         "type": "bar",
         "uid": "d24e28a9-b2b7-418e-96d4-685029a4f440",
         "x": [
          2009,
          2010,
          2011,
          2012,
          2013,
          2014,
          2015,
          2016,
          2017
         ],
         "y": [
          1,
          0,
          0,
          1,
          4,
          53,
          331,
          497,
          529
         ]
        },
        {
         "marker": {
          "color": "rgb(204, 91, 71)"
         },
         "name": "Cancelado",
         "type": "bar",
         "uid": "d1d9a331-7dbe-4d90-8542-bd55c5d33cad",
         "x": [
          2009,
          2010,
          2011,
          2012,
          2013,
          2014,
          2015,
          2016,
          2017
         ],
         "y": [
          214,
          289,
          286,
          312,
          319,
          265,
          277,
          298,
          167
         ]
        },
        {
         "marker": {
          "color": "rgb(22, 112, 59)"
         },
         "name": "Concluído",
         "type": "bar",
         "uid": "aad4fad8-948b-4a8e-9b26-ef214c827f6d",
         "x": [
          2009,
          2010,
          2011,
          2012,
          2013,
          2014,
          2015,
          2016,
          2017
         ],
         "y": [
          237,
          330,
          323,
          296,
          378,
          305,
          80,
          18,
          7
         ]
        },
        {
         "marker": {
          "color": "rgb(110, 78, 183)"
         },
         "name": "Defendido",
         "type": "bar",
         "uid": "a9ac2f9b-7776-4770-86af-45fd43701f59",
         "x": [
          2009,
          2010,
          2011,
          2012,
          2013,
          2014,
          2015,
          2016,
          2017
         ],
         "y": [
          3,
          9,
          5,
          9,
          20,
          57,
          38,
          11,
          1
         ]
        },
        {
         "marker": {
          "color": "rgb(206, 138, 138)"
         },
         "name": "Em homologação",
         "type": "bar",
         "uid": "b152d40a-93d2-4a36-8825-b0ff7949532a",
         "x": [
          2009,
          2010,
          2011,
          2012,
          2013,
          2014,
          2015,
          2016,
          2017
         ],
         "y": [
          0,
          0,
          0,
          0,
          0,
          0,
          1,
          0,
          0
         ]
        },
        {
         "marker": {
          "color": "rgb(135, 40, 40)"
         },
         "name": "Trancado",
         "type": "bar",
         "uid": "62ad7ddb-189a-4d90-83f5-40e175167f39",
         "x": [
          2009,
          2010,
          2011,
          2012,
          2013,
          2014,
          2015,
          2016,
          2017
         ],
         "y": [
          1,
          1,
          2,
          0,
          1,
          1,
          1,
          1,
          0
         ]
        }
       ],
       "layout": {
        "barmode": "stack",
        "barnorm": "percent",
        "font": {
         "size": 15
        },
        "height": 800,
        "title": {
         "text": "Porcentagem dos status dos alunos de doutorado (2009-2017)"
        },
        "width": 600,
        "yaxis": {
         "ticksuffix": "%"
        }
       }
      },
      "text/html": [
       "<div id=\"ba0ef085-6ed0-419c-b8d4-c04ebd51424b\" style=\"height: 800px; width: 600px;\" class=\"plotly-graph-div\"></div><script type=\"text/javascript\">require([\"plotly\"], function(Plotly) { window.PLOTLYENV=window.PLOTLYENV || {};window.PLOTLYENV.BASE_URL=\"https://plot.ly\";\n",
       "if (document.getElementById(\"ba0ef085-6ed0-419c-b8d4-c04ebd51424b\")) {\n",
       "    Plotly.newPlot(\"ba0ef085-6ed0-419c-b8d4-c04ebd51424b\", [{\"marker\": {\"color\": \"rgb(36, 84, 160)\"}, \"name\": \"Ativo\", \"x\": [2009, 2010, 2011, 2012, 2013, 2014, 2015, 2016, 2017], \"y\": [1.0, 0.0, 0.0, 1.0, 4.0, 53.0, 331.0, 497.0, 529.0], \"type\": \"bar\", \"uid\": \"d24e28a9-b2b7-418e-96d4-685029a4f440\"}, {\"marker\": {\"color\": \"rgb(204, 91, 71)\"}, \"name\": \"Cancelado\", \"x\": [2009, 2010, 2011, 2012, 2013, 2014, 2015, 2016, 2017], \"y\": [214.0, 289.0, 286.0, 312.0, 319.0, 265.0, 277.0, 298.0, 167.0], \"type\": \"bar\", \"uid\": \"d1d9a331-7dbe-4d90-8542-bd55c5d33cad\"}, {\"marker\": {\"color\": \"rgb(22, 112, 59)\"}, \"name\": \"Conclu\\u00eddo\", \"x\": [2009, 2010, 2011, 2012, 2013, 2014, 2015, 2016, 2017], \"y\": [237.0, 330.0, 323.0, 296.0, 378.0, 305.0, 80.0, 18.0, 7.0], \"type\": \"bar\", \"uid\": \"aad4fad8-948b-4a8e-9b26-ef214c827f6d\"}, {\"marker\": {\"color\": \"rgb(110, 78, 183)\"}, \"name\": \"Defendido\", \"x\": [2009, 2010, 2011, 2012, 2013, 2014, 2015, 2016, 2017], \"y\": [3.0, 9.0, 5.0, 9.0, 20.0, 57.0, 38.0, 11.0, 1.0], \"type\": \"bar\", \"uid\": \"a9ac2f9b-7776-4770-86af-45fd43701f59\"}, {\"marker\": {\"color\": \"rgb(206, 138, 138)\"}, \"name\": \"Em homologa\\u00e7\\u00e3o\", \"x\": [2009, 2010, 2011, 2012, 2013, 2014, 2015, 2016, 2017], \"y\": [0.0, 0.0, 0.0, 0.0, 0.0, 0.0, 1.0, 0.0, 0.0], \"type\": \"bar\", \"uid\": \"b152d40a-93d2-4a36-8825-b0ff7949532a\"}, {\"marker\": {\"color\": \"rgb(135, 40, 40)\"}, \"name\": \"Trancado\", \"x\": [2009, 2010, 2011, 2012, 2013, 2014, 2015, 2016, 2017], \"y\": [1.0, 1.0, 2.0, 0.0, 1.0, 1.0, 1.0, 1.0, 0.0], \"type\": \"bar\", \"uid\": \"62ad7ddb-189a-4d90-83f5-40e175167f39\"}], {\"barmode\": \"stack\", \"barnorm\": \"percent\", \"font\": {\"size\": 15}, \"height\": 800, \"title\": {\"text\": \"Porcentagem dos status dos alunos de doutorado (2009-2017)\"}, \"width\": 600, \"yaxis\": {\"ticksuffix\": \"%\"}}, {\"showLink\": false, \"linkText\": \"Export to plot.ly\", \"plotlyServerURL\": \"https://plot.ly\"}); \n",
       "}\n",
       "});</script>"
      ],
      "text/vnd.plotly.v1+html": [
       "<div id=\"ba0ef085-6ed0-419c-b8d4-c04ebd51424b\" style=\"height: 800px; width: 600px;\" class=\"plotly-graph-div\"></div><script type=\"text/javascript\">require([\"plotly\"], function(Plotly) { window.PLOTLYENV=window.PLOTLYENV || {};window.PLOTLYENV.BASE_URL=\"https://plot.ly\";\n",
       "if (document.getElementById(\"ba0ef085-6ed0-419c-b8d4-c04ebd51424b\")) {\n",
       "    Plotly.newPlot(\"ba0ef085-6ed0-419c-b8d4-c04ebd51424b\", [{\"marker\": {\"color\": \"rgb(36, 84, 160)\"}, \"name\": \"Ativo\", \"x\": [2009, 2010, 2011, 2012, 2013, 2014, 2015, 2016, 2017], \"y\": [1.0, 0.0, 0.0, 1.0, 4.0, 53.0, 331.0, 497.0, 529.0], \"type\": \"bar\", \"uid\": \"d24e28a9-b2b7-418e-96d4-685029a4f440\"}, {\"marker\": {\"color\": \"rgb(204, 91, 71)\"}, \"name\": \"Cancelado\", \"x\": [2009, 2010, 2011, 2012, 2013, 2014, 2015, 2016, 2017], \"y\": [214.0, 289.0, 286.0, 312.0, 319.0, 265.0, 277.0, 298.0, 167.0], \"type\": \"bar\", \"uid\": \"d1d9a331-7dbe-4d90-8542-bd55c5d33cad\"}, {\"marker\": {\"color\": \"rgb(22, 112, 59)\"}, \"name\": \"Conclu\\u00eddo\", \"x\": [2009, 2010, 2011, 2012, 2013, 2014, 2015, 2016, 2017], \"y\": [237.0, 330.0, 323.0, 296.0, 378.0, 305.0, 80.0, 18.0, 7.0], \"type\": \"bar\", \"uid\": \"aad4fad8-948b-4a8e-9b26-ef214c827f6d\"}, {\"marker\": {\"color\": \"rgb(110, 78, 183)\"}, \"name\": \"Defendido\", \"x\": [2009, 2010, 2011, 2012, 2013, 2014, 2015, 2016, 2017], \"y\": [3.0, 9.0, 5.0, 9.0, 20.0, 57.0, 38.0, 11.0, 1.0], \"type\": \"bar\", \"uid\": \"a9ac2f9b-7776-4770-86af-45fd43701f59\"}, {\"marker\": {\"color\": \"rgb(206, 138, 138)\"}, \"name\": \"Em homologa\\u00e7\\u00e3o\", \"x\": [2009, 2010, 2011, 2012, 2013, 2014, 2015, 2016, 2017], \"y\": [0.0, 0.0, 0.0, 0.0, 0.0, 0.0, 1.0, 0.0, 0.0], \"type\": \"bar\", \"uid\": \"b152d40a-93d2-4a36-8825-b0ff7949532a\"}, {\"marker\": {\"color\": \"rgb(135, 40, 40)\"}, \"name\": \"Trancado\", \"x\": [2009, 2010, 2011, 2012, 2013, 2014, 2015, 2016, 2017], \"y\": [1.0, 1.0, 2.0, 0.0, 1.0, 1.0, 1.0, 1.0, 0.0], \"type\": \"bar\", \"uid\": \"62ad7ddb-189a-4d90-83f5-40e175167f39\"}], {\"barmode\": \"stack\", \"barnorm\": \"percent\", \"font\": {\"size\": 15}, \"height\": 800, \"title\": {\"text\": \"Porcentagem dos status dos alunos de doutorado (2009-2017)\"}, \"width\": 600, \"yaxis\": {\"ticksuffix\": \"%\"}}, {\"showLink\": false, \"linkText\": \"Export to plot.ly\", \"plotlyServerURL\": \"https://plot.ly\"}); \n",
       "}\n",
       "});</script>"
      ]
     },
     "metadata": {},
     "output_type": "display_data"
    }
   ],
   "source": [
    "### doutorado\n",
    "doutorado_status = discentes[discentes.nivel_ensino == 'DOUTORADO'][['ano_ingresso','status']].groupby(['ano_ingresso','status']).apply(lambda x: len(x))\n",
    "doutorado_status = pd.DataFrame(doutorado_status,columns=['count']).unstack(level=0).fillna(0)\n",
    "doutorado_status.columns = doutorado_status.columns.droplevel(level=0)\n",
    "doutorado_status = doutorado_status.T\n",
    "doutorado_status = doutorado_status.rename(columns={'EM HOMOLOGAÇÃO':'HOMOLOGAÇÃO'})\n",
    "\n",
    "data_tecnico_status = [\n",
    "    go.Bar(x=doutorado_status.index,y=doutorado_status.ATIVO,name='Ativo',marker=dict(color='rgb(36, 84, 160)')),\n",
    "    go.Bar(x=doutorado_status.index,y=doutorado_status.CANCELADO,name='Cancelado',marker=dict(color='rgb(204, 91, 71)')),\n",
    "    go.Bar(x=doutorado_status.index,y=doutorado_status.CONCLUÍDO,name='Concluído',marker=dict(color='rgb(22, 112, 59)')),\n",
    "    go.Bar(x=doutorado_status.index,y=doutorado_status.DEFENDIDO,name='Defendido',marker=dict(color='rgb(110, 78, 183)')),\n",
    "    go.Bar(x=doutorado_status.index,y=doutorado_status.HOMOLOGAÇÃO,name='Em homologação',marker=dict(color='rgb(206, 138, 138)')),\n",
    "    go.Bar(x=doutorado_status.index,y=doutorado_status.TRANCADO,name='Trancado',marker=dict(color='rgb(135, 40, 40)'))\n",
    "]\n",
    "\n",
    "fig_tecnico_status = go.Figure(data=data_tecnico_status,\n",
    "                               layout=go.Layout(barmode='stack',\n",
    "                                                barnorm='percent',\n",
    "                                                height=800,\n",
    "                                                width=600,\n",
    "                                                font={'size':15},\n",
    "                                                yaxis=dict(ticksuffix='%'),\n",
    "                                                title='Porcentagem dos status dos alunos de doutorado (2009-2017)'\n",
    "                                               ))\n",
    "offline.iplot(fig_tecnico_status)"
   ]
  },
  {
   "cell_type": "code",
   "execution_count": 392,
   "metadata": {},
   "outputs": [
    {
     "data": {
      "application/vnd.plotly.v1+json": {
       "config": {
        "linkText": "Export to plot.ly",
        "plotlyServerURL": "https://plot.ly",
        "showLink": false
       },
       "data": [
        {
         "marker": {
          "color": "rgb(36, 84, 160)"
         },
         "name": "Ativo",
         "type": "bar",
         "uid": "0e5b8b92-3c0d-4c44-987d-ba95da8f7673",
         "x": [
          2009,
          2010,
          2011,
          2012,
          2013,
          2014,
          2015,
          2016,
          2017
         ],
         "y": [
          0,
          0,
          3,
          0,
          5,
          3,
          2,
          54,
          1362
         ]
        },
        {
         "marker": {
          "color": "rgb(204, 91, 71)"
         },
         "name": "Cancelado",
         "type": "bar",
         "uid": "5e189c2c-38fa-445d-ba72-c0f33e5d8278",
         "x": [
          2009,
          2010,
          2011,
          2012,
          2013,
          2014,
          2015,
          2016,
          2017
         ],
         "y": [
          1111,
          1168,
          1069,
          1127,
          1122,
          1184,
          1216,
          1534,
          848
         ]
        },
        {
         "marker": {
          "color": "rgb(22, 112, 59)"
         },
         "name": "Concluído",
         "type": "bar",
         "uid": "c061495e-9c8e-47ad-b05e-e0fa8457367e",
         "x": [
          2009,
          2010,
          2011,
          2012,
          2013,
          2014,
          2015,
          2016,
          2017
         ],
         "y": [
          663,
          713,
          837,
          831,
          935,
          1063,
          951,
          954,
          136
         ]
        },
        {
         "marker": {
          "color": "rgb(110, 78, 183)"
         },
         "name": "Defendido",
         "type": "bar",
         "uid": "1e906342-8659-4ae6-864e-9b9fca99b79f",
         "x": [
          2009,
          2010,
          2011,
          2012,
          2013,
          2014,
          2015,
          2016,
          2017
         ],
         "y": [
          9,
          14,
          22,
          30,
          38,
          52,
          53,
          198,
          198
         ]
        },
        {
         "marker": {
          "color": "rgb(135, 40, 40)"
         },
         "name": "Trancado",
         "type": "bar",
         "uid": "eb70c03b-79e6-4f24-a645-c87e2424455a",
         "x": [
          2009,
          2010,
          2011,
          2012,
          2013,
          2014,
          2015,
          2016,
          2017
         ],
         "y": [
          1,
          0,
          0,
          1,
          3,
          1,
          3,
          2,
          1
         ]
        }
       ],
       "layout": {
        "barmode": "stack",
        "barnorm": "percent",
        "font": {
         "size": 15
        },
        "height": 800,
        "title": {
         "text": "Porcentagem dos status dos alunos de mestrado (2009-2017)"
        },
        "width": 600,
        "yaxis": {
         "ticksuffix": "%"
        }
       }
      },
      "text/html": [
       "<div id=\"39aadc5d-1072-4fa8-861a-f400822b89bc\" style=\"height: 800px; width: 600px;\" class=\"plotly-graph-div\"></div><script type=\"text/javascript\">require([\"plotly\"], function(Plotly) { window.PLOTLYENV=window.PLOTLYENV || {};window.PLOTLYENV.BASE_URL=\"https://plot.ly\";\n",
       "if (document.getElementById(\"39aadc5d-1072-4fa8-861a-f400822b89bc\")) {\n",
       "    Plotly.newPlot(\"39aadc5d-1072-4fa8-861a-f400822b89bc\", [{\"marker\": {\"color\": \"rgb(36, 84, 160)\"}, \"name\": \"Ativo\", \"x\": [2009, 2010, 2011, 2012, 2013, 2014, 2015, 2016, 2017], \"y\": [0.0, 0.0, 3.0, 0.0, 5.0, 3.0, 2.0, 54.0, 1362.0], \"type\": \"bar\", \"uid\": \"0e5b8b92-3c0d-4c44-987d-ba95da8f7673\"}, {\"marker\": {\"color\": \"rgb(204, 91, 71)\"}, \"name\": \"Cancelado\", \"x\": [2009, 2010, 2011, 2012, 2013, 2014, 2015, 2016, 2017], \"y\": [1111.0, 1168.0, 1069.0, 1127.0, 1122.0, 1184.0, 1216.0, 1534.0, 848.0], \"type\": \"bar\", \"uid\": \"5e189c2c-38fa-445d-ba72-c0f33e5d8278\"}, {\"marker\": {\"color\": \"rgb(22, 112, 59)\"}, \"name\": \"Conclu\\u00eddo\", \"x\": [2009, 2010, 2011, 2012, 2013, 2014, 2015, 2016, 2017], \"y\": [663.0, 713.0, 837.0, 831.0, 935.0, 1063.0, 951.0, 954.0, 136.0], \"type\": \"bar\", \"uid\": \"c061495e-9c8e-47ad-b05e-e0fa8457367e\"}, {\"marker\": {\"color\": \"rgb(110, 78, 183)\"}, \"name\": \"Defendido\", \"x\": [2009, 2010, 2011, 2012, 2013, 2014, 2015, 2016, 2017], \"y\": [9.0, 14.0, 22.0, 30.0, 38.0, 52.0, 53.0, 198.0, 198.0], \"type\": \"bar\", \"uid\": \"1e906342-8659-4ae6-864e-9b9fca99b79f\"}, {\"marker\": {\"color\": \"rgb(135, 40, 40)\"}, \"name\": \"Trancado\", \"x\": [2009, 2010, 2011, 2012, 2013, 2014, 2015, 2016, 2017], \"y\": [1.0, 0.0, 0.0, 1.0, 3.0, 1.0, 3.0, 2.0, 1.0], \"type\": \"bar\", \"uid\": \"eb70c03b-79e6-4f24-a645-c87e2424455a\"}], {\"barmode\": \"stack\", \"barnorm\": \"percent\", \"font\": {\"size\": 15}, \"height\": 800, \"title\": {\"text\": \"Porcentagem dos status dos alunos de mestrado (2009-2017)\"}, \"width\": 600, \"yaxis\": {\"ticksuffix\": \"%\"}}, {\"showLink\": false, \"linkText\": \"Export to plot.ly\", \"plotlyServerURL\": \"https://plot.ly\"}); \n",
       "}\n",
       "});</script>"
      ],
      "text/vnd.plotly.v1+html": [
       "<div id=\"39aadc5d-1072-4fa8-861a-f400822b89bc\" style=\"height: 800px; width: 600px;\" class=\"plotly-graph-div\"></div><script type=\"text/javascript\">require([\"plotly\"], function(Plotly) { window.PLOTLYENV=window.PLOTLYENV || {};window.PLOTLYENV.BASE_URL=\"https://plot.ly\";\n",
       "if (document.getElementById(\"39aadc5d-1072-4fa8-861a-f400822b89bc\")) {\n",
       "    Plotly.newPlot(\"39aadc5d-1072-4fa8-861a-f400822b89bc\", [{\"marker\": {\"color\": \"rgb(36, 84, 160)\"}, \"name\": \"Ativo\", \"x\": [2009, 2010, 2011, 2012, 2013, 2014, 2015, 2016, 2017], \"y\": [0.0, 0.0, 3.0, 0.0, 5.0, 3.0, 2.0, 54.0, 1362.0], \"type\": \"bar\", \"uid\": \"0e5b8b92-3c0d-4c44-987d-ba95da8f7673\"}, {\"marker\": {\"color\": \"rgb(204, 91, 71)\"}, \"name\": \"Cancelado\", \"x\": [2009, 2010, 2011, 2012, 2013, 2014, 2015, 2016, 2017], \"y\": [1111.0, 1168.0, 1069.0, 1127.0, 1122.0, 1184.0, 1216.0, 1534.0, 848.0], \"type\": \"bar\", \"uid\": \"5e189c2c-38fa-445d-ba72-c0f33e5d8278\"}, {\"marker\": {\"color\": \"rgb(22, 112, 59)\"}, \"name\": \"Conclu\\u00eddo\", \"x\": [2009, 2010, 2011, 2012, 2013, 2014, 2015, 2016, 2017], \"y\": [663.0, 713.0, 837.0, 831.0, 935.0, 1063.0, 951.0, 954.0, 136.0], \"type\": \"bar\", \"uid\": \"c061495e-9c8e-47ad-b05e-e0fa8457367e\"}, {\"marker\": {\"color\": \"rgb(110, 78, 183)\"}, \"name\": \"Defendido\", \"x\": [2009, 2010, 2011, 2012, 2013, 2014, 2015, 2016, 2017], \"y\": [9.0, 14.0, 22.0, 30.0, 38.0, 52.0, 53.0, 198.0, 198.0], \"type\": \"bar\", \"uid\": \"1e906342-8659-4ae6-864e-9b9fca99b79f\"}, {\"marker\": {\"color\": \"rgb(135, 40, 40)\"}, \"name\": \"Trancado\", \"x\": [2009, 2010, 2011, 2012, 2013, 2014, 2015, 2016, 2017], \"y\": [1.0, 0.0, 0.0, 1.0, 3.0, 1.0, 3.0, 2.0, 1.0], \"type\": \"bar\", \"uid\": \"eb70c03b-79e6-4f24-a645-c87e2424455a\"}], {\"barmode\": \"stack\", \"barnorm\": \"percent\", \"font\": {\"size\": 15}, \"height\": 800, \"title\": {\"text\": \"Porcentagem dos status dos alunos de mestrado (2009-2017)\"}, \"width\": 600, \"yaxis\": {\"ticksuffix\": \"%\"}}, {\"showLink\": false, \"linkText\": \"Export to plot.ly\", \"plotlyServerURL\": \"https://plot.ly\"}); \n",
       "}\n",
       "});</script>"
      ]
     },
     "metadata": {},
     "output_type": "display_data"
    }
   ],
   "source": [
    "### mestrado\n",
    "mestrado_status = discentes[discentes.nivel_ensino == 'MESTRADO'][['ano_ingresso','status']].groupby(['ano_ingresso','status']).apply(lambda x: len(x))\n",
    "mestrado_status = pd.DataFrame(mestrado_status,columns=['count']).unstack(level=0).fillna(0)\n",
    "mestrado_status.columns = mestrado_status.columns.droplevel(level=0)\n",
    "mestrado_status = mestrado_status.T\n",
    "\n",
    "data_tecnico_status = [\n",
    "    go.Bar(x=mestrado_status.index,y=mestrado_status.ATIVO,name='Ativo',marker=dict(color='rgb(36, 84, 160)')),\n",
    "    go.Bar(x=mestrado_status.index,y=mestrado_status.CANCELADO,name='Cancelado',marker=dict(color='rgb(204, 91, 71)')),\n",
    "    go.Bar(x=mestrado_status.index,y=mestrado_status.CONCLUÍDO,name='Concluído',marker=dict(color='rgb(22, 112, 59)')),\n",
    "    go.Bar(x=mestrado_status.index,y=mestrado_status.DEFENDIDO,name='Defendido',marker=dict(color='rgb(110, 78, 183)')),\n",
    "    go.Bar(x=mestrado_status.index,y=mestrado_status.TRANCADO,name='Trancado',marker=dict(color='rgb(135, 40, 40)')),\n",
    "]\n",
    "\n",
    "fig_tecnico_status = go.Figure(data=data_tecnico_status,\n",
    "                               layout=go.Layout(barmode='stack',\n",
    "                                                barnorm='percent',\n",
    "                                                height=800,\n",
    "                                                width=600,\n",
    "                                                font={'size':15},\n",
    "                                                yaxis=dict(ticksuffix='%'),\n",
    "                                                title='Porcentagem dos status dos alunos de mestrado (2009-2017)'\n",
    "                                               ))\n",
    "offline.iplot(fig_tecnico_status)"
   ]
  },
  {
   "cell_type": "code",
   "execution_count": 398,
   "metadata": {},
   "outputs": [
    {
     "data": {
      "application/vnd.plotly.v1+json": {
       "config": {
        "linkText": "Export to plot.ly",
        "plotlyServerURL": "https://plot.ly",
        "showLink": false
       },
       "data": [
        {
         "marker": {
          "color": "rgb(36, 84, 160)"
         },
         "name": "Ativo",
         "type": "bar",
         "uid": "83527e16-20d8-4aa4-8b0e-b35c8a6eb061",
         "x": [
          2009,
          2010,
          2011,
          2012,
          2013,
          2014,
          2015,
          2016,
          2017
         ],
         "y": [
          19,
          122,
          242,
          385,
          617,
          1521,
          2961,
          4424,
          6210
         ]
        },
        {
         "marker": {
          "color": "rgb(115, 28, 165)"
         },
         "name": "Formando",
         "type": "bar",
         "uid": "866bead7-1ebc-4b8e-8f82-c404b1c8f2ba",
         "x": [
          2009,
          2010,
          2011,
          2012,
          2013,
          2014,
          2015,
          2016,
          2017
         ],
         "y": [
          4,
          12,
          41,
          112,
          183,
          324,
          327,
          136,
          63
         ]
        },
        {
         "marker": {
          "color": "rgb(70, 170, 133)"
         },
         "name": "Cadastrado",
         "type": "bar",
         "uid": "40c5fba3-4fdf-4d4e-b372-293b158e0e0d",
         "x": [
          2009,
          2010,
          2011,
          2012,
          2013,
          2014,
          2015,
          2016,
          2017
         ],
         "y": [
          63,
          32,
          53,
          33,
          0,
          0,
          7,
          0,
          1
         ]
        },
        {
         "marker": {
          "color": "rgb(204, 91, 71)"
         },
         "name": "Cancelado",
         "type": "bar",
         "uid": "4be4654e-db03-49cb-b547-e309a2fd086d",
         "x": [
          2009,
          2010,
          2011,
          2012,
          2013,
          2014,
          2015,
          2016,
          2017
         ],
         "y": [
          3288,
          4355,
          3811,
          4603,
          4245,
          4788,
          3187,
          2930,
          2587
         ]
        },
        {
         "marker": {
          "color": "rgb(22, 112, 59)"
         },
         "name": "Concluído",
         "type": "bar",
         "uid": "65b15518-834d-491a-8854-206dcec4527f",
         "x": [
          2009,
          2010,
          2011,
          2012,
          2013,
          2014,
          2015,
          2016,
          2017
         ],
         "y": [
          4092,
          4296,
          4151,
          5049,
          3562,
          2481,
          966,
          418,
          134
         ]
        },
        {
         "marker": {
          "color": "rgb(255, 252, 117)"
         },
         "name": "Formado",
         "type": "bar",
         "uid": "03bea308-240a-41a5-9bb7-571ed92d9f72",
         "x": [
          2009,
          2010,
          2011,
          2012,
          2013,
          2014,
          2015,
          2016,
          2017
         ],
         "y": [
          39,
          63,
          42,
          49,
          54,
          64,
          21,
          15,
          6
         ]
        },
        {
         "marker": {
          "color": "rgb(135, 40, 40)"
         },
         "name": "Trancado",
         "type": "bar",
         "uid": "cc357010-1533-4547-9e9c-5afa366e7871",
         "x": [
          2009,
          2010,
          2011,
          2012,
          2013,
          2014,
          2015,
          2016,
          2017
         ],
         "y": [
          2,
          4,
          12,
          19,
          52,
          95,
          199,
          311,
          539
         ]
        }
       ],
       "layout": {
        "barmode": "stack",
        "barnorm": "percent",
        "font": {
         "size": 15
        },
        "height": 800,
        "title": {
         "text": "Porcentagem dos status dos alunos de graduação (2009-2017)"
        },
        "width": 605,
        "yaxis": {
         "ticksuffix": "%"
        }
       }
      },
      "text/html": [
       "<div id=\"a8df1a82-e584-4005-b381-b739d72bf17d\" style=\"height: 800px; width: 605px;\" class=\"plotly-graph-div\"></div><script type=\"text/javascript\">require([\"plotly\"], function(Plotly) { window.PLOTLYENV=window.PLOTLYENV || {};window.PLOTLYENV.BASE_URL=\"https://plot.ly\";\n",
       "if (document.getElementById(\"a8df1a82-e584-4005-b381-b739d72bf17d\")) {\n",
       "    Plotly.newPlot(\"a8df1a82-e584-4005-b381-b739d72bf17d\", [{\"marker\": {\"color\": \"rgb(36, 84, 160)\"}, \"name\": \"Ativo\", \"x\": [2009, 2010, 2011, 2012, 2013, 2014, 2015, 2016, 2017], \"y\": [19.0, 122.0, 242.0, 385.0, 617.0, 1521.0, 2961.0, 4424.0, 6210.0], \"type\": \"bar\", \"uid\": \"83527e16-20d8-4aa4-8b0e-b35c8a6eb061\"}, {\"marker\": {\"color\": \"rgb(115, 28, 165)\"}, \"name\": \"Formando\", \"x\": [2009, 2010, 2011, 2012, 2013, 2014, 2015, 2016, 2017], \"y\": [4.0, 12.0, 41.0, 112.0, 183.0, 324.0, 327.0, 136.0, 63.0], \"type\": \"bar\", \"uid\": \"866bead7-1ebc-4b8e-8f82-c404b1c8f2ba\"}, {\"marker\": {\"color\": \"rgb(70, 170, 133)\"}, \"name\": \"Cadastrado\", \"x\": [2009, 2010, 2011, 2012, 2013, 2014, 2015, 2016, 2017], \"y\": [63.0, 32.0, 53.0, 33.0, 0.0, 0.0, 7.0, 0.0, 1.0], \"type\": \"bar\", \"uid\": \"40c5fba3-4fdf-4d4e-b372-293b158e0e0d\"}, {\"marker\": {\"color\": \"rgb(204, 91, 71)\"}, \"name\": \"Cancelado\", \"x\": [2009, 2010, 2011, 2012, 2013, 2014, 2015, 2016, 2017], \"y\": [3288.0, 4355.0, 3811.0, 4603.0, 4245.0, 4788.0, 3187.0, 2930.0, 2587.0], \"type\": \"bar\", \"uid\": \"4be4654e-db03-49cb-b547-e309a2fd086d\"}, {\"marker\": {\"color\": \"rgb(22, 112, 59)\"}, \"name\": \"Conclu\\u00eddo\", \"x\": [2009, 2010, 2011, 2012, 2013, 2014, 2015, 2016, 2017], \"y\": [4092.0, 4296.0, 4151.0, 5049.0, 3562.0, 2481.0, 966.0, 418.0, 134.0], \"type\": \"bar\", \"uid\": \"65b15518-834d-491a-8854-206dcec4527f\"}, {\"marker\": {\"color\": \"rgb(255, 252, 117)\"}, \"name\": \"Formado\", \"x\": [2009, 2010, 2011, 2012, 2013, 2014, 2015, 2016, 2017], \"y\": [39.0, 63.0, 42.0, 49.0, 54.0, 64.0, 21.0, 15.0, 6.0], \"type\": \"bar\", \"uid\": \"03bea308-240a-41a5-9bb7-571ed92d9f72\"}, {\"marker\": {\"color\": \"rgb(135, 40, 40)\"}, \"name\": \"Trancado\", \"x\": [2009, 2010, 2011, 2012, 2013, 2014, 2015, 2016, 2017], \"y\": [2.0, 4.0, 12.0, 19.0, 52.0, 95.0, 199.0, 311.0, 539.0], \"type\": \"bar\", \"uid\": \"cc357010-1533-4547-9e9c-5afa366e7871\"}], {\"barmode\": \"stack\", \"barnorm\": \"percent\", \"font\": {\"size\": 15}, \"height\": 800, \"title\": {\"text\": \"Porcentagem dos status dos alunos de gradua\\u00e7\\u00e3o (2009-2017)\"}, \"width\": 605, \"yaxis\": {\"ticksuffix\": \"%\"}}, {\"showLink\": false, \"linkText\": \"Export to plot.ly\", \"plotlyServerURL\": \"https://plot.ly\"}); \n",
       "}\n",
       "});</script>"
      ],
      "text/vnd.plotly.v1+html": [
       "<div id=\"a8df1a82-e584-4005-b381-b739d72bf17d\" style=\"height: 800px; width: 605px;\" class=\"plotly-graph-div\"></div><script type=\"text/javascript\">require([\"plotly\"], function(Plotly) { window.PLOTLYENV=window.PLOTLYENV || {};window.PLOTLYENV.BASE_URL=\"https://plot.ly\";\n",
       "if (document.getElementById(\"a8df1a82-e584-4005-b381-b739d72bf17d\")) {\n",
       "    Plotly.newPlot(\"a8df1a82-e584-4005-b381-b739d72bf17d\", [{\"marker\": {\"color\": \"rgb(36, 84, 160)\"}, \"name\": \"Ativo\", \"x\": [2009, 2010, 2011, 2012, 2013, 2014, 2015, 2016, 2017], \"y\": [19.0, 122.0, 242.0, 385.0, 617.0, 1521.0, 2961.0, 4424.0, 6210.0], \"type\": \"bar\", \"uid\": \"83527e16-20d8-4aa4-8b0e-b35c8a6eb061\"}, {\"marker\": {\"color\": \"rgb(115, 28, 165)\"}, \"name\": \"Formando\", \"x\": [2009, 2010, 2011, 2012, 2013, 2014, 2015, 2016, 2017], \"y\": [4.0, 12.0, 41.0, 112.0, 183.0, 324.0, 327.0, 136.0, 63.0], \"type\": \"bar\", \"uid\": \"866bead7-1ebc-4b8e-8f82-c404b1c8f2ba\"}, {\"marker\": {\"color\": \"rgb(70, 170, 133)\"}, \"name\": \"Cadastrado\", \"x\": [2009, 2010, 2011, 2012, 2013, 2014, 2015, 2016, 2017], \"y\": [63.0, 32.0, 53.0, 33.0, 0.0, 0.0, 7.0, 0.0, 1.0], \"type\": \"bar\", \"uid\": \"40c5fba3-4fdf-4d4e-b372-293b158e0e0d\"}, {\"marker\": {\"color\": \"rgb(204, 91, 71)\"}, \"name\": \"Cancelado\", \"x\": [2009, 2010, 2011, 2012, 2013, 2014, 2015, 2016, 2017], \"y\": [3288.0, 4355.0, 3811.0, 4603.0, 4245.0, 4788.0, 3187.0, 2930.0, 2587.0], \"type\": \"bar\", \"uid\": \"4be4654e-db03-49cb-b547-e309a2fd086d\"}, {\"marker\": {\"color\": \"rgb(22, 112, 59)\"}, \"name\": \"Conclu\\u00eddo\", \"x\": [2009, 2010, 2011, 2012, 2013, 2014, 2015, 2016, 2017], \"y\": [4092.0, 4296.0, 4151.0, 5049.0, 3562.0, 2481.0, 966.0, 418.0, 134.0], \"type\": \"bar\", \"uid\": \"65b15518-834d-491a-8854-206dcec4527f\"}, {\"marker\": {\"color\": \"rgb(255, 252, 117)\"}, \"name\": \"Formado\", \"x\": [2009, 2010, 2011, 2012, 2013, 2014, 2015, 2016, 2017], \"y\": [39.0, 63.0, 42.0, 49.0, 54.0, 64.0, 21.0, 15.0, 6.0], \"type\": \"bar\", \"uid\": \"03bea308-240a-41a5-9bb7-571ed92d9f72\"}, {\"marker\": {\"color\": \"rgb(135, 40, 40)\"}, \"name\": \"Trancado\", \"x\": [2009, 2010, 2011, 2012, 2013, 2014, 2015, 2016, 2017], \"y\": [2.0, 4.0, 12.0, 19.0, 52.0, 95.0, 199.0, 311.0, 539.0], \"type\": \"bar\", \"uid\": \"cc357010-1533-4547-9e9c-5afa366e7871\"}], {\"barmode\": \"stack\", \"barnorm\": \"percent\", \"font\": {\"size\": 15}, \"height\": 800, \"title\": {\"text\": \"Porcentagem dos status dos alunos de gradua\\u00e7\\u00e3o (2009-2017)\"}, \"width\": 605, \"yaxis\": {\"ticksuffix\": \"%\"}}, {\"showLink\": false, \"linkText\": \"Export to plot.ly\", \"plotlyServerURL\": \"https://plot.ly\"}); \n",
       "}\n",
       "});</script>"
      ]
     },
     "metadata": {},
     "output_type": "display_data"
    }
   ],
   "source": [
    "### graduação\n",
    "graduacao_status = discentes[discentes.nivel_ensino == 'GRADUAÇÃO'][['ano_ingresso','status']].groupby(['ano_ingresso','status']).apply(lambda x: len(x))\n",
    "graduacao_status = pd.DataFrame(graduacao_status,columns=['count']).unstack(level=0).fillna(0)\n",
    "graduacao_status.columns = graduacao_status.columns.droplevel(level=0)\n",
    "graduacao_status = graduacao_status.T\n",
    "graduacao_status = graduacao_status.rename(columns={'ATIVO - FORMANDO':'FORMANDO'})\n",
    "\n",
    "data_tecnico_status = [\n",
    "    go.Bar(x=graduacao_status.index,y=graduacao_status.ATIVO,name='Ativo',marker=dict(color='rgb(36, 84, 160)')),\n",
    "    go.Bar(x=graduacao_status.index,y=graduacao_status.FORMANDO,name='Formando',marker=dict(color='rgb(115, 28, 165)')),\n",
    "    go.Bar(x=graduacao_status.index,y=graduacao_status.CADASTRADO,name='Cadastrado',marker=dict(color='rgb(70, 170, 133)')),\n",
    "    go.Bar(x=graduacao_status.index,y=graduacao_status.CANCELADO,name='Cancelado',marker=dict(color='rgb(204, 91, 71)')),\n",
    "    go.Bar(x=graduacao_status.index,y=graduacao_status.CONCLUÍDO,name='Concluído',marker=dict(color='rgb(22, 112, 59)')),\n",
    "    go.Bar(x=graduacao_status.index,y=graduacao_status.FORMADO,name='Formado',marker=dict(color='rgb(255, 252, 117)')),\n",
    "    go.Bar(x=graduacao_status.index,y=graduacao_status.TRANCADO,name='Trancado',marker=dict(color='rgb(135, 40, 40)'))\n",
    "]\n",
    "\n",
    "fig_tecnico_status = go.Figure(data=data_tecnico_status,\n",
    "                               layout=go.Layout(barmode='stack',\n",
    "                                                barnorm='percent',\n",
    "                                                height=800,\n",
    "                                                width=605,\n",
    "                                                font={'size':15},\n",
    "                                                yaxis=dict(ticksuffix='%'),\n",
    "                                                title='Porcentagem dos status dos alunos de graduação (2009-2017)'\n",
    "                                               ))\n",
    "offline.iplot(fig_tecnico_status)"
   ]
  },
  {
   "cell_type": "code",
   "execution_count": 396,
   "metadata": {
    "scrolled": false
   },
   "outputs": [
    {
     "data": {
      "application/vnd.plotly.v1+json": {
       "config": {
        "linkText": "Export to plot.ly",
        "plotlyServerURL": "https://plot.ly",
        "showLink": false
       },
       "data": [
        {
         "marker": {
          "color": "rgb(36, 84, 160)"
         },
         "name": "Ativo",
         "type": "bar",
         "uid": "ef97cebd-b91b-4566-bef6-17ac8b0dbf5d",
         "x": [
          2009,
          2010,
          2011,
          2012,
          2013,
          2014,
          2015,
          2016,
          2017
         ],
         "y": [
          1,
          13,
          34,
          44,
          277,
          210,
          718,
          475,
          4962
         ]
        },
        {
         "marker": {
          "color": "rgb(214, 121, 14)"
         },
         "name": "Dependência",
         "type": "bar",
         "uid": "3ff23ca8-d0ee-441c-93c4-82d806901153",
         "x": [
          2009,
          2010,
          2011,
          2012,
          2013,
          2014,
          2015,
          2016,
          2017
         ],
         "y": [
          0,
          0,
          0,
          0,
          0,
          0,
          0,
          0,
          1
         ]
        },
        {
         "marker": {
          "color": "rgb(115, 28, 165)"
         },
         "name": "Formando",
         "type": "bar",
         "uid": "f3f82852-3f8b-4045-a62c-50966e7d9660",
         "x": [
          2009,
          2010,
          2011,
          2012,
          2013,
          2014,
          2015,
          2016,
          2017
         ],
         "y": [
          0,
          0,
          0,
          0,
          2,
          13,
          28,
          13,
          25
         ]
        },
        {
         "marker": {
          "color": "rgb(70, 170, 133)"
         },
         "name": "Cadastrado",
         "type": "bar",
         "uid": "d1436565-3e5f-41d2-8446-d7e20863bc65",
         "x": [
          2009,
          2010,
          2011,
          2012,
          2013,
          2014,
          2015,
          2016,
          2017
         ],
         "y": [
          0,
          0,
          0,
          0,
          0,
          39,
          40,
          47,
          60
         ]
        },
        {
         "marker": {
          "color": "rgb(204, 91, 71)"
         },
         "name": "Cancelado",
         "type": "bar",
         "uid": "955d6fe7-7b82-43f3-bd30-6ae7c12ecaf6",
         "x": [
          2009,
          2010,
          2011,
          2012,
          2013,
          2014,
          2015,
          2016,
          2017
         ],
         "y": [
          94,
          931,
          421,
          1303,
          2445,
          2513,
          2368,
          1292,
          1533
         ]
        },
        {
         "marker": {
          "color": "rgb(22, 112, 59)"
         },
         "name": "Concluído",
         "type": "bar",
         "uid": "8b46a263-2643-43e4-97af-20c9a7eaa9b1",
         "x": [
          2009,
          2010,
          2011,
          2012,
          2013,
          2014,
          2015,
          2016,
          2017
         ],
         "y": [
          211,
          696,
          323,
          559,
          902,
          1405,
          1339,
          497,
          585
         ]
        },
        {
         "marker": {
          "color": "rgb(255, 252, 117)"
         },
         "name": "Formado",
         "type": "bar",
         "uid": "94837828-5dff-4c48-b93e-24fbbac6ae16",
         "x": [
          2009,
          2010,
          2011,
          2012,
          2013,
          2014,
          2015,
          2016,
          2017
         ],
         "y": [
          0,
          0,
          0,
          3,
          6,
          0,
          394,
          160,
          1
         ]
        },
        {
         "marker": {
          "color": "rgb(135, 40, 40)"
         },
         "name": "Trancado",
         "type": "bar",
         "uid": "d312520f-34f0-445e-badf-2b9dfe7061a2",
         "x": [
          2009,
          2010,
          2011,
          2012,
          2013,
          2014,
          2015,
          2016,
          2017
         ],
         "y": [
          20,
          22,
          0,
          110,
          70,
          1,
          27,
          6,
          12
         ]
        }
       ],
       "layout": {
        "barmode": "stack",
        "barnorm": "percent",
        "font": {
         "size": 15
        },
        "height": 800,
        "title": {
         "text": "Porcentagem dos status dos alunos de técnico (2009-2017)"
        },
        "width": 600,
        "yaxis": {
         "ticksuffix": "%"
        }
       }
      },
      "text/html": [
       "<div id=\"3862bdf1-319b-4937-8025-9f912a0a3010\" style=\"height: 800px; width: 600px;\" class=\"plotly-graph-div\"></div><script type=\"text/javascript\">require([\"plotly\"], function(Plotly) { window.PLOTLYENV=window.PLOTLYENV || {};window.PLOTLYENV.BASE_URL=\"https://plot.ly\";\n",
       "if (document.getElementById(\"3862bdf1-319b-4937-8025-9f912a0a3010\")) {\n",
       "    Plotly.newPlot(\"3862bdf1-319b-4937-8025-9f912a0a3010\", [{\"marker\": {\"color\": \"rgb(36, 84, 160)\"}, \"name\": \"Ativo\", \"x\": [2009, 2010, 2011, 2012, 2013, 2014, 2015, 2016, 2017], \"y\": [1.0, 13.0, 34.0, 44.0, 277.0, 210.0, 718.0, 475.0, 4962.0], \"type\": \"bar\", \"uid\": \"ef97cebd-b91b-4566-bef6-17ac8b0dbf5d\"}, {\"marker\": {\"color\": \"rgb(214, 121, 14)\"}, \"name\": \"Depend\\u00eancia\", \"x\": [2009, 2010, 2011, 2012, 2013, 2014, 2015, 2016, 2017], \"y\": [0.0, 0.0, 0.0, 0.0, 0.0, 0.0, 0.0, 0.0, 1.0], \"type\": \"bar\", \"uid\": \"3ff23ca8-d0ee-441c-93c4-82d806901153\"}, {\"marker\": {\"color\": \"rgb(115, 28, 165)\"}, \"name\": \"Formando\", \"x\": [2009, 2010, 2011, 2012, 2013, 2014, 2015, 2016, 2017], \"y\": [0.0, 0.0, 0.0, 0.0, 2.0, 13.0, 28.0, 13.0, 25.0], \"type\": \"bar\", \"uid\": \"f3f82852-3f8b-4045-a62c-50966e7d9660\"}, {\"marker\": {\"color\": \"rgb(70, 170, 133)\"}, \"name\": \"Cadastrado\", \"x\": [2009, 2010, 2011, 2012, 2013, 2014, 2015, 2016, 2017], \"y\": [0.0, 0.0, 0.0, 0.0, 0.0, 39.0, 40.0, 47.0, 60.0], \"type\": \"bar\", \"uid\": \"d1436565-3e5f-41d2-8446-d7e20863bc65\"}, {\"marker\": {\"color\": \"rgb(204, 91, 71)\"}, \"name\": \"Cancelado\", \"x\": [2009, 2010, 2011, 2012, 2013, 2014, 2015, 2016, 2017], \"y\": [94.0, 931.0, 421.0, 1303.0, 2445.0, 2513.0, 2368.0, 1292.0, 1533.0], \"type\": \"bar\", \"uid\": \"955d6fe7-7b82-43f3-bd30-6ae7c12ecaf6\"}, {\"marker\": {\"color\": \"rgb(22, 112, 59)\"}, \"name\": \"Conclu\\u00eddo\", \"x\": [2009, 2010, 2011, 2012, 2013, 2014, 2015, 2016, 2017], \"y\": [211.0, 696.0, 323.0, 559.0, 902.0, 1405.0, 1339.0, 497.0, 585.0], \"type\": \"bar\", \"uid\": \"8b46a263-2643-43e4-97af-20c9a7eaa9b1\"}, {\"marker\": {\"color\": \"rgb(255, 252, 117)\"}, \"name\": \"Formado\", \"x\": [2009, 2010, 2011, 2012, 2013, 2014, 2015, 2016, 2017], \"y\": [0.0, 0.0, 0.0, 3.0, 6.0, 0.0, 394.0, 160.0, 1.0], \"type\": \"bar\", \"uid\": \"94837828-5dff-4c48-b93e-24fbbac6ae16\"}, {\"marker\": {\"color\": \"rgb(135, 40, 40)\"}, \"name\": \"Trancado\", \"x\": [2009, 2010, 2011, 2012, 2013, 2014, 2015, 2016, 2017], \"y\": [20.0, 22.0, 0.0, 110.0, 70.0, 1.0, 27.0, 6.0, 12.0], \"type\": \"bar\", \"uid\": \"d312520f-34f0-445e-badf-2b9dfe7061a2\"}], {\"barmode\": \"stack\", \"barnorm\": \"percent\", \"font\": {\"size\": 15}, \"height\": 800, \"title\": {\"text\": \"Porcentagem dos status dos alunos de t\\u00e9cnico (2009-2017)\"}, \"width\": 600, \"yaxis\": {\"ticksuffix\": \"%\"}}, {\"showLink\": false, \"linkText\": \"Export to plot.ly\", \"plotlyServerURL\": \"https://plot.ly\"}); \n",
       "}\n",
       "});</script>"
      ],
      "text/vnd.plotly.v1+html": [
       "<div id=\"3862bdf1-319b-4937-8025-9f912a0a3010\" style=\"height: 800px; width: 600px;\" class=\"plotly-graph-div\"></div><script type=\"text/javascript\">require([\"plotly\"], function(Plotly) { window.PLOTLYENV=window.PLOTLYENV || {};window.PLOTLYENV.BASE_URL=\"https://plot.ly\";\n",
       "if (document.getElementById(\"3862bdf1-319b-4937-8025-9f912a0a3010\")) {\n",
       "    Plotly.newPlot(\"3862bdf1-319b-4937-8025-9f912a0a3010\", [{\"marker\": {\"color\": \"rgb(36, 84, 160)\"}, \"name\": \"Ativo\", \"x\": [2009, 2010, 2011, 2012, 2013, 2014, 2015, 2016, 2017], \"y\": [1.0, 13.0, 34.0, 44.0, 277.0, 210.0, 718.0, 475.0, 4962.0], \"type\": \"bar\", \"uid\": \"ef97cebd-b91b-4566-bef6-17ac8b0dbf5d\"}, {\"marker\": {\"color\": \"rgb(214, 121, 14)\"}, \"name\": \"Depend\\u00eancia\", \"x\": [2009, 2010, 2011, 2012, 2013, 2014, 2015, 2016, 2017], \"y\": [0.0, 0.0, 0.0, 0.0, 0.0, 0.0, 0.0, 0.0, 1.0], \"type\": \"bar\", \"uid\": \"3ff23ca8-d0ee-441c-93c4-82d806901153\"}, {\"marker\": {\"color\": \"rgb(115, 28, 165)\"}, \"name\": \"Formando\", \"x\": [2009, 2010, 2011, 2012, 2013, 2014, 2015, 2016, 2017], \"y\": [0.0, 0.0, 0.0, 0.0, 2.0, 13.0, 28.0, 13.0, 25.0], \"type\": \"bar\", \"uid\": \"f3f82852-3f8b-4045-a62c-50966e7d9660\"}, {\"marker\": {\"color\": \"rgb(70, 170, 133)\"}, \"name\": \"Cadastrado\", \"x\": [2009, 2010, 2011, 2012, 2013, 2014, 2015, 2016, 2017], \"y\": [0.0, 0.0, 0.0, 0.0, 0.0, 39.0, 40.0, 47.0, 60.0], \"type\": \"bar\", \"uid\": \"d1436565-3e5f-41d2-8446-d7e20863bc65\"}, {\"marker\": {\"color\": \"rgb(204, 91, 71)\"}, \"name\": \"Cancelado\", \"x\": [2009, 2010, 2011, 2012, 2013, 2014, 2015, 2016, 2017], \"y\": [94.0, 931.0, 421.0, 1303.0, 2445.0, 2513.0, 2368.0, 1292.0, 1533.0], \"type\": \"bar\", \"uid\": \"955d6fe7-7b82-43f3-bd30-6ae7c12ecaf6\"}, {\"marker\": {\"color\": \"rgb(22, 112, 59)\"}, \"name\": \"Conclu\\u00eddo\", \"x\": [2009, 2010, 2011, 2012, 2013, 2014, 2015, 2016, 2017], \"y\": [211.0, 696.0, 323.0, 559.0, 902.0, 1405.0, 1339.0, 497.0, 585.0], \"type\": \"bar\", \"uid\": \"8b46a263-2643-43e4-97af-20c9a7eaa9b1\"}, {\"marker\": {\"color\": \"rgb(255, 252, 117)\"}, \"name\": \"Formado\", \"x\": [2009, 2010, 2011, 2012, 2013, 2014, 2015, 2016, 2017], \"y\": [0.0, 0.0, 0.0, 3.0, 6.0, 0.0, 394.0, 160.0, 1.0], \"type\": \"bar\", \"uid\": \"94837828-5dff-4c48-b93e-24fbbac6ae16\"}, {\"marker\": {\"color\": \"rgb(135, 40, 40)\"}, \"name\": \"Trancado\", \"x\": [2009, 2010, 2011, 2012, 2013, 2014, 2015, 2016, 2017], \"y\": [20.0, 22.0, 0.0, 110.0, 70.0, 1.0, 27.0, 6.0, 12.0], \"type\": \"bar\", \"uid\": \"d312520f-34f0-445e-badf-2b9dfe7061a2\"}], {\"barmode\": \"stack\", \"barnorm\": \"percent\", \"font\": {\"size\": 15}, \"height\": 800, \"title\": {\"text\": \"Porcentagem dos status dos alunos de t\\u00e9cnico (2009-2017)\"}, \"width\": 600, \"yaxis\": {\"ticksuffix\": \"%\"}}, {\"showLink\": false, \"linkText\": \"Export to plot.ly\", \"plotlyServerURL\": \"https://plot.ly\"}); \n",
       "}\n",
       "});</script>"
      ]
     },
     "metadata": {},
     "output_type": "display_data"
    }
   ],
   "source": [
    "### técnico\n",
    "tecnico_status = discentes[discentes.nivel_ensino == 'TÉCNICO'][['ano_ingresso','status']].groupby(['ano_ingresso','status']).apply(lambda x: len(x))\n",
    "tecnico_status = pd.DataFrame(tecnico_status,columns=['count']).unstack(level=0).fillna(0)\n",
    "tecnico_status.columns = tecnico_status.columns.droplevel(level=0)\n",
    "tecnico_status = tecnico_status.T\n",
    "tecnico_status = tecnico_status.rename(columns={'ATIVO - DEPENDÊNCIA':'DEPENDÊNCIA','ATIVO - FORMANDO':'FORMANDO'})\n",
    "\n",
    "data_tecnico_status = [\n",
    "    go.Bar(x=tecnico_status.index,y=tecnico_status.ATIVO,name='Ativo',marker=dict(color='rgb(36, 84, 160)')),\n",
    "    go.Bar(x=tecnico_status.index,y=tecnico_status.DEPENDÊNCIA,name='Dependência',marker=dict(color='rgb(214, 121, 14)')),\n",
    "    go.Bar(x=tecnico_status.index,y=tecnico_status.FORMANDO,name='Formando',marker=dict(color='rgb(115, 28, 165)')),\n",
    "    go.Bar(x=tecnico_status.index,y=tecnico_status.CADASTRADO,name='Cadastrado',marker=dict(color='rgb(70, 170, 133)')),\n",
    "    go.Bar(x=tecnico_status.index,y=tecnico_status.CANCELADO,name='Cancelado',marker=dict(color='rgb(204, 91, 71)')),\n",
    "    go.Bar(x=tecnico_status.index,y=tecnico_status.CONCLUÍDO,name='Concluído',marker=dict(color='rgb(22, 112, 59)')),\n",
    "    go.Bar(x=tecnico_status.index,y=tecnico_status.FORMADO,name='Formado',marker=dict(color='rgb(255, 252, 117)')),\n",
    "    go.Bar(x=tecnico_status.index,y=tecnico_status.TRANCADO,name='Trancado',marker=dict(color='rgb(135, 40, 40)'))\n",
    "]\n",
    "\n",
    "fig_tecnico_status = go.Figure(data=data_tecnico_status,\n",
    "                               layout=go.Layout(barmode='stack',\n",
    "                                                barnorm='percent',\n",
    "                                                height=800,\n",
    "                                                width=600,\n",
    "                                                font={'size':15},\n",
    "                                                yaxis=dict(ticksuffix='%'),\n",
    "                                                title='Porcentagem dos status dos alunos de técnico (2009-2017)'\n",
    "                                               ))\n",
    "offline.iplot(fig_tecnico_status)"
   ]
  },
  {
   "cell_type": "code",
   "execution_count": null,
   "metadata": {},
   "outputs": [],
   "source": []
  }
 ],
 "metadata": {
  "kernelspec": {
   "display_name": "Python 3",
   "language": "python",
   "name": "python3"
  },
  "language_info": {
   "codemirror_mode": {
    "name": "ipython",
    "version": 3
   },
   "file_extension": ".py",
   "mimetype": "text/x-python",
   "name": "python",
   "nbconvert_exporter": "python",
   "pygments_lexer": "ipython3",
   "version": "3.6.8"
  }
 },
 "nbformat": 4,
 "nbformat_minor": 2
}
