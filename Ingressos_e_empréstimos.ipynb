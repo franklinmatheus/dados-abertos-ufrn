{
 "cells": [
  {
   "cell_type": "code",
   "execution_count": 13,
   "metadata": {},
   "outputs": [
    {
     "data": {
      "text/html": [
       "<script>\n",
       "code_show=true; \n",
       "function code_toggle() {\n",
       " if (code_show){\n",
       " $('div.input').hide();\n",
       " } else {\n",
       " $('div.input').show();\n",
       " }\n",
       " code_show = !code_show\n",
       "} \n",
       "$( document ).ready(code_toggle);\n",
       "</script>\n",
       "<form action=\"javascript:code_toggle()\"><input type=\"submit\" value=\"Click here to toggle on/off the raw code.\"></form>"
      ],
      "text/plain": [
       "<IPython.core.display.HTML object>"
      ]
     },
     "execution_count": 13,
     "metadata": {},
     "output_type": "execute_result"
    }
   ],
   "source": [
    "from IPython.display import HTML\n",
    "\n",
    "HTML('''<script>\n",
    "code_show=true; \n",
    "function code_toggle() {\n",
    " if (code_show){\n",
    " $('div.input').hide();\n",
    " } else {\n",
    " $('div.input').show();\n",
    " }\n",
    " code_show = !code_show\n",
    "} \n",
    "$( document ).ready(code_toggle);\n",
    "</script>\n",
    "<form action=\"javascript:code_toggle()\"><input type=\"submit\" value=\"Click here to toggle on/off the raw code.\"></form>''')"
   ]
  },
  {
   "cell_type": "code",
   "execution_count": 2,
   "metadata": {},
   "outputs": [],
   "source": [
    "import pandas as pd\n",
    "import plotly.plotly as py\n",
    "import plotly.graph_objs as go\n",
    "import plotly.offline as offline"
   ]
  },
  {
   "cell_type": "code",
   "execution_count": 245,
   "metadata": {
    "scrolled": true
   },
   "outputs": [
    {
     "name": "stderr",
     "output_type": "stream",
     "text": [
      "/home/franklin/anaconda3/lib/python3.6/site-packages/ipykernel_launcher.py:33: FutureWarning:\n",
      "\n",
      "using a dict with renaming is deprecated and will be removed in a future version\n",
      "\n"
     ]
    }
   ],
   "source": [
    "import calendar\n",
    "\n",
    "emprestimos_2010_1 = pd.read_csv('datasets/emprestimos/emprestimos-20101.csv',sep=';')\n",
    "emprestimos_2010_2 = pd.read_csv('datasets/emprestimos/emprestimos-20102.csv',sep=';')\n",
    "emprestimos_2011_1 = pd.read_csv('datasets/emprestimos/emprestimos-20111.csv',sep=';')\n",
    "emprestimos_2011_2 = pd.read_csv('datasets/emprestimos/emprestimos-20112.csv',sep=';')\n",
    "emprestimos_2012_1 = pd.read_csv('datasets/emprestimos/emprestimos-20121.csv',sep=';')\n",
    "emprestimos_2012_2 = pd.read_csv('datasets/emprestimos/emprestimos-20122.csv',sep=';')\n",
    "emprestimos_2013_1 = pd.read_csv('datasets/emprestimos/emprestimos-20131.csv',sep=';')\n",
    "emprestimos_2013_2 = pd.read_csv('datasets/emprestimos/emprestimos-20132.csv',sep=';')\n",
    "emprestimos_2014_1 = pd.read_csv('datasets/emprestimos/emprestimos-20141.csv',sep=';')\n",
    "emprestimos_2014_2 = pd.read_csv('datasets/emprestimos/emprestimos-20142.csv',sep=';')\n",
    "emprestimos_2015_1 = pd.read_csv('datasets/emprestimos/emprestimos-20151.csv',sep=';')\n",
    "emprestimos_2015_2 = pd.read_csv('datasets/emprestimos/emprestimos-20152.csv',sep=';')\n",
    "emprestimos_2016_1 = pd.read_csv('datasets/emprestimos/emprestimos-20161.csv',sep=';')\n",
    "emprestimos_2016_2 = pd.read_csv('datasets/emprestimos/emprestimos-20162.csv',sep=';')\n",
    "emprestimos_2017_1 = pd.read_csv('datasets/emprestimos/emprestimos-20171.csv',sep=';')\n",
    "emprestimos_2017_2 = pd.read_csv('datasets/emprestimos/emprestimos-20172.csv',sep=';')\n",
    "\n",
    "emprestimos = pd.concat([emprestimos_2010_1,emprestimos_2010_2,emprestimos_2011_1,emprestimos_2011_2,\n",
    "                         emprestimos_2012_1,emprestimos_2012_2,emprestimos_2013_1,emprestimos_2013_2,\n",
    "                         emprestimos_2014_1,emprestimos_2014_2,emprestimos_2015_1,emprestimos_2015_2,\n",
    "                         emprestimos_2016_1,emprestimos_2016_2,emprestimos_2017_1,emprestimos_2017_2])\n",
    "emprestimos.reset_index(drop=True)\n",
    "emprestimos.data_emprestimo = pd.to_datetime(emprestimos.data_emprestimo)\n",
    "\n",
    "# this makes a pandas series\n",
    "#emprestimos['count'] = 1\n",
    "#emprestimos_por_mes = pd.DataFrame(emprestimos.count,index=emprestimos.index)\n",
    "#emprestimos_por_mes = emprestimos.resample('M',on='data_emprestimo')['count'].sum()\n",
    "\n",
    "# count the number of rows grouping by month, that is, number of loans by month\n",
    "emprestimos_por_mes = emprestimos.resample('M',on='data_emprestimo').agg({\"quantity\":\"size\"})\n",
    "\n",
    "media_emprestimos_por_mes = emprestimos_por_mes.groupby(emprestimos_por_mes.index.month).mean()\n",
    "emprestimos_por_ano = emprestimos_por_mes.groupby(emprestimos_por_mes.index.year).sum()\n",
    "# setting up the dataframe to futute uses\n",
    "media_emprestimos_por_mes.index.name = 'month'\n",
    "media_emprestimos_por_mes = media_emprestimos_por_mes.reset_index()\n",
    "media_emprestimos_por_mes['month'] = media_emprestimos_por_mes['month'].apply(lambda x: calendar.month_abbr[x])\n",
    "\n",
    "# setting up the dataframe to future uses\n",
    "emprestimos_por_mes = emprestimos_por_mes.reset_index()\n",
    "emprestimos_por_mes.data_emprestimo = emprestimos_por_mes.data_emprestimo.apply(lambda x: x.strftime('%b %Y'))"
   ]
  },
  {
   "cell_type": "code",
   "execution_count": 149,
   "metadata": {},
   "outputs": [
    {
     "data": {
      "application/vnd.plotly.v1+json": {
       "config": {
        "linkText": "Export to plot.ly",
        "plotlyServerURL": "https://plot.ly",
        "showLink": false
       },
       "data": [
        {
         "hovertemplate": "quantity=%{r}<br>month=%{theta}<extra></extra>",
         "legendgroup": "",
         "marker": {
          "color": "#6b1cfb"
         },
         "name": "",
         "r": [
          7394.625,
          22913.125,
          27095,
          23878.625,
          23025.25,
          14926.75,
          13300.625,
          25760.25,
          23829.25,
          21543.25,
          19075.125,
          9102.125
         ],
         "showlegend": false,
         "theta": [
          "Jan",
          "Feb",
          "Mar",
          "Apr",
          "May",
          "Jun",
          "Jul",
          "Aug",
          "Sep",
          "Oct",
          "Nov",
          "Dec"
         ],
         "type": "barpolar",
         "uid": "2f547132-3d53-4663-993d-0717f72745ca"
        }
       ],
       "layout": {
        "barmode": "relative",
        "barnorm": "",
        "height": 600,
        "legend": {
         "tracegroupgap": 0
        },
        "margin": {
         "t": 60
        },
        "polar": {
         "angularaxis": {
          "direction": "clockwise",
          "rotation": 90
         }
        },
        "template": {
         "data": {
          "bar": [
           {
            "marker": {
             "line": {
              "color": "rgb(17,17,17)",
              "width": 0.5
             }
            },
            "type": "bar"
           }
          ],
          "barpolar": [
           {
            "marker": {
             "line": {
              "color": "rgb(17,17,17)",
              "width": 0.5
             }
            },
            "type": "barpolar"
           }
          ],
          "carpet": [
           {
            "aaxis": {
             "endlinecolor": "#A2B1C6",
             "gridcolor": "#506784",
             "linecolor": "#506784",
             "minorgridcolor": "#506784",
             "startlinecolor": "#A2B1C6"
            },
            "baxis": {
             "endlinecolor": "#A2B1C6",
             "gridcolor": "#506784",
             "linecolor": "#506784",
             "minorgridcolor": "#506784",
             "startlinecolor": "#A2B1C6"
            },
            "type": "carpet"
           }
          ],
          "choropleth": [
           {
            "colorbar": {
             "outlinewidth": 0,
             "ticks": ""
            },
            "type": "choropleth"
           }
          ],
          "contour": [
           {
            "autocolorscale": true,
            "colorbar": {
             "outlinewidth": 0,
             "ticks": ""
            },
            "type": "contour"
           }
          ],
          "contourcarpet": [
           {
            "colorbar": {
             "outlinewidth": 0,
             "ticks": ""
            },
            "type": "contourcarpet"
           }
          ],
          "heatmap": [
           {
            "autocolorscale": true,
            "colorbar": {
             "outlinewidth": 0,
             "ticks": ""
            },
            "type": "heatmap"
           }
          ],
          "heatmapgl": [
           {
            "colorbar": {
             "outlinewidth": 0,
             "ticks": ""
            },
            "type": "heatmapgl"
           }
          ],
          "histogram": [
           {
            "marker": {
             "colorbar": {
              "outlinewidth": 0,
              "ticks": ""
             }
            },
            "type": "histogram"
           }
          ],
          "histogram2d": [
           {
            "autocolorscale": true,
            "colorbar": {
             "outlinewidth": 0,
             "ticks": ""
            },
            "type": "histogram2d"
           }
          ],
          "histogram2dcontour": [
           {
            "autocolorscale": true,
            "colorbar": {
             "outlinewidth": 0,
             "ticks": ""
            },
            "type": "histogram2dcontour"
           }
          ],
          "mesh3d": [
           {
            "colorbar": {
             "outlinewidth": 0,
             "ticks": ""
            },
            "type": "mesh3d"
           }
          ],
          "parcoords": [
           {
            "line": {
             "colorbar": {
              "outlinewidth": 0,
              "ticks": ""
             }
            },
            "type": "parcoords"
           }
          ],
          "scatter": [
           {
            "marker": {
             "line": {
              "color": "#283442"
             }
            },
            "type": "scatter"
           }
          ],
          "scatter3d": [
           {
            "marker": {
             "colorbar": {
              "outlinewidth": 0,
              "ticks": ""
             }
            },
            "type": "scatter3d"
           }
          ],
          "scattercarpet": [
           {
            "marker": {
             "colorbar": {
              "outlinewidth": 0,
              "ticks": ""
             }
            },
            "type": "scattercarpet"
           }
          ],
          "scattergeo": [
           {
            "marker": {
             "colorbar": {
              "outlinewidth": 0,
              "ticks": ""
             }
            },
            "type": "scattergeo"
           }
          ],
          "scattergl": [
           {
            "marker": {
             "line": {
              "color": "#283442"
             }
            },
            "type": "scattergl"
           }
          ],
          "scattermapbox": [
           {
            "marker": {
             "colorbar": {
              "outlinewidth": 0,
              "ticks": ""
             }
            },
            "type": "scattermapbox"
           }
          ],
          "scatterpolar": [
           {
            "marker": {
             "colorbar": {
              "outlinewidth": 0,
              "ticks": ""
             }
            },
            "type": "scatterpolar"
           }
          ],
          "scatterpolargl": [
           {
            "marker": {
             "colorbar": {
              "outlinewidth": 0,
              "ticks": ""
             }
            },
            "type": "scatterpolargl"
           }
          ],
          "scatterternary": [
           {
            "marker": {
             "colorbar": {
              "outlinewidth": 0,
              "ticks": ""
             }
            },
            "type": "scatterternary"
           }
          ],
          "surface": [
           {
            "colorbar": {
             "outlinewidth": 0,
             "ticks": ""
            },
            "type": "surface"
           }
          ],
          "table": [
           {
            "cells": {
             "fill": {
              "color": "#506784"
             },
             "line": {
              "color": "rgb(17,17,17)"
             }
            },
            "header": {
             "fill": {
              "color": "#2a3f5f"
             },
             "line": {
              "color": "rgb(17,17,17)"
             }
            },
            "type": "table"
           }
          ]
         },
         "layout": {
          "annotationdefaults": {
           "arrowcolor": "#f2f5fa",
           "arrowhead": 0,
           "arrowwidth": 1
          },
          "colorscale": {
           "diverging": [
            [
             0,
             "#8e0152"
            ],
            [
             0.1,
             "#c51b7d"
            ],
            [
             0.2,
             "#de77ae"
            ],
            [
             0.3,
             "#f1b6da"
            ],
            [
             0.4,
             "#fde0ef"
            ],
            [
             0.5,
             "#f7f7f7"
            ],
            [
             0.6,
             "#e6f5d0"
            ],
            [
             0.7,
             "#b8e186"
            ],
            [
             0.8,
             "#7fbc41"
            ],
            [
             0.9,
             "#4d9221"
            ],
            [
             1,
             "#276419"
            ]
           ],
           "sequential": [
            [
             0,
             "#0508b8"
            ],
            [
             0.0893854748603352,
             "#1910d8"
            ],
            [
             0.1787709497206704,
             "#3c19f0"
            ],
            [
             0.2681564245810056,
             "#6b1cfb"
            ],
            [
             0.3575418994413408,
             "#981cfd"
            ],
            [
             0.44692737430167595,
             "#bf1cfd"
            ],
            [
             0.5363128491620112,
             "#dd2bfd"
            ],
            [
             0.6256983240223464,
             "#f246fe"
            ],
            [
             0.7150837988826816,
             "#fc67fd"
            ],
            [
             0.8044692737430168,
             "#fe88fc"
            ],
            [
             0.8938547486033519,
             "#fea5fd"
            ],
            [
             0.9832402234636871,
             "#febefe"
            ],
            [
             1,
             "#fec3fe"
            ]
           ],
           "sequentialminus": [
            [
             0,
             "#0508b8"
            ],
            [
             0.0893854748603352,
             "#1910d8"
            ],
            [
             0.1787709497206704,
             "#3c19f0"
            ],
            [
             0.2681564245810056,
             "#6b1cfb"
            ],
            [
             0.3575418994413408,
             "#981cfd"
            ],
            [
             0.44692737430167595,
             "#bf1cfd"
            ],
            [
             0.5363128491620112,
             "#dd2bfd"
            ],
            [
             0.6256983240223464,
             "#f246fe"
            ],
            [
             0.7150837988826816,
             "#fc67fd"
            ],
            [
             0.8044692737430168,
             "#fe88fc"
            ],
            [
             0.8938547486033519,
             "#fea5fd"
            ],
            [
             0.9832402234636871,
             "#febefe"
            ],
            [
             1,
             "#fec3fe"
            ]
           ]
          },
          "colorway": [
           "#636efa",
           "#EF553B",
           "#00cc96",
           "#ab63fa",
           "#19d3f3",
           "#e763fa",
           "#FECB52",
           "#FFA15A",
           "#FF6692",
           "#B6E880"
          ],
          "font": {
           "color": "#f2f5fa"
          },
          "geo": {
           "bgcolor": "rgb(17,17,17)",
           "lakecolor": "rgb(17,17,17)",
           "landcolor": "rgb(17,17,17)",
           "showlakes": true,
           "showland": true,
           "subunitcolor": "#506784"
          },
          "hovermode": "closest",
          "mapbox": {
           "style": "dark"
          },
          "paper_bgcolor": "rgb(17,17,17)",
          "plot_bgcolor": "rgb(17,17,17)",
          "polar": {
           "angularaxis": {
            "gridcolor": "#506784",
            "linecolor": "#506784",
            "ticks": ""
           },
           "bgcolor": "rgb(17,17,17)",
           "radialaxis": {
            "gridcolor": "#506784",
            "linecolor": "#506784",
            "ticks": ""
           }
          },
          "scene": {
           "xaxis": {
            "backgroundcolor": "rgb(17,17,17)",
            "gridcolor": "#506784",
            "gridwidth": 2,
            "linecolor": "#506784",
            "showbackground": true,
            "ticks": "",
            "zerolinecolor": "#C8D4E3"
           },
           "yaxis": {
            "backgroundcolor": "rgb(17,17,17)",
            "gridcolor": "#506784",
            "gridwidth": 2,
            "linecolor": "#506784",
            "showbackground": true,
            "ticks": "",
            "zerolinecolor": "#C8D4E3"
           },
           "zaxis": {
            "backgroundcolor": "rgb(17,17,17)",
            "gridcolor": "#506784",
            "gridwidth": 2,
            "linecolor": "#506784",
            "showbackground": true,
            "ticks": "",
            "zerolinecolor": "#C8D4E3"
           }
          },
          "shapedefaults": {
           "fillcolor": "#f2f5fa",
           "line": {
            "width": 0
           },
           "opacity": 0.4
          },
          "sliderdefaults": {
           "bgcolor": "#C8D4E3",
           "bordercolor": "rgb(17,17,17)",
           "borderwidth": 1,
           "tickwidth": 0
          },
          "ternary": {
           "aaxis": {
            "gridcolor": "#506784",
            "linecolor": "#506784",
            "ticks": ""
           },
           "baxis": {
            "gridcolor": "#506784",
            "linecolor": "#506784",
            "ticks": ""
           },
           "bgcolor": "rgb(17,17,17)",
           "caxis": {
            "gridcolor": "#506784",
            "linecolor": "#506784",
            "ticks": ""
           }
          },
          "title": {
           "x": 0.05
          },
          "updatemenudefaults": {
           "bgcolor": "#506784",
           "borderwidth": 0
          },
          "xaxis": {
           "automargin": true,
           "gridcolor": "#283442",
           "linecolor": "#506784",
           "ticks": "",
           "zerolinecolor": "#283442",
           "zerolinewidth": 2
          },
          "yaxis": {
           "automargin": true,
           "gridcolor": "#283442",
           "linecolor": "#506784",
           "ticks": "",
           "zerolinecolor": "#283442",
           "zerolinewidth": 2
          }
         }
        }
       }
      },
      "text/html": [
       "<div id=\"ad6e7b17-0fe1-4dc5-a2e4-eaf04751aced\" style=\"height: 600px; width: 100%;\" class=\"plotly-graph-div\"></div><script type=\"text/javascript\">require([\"plotly\"], function(Plotly) { window.PLOTLYENV=window.PLOTLYENV || {};window.PLOTLYENV.BASE_URL=\"https://plot.ly\";\n",
       "if (document.getElementById(\"ad6e7b17-0fe1-4dc5-a2e4-eaf04751aced\")) {\n",
       "    Plotly.newPlot(\"ad6e7b17-0fe1-4dc5-a2e4-eaf04751aced\", [{\"hovertemplate\": \"quantity=%{r}<br>month=%{theta}<extra></extra>\", \"legendgroup\": \"\", \"marker\": {\"color\": \"#6b1cfb\"}, \"name\": \"\", \"r\": [7394.625, 22913.125, 27095.0, 23878.625, 23025.25, 14926.75, 13300.625, 25760.25, 23829.25, 21543.25, 19075.125, 9102.125], \"showlegend\": false, \"theta\": [\"Jan\", \"Feb\", \"Mar\", \"Apr\", \"May\", \"Jun\", \"Jul\", \"Aug\", \"Sep\", \"Oct\", \"Nov\", \"Dec\"], \"type\": \"barpolar\", \"uid\": \"2f547132-3d53-4663-993d-0717f72745ca\"}], {\"barmode\": \"relative\", \"barnorm\": \"\", \"height\": 600, \"legend\": {\"tracegroupgap\": 0}, \"margin\": {\"t\": 60}, \"template\": {\"data\": {\"barpolar\": [{\"marker\": {\"line\": {\"color\": \"rgb(17,17,17)\", \"width\": 0.5}}, \"type\": \"barpolar\"}], \"bar\": [{\"marker\": {\"line\": {\"color\": \"rgb(17,17,17)\", \"width\": 0.5}}, \"type\": \"bar\"}], \"carpet\": [{\"aaxis\": {\"endlinecolor\": \"#A2B1C6\", \"gridcolor\": \"#506784\", \"linecolor\": \"#506784\", \"minorgridcolor\": \"#506784\", \"startlinecolor\": \"#A2B1C6\"}, \"baxis\": {\"endlinecolor\": \"#A2B1C6\", \"gridcolor\": \"#506784\", \"linecolor\": \"#506784\", \"minorgridcolor\": \"#506784\", \"startlinecolor\": \"#A2B1C6\"}, \"type\": \"carpet\"}], \"choropleth\": [{\"colorbar\": {\"outlinewidth\": 0, \"ticks\": \"\"}, \"type\": \"choropleth\"}], \"contourcarpet\": [{\"colorbar\": {\"outlinewidth\": 0, \"ticks\": \"\"}, \"type\": \"contourcarpet\"}], \"contour\": [{\"autocolorscale\": true, \"colorbar\": {\"outlinewidth\": 0, \"ticks\": \"\"}, \"type\": \"contour\"}], \"heatmapgl\": [{\"colorbar\": {\"outlinewidth\": 0, \"ticks\": \"\"}, \"type\": \"heatmapgl\"}], \"heatmap\": [{\"autocolorscale\": true, \"colorbar\": {\"outlinewidth\": 0, \"ticks\": \"\"}, \"type\": \"heatmap\"}], \"histogram2dcontour\": [{\"autocolorscale\": true, \"colorbar\": {\"outlinewidth\": 0, \"ticks\": \"\"}, \"type\": \"histogram2dcontour\"}], \"histogram2d\": [{\"autocolorscale\": true, \"colorbar\": {\"outlinewidth\": 0, \"ticks\": \"\"}, \"type\": \"histogram2d\"}], \"histogram\": [{\"marker\": {\"colorbar\": {\"outlinewidth\": 0, \"ticks\": \"\"}}, \"type\": \"histogram\"}], \"mesh3d\": [{\"colorbar\": {\"outlinewidth\": 0, \"ticks\": \"\"}, \"type\": \"mesh3d\"}], \"parcoords\": [{\"line\": {\"colorbar\": {\"outlinewidth\": 0, \"ticks\": \"\"}}, \"type\": \"parcoords\"}], \"scatter3d\": [{\"marker\": {\"colorbar\": {\"outlinewidth\": 0, \"ticks\": \"\"}}, \"type\": \"scatter3d\"}], \"scattercarpet\": [{\"marker\": {\"colorbar\": {\"outlinewidth\": 0, \"ticks\": \"\"}}, \"type\": \"scattercarpet\"}], \"scattergeo\": [{\"marker\": {\"colorbar\": {\"outlinewidth\": 0, \"ticks\": \"\"}}, \"type\": \"scattergeo\"}], \"scattergl\": [{\"marker\": {\"line\": {\"color\": \"#283442\"}}, \"type\": \"scattergl\"}], \"scattermapbox\": [{\"marker\": {\"colorbar\": {\"outlinewidth\": 0, \"ticks\": \"\"}}, \"type\": \"scattermapbox\"}], \"scatterpolargl\": [{\"marker\": {\"colorbar\": {\"outlinewidth\": 0, \"ticks\": \"\"}}, \"type\": \"scatterpolargl\"}], \"scatterpolar\": [{\"marker\": {\"colorbar\": {\"outlinewidth\": 0, \"ticks\": \"\"}}, \"type\": \"scatterpolar\"}], \"scatter\": [{\"marker\": {\"line\": {\"color\": \"#283442\"}}, \"type\": \"scatter\"}], \"scatterternary\": [{\"marker\": {\"colorbar\": {\"outlinewidth\": 0, \"ticks\": \"\"}}, \"type\": \"scatterternary\"}], \"surface\": [{\"colorbar\": {\"outlinewidth\": 0, \"ticks\": \"\"}, \"type\": \"surface\"}], \"table\": [{\"cells\": {\"fill\": {\"color\": \"#506784\"}, \"line\": {\"color\": \"rgb(17,17,17)\"}}, \"header\": {\"fill\": {\"color\": \"#2a3f5f\"}, \"line\": {\"color\": \"rgb(17,17,17)\"}}, \"type\": \"table\"}]}, \"layout\": {\"annotationdefaults\": {\"arrowcolor\": \"#f2f5fa\", \"arrowhead\": 0, \"arrowwidth\": 1}, \"colorscale\": {\"diverging\": [[0, \"#8e0152\"], [0.1, \"#c51b7d\"], [0.2, \"#de77ae\"], [0.3, \"#f1b6da\"], [0.4, \"#fde0ef\"], [0.5, \"#f7f7f7\"], [0.6, \"#e6f5d0\"], [0.7, \"#b8e186\"], [0.8, \"#7fbc41\"], [0.9, \"#4d9221\"], [1, \"#276419\"]], \"sequential\": [[0.0, \"#0508b8\"], [0.0893854748603352, \"#1910d8\"], [0.1787709497206704, \"#3c19f0\"], [0.2681564245810056, \"#6b1cfb\"], [0.3575418994413408, \"#981cfd\"], [0.44692737430167595, \"#bf1cfd\"], [0.5363128491620112, \"#dd2bfd\"], [0.6256983240223464, \"#f246fe\"], [0.7150837988826816, \"#fc67fd\"], [0.8044692737430168, \"#fe88fc\"], [0.8938547486033519, \"#fea5fd\"], [0.9832402234636871, \"#febefe\"], [1.0, \"#fec3fe\"]], \"sequentialminus\": [[0.0, \"#0508b8\"], [0.0893854748603352, \"#1910d8\"], [0.1787709497206704, \"#3c19f0\"], [0.2681564245810056, \"#6b1cfb\"], [0.3575418994413408, \"#981cfd\"], [0.44692737430167595, \"#bf1cfd\"], [0.5363128491620112, \"#dd2bfd\"], [0.6256983240223464, \"#f246fe\"], [0.7150837988826816, \"#fc67fd\"], [0.8044692737430168, \"#fe88fc\"], [0.8938547486033519, \"#fea5fd\"], [0.9832402234636871, \"#febefe\"], [1.0, \"#fec3fe\"]]}, \"colorway\": [\"#636efa\", \"#EF553B\", \"#00cc96\", \"#ab63fa\", \"#19d3f3\", \"#e763fa\", \"#FECB52\", \"#FFA15A\", \"#FF6692\", \"#B6E880\"], \"font\": {\"color\": \"#f2f5fa\"}, \"geo\": {\"bgcolor\": \"rgb(17,17,17)\", \"lakecolor\": \"rgb(17,17,17)\", \"landcolor\": \"rgb(17,17,17)\", \"showlakes\": true, \"showland\": true, \"subunitcolor\": \"#506784\"}, \"hovermode\": \"closest\", \"mapbox\": {\"style\": \"dark\"}, \"paper_bgcolor\": \"rgb(17,17,17)\", \"plot_bgcolor\": \"rgb(17,17,17)\", \"polar\": {\"angularaxis\": {\"gridcolor\": \"#506784\", \"linecolor\": \"#506784\", \"ticks\": \"\"}, \"bgcolor\": \"rgb(17,17,17)\", \"radialaxis\": {\"gridcolor\": \"#506784\", \"linecolor\": \"#506784\", \"ticks\": \"\"}}, \"scene\": {\"xaxis\": {\"backgroundcolor\": \"rgb(17,17,17)\", \"gridcolor\": \"#506784\", \"gridwidth\": 2, \"linecolor\": \"#506784\", \"showbackground\": true, \"ticks\": \"\", \"zerolinecolor\": \"#C8D4E3\"}, \"yaxis\": {\"backgroundcolor\": \"rgb(17,17,17)\", \"gridcolor\": \"#506784\", \"gridwidth\": 2, \"linecolor\": \"#506784\", \"showbackground\": true, \"ticks\": \"\", \"zerolinecolor\": \"#C8D4E3\"}, \"zaxis\": {\"backgroundcolor\": \"rgb(17,17,17)\", \"gridcolor\": \"#506784\", \"gridwidth\": 2, \"linecolor\": \"#506784\", \"showbackground\": true, \"ticks\": \"\", \"zerolinecolor\": \"#C8D4E3\"}}, \"shapedefaults\": {\"fillcolor\": \"#f2f5fa\", \"line\": {\"width\": 0}, \"opacity\": 0.4}, \"sliderdefaults\": {\"bgcolor\": \"#C8D4E3\", \"bordercolor\": \"rgb(17,17,17)\", \"borderwidth\": 1, \"tickwidth\": 0}, \"ternary\": {\"aaxis\": {\"gridcolor\": \"#506784\", \"linecolor\": \"#506784\", \"ticks\": \"\"}, \"baxis\": {\"gridcolor\": \"#506784\", \"linecolor\": \"#506784\", \"ticks\": \"\"}, \"bgcolor\": \"rgb(17,17,17)\", \"caxis\": {\"gridcolor\": \"#506784\", \"linecolor\": \"#506784\", \"ticks\": \"\"}}, \"title\": {\"x\": 0.05}, \"updatemenudefaults\": {\"bgcolor\": \"#506784\", \"borderwidth\": 0}, \"xaxis\": {\"automargin\": true, \"gridcolor\": \"#283442\", \"linecolor\": \"#506784\", \"ticks\": \"\", \"zerolinecolor\": \"#283442\", \"zerolinewidth\": 2}, \"yaxis\": {\"automargin\": true, \"gridcolor\": \"#283442\", \"linecolor\": \"#506784\", \"ticks\": \"\", \"zerolinecolor\": \"#283442\", \"zerolinewidth\": 2}}}, \"polar\": {\"angularaxis\": {\"direction\": \"clockwise\", \"rotation\": 90}}}, {\"showLink\": false, \"linkText\": \"Export to plot.ly\", \"plotlyServerURL\": \"https://plot.ly\"}); \n",
       "}\n",
       "});</script><script type=\"text/javascript\">window.addEventListener(\"resize\", function(){if (document.getElementById(\"ad6e7b17-0fe1-4dc5-a2e4-eaf04751aced\")) {window._Plotly.Plots.resize(document.getElementById(\"ad6e7b17-0fe1-4dc5-a2e4-eaf04751aced\"));};})</script>"
      ],
      "text/vnd.plotly.v1+html": [
       "<div id=\"ad6e7b17-0fe1-4dc5-a2e4-eaf04751aced\" style=\"height: 600px; width: 100%;\" class=\"plotly-graph-div\"></div><script type=\"text/javascript\">require([\"plotly\"], function(Plotly) { window.PLOTLYENV=window.PLOTLYENV || {};window.PLOTLYENV.BASE_URL=\"https://plot.ly\";\n",
       "if (document.getElementById(\"ad6e7b17-0fe1-4dc5-a2e4-eaf04751aced\")) {\n",
       "    Plotly.newPlot(\"ad6e7b17-0fe1-4dc5-a2e4-eaf04751aced\", [{\"hovertemplate\": \"quantity=%{r}<br>month=%{theta}<extra></extra>\", \"legendgroup\": \"\", \"marker\": {\"color\": \"#6b1cfb\"}, \"name\": \"\", \"r\": [7394.625, 22913.125, 27095.0, 23878.625, 23025.25, 14926.75, 13300.625, 25760.25, 23829.25, 21543.25, 19075.125, 9102.125], \"showlegend\": false, \"theta\": [\"Jan\", \"Feb\", \"Mar\", \"Apr\", \"May\", \"Jun\", \"Jul\", \"Aug\", \"Sep\", \"Oct\", \"Nov\", \"Dec\"], \"type\": \"barpolar\", \"uid\": \"2f547132-3d53-4663-993d-0717f72745ca\"}], {\"barmode\": \"relative\", \"barnorm\": \"\", \"height\": 600, \"legend\": {\"tracegroupgap\": 0}, \"margin\": {\"t\": 60}, \"template\": {\"data\": {\"barpolar\": [{\"marker\": {\"line\": {\"color\": \"rgb(17,17,17)\", \"width\": 0.5}}, \"type\": \"barpolar\"}], \"bar\": [{\"marker\": {\"line\": {\"color\": \"rgb(17,17,17)\", \"width\": 0.5}}, \"type\": \"bar\"}], \"carpet\": [{\"aaxis\": {\"endlinecolor\": \"#A2B1C6\", \"gridcolor\": \"#506784\", \"linecolor\": \"#506784\", \"minorgridcolor\": \"#506784\", \"startlinecolor\": \"#A2B1C6\"}, \"baxis\": {\"endlinecolor\": \"#A2B1C6\", \"gridcolor\": \"#506784\", \"linecolor\": \"#506784\", \"minorgridcolor\": \"#506784\", \"startlinecolor\": \"#A2B1C6\"}, \"type\": \"carpet\"}], \"choropleth\": [{\"colorbar\": {\"outlinewidth\": 0, \"ticks\": \"\"}, \"type\": \"choropleth\"}], \"contourcarpet\": [{\"colorbar\": {\"outlinewidth\": 0, \"ticks\": \"\"}, \"type\": \"contourcarpet\"}], \"contour\": [{\"autocolorscale\": true, \"colorbar\": {\"outlinewidth\": 0, \"ticks\": \"\"}, \"type\": \"contour\"}], \"heatmapgl\": [{\"colorbar\": {\"outlinewidth\": 0, \"ticks\": \"\"}, \"type\": \"heatmapgl\"}], \"heatmap\": [{\"autocolorscale\": true, \"colorbar\": {\"outlinewidth\": 0, \"ticks\": \"\"}, \"type\": \"heatmap\"}], \"histogram2dcontour\": [{\"autocolorscale\": true, \"colorbar\": {\"outlinewidth\": 0, \"ticks\": \"\"}, \"type\": \"histogram2dcontour\"}], \"histogram2d\": [{\"autocolorscale\": true, \"colorbar\": {\"outlinewidth\": 0, \"ticks\": \"\"}, \"type\": \"histogram2d\"}], \"histogram\": [{\"marker\": {\"colorbar\": {\"outlinewidth\": 0, \"ticks\": \"\"}}, \"type\": \"histogram\"}], \"mesh3d\": [{\"colorbar\": {\"outlinewidth\": 0, \"ticks\": \"\"}, \"type\": \"mesh3d\"}], \"parcoords\": [{\"line\": {\"colorbar\": {\"outlinewidth\": 0, \"ticks\": \"\"}}, \"type\": \"parcoords\"}], \"scatter3d\": [{\"marker\": {\"colorbar\": {\"outlinewidth\": 0, \"ticks\": \"\"}}, \"type\": \"scatter3d\"}], \"scattercarpet\": [{\"marker\": {\"colorbar\": {\"outlinewidth\": 0, \"ticks\": \"\"}}, \"type\": \"scattercarpet\"}], \"scattergeo\": [{\"marker\": {\"colorbar\": {\"outlinewidth\": 0, \"ticks\": \"\"}}, \"type\": \"scattergeo\"}], \"scattergl\": [{\"marker\": {\"line\": {\"color\": \"#283442\"}}, \"type\": \"scattergl\"}], \"scattermapbox\": [{\"marker\": {\"colorbar\": {\"outlinewidth\": 0, \"ticks\": \"\"}}, \"type\": \"scattermapbox\"}], \"scatterpolargl\": [{\"marker\": {\"colorbar\": {\"outlinewidth\": 0, \"ticks\": \"\"}}, \"type\": \"scatterpolargl\"}], \"scatterpolar\": [{\"marker\": {\"colorbar\": {\"outlinewidth\": 0, \"ticks\": \"\"}}, \"type\": \"scatterpolar\"}], \"scatter\": [{\"marker\": {\"line\": {\"color\": \"#283442\"}}, \"type\": \"scatter\"}], \"scatterternary\": [{\"marker\": {\"colorbar\": {\"outlinewidth\": 0, \"ticks\": \"\"}}, \"type\": \"scatterternary\"}], \"surface\": [{\"colorbar\": {\"outlinewidth\": 0, \"ticks\": \"\"}, \"type\": \"surface\"}], \"table\": [{\"cells\": {\"fill\": {\"color\": \"#506784\"}, \"line\": {\"color\": \"rgb(17,17,17)\"}}, \"header\": {\"fill\": {\"color\": \"#2a3f5f\"}, \"line\": {\"color\": \"rgb(17,17,17)\"}}, \"type\": \"table\"}]}, \"layout\": {\"annotationdefaults\": {\"arrowcolor\": \"#f2f5fa\", \"arrowhead\": 0, \"arrowwidth\": 1}, \"colorscale\": {\"diverging\": [[0, \"#8e0152\"], [0.1, \"#c51b7d\"], [0.2, \"#de77ae\"], [0.3, \"#f1b6da\"], [0.4, \"#fde0ef\"], [0.5, \"#f7f7f7\"], [0.6, \"#e6f5d0\"], [0.7, \"#b8e186\"], [0.8, \"#7fbc41\"], [0.9, \"#4d9221\"], [1, \"#276419\"]], \"sequential\": [[0.0, \"#0508b8\"], [0.0893854748603352, \"#1910d8\"], [0.1787709497206704, \"#3c19f0\"], [0.2681564245810056, \"#6b1cfb\"], [0.3575418994413408, \"#981cfd\"], [0.44692737430167595, \"#bf1cfd\"], [0.5363128491620112, \"#dd2bfd\"], [0.6256983240223464, \"#f246fe\"], [0.7150837988826816, \"#fc67fd\"], [0.8044692737430168, \"#fe88fc\"], [0.8938547486033519, \"#fea5fd\"], [0.9832402234636871, \"#febefe\"], [1.0, \"#fec3fe\"]], \"sequentialminus\": [[0.0, \"#0508b8\"], [0.0893854748603352, \"#1910d8\"], [0.1787709497206704, \"#3c19f0\"], [0.2681564245810056, \"#6b1cfb\"], [0.3575418994413408, \"#981cfd\"], [0.44692737430167595, \"#bf1cfd\"], [0.5363128491620112, \"#dd2bfd\"], [0.6256983240223464, \"#f246fe\"], [0.7150837988826816, \"#fc67fd\"], [0.8044692737430168, \"#fe88fc\"], [0.8938547486033519, \"#fea5fd\"], [0.9832402234636871, \"#febefe\"], [1.0, \"#fec3fe\"]]}, \"colorway\": [\"#636efa\", \"#EF553B\", \"#00cc96\", \"#ab63fa\", \"#19d3f3\", \"#e763fa\", \"#FECB52\", \"#FFA15A\", \"#FF6692\", \"#B6E880\"], \"font\": {\"color\": \"#f2f5fa\"}, \"geo\": {\"bgcolor\": \"rgb(17,17,17)\", \"lakecolor\": \"rgb(17,17,17)\", \"landcolor\": \"rgb(17,17,17)\", \"showlakes\": true, \"showland\": true, \"subunitcolor\": \"#506784\"}, \"hovermode\": \"closest\", \"mapbox\": {\"style\": \"dark\"}, \"paper_bgcolor\": \"rgb(17,17,17)\", \"plot_bgcolor\": \"rgb(17,17,17)\", \"polar\": {\"angularaxis\": {\"gridcolor\": \"#506784\", \"linecolor\": \"#506784\", \"ticks\": \"\"}, \"bgcolor\": \"rgb(17,17,17)\", \"radialaxis\": {\"gridcolor\": \"#506784\", \"linecolor\": \"#506784\", \"ticks\": \"\"}}, \"scene\": {\"xaxis\": {\"backgroundcolor\": \"rgb(17,17,17)\", \"gridcolor\": \"#506784\", \"gridwidth\": 2, \"linecolor\": \"#506784\", \"showbackground\": true, \"ticks\": \"\", \"zerolinecolor\": \"#C8D4E3\"}, \"yaxis\": {\"backgroundcolor\": \"rgb(17,17,17)\", \"gridcolor\": \"#506784\", \"gridwidth\": 2, \"linecolor\": \"#506784\", \"showbackground\": true, \"ticks\": \"\", \"zerolinecolor\": \"#C8D4E3\"}, \"zaxis\": {\"backgroundcolor\": \"rgb(17,17,17)\", \"gridcolor\": \"#506784\", \"gridwidth\": 2, \"linecolor\": \"#506784\", \"showbackground\": true, \"ticks\": \"\", \"zerolinecolor\": \"#C8D4E3\"}}, \"shapedefaults\": {\"fillcolor\": \"#f2f5fa\", \"line\": {\"width\": 0}, \"opacity\": 0.4}, \"sliderdefaults\": {\"bgcolor\": \"#C8D4E3\", \"bordercolor\": \"rgb(17,17,17)\", \"borderwidth\": 1, \"tickwidth\": 0}, \"ternary\": {\"aaxis\": {\"gridcolor\": \"#506784\", \"linecolor\": \"#506784\", \"ticks\": \"\"}, \"baxis\": {\"gridcolor\": \"#506784\", \"linecolor\": \"#506784\", \"ticks\": \"\"}, \"bgcolor\": \"rgb(17,17,17)\", \"caxis\": {\"gridcolor\": \"#506784\", \"linecolor\": \"#506784\", \"ticks\": \"\"}}, \"title\": {\"x\": 0.05}, \"updatemenudefaults\": {\"bgcolor\": \"#506784\", \"borderwidth\": 0}, \"xaxis\": {\"automargin\": true, \"gridcolor\": \"#283442\", \"linecolor\": \"#506784\", \"ticks\": \"\", \"zerolinecolor\": \"#283442\", \"zerolinewidth\": 2}, \"yaxis\": {\"automargin\": true, \"gridcolor\": \"#283442\", \"linecolor\": \"#506784\", \"ticks\": \"\", \"zerolinecolor\": \"#283442\", \"zerolinewidth\": 2}}}, \"polar\": {\"angularaxis\": {\"direction\": \"clockwise\", \"rotation\": 90}}}, {\"showLink\": false, \"linkText\": \"Export to plot.ly\", \"plotlyServerURL\": \"https://plot.ly\"}); \n",
       "}\n",
       "});</script><script type=\"text/javascript\">window.addEventListener(\"resize\", function(){if (document.getElementById(\"ad6e7b17-0fe1-4dc5-a2e4-eaf04751aced\")) {window._Plotly.Plots.resize(document.getElementById(\"ad6e7b17-0fe1-4dc5-a2e4-eaf04751aced\"));};})</script>"
      ]
     },
     "metadata": {},
     "output_type": "display_data"
    }
   ],
   "source": [
    "import plotly_express as px\n",
    "\n",
    "px.bar_polar(media_emprestimos_por_mes, r=\"quantity\", theta=\"month\", template=\"plotly_dark\"\n",
    "             ,color_discrete_sequence= px.colors.sequential.Plotly[-10::-3])"
   ]
  },
  {
   "cell_type": "code",
   "execution_count": 243,
   "metadata": {},
   "outputs": [
    {
     "data": {
      "application/vnd.plotly.v1+json": {
       "config": {
        "linkText": "Export to plot.ly",
        "plotlyServerURL": "https://plot.ly",
        "showLink": false
       },
       "data": [
        {
         "marker": {
          "color": "rgb(50, 120, 140)"
         },
         "name": "Empréstimos",
         "type": "bar",
         "uid": "5e2bedce-4082-44d2-bb6e-c701504c1a18",
         "x": [
          "Jan 2010",
          "Feb 2010",
          "Mar 2010",
          "Apr 2010",
          "May 2010",
          "Jun 2010",
          "Jul 2010",
          "Aug 2010",
          "Sep 2010",
          "Oct 2010",
          "Nov 2010",
          "Dec 2010",
          "Jan 2011",
          "Feb 2011",
          "Mar 2011",
          "Apr 2011",
          "May 2011",
          "Jun 2011",
          "Jul 2011",
          "Aug 2011",
          "Sep 2011",
          "Oct 2011",
          "Nov 2011",
          "Dec 2011",
          "Jan 2012",
          "Feb 2012",
          "Mar 2012",
          "Apr 2012",
          "May 2012",
          "Jun 2012",
          "Jul 2012",
          "Aug 2012",
          "Sep 2012",
          "Oct 2012",
          "Nov 2012",
          "Dec 2012",
          "Jan 2013",
          "Feb 2013",
          "Mar 2013",
          "Apr 2013",
          "May 2013",
          "Jun 2013",
          "Jul 2013",
          "Aug 2013",
          "Sep 2013",
          "Oct 2013",
          "Nov 2013",
          "Dec 2013",
          "Jan 2014",
          "Feb 2014",
          "Mar 2014",
          "Apr 2014",
          "May 2014",
          "Jun 2014",
          "Jul 2014",
          "Aug 2014",
          "Sep 2014",
          "Oct 2014",
          "Nov 2014",
          "Dec 2014",
          "Jan 2015",
          "Feb 2015",
          "Mar 2015",
          "Apr 2015",
          "May 2015",
          "Jun 2015",
          "Jul 2015",
          "Aug 2015",
          "Sep 2015",
          "Oct 2015",
          "Nov 2015",
          "Dec 2015",
          "Jan 2016",
          "Feb 2016",
          "Mar 2016",
          "Apr 2016",
          "May 2016",
          "Jun 2016",
          "Jul 2016",
          "Aug 2016",
          "Sep 2016",
          "Oct 2016",
          "Nov 2016",
          "Dec 2016",
          "Jan 2017",
          "Feb 2017",
          "Mar 2017",
          "Apr 2017",
          "May 2017",
          "Jun 2017",
          "Jul 2017",
          "Aug 2017",
          "Sep 2017",
          "Oct 2017",
          "Nov 2017",
          "Dec 2017"
         ],
         "y": [
          5404,
          12091,
          23409,
          19500,
          19309,
          15626,
          8191,
          22799,
          22690,
          19165,
          18086,
          9765,
          1871,
          15635,
          24531,
          22628,
          24567,
          19315,
          9451,
          27887,
          26528,
          22345,
          21288,
          13314,
          8054,
          23278,
          32047,
          27044,
          25857,
          16326,
          6919,
          25387,
          24215,
          25147,
          23277,
          12486,
          8505,
          28291,
          27591,
          29836,
          25630,
          15237,
          16967,
          26571,
          26503,
          23294,
          21181,
          9680,
          16860,
          27778,
          21911,
          20672,
          18485,
          7475,
          19952,
          26097,
          26675,
          23632,
          18773,
          7000,
          6968,
          27485,
          30312,
          25301,
          23227,
          13445,
          14653,
          20714,
          16900,
          19375,
          18943,
          7530,
          6219,
          28046,
          27915,
          24576,
          23192,
          13704,
          15045,
          27718,
          24653,
          19069,
          13783,
          6911,
          5276,
          20701,
          29044,
          21472,
          23935,
          18286,
          15227,
          28909,
          22470,
          20319,
          17270,
          6131
         ]
        }
       ],
       "layout": {
        "title": {
         "text": "Ingressos por ano em diferentes níveis de ensino"
        },
        "xaxis": {
         "title": {
          "text": "Ano"
         }
        },
        "yaxis": {
         "title": {
          "text": "Quantidade de empréstimos"
         }
        }
       }
      },
      "text/html": [
       "<div id=\"904402ca-602f-4ea6-9d9d-7ccd3cc53744\" style=\"height: 525px; width: 100%;\" class=\"plotly-graph-div\"></div><script type=\"text/javascript\">require([\"plotly\"], function(Plotly) { window.PLOTLYENV=window.PLOTLYENV || {};window.PLOTLYENV.BASE_URL=\"https://plot.ly\";\n",
       "if (document.getElementById(\"904402ca-602f-4ea6-9d9d-7ccd3cc53744\")) {\n",
       "    Plotly.newPlot(\"904402ca-602f-4ea6-9d9d-7ccd3cc53744\", [{\"marker\": {\"color\": \"rgb(50, 120, 140)\"}, \"name\": \"Empr\\u00e9stimos\", \"x\": [\"Jan 2010\", \"Feb 2010\", \"Mar 2010\", \"Apr 2010\", \"May 2010\", \"Jun 2010\", \"Jul 2010\", \"Aug 2010\", \"Sep 2010\", \"Oct 2010\", \"Nov 2010\", \"Dec 2010\", \"Jan 2011\", \"Feb 2011\", \"Mar 2011\", \"Apr 2011\", \"May 2011\", \"Jun 2011\", \"Jul 2011\", \"Aug 2011\", \"Sep 2011\", \"Oct 2011\", \"Nov 2011\", \"Dec 2011\", \"Jan 2012\", \"Feb 2012\", \"Mar 2012\", \"Apr 2012\", \"May 2012\", \"Jun 2012\", \"Jul 2012\", \"Aug 2012\", \"Sep 2012\", \"Oct 2012\", \"Nov 2012\", \"Dec 2012\", \"Jan 2013\", \"Feb 2013\", \"Mar 2013\", \"Apr 2013\", \"May 2013\", \"Jun 2013\", \"Jul 2013\", \"Aug 2013\", \"Sep 2013\", \"Oct 2013\", \"Nov 2013\", \"Dec 2013\", \"Jan 2014\", \"Feb 2014\", \"Mar 2014\", \"Apr 2014\", \"May 2014\", \"Jun 2014\", \"Jul 2014\", \"Aug 2014\", \"Sep 2014\", \"Oct 2014\", \"Nov 2014\", \"Dec 2014\", \"Jan 2015\", \"Feb 2015\", \"Mar 2015\", \"Apr 2015\", \"May 2015\", \"Jun 2015\", \"Jul 2015\", \"Aug 2015\", \"Sep 2015\", \"Oct 2015\", \"Nov 2015\", \"Dec 2015\", \"Jan 2016\", \"Feb 2016\", \"Mar 2016\", \"Apr 2016\", \"May 2016\", \"Jun 2016\", \"Jul 2016\", \"Aug 2016\", \"Sep 2016\", \"Oct 2016\", \"Nov 2016\", \"Dec 2016\", \"Jan 2017\", \"Feb 2017\", \"Mar 2017\", \"Apr 2017\", \"May 2017\", \"Jun 2017\", \"Jul 2017\", \"Aug 2017\", \"Sep 2017\", \"Oct 2017\", \"Nov 2017\", \"Dec 2017\"], \"y\": [5404, 12091, 23409, 19500, 19309, 15626, 8191, 22799, 22690, 19165, 18086, 9765, 1871, 15635, 24531, 22628, 24567, 19315, 9451, 27887, 26528, 22345, 21288, 13314, 8054, 23278, 32047, 27044, 25857, 16326, 6919, 25387, 24215, 25147, 23277, 12486, 8505, 28291, 27591, 29836, 25630, 15237, 16967, 26571, 26503, 23294, 21181, 9680, 16860, 27778, 21911, 20672, 18485, 7475, 19952, 26097, 26675, 23632, 18773, 7000, 6968, 27485, 30312, 25301, 23227, 13445, 14653, 20714, 16900, 19375, 18943, 7530, 6219, 28046, 27915, 24576, 23192, 13704, 15045, 27718, 24653, 19069, 13783, 6911, 5276, 20701, 29044, 21472, 23935, 18286, 15227, 28909, 22470, 20319, 17270, 6131], \"type\": \"bar\", \"uid\": \"5e2bedce-4082-44d2-bb6e-c701504c1a18\"}], {\"title\": {\"text\": \"Ingressos por ano em diferentes n\\u00edveis de ensino\"}, \"xaxis\": {\"title\": {\"text\": \"Ano\"}}, \"yaxis\": {\"title\": {\"text\": \"Quantidade de empr\\u00e9stimos\"}}}, {\"showLink\": false, \"linkText\": \"Export to plot.ly\", \"plotlyServerURL\": \"https://plot.ly\"}); \n",
       "}\n",
       "});</script><script type=\"text/javascript\">window.addEventListener(\"resize\", function(){if (document.getElementById(\"904402ca-602f-4ea6-9d9d-7ccd3cc53744\")) {window._Plotly.Plots.resize(document.getElementById(\"904402ca-602f-4ea6-9d9d-7ccd3cc53744\"));};})</script>"
      ],
      "text/vnd.plotly.v1+html": [
       "<div id=\"904402ca-602f-4ea6-9d9d-7ccd3cc53744\" style=\"height: 525px; width: 100%;\" class=\"plotly-graph-div\"></div><script type=\"text/javascript\">require([\"plotly\"], function(Plotly) { window.PLOTLYENV=window.PLOTLYENV || {};window.PLOTLYENV.BASE_URL=\"https://plot.ly\";\n",
       "if (document.getElementById(\"904402ca-602f-4ea6-9d9d-7ccd3cc53744\")) {\n",
       "    Plotly.newPlot(\"904402ca-602f-4ea6-9d9d-7ccd3cc53744\", [{\"marker\": {\"color\": \"rgb(50, 120, 140)\"}, \"name\": \"Empr\\u00e9stimos\", \"x\": [\"Jan 2010\", \"Feb 2010\", \"Mar 2010\", \"Apr 2010\", \"May 2010\", \"Jun 2010\", \"Jul 2010\", \"Aug 2010\", \"Sep 2010\", \"Oct 2010\", \"Nov 2010\", \"Dec 2010\", \"Jan 2011\", \"Feb 2011\", \"Mar 2011\", \"Apr 2011\", \"May 2011\", \"Jun 2011\", \"Jul 2011\", \"Aug 2011\", \"Sep 2011\", \"Oct 2011\", \"Nov 2011\", \"Dec 2011\", \"Jan 2012\", \"Feb 2012\", \"Mar 2012\", \"Apr 2012\", \"May 2012\", \"Jun 2012\", \"Jul 2012\", \"Aug 2012\", \"Sep 2012\", \"Oct 2012\", \"Nov 2012\", \"Dec 2012\", \"Jan 2013\", \"Feb 2013\", \"Mar 2013\", \"Apr 2013\", \"May 2013\", \"Jun 2013\", \"Jul 2013\", \"Aug 2013\", \"Sep 2013\", \"Oct 2013\", \"Nov 2013\", \"Dec 2013\", \"Jan 2014\", \"Feb 2014\", \"Mar 2014\", \"Apr 2014\", \"May 2014\", \"Jun 2014\", \"Jul 2014\", \"Aug 2014\", \"Sep 2014\", \"Oct 2014\", \"Nov 2014\", \"Dec 2014\", \"Jan 2015\", \"Feb 2015\", \"Mar 2015\", \"Apr 2015\", \"May 2015\", \"Jun 2015\", \"Jul 2015\", \"Aug 2015\", \"Sep 2015\", \"Oct 2015\", \"Nov 2015\", \"Dec 2015\", \"Jan 2016\", \"Feb 2016\", \"Mar 2016\", \"Apr 2016\", \"May 2016\", \"Jun 2016\", \"Jul 2016\", \"Aug 2016\", \"Sep 2016\", \"Oct 2016\", \"Nov 2016\", \"Dec 2016\", \"Jan 2017\", \"Feb 2017\", \"Mar 2017\", \"Apr 2017\", \"May 2017\", \"Jun 2017\", \"Jul 2017\", \"Aug 2017\", \"Sep 2017\", \"Oct 2017\", \"Nov 2017\", \"Dec 2017\"], \"y\": [5404, 12091, 23409, 19500, 19309, 15626, 8191, 22799, 22690, 19165, 18086, 9765, 1871, 15635, 24531, 22628, 24567, 19315, 9451, 27887, 26528, 22345, 21288, 13314, 8054, 23278, 32047, 27044, 25857, 16326, 6919, 25387, 24215, 25147, 23277, 12486, 8505, 28291, 27591, 29836, 25630, 15237, 16967, 26571, 26503, 23294, 21181, 9680, 16860, 27778, 21911, 20672, 18485, 7475, 19952, 26097, 26675, 23632, 18773, 7000, 6968, 27485, 30312, 25301, 23227, 13445, 14653, 20714, 16900, 19375, 18943, 7530, 6219, 28046, 27915, 24576, 23192, 13704, 15045, 27718, 24653, 19069, 13783, 6911, 5276, 20701, 29044, 21472, 23935, 18286, 15227, 28909, 22470, 20319, 17270, 6131], \"type\": \"bar\", \"uid\": \"5e2bedce-4082-44d2-bb6e-c701504c1a18\"}], {\"title\": {\"text\": \"Ingressos por ano em diferentes n\\u00edveis de ensino\"}, \"xaxis\": {\"title\": {\"text\": \"Ano\"}}, \"yaxis\": {\"title\": {\"text\": \"Quantidade de empr\\u00e9stimos\"}}}, {\"showLink\": false, \"linkText\": \"Export to plot.ly\", \"plotlyServerURL\": \"https://plot.ly\"}); \n",
       "}\n",
       "});</script><script type=\"text/javascript\">window.addEventListener(\"resize\", function(){if (document.getElementById(\"904402ca-602f-4ea6-9d9d-7ccd3cc53744\")) {window._Plotly.Plots.resize(document.getElementById(\"904402ca-602f-4ea6-9d9d-7ccd3cc53744\"));};})</script>"
      ]
     },
     "metadata": {},
     "output_type": "display_data"
    }
   ],
   "source": [
    "emprestimos_mes_bar = go.Bar(x=emprestimos_por_mes.data_emprestimo,y=emprestimos_por_mes.quantity,name='Empréstimos',\n",
    "                  marker=dict(color='rgb(50, 120, 140)'))\n",
    "\n",
    "data_emprestimos_bar = [emprestimos_mes_bar]\n",
    "\n",
    "layout_emprestimos = go.Layout(title=\"Ingressos por ano em diferentes níveis de ensino\",\n",
    "        xaxis=dict(title='Ano'),\n",
    "        yaxis=dict(title='Quantidade de empréstimos')\n",
    "    )\n",
    "\n",
    "fig_emprestimos = go.Figure(data=data_emprestimos_bar,layout=layout_emprestimos)\n",
    "offline.iplot(fig_emprestimos)"
   ]
  },
  {
   "cell_type": "code",
   "execution_count": 244,
   "metadata": {},
   "outputs": [
    {
     "data": {
      "application/vnd.plotly.v1+json": {
       "config": {
        "linkText": "Export to plot.ly",
        "plotlyServerURL": "https://plot.ly",
        "showLink": false
       },
       "data": [
        {
         "boxpoints": "all",
         "marker": {
          "color": "rgb(200, 10, 100)"
         },
         "name": "Empréstimos",
         "type": "box",
         "uid": "d5422741-1192-452a-b3e9-39de9fc5b02b",
         "y": [
          5404,
          12091,
          23409,
          19500,
          19309,
          15626,
          8191,
          22799,
          22690,
          19165,
          18086,
          9765,
          1871,
          15635,
          24531,
          22628,
          24567,
          19315,
          9451,
          27887,
          26528,
          22345,
          21288,
          13314,
          8054,
          23278,
          32047,
          27044,
          25857,
          16326,
          6919,
          25387,
          24215,
          25147,
          23277,
          12486,
          8505,
          28291,
          27591,
          29836,
          25630,
          15237,
          16967,
          26571,
          26503,
          23294,
          21181,
          9680,
          16860,
          27778,
          21911,
          20672,
          18485,
          7475,
          19952,
          26097,
          26675,
          23632,
          18773,
          7000,
          6968,
          27485,
          30312,
          25301,
          23227,
          13445,
          14653,
          20714,
          16900,
          19375,
          18943,
          7530,
          6219,
          28046,
          27915,
          24576,
          23192,
          13704,
          15045,
          27718,
          24653,
          19069,
          13783,
          6911,
          5276,
          20701,
          29044,
          21472,
          23935,
          18286,
          15227,
          28909,
          22470,
          20319,
          17270,
          6131
         ]
        }
       ],
       "layout": {}
      },
      "text/html": [
       "<div id=\"e1d7a00e-db9a-48e4-a3af-eeb74470e29d\" style=\"height: 525px; width: 100%;\" class=\"plotly-graph-div\"></div><script type=\"text/javascript\">require([\"plotly\"], function(Plotly) { window.PLOTLYENV=window.PLOTLYENV || {};window.PLOTLYENV.BASE_URL=\"https://plot.ly\";\n",
       "if (document.getElementById(\"e1d7a00e-db9a-48e4-a3af-eeb74470e29d\")) {\n",
       "    Plotly.newPlot(\"e1d7a00e-db9a-48e4-a3af-eeb74470e29d\", [{\"boxpoints\": \"all\", \"marker\": {\"color\": \"rgb(200, 10, 100)\"}, \"name\": \"Empr\\u00e9stimos\", \"y\": [5404, 12091, 23409, 19500, 19309, 15626, 8191, 22799, 22690, 19165, 18086, 9765, 1871, 15635, 24531, 22628, 24567, 19315, 9451, 27887, 26528, 22345, 21288, 13314, 8054, 23278, 32047, 27044, 25857, 16326, 6919, 25387, 24215, 25147, 23277, 12486, 8505, 28291, 27591, 29836, 25630, 15237, 16967, 26571, 26503, 23294, 21181, 9680, 16860, 27778, 21911, 20672, 18485, 7475, 19952, 26097, 26675, 23632, 18773, 7000, 6968, 27485, 30312, 25301, 23227, 13445, 14653, 20714, 16900, 19375, 18943, 7530, 6219, 28046, 27915, 24576, 23192, 13704, 15045, 27718, 24653, 19069, 13783, 6911, 5276, 20701, 29044, 21472, 23935, 18286, 15227, 28909, 22470, 20319, 17270, 6131], \"type\": \"box\", \"uid\": \"d5422741-1192-452a-b3e9-39de9fc5b02b\"}], {}, {\"showLink\": false, \"linkText\": \"Export to plot.ly\", \"plotlyServerURL\": \"https://plot.ly\"}); \n",
       "}\n",
       "});</script><script type=\"text/javascript\">window.addEventListener(\"resize\", function(){if (document.getElementById(\"e1d7a00e-db9a-48e4-a3af-eeb74470e29d\")) {window._Plotly.Plots.resize(document.getElementById(\"e1d7a00e-db9a-48e4-a3af-eeb74470e29d\"));};})</script>"
      ],
      "text/vnd.plotly.v1+html": [
       "<div id=\"e1d7a00e-db9a-48e4-a3af-eeb74470e29d\" style=\"height: 525px; width: 100%;\" class=\"plotly-graph-div\"></div><script type=\"text/javascript\">require([\"plotly\"], function(Plotly) { window.PLOTLYENV=window.PLOTLYENV || {};window.PLOTLYENV.BASE_URL=\"https://plot.ly\";\n",
       "if (document.getElementById(\"e1d7a00e-db9a-48e4-a3af-eeb74470e29d\")) {\n",
       "    Plotly.newPlot(\"e1d7a00e-db9a-48e4-a3af-eeb74470e29d\", [{\"boxpoints\": \"all\", \"marker\": {\"color\": \"rgb(200, 10, 100)\"}, \"name\": \"Empr\\u00e9stimos\", \"y\": [5404, 12091, 23409, 19500, 19309, 15626, 8191, 22799, 22690, 19165, 18086, 9765, 1871, 15635, 24531, 22628, 24567, 19315, 9451, 27887, 26528, 22345, 21288, 13314, 8054, 23278, 32047, 27044, 25857, 16326, 6919, 25387, 24215, 25147, 23277, 12486, 8505, 28291, 27591, 29836, 25630, 15237, 16967, 26571, 26503, 23294, 21181, 9680, 16860, 27778, 21911, 20672, 18485, 7475, 19952, 26097, 26675, 23632, 18773, 7000, 6968, 27485, 30312, 25301, 23227, 13445, 14653, 20714, 16900, 19375, 18943, 7530, 6219, 28046, 27915, 24576, 23192, 13704, 15045, 27718, 24653, 19069, 13783, 6911, 5276, 20701, 29044, 21472, 23935, 18286, 15227, 28909, 22470, 20319, 17270, 6131], \"type\": \"box\", \"uid\": \"d5422741-1192-452a-b3e9-39de9fc5b02b\"}], {}, {\"showLink\": false, \"linkText\": \"Export to plot.ly\", \"plotlyServerURL\": \"https://plot.ly\"}); \n",
       "}\n",
       "});</script><script type=\"text/javascript\">window.addEventListener(\"resize\", function(){if (document.getElementById(\"e1d7a00e-db9a-48e4-a3af-eeb74470e29d\")) {window._Plotly.Plots.resize(document.getElementById(\"e1d7a00e-db9a-48e4-a3af-eeb74470e29d\"));};})</script>"
      ]
     },
     "metadata": {},
     "output_type": "display_data"
    }
   ],
   "source": [
    "emprestimos_mes_box = go.Box(y=emprestimos_por_mes.quantity,boxpoints='all',name='Empréstimos',\n",
    "                            marker=dict(color='rgb(200, 10, 100)'))\n",
    "data_emprestimos_box = [emprestimos_mes_box]\n",
    "\n",
    "fig_emprestimos_box = go.Figure(data=data_emprestimos_box)\n",
    "offline.iplot(fig_emprestimos_box)"
   ]
  },
  {
   "cell_type": "code",
   "execution_count": 144,
   "metadata": {},
   "outputs": [
    {
     "data": {
      "text/html": [
       "<div>\n",
       "<style scoped>\n",
       "    .dataframe tbody tr th:only-of-type {\n",
       "        vertical-align: middle;\n",
       "    }\n",
       "\n",
       "    .dataframe tbody tr th {\n",
       "        vertical-align: top;\n",
       "    }\n",
       "\n",
       "    .dataframe thead th {\n",
       "        text-align: right;\n",
       "    }\n",
       "</style>\n",
       "<table border=\"1\" class=\"dataframe\">\n",
       "  <thead>\n",
       "    <tr style=\"text-align: right;\">\n",
       "      <th>nivel_ensino</th>\n",
       "      <th>DOUTORADO</th>\n",
       "      <th>FORMAÇÃO COMPLEMENTAR</th>\n",
       "      <th>FUNDAMENTAL</th>\n",
       "      <th>GRADUAÇÃO</th>\n",
       "      <th>INFANTIL</th>\n",
       "      <th>LATO SENSU</th>\n",
       "      <th>MESTRADO</th>\n",
       "      <th>MÉDIO</th>\n",
       "      <th>RESIDÊNCIA</th>\n",
       "      <th>STRICTO SENSU</th>\n",
       "      <th>TÉCNICO</th>\n",
       "      <th>TÉCNICO INTEGRADO</th>\n",
       "    </tr>\n",
       "    <tr>\n",
       "      <th>ano_ingresso</th>\n",
       "      <th></th>\n",
       "      <th></th>\n",
       "      <th></th>\n",
       "      <th></th>\n",
       "      <th></th>\n",
       "      <th></th>\n",
       "      <th></th>\n",
       "      <th></th>\n",
       "      <th></th>\n",
       "      <th></th>\n",
       "      <th></th>\n",
       "      <th></th>\n",
       "    </tr>\n",
       "  </thead>\n",
       "  <tbody>\n",
       "    <tr>\n",
       "      <th>2009</th>\n",
       "      <td>456.0</td>\n",
       "      <td>NaN</td>\n",
       "      <td>30.0</td>\n",
       "      <td>7507.0</td>\n",
       "      <td>NaN</td>\n",
       "      <td>474.0</td>\n",
       "      <td>1784.0</td>\n",
       "      <td>15.0</td>\n",
       "      <td>4.0</td>\n",
       "      <td>1.0</td>\n",
       "      <td>326.0</td>\n",
       "      <td>4.0</td>\n",
       "    </tr>\n",
       "    <tr>\n",
       "      <th>2010</th>\n",
       "      <td>629.0</td>\n",
       "      <td>NaN</td>\n",
       "      <td>133.0</td>\n",
       "      <td>8884.0</td>\n",
       "      <td>122.0</td>\n",
       "      <td>2162.0</td>\n",
       "      <td>1895.0</td>\n",
       "      <td>51.0</td>\n",
       "      <td>32.0</td>\n",
       "      <td>NaN</td>\n",
       "      <td>1662.0</td>\n",
       "      <td>95.0</td>\n",
       "    </tr>\n",
       "    <tr>\n",
       "      <th>2011</th>\n",
       "      <td>616.0</td>\n",
       "      <td>800.0</td>\n",
       "      <td>20.0</td>\n",
       "      <td>8352.0</td>\n",
       "      <td>NaN</td>\n",
       "      <td>1698.0</td>\n",
       "      <td>1931.0</td>\n",
       "      <td>34.0</td>\n",
       "      <td>73.0</td>\n",
       "      <td>NaN</td>\n",
       "      <td>778.0</td>\n",
       "      <td>NaN</td>\n",
       "    </tr>\n",
       "    <tr>\n",
       "      <th>2012</th>\n",
       "      <td>618.0</td>\n",
       "      <td>1354.0</td>\n",
       "      <td>9.0</td>\n",
       "      <td>10250.0</td>\n",
       "      <td>44.0</td>\n",
       "      <td>1048.0</td>\n",
       "      <td>1989.0</td>\n",
       "      <td>41.0</td>\n",
       "      <td>84.0</td>\n",
       "      <td>NaN</td>\n",
       "      <td>2019.0</td>\n",
       "      <td>53.0</td>\n",
       "    </tr>\n",
       "    <tr>\n",
       "      <th>2013</th>\n",
       "      <td>722.0</td>\n",
       "      <td>3658.0</td>\n",
       "      <td>9.0</td>\n",
       "      <td>8713.0</td>\n",
       "      <td>60.0</td>\n",
       "      <td>3058.0</td>\n",
       "      <td>2103.0</td>\n",
       "      <td>10.0</td>\n",
       "      <td>93.0</td>\n",
       "      <td>NaN</td>\n",
       "      <td>3702.0</td>\n",
       "      <td>192.0</td>\n",
       "    </tr>\n",
       "    <tr>\n",
       "      <th>2014</th>\n",
       "      <td>681.0</td>\n",
       "      <td>1131.0</td>\n",
       "      <td>17.0</td>\n",
       "      <td>9273.0</td>\n",
       "      <td>77.0</td>\n",
       "      <td>2685.0</td>\n",
       "      <td>2303.0</td>\n",
       "      <td>NaN</td>\n",
       "      <td>91.0</td>\n",
       "      <td>NaN</td>\n",
       "      <td>4181.0</td>\n",
       "      <td>166.0</td>\n",
       "    </tr>\n",
       "    <tr>\n",
       "      <th>2015</th>\n",
       "      <td>728.0</td>\n",
       "      <td>1185.0</td>\n",
       "      <td>14.0</td>\n",
       "      <td>7668.0</td>\n",
       "      <td>87.0</td>\n",
       "      <td>2170.0</td>\n",
       "      <td>2225.0</td>\n",
       "      <td>NaN</td>\n",
       "      <td>90.0</td>\n",
       "      <td>NaN</td>\n",
       "      <td>4914.0</td>\n",
       "      <td>127.0</td>\n",
       "    </tr>\n",
       "    <tr>\n",
       "      <th>2016</th>\n",
       "      <td>825.0</td>\n",
       "      <td>1462.0</td>\n",
       "      <td>28.0</td>\n",
       "      <td>8234.0</td>\n",
       "      <td>2.0</td>\n",
       "      <td>2115.0</td>\n",
       "      <td>2742.0</td>\n",
       "      <td>NaN</td>\n",
       "      <td>205.0</td>\n",
       "      <td>NaN</td>\n",
       "      <td>2490.0</td>\n",
       "      <td>131.0</td>\n",
       "    </tr>\n",
       "    <tr>\n",
       "      <th>2017</th>\n",
       "      <td>704.0</td>\n",
       "      <td>1384.0</td>\n",
       "      <td>64.0</td>\n",
       "      <td>9540.0</td>\n",
       "      <td>47.0</td>\n",
       "      <td>1053.0</td>\n",
       "      <td>2545.0</td>\n",
       "      <td>NaN</td>\n",
       "      <td>215.0</td>\n",
       "      <td>NaN</td>\n",
       "      <td>7179.0</td>\n",
       "      <td>139.0</td>\n",
       "    </tr>\n",
       "  </tbody>\n",
       "</table>\n",
       "</div>"
      ],
      "text/plain": [
       "nivel_ensino  DOUTORADO  FORMAÇÃO COMPLEMENTAR  FUNDAMENTAL  GRADUAÇÃO  \\\n",
       "ano_ingresso                                                             \n",
       "2009              456.0                    NaN         30.0     7507.0   \n",
       "2010              629.0                    NaN        133.0     8884.0   \n",
       "2011              616.0                  800.0         20.0     8352.0   \n",
       "2012              618.0                 1354.0          9.0    10250.0   \n",
       "2013              722.0                 3658.0          9.0     8713.0   \n",
       "2014              681.0                 1131.0         17.0     9273.0   \n",
       "2015              728.0                 1185.0         14.0     7668.0   \n",
       "2016              825.0                 1462.0         28.0     8234.0   \n",
       "2017              704.0                 1384.0         64.0     9540.0   \n",
       "\n",
       "nivel_ensino  INFANTIL  LATO SENSU  MESTRADO  MÉDIO  RESIDÊNCIA  \\\n",
       "ano_ingresso                                                      \n",
       "2009               NaN       474.0    1784.0   15.0         4.0   \n",
       "2010             122.0      2162.0    1895.0   51.0        32.0   \n",
       "2011               NaN      1698.0    1931.0   34.0        73.0   \n",
       "2012              44.0      1048.0    1989.0   41.0        84.0   \n",
       "2013              60.0      3058.0    2103.0   10.0        93.0   \n",
       "2014              77.0      2685.0    2303.0    NaN        91.0   \n",
       "2015              87.0      2170.0    2225.0    NaN        90.0   \n",
       "2016               2.0      2115.0    2742.0    NaN       205.0   \n",
       "2017              47.0      1053.0    2545.0    NaN       215.0   \n",
       "\n",
       "nivel_ensino  STRICTO SENSU  TÉCNICO  TÉCNICO INTEGRADO  \n",
       "ano_ingresso                                             \n",
       "2009                    1.0    326.0                4.0  \n",
       "2010                    NaN   1662.0               95.0  \n",
       "2011                    NaN    778.0                NaN  \n",
       "2012                    NaN   2019.0               53.0  \n",
       "2013                    NaN   3702.0              192.0  \n",
       "2014                    NaN   4181.0              166.0  \n",
       "2015                    NaN   4914.0              127.0  \n",
       "2016                    NaN   2490.0              131.0  \n",
       "2017                    NaN   7179.0              139.0  "
      ]
     },
     "execution_count": 144,
     "metadata": {},
     "output_type": "execute_result"
    }
   ],
   "source": [
    "discentes_2009 = pd.read_csv('datasets/discentes/discentes-2009.csv',sep=';')\n",
    "discentes_2010 = pd.read_csv('datasets/discentes/discentes-2010.csv',sep=';')\n",
    "discentes_2011 = pd.read_csv('datasets/discentes/discentes-2011.csv',sep=';')\n",
    "discentes_2012 = pd.read_csv('datasets/discentes/discentes-2012.csv',sep=';')\n",
    "discentes_2013 = pd.read_csv('datasets/discentes/discentes-2013.csv',sep=';')\n",
    "discentes_2014 = pd.read_csv('datasets/discentes/discentes-2014.csv',sep=';')\n",
    "discentes_2015 = pd.read_csv('datasets/discentes/discentes-2015.csv',sep=';')\n",
    "discentes_2016 = pd.read_csv('datasets/discentes/discentes-2016.csv',sep=';')\n",
    "discentes_2017 = pd.read_csv('datasets/discentes/discentes-2017.csv',sep=';')\n",
    "\n",
    "discentes = pd.concat([discentes_2009,discentes_2010,discentes_2011,discentes_2012,discentes_2013,discentes_2014,discentes_2015,discentes_2016,discentes_2017])\n",
    "discentes.reset_index(drop=True)\n",
    "\n",
    "ano_ingresso = pd.DataFrame(discentes.groupby('ano_ingresso', as_index=False).agg('tipo_discente').count())\n",
    "ano_ingresso.columns = ['ano','quantidade']\n",
    "\n",
    "pd.DataFrame(discentes.groupby(['nivel_ensino','ano_ingresso'])['matricula'].agg(['count']))\n",
    "ingresso_nivel_ensino = pd.DataFrame(discentes.groupby(['nivel_ensino','ano_ingresso'], as_index=False).agg('tipo_discente').count())\n",
    "ingresso_nivel_ensino = pd.pivot_table(ingresso_nivel_ensino, index='ano_ingresso',columns=['nivel_ensino'])\n",
    "ingresso_nivel_ensino.columns = ingresso_nivel_ensino.columns.droplevel(level=0)\n",
    "\n",
    "ingresso_nivel_ensino"
   ]
  },
  {
   "cell_type": "code",
   "execution_count": 240,
   "metadata": {
    "scrolled": false
   },
   "outputs": [
    {
     "data": {
      "application/vnd.plotly.v1+json": {
       "config": {
        "linkText": "Export to plot.ly",
        "plotlyServerURL": "https://plot.ly",
        "showLink": false
       },
       "data": [
        {
         "marker": {
          "color": "rgb(42, 169, 201)"
         },
         "name": "Doutorado",
         "type": "bar",
         "uid": "3fe9391a-3056-4007-b93e-466eaa55b15c",
         "x": [
          2009,
          2010,
          2011,
          2012,
          2013,
          2014,
          2015,
          2016,
          2017
         ],
         "y": [
          456,
          629,
          616,
          618,
          722,
          681,
          728,
          825,
          704
         ]
        },
        {
         "marker": {
          "color": "rgb(71, 99, 132)"
         },
         "name": "Mestrado",
         "type": "bar",
         "uid": "56648ef4-1b30-49a3-bf4a-6cc76f5942ff",
         "x": [
          2009,
          2010,
          2011,
          2012,
          2013,
          2014,
          2015,
          2016,
          2017
         ],
         "y": [
          1784,
          1895,
          1931,
          1989,
          2103,
          2303,
          2225,
          2742,
          2545
         ]
        },
        {
         "marker": {
          "color": "rgb(128, 122, 249)"
         },
         "name": "Graduação",
         "type": "bar",
         "uid": "1a5a9724-6fc8-499f-8e27-1898b5120edb",
         "x": [
          2009,
          2010,
          2011,
          2012,
          2013,
          2014,
          2015,
          2016,
          2017
         ],
         "y": [
          7507,
          8884,
          8352,
          10250,
          8713,
          9273,
          7668,
          8234,
          9540
         ]
        },
        {
         "marker": {
          "color": "rgb(111, 21, 124)"
         },
         "name": "Técnico",
         "type": "bar",
         "uid": "3cc22b67-25a7-4718-9aa4-94bb4a80da8b",
         "x": [
          2009,
          2010,
          2011,
          2012,
          2013,
          2014,
          2015,
          2016,
          2017
         ],
         "y": [
          326,
          1662,
          778,
          2019,
          3702,
          4181,
          4914,
          2490,
          7179
         ]
        }
       ],
       "layout": {
        "paper_bgcolor": "rgb(250, 250, 250)",
        "plot_bgcolor": "rgb(250, 250, 250)",
        "title": {
         "text": "Ingressos por ano em diferentes níveis de ensino"
        },
        "xaxis": {
         "title": {
          "text": "Ano"
         }
        },
        "yaxis": {
         "title": {
          "text": "Quantidade de ingressos"
         }
        }
       }
      },
      "text/html": [
       "<div id=\"c1e59154-2ac4-41b2-b21f-c7ea356cfe6c\" style=\"height: 525px; width: 100%;\" class=\"plotly-graph-div\"></div><script type=\"text/javascript\">require([\"plotly\"], function(Plotly) { window.PLOTLYENV=window.PLOTLYENV || {};window.PLOTLYENV.BASE_URL=\"https://plot.ly\";\n",
       "if (document.getElementById(\"c1e59154-2ac4-41b2-b21f-c7ea356cfe6c\")) {\n",
       "    Plotly.newPlot(\"c1e59154-2ac4-41b2-b21f-c7ea356cfe6c\", [{\"marker\": {\"color\": \"rgb(42, 169, 201)\"}, \"name\": \"Doutorado\", \"x\": [2009, 2010, 2011, 2012, 2013, 2014, 2015, 2016, 2017], \"y\": [456.0, 629.0, 616.0, 618.0, 722.0, 681.0, 728.0, 825.0, 704.0], \"type\": \"bar\", \"uid\": \"3fe9391a-3056-4007-b93e-466eaa55b15c\"}, {\"marker\": {\"color\": \"rgb(71, 99, 132)\"}, \"name\": \"Mestrado\", \"x\": [2009, 2010, 2011, 2012, 2013, 2014, 2015, 2016, 2017], \"y\": [1784.0, 1895.0, 1931.0, 1989.0, 2103.0, 2303.0, 2225.0, 2742.0, 2545.0], \"type\": \"bar\", \"uid\": \"56648ef4-1b30-49a3-bf4a-6cc76f5942ff\"}, {\"marker\": {\"color\": \"rgb(128, 122, 249)\"}, \"name\": \"Gradua\\u00e7\\u00e3o\", \"x\": [2009, 2010, 2011, 2012, 2013, 2014, 2015, 2016, 2017], \"y\": [7507.0, 8884.0, 8352.0, 10250.0, 8713.0, 9273.0, 7668.0, 8234.0, 9540.0], \"type\": \"bar\", \"uid\": \"1a5a9724-6fc8-499f-8e27-1898b5120edb\"}, {\"marker\": {\"color\": \"rgb(111, 21, 124)\"}, \"name\": \"T\\u00e9cnico\", \"x\": [2009, 2010, 2011, 2012, 2013, 2014, 2015, 2016, 2017], \"y\": [326.0, 1662.0, 778.0, 2019.0, 3702.0, 4181.0, 4914.0, 2490.0, 7179.0], \"type\": \"bar\", \"uid\": \"3cc22b67-25a7-4718-9aa4-94bb4a80da8b\"}], {\"paper_bgcolor\": \"rgb(250, 250, 250)\", \"plot_bgcolor\": \"rgb(250, 250, 250)\", \"title\": {\"text\": \"Ingressos por ano em diferentes n\\u00edveis de ensino\"}, \"xaxis\": {\"title\": {\"text\": \"Ano\"}}, \"yaxis\": {\"title\": {\"text\": \"Quantidade de ingressos\"}}}, {\"showLink\": false, \"linkText\": \"Export to plot.ly\", \"plotlyServerURL\": \"https://plot.ly\"}); \n",
       "}\n",
       "});</script><script type=\"text/javascript\">window.addEventListener(\"resize\", function(){if (document.getElementById(\"c1e59154-2ac4-41b2-b21f-c7ea356cfe6c\")) {window._Plotly.Plots.resize(document.getElementById(\"c1e59154-2ac4-41b2-b21f-c7ea356cfe6c\"));};})</script>"
      ],
      "text/vnd.plotly.v1+html": [
       "<div id=\"c1e59154-2ac4-41b2-b21f-c7ea356cfe6c\" style=\"height: 525px; width: 100%;\" class=\"plotly-graph-div\"></div><script type=\"text/javascript\">require([\"plotly\"], function(Plotly) { window.PLOTLYENV=window.PLOTLYENV || {};window.PLOTLYENV.BASE_URL=\"https://plot.ly\";\n",
       "if (document.getElementById(\"c1e59154-2ac4-41b2-b21f-c7ea356cfe6c\")) {\n",
       "    Plotly.newPlot(\"c1e59154-2ac4-41b2-b21f-c7ea356cfe6c\", [{\"marker\": {\"color\": \"rgb(42, 169, 201)\"}, \"name\": \"Doutorado\", \"x\": [2009, 2010, 2011, 2012, 2013, 2014, 2015, 2016, 2017], \"y\": [456.0, 629.0, 616.0, 618.0, 722.0, 681.0, 728.0, 825.0, 704.0], \"type\": \"bar\", \"uid\": \"3fe9391a-3056-4007-b93e-466eaa55b15c\"}, {\"marker\": {\"color\": \"rgb(71, 99, 132)\"}, \"name\": \"Mestrado\", \"x\": [2009, 2010, 2011, 2012, 2013, 2014, 2015, 2016, 2017], \"y\": [1784.0, 1895.0, 1931.0, 1989.0, 2103.0, 2303.0, 2225.0, 2742.0, 2545.0], \"type\": \"bar\", \"uid\": \"56648ef4-1b30-49a3-bf4a-6cc76f5942ff\"}, {\"marker\": {\"color\": \"rgb(128, 122, 249)\"}, \"name\": \"Gradua\\u00e7\\u00e3o\", \"x\": [2009, 2010, 2011, 2012, 2013, 2014, 2015, 2016, 2017], \"y\": [7507.0, 8884.0, 8352.0, 10250.0, 8713.0, 9273.0, 7668.0, 8234.0, 9540.0], \"type\": \"bar\", \"uid\": \"1a5a9724-6fc8-499f-8e27-1898b5120edb\"}, {\"marker\": {\"color\": \"rgb(111, 21, 124)\"}, \"name\": \"T\\u00e9cnico\", \"x\": [2009, 2010, 2011, 2012, 2013, 2014, 2015, 2016, 2017], \"y\": [326.0, 1662.0, 778.0, 2019.0, 3702.0, 4181.0, 4914.0, 2490.0, 7179.0], \"type\": \"bar\", \"uid\": \"3cc22b67-25a7-4718-9aa4-94bb4a80da8b\"}], {\"paper_bgcolor\": \"rgb(250, 250, 250)\", \"plot_bgcolor\": \"rgb(250, 250, 250)\", \"title\": {\"text\": \"Ingressos por ano em diferentes n\\u00edveis de ensino\"}, \"xaxis\": {\"title\": {\"text\": \"Ano\"}}, \"yaxis\": {\"title\": {\"text\": \"Quantidade de ingressos\"}}}, {\"showLink\": false, \"linkText\": \"Export to plot.ly\", \"plotlyServerURL\": \"https://plot.ly\"}); \n",
       "}\n",
       "});</script><script type=\"text/javascript\">window.addEventListener(\"resize\", function(){if (document.getElementById(\"c1e59154-2ac4-41b2-b21f-c7ea356cfe6c\")) {window._Plotly.Plots.resize(document.getElementById(\"c1e59154-2ac4-41b2-b21f-c7ea356cfe6c\"));};})</script>"
      ]
     },
     "metadata": {},
     "output_type": "display_data"
    }
   ],
   "source": [
    "doutorado_quantidade_bar = go.Bar(x=ingresso_nivel_ensino.index,y=ingresso_nivel_ensino.DOUTORADO,name='Doutorado',\n",
    "                  marker=dict(color='rgb(42, 169, 201)'))\n",
    "graduacao_quantidade_bar = go.Bar(x=ingresso_nivel_ensino.index,y=ingresso_nivel_ensino.GRADUAÇÃO,name='Graduação',\n",
    "                  marker=dict(color='rgb(128, 122, 249)'))\n",
    "mestrado_quantidade_bar = go.Bar(x=ingresso_nivel_ensino.index,y=ingresso_nivel_ensino.MESTRADO,name='Mestrado',\n",
    "                 marker=dict(color='rgb(71, 99, 132)'))\n",
    "tecnico_quantidade_bar = go.Bar(x=ingresso_nivel_ensino.index,y=ingresso_nivel_ensino.TÉCNICO,name='Técnico',\n",
    "                marker=dict(color='rgb(111, 21, 124)'))\n",
    "\n",
    "data_quantidade_bar = [doutorado_quantidade_bar,mestrado_quantidade_bar,graduacao_quantidade_bar,tecnico_quantidade_bar]\n",
    "\n",
    "layout_quantidade_bar = go.Layout(title=\"Ingressos por ano em diferentes níveis de ensino\",\n",
    "        xaxis=dict(title='Ano'),\n",
    "        yaxis=dict(title='Quantidade de ingressos'),\n",
    "        paper_bgcolor='rgb(250, 250, 250)',\n",
    "        plot_bgcolor='rgb(250, 250, 250)'\n",
    "    )\n",
    "\n",
    "fig_quantidade_bar = go.Figure(data=data_quantidade_bar,layout=layout_quantidade_bar)\n",
    "offline.iplot(fig_quantidade_bar)"
   ]
  },
  {
   "cell_type": "code",
   "execution_count": 259,
   "metadata": {
    "scrolled": false
   },
   "outputs": [],
   "source": [
    "### doutorado\n",
    "doutorado_status = discentes[discentes.nivel_ensino == 'DOUTORADO'][['ano_ingresso','status']].groupby(['ano_ingresso','status']).apply(lambda x: len(x))\n",
    "doutorado_status = pd.DataFrame(doutorado_status,columns=['count']).unstack(level=0).fillna(0)\n",
    "doutorado_status.columns = doutorado_status.columns.droplevel(level=0)\n",
    "\n",
    "### mestrado\n",
    "mestrado_status = discentes[discentes.nivel_ensino == 'MESTRADO'][['ano_ingresso','status']].groupby(['ano_ingresso','status']).apply(lambda x: len(x))\n",
    "mestrado_status = pd.DataFrame(mestrado_status,columns=['count']).unstack(level=0).fillna(0)\n",
    "mestrado_status = mestrado_status.columns.droplevel(level=0)\n",
    "\n",
    "### graduação\n",
    "graduacao_status = discentes[discentes.nivel_ensino == 'GRADUAÇÃO'][['ano_ingresso','status']].groupby(['ano_ingresso','status']).apply(lambda x: len(x))\n",
    "graduacao_status = pd.DataFrame(graduacao_status,columns=['count']).unstack(level=0).fillna(0)\n",
    "graduacao_status.columns = graduacao_status.columns.droplevel(level=0)\n",
    "\n",
    "### técnico\n",
    "tecnico_status = discentes[discentes.nivel_ensino == 'TÉCNICO'][['ano_ingresso','status']].groupby(['ano_ingresso','status']).apply(lambda x: len(x))\n",
    "tecnico_status = pd.DataFrame(tecnico_status,columns=['count']).unstack(level=0).fillna(0)\n",
    "tecnico_status.columns = tecnico_status.columns.droplevel(level=0)"
   ]
  }
 ],
 "metadata": {
  "kernelspec": {
   "display_name": "Python 3",
   "language": "python",
   "name": "python3"
  },
  "language_info": {
   "codemirror_mode": {
    "name": "ipython",
    "version": 3
   },
   "file_extension": ".py",
   "mimetype": "text/x-python",
   "name": "python",
   "nbconvert_exporter": "python",
   "pygments_lexer": "ipython3",
   "version": "3.6.8"
  }
 },
 "nbformat": 4,
 "nbformat_minor": 2
}
