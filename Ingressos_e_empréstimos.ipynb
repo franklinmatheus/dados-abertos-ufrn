{
 "cells": [
  {
   "cell_type": "code",
   "execution_count": 13,
   "metadata": {},
   "outputs": [
    {
     "data": {
      "text/html": [
       "<script>\n",
       "code_show=true; \n",
       "function code_toggle() {\n",
       " if (code_show){\n",
       " $('div.input').hide();\n",
       " } else {\n",
       " $('div.input').show();\n",
       " }\n",
       " code_show = !code_show\n",
       "} \n",
       "$( document ).ready(code_toggle);\n",
       "</script>\n",
       "<form action=\"javascript:code_toggle()\"><input type=\"submit\" value=\"Click here to toggle on/off the raw code.\"></form>"
      ],
      "text/plain": [
       "<IPython.core.display.HTML object>"
      ]
     },
     "execution_count": 13,
     "metadata": {},
     "output_type": "execute_result"
    }
   ],
   "source": [
    "from IPython.display import HTML\n",
    "\n",
    "HTML('''<script>\n",
    "code_show=true; \n",
    "function code_toggle() {\n",
    " if (code_show){\n",
    " $('div.input').hide();\n",
    " } else {\n",
    " $('div.input').show();\n",
    " }\n",
    " code_show = !code_show\n",
    "} \n",
    "$( document ).ready(code_toggle);\n",
    "</script>\n",
    "<form action=\"javascript:code_toggle()\"><input type=\"submit\" value=\"Click here to toggle on/off the raw code.\"></form>''')"
   ]
  },
  {
   "cell_type": "code",
   "execution_count": 2,
   "metadata": {},
   "outputs": [],
   "source": [
    "import pandas as pd\n",
    "import plotly.plotly as py\n",
    "import plotly.graph_objs as go\n",
    "import plotly.offline as offline"
   ]
  },
  {
   "cell_type": "code",
   "execution_count": 245,
   "metadata": {
    "scrolled": true
   },
   "outputs": [
    {
     "name": "stderr",
     "output_type": "stream",
     "text": [
      "/home/franklin/anaconda3/lib/python3.6/site-packages/ipykernel_launcher.py:33: FutureWarning:\n",
      "\n",
      "using a dict with renaming is deprecated and will be removed in a future version\n",
      "\n"
     ]
    }
   ],
   "source": [
    "import calendar\n",
    "\n",
    "emprestimos_2010_1 = pd.read_csv('datasets/emprestimos/emprestimos-20101.csv',sep=';')\n",
    "emprestimos_2010_2 = pd.read_csv('datasets/emprestimos/emprestimos-20102.csv',sep=';')\n",
    "emprestimos_2011_1 = pd.read_csv('datasets/emprestimos/emprestimos-20111.csv',sep=';')\n",
    "emprestimos_2011_2 = pd.read_csv('datasets/emprestimos/emprestimos-20112.csv',sep=';')\n",
    "emprestimos_2012_1 = pd.read_csv('datasets/emprestimos/emprestimos-20121.csv',sep=';')\n",
    "emprestimos_2012_2 = pd.read_csv('datasets/emprestimos/emprestimos-20122.csv',sep=';')\n",
    "emprestimos_2013_1 = pd.read_csv('datasets/emprestimos/emprestimos-20131.csv',sep=';')\n",
    "emprestimos_2013_2 = pd.read_csv('datasets/emprestimos/emprestimos-20132.csv',sep=';')\n",
    "emprestimos_2014_1 = pd.read_csv('datasets/emprestimos/emprestimos-20141.csv',sep=';')\n",
    "emprestimos_2014_2 = pd.read_csv('datasets/emprestimos/emprestimos-20142.csv',sep=';')\n",
    "emprestimos_2015_1 = pd.read_csv('datasets/emprestimos/emprestimos-20151.csv',sep=';')\n",
    "emprestimos_2015_2 = pd.read_csv('datasets/emprestimos/emprestimos-20152.csv',sep=';')\n",
    "emprestimos_2016_1 = pd.read_csv('datasets/emprestimos/emprestimos-20161.csv',sep=';')\n",
    "emprestimos_2016_2 = pd.read_csv('datasets/emprestimos/emprestimos-20162.csv',sep=';')\n",
    "emprestimos_2017_1 = pd.read_csv('datasets/emprestimos/emprestimos-20171.csv',sep=';')\n",
    "emprestimos_2017_2 = pd.read_csv('datasets/emprestimos/emprestimos-20172.csv',sep=';')\n",
    "\n",
    "emprestimos = pd.concat([emprestimos_2010_1,emprestimos_2010_2,emprestimos_2011_1,emprestimos_2011_2,\n",
    "                         emprestimos_2012_1,emprestimos_2012_2,emprestimos_2013_1,emprestimos_2013_2,\n",
    "                         emprestimos_2014_1,emprestimos_2014_2,emprestimos_2015_1,emprestimos_2015_2,\n",
    "                         emprestimos_2016_1,emprestimos_2016_2,emprestimos_2017_1,emprestimos_2017_2])\n",
    "emprestimos.reset_index(drop=True)\n",
    "emprestimos.data_emprestimo = pd.to_datetime(emprestimos.data_emprestimo)\n",
    "\n",
    "# this makes a pandas series\n",
    "#emprestimos['count'] = 1\n",
    "#emprestimos_por_mes = pd.DataFrame(emprestimos.count,index=emprestimos.index)\n",
    "#emprestimos_por_mes = emprestimos.resample('M',on='data_emprestimo')['count'].sum()\n",
    "\n",
    "# count the number of rows grouping by month, that is, number of loans by month\n",
    "emprestimos_por_mes = emprestimos.resample('M',on='data_emprestimo').agg({\"quantity\":\"size\"})\n",
    "\n",
    "media_emprestimos_por_mes = emprestimos_por_mes.groupby(emprestimos_por_mes.index.month).mean()\n",
    "emprestimos_por_ano = emprestimos_por_mes.groupby(emprestimos_por_mes.index.year).sum()\n",
    "# setting up the dataframe to futute uses\n",
    "media_emprestimos_por_mes.index.name = 'month'\n",
    "media_emprestimos_por_mes = media_emprestimos_por_mes.reset_index()\n",
    "media_emprestimos_por_mes['month'] = media_emprestimos_por_mes['month'].apply(lambda x: calendar.month_abbr[x])\n",
    "\n",
    "# setting up the dataframe to future uses\n",
    "emprestimos_por_mes = emprestimos_por_mes.reset_index()\n",
    "emprestimos_por_mes.data_emprestimo = emprestimos_por_mes.data_emprestimo.apply(lambda x: x.strftime('%b %Y'))"
   ]
  },
  {
   "cell_type": "code",
   "execution_count": 149,
   "metadata": {},
   "outputs": [
    {
     "data": {
      "application/vnd.plotly.v1+json": {
       "config": {
        "linkText": "Export to plot.ly",
        "plotlyServerURL": "https://plot.ly",
        "showLink": false
       },
       "data": [
        {
         "hovertemplate": "quantity=%{r}<br>month=%{theta}<extra></extra>",
         "legendgroup": "",
         "marker": {
          "color": "#6b1cfb"
         },
         "name": "",
         "r": [
          7394.625,
          22913.125,
          27095,
          23878.625,
          23025.25,
          14926.75,
          13300.625,
          25760.25,
          23829.25,
          21543.25,
          19075.125,
          9102.125
         ],
         "showlegend": false,
         "theta": [
          "Jan",
          "Feb",
          "Mar",
          "Apr",
          "May",
          "Jun",
          "Jul",
          "Aug",
          "Sep",
          "Oct",
          "Nov",
          "Dec"
         ],
         "type": "barpolar",
         "uid": "2f547132-3d53-4663-993d-0717f72745ca"
        }
       ],
       "layout": {
        "barmode": "relative",
        "barnorm": "",
        "height": 600,
        "legend": {
         "tracegroupgap": 0
        },
        "margin": {
         "t": 60
        },
        "polar": {
         "angularaxis": {
          "direction": "clockwise",
          "rotation": 90
         }
        },
        "template": {
         "data": {
          "bar": [
           {
            "marker": {
             "line": {
              "color": "rgb(17,17,17)",
              "width": 0.5
             }
            },
            "type": "bar"
           }
          ],
          "barpolar": [
           {
            "marker": {
             "line": {
              "color": "rgb(17,17,17)",
              "width": 0.5
             }
            },
            "type": "barpolar"
           }
          ],
          "carpet": [
           {
            "aaxis": {
             "endlinecolor": "#A2B1C6",
             "gridcolor": "#506784",
             "linecolor": "#506784",
             "minorgridcolor": "#506784",
             "startlinecolor": "#A2B1C6"
            },
            "baxis": {
             "endlinecolor": "#A2B1C6",
             "gridcolor": "#506784",
             "linecolor": "#506784",
             "minorgridcolor": "#506784",
             "startlinecolor": "#A2B1C6"
            },
            "type": "carpet"
           }
          ],
          "choropleth": [
           {
            "colorbar": {
             "outlinewidth": 0,
             "ticks": ""
            },
            "type": "choropleth"
           }
          ],
          "contour": [
           {
            "autocolorscale": true,
            "colorbar": {
             "outlinewidth": 0,
             "ticks": ""
            },
            "type": "contour"
           }
          ],
          "contourcarpet": [
           {
            "colorbar": {
             "outlinewidth": 0,
             "ticks": ""
            },
            "type": "contourcarpet"
           }
          ],
          "heatmap": [
           {
            "autocolorscale": true,
            "colorbar": {
             "outlinewidth": 0,
             "ticks": ""
            },
            "type": "heatmap"
           }
          ],
          "heatmapgl": [
           {
            "colorbar": {
             "outlinewidth": 0,
             "ticks": ""
            },
            "type": "heatmapgl"
           }
          ],
          "histogram": [
           {
            "marker": {
             "colorbar": {
              "outlinewidth": 0,
              "ticks": ""
             }
            },
            "type": "histogram"
           }
          ],
          "histogram2d": [
           {
            "autocolorscale": true,
            "colorbar": {
             "outlinewidth": 0,
             "ticks": ""
            },
            "type": "histogram2d"
           }
          ],
          "histogram2dcontour": [
           {
            "autocolorscale": true,
            "colorbar": {
             "outlinewidth": 0,
             "ticks": ""
            },
            "type": "histogram2dcontour"
           }
          ],
          "mesh3d": [
           {
            "colorbar": {
             "outlinewidth": 0,
             "ticks": ""
            },
            "type": "mesh3d"
           }
          ],
          "parcoords": [
           {
            "line": {
             "colorbar": {
              "outlinewidth": 0,
              "ticks": ""
             }
            },
            "type": "parcoords"
           }
          ],
          "scatter": [
           {
            "marker": {
             "line": {
              "color": "#283442"
             }
            },
            "type": "scatter"
           }
          ],
          "scatter3d": [
           {
            "marker": {
             "colorbar": {
              "outlinewidth": 0,
              "ticks": ""
             }
            },
            "type": "scatter3d"
           }
          ],
          "scattercarpet": [
           {
            "marker": {
             "colorbar": {
              "outlinewidth": 0,
              "ticks": ""
             }
            },
            "type": "scattercarpet"
           }
          ],
          "scattergeo": [
           {
            "marker": {
             "colorbar": {
              "outlinewidth": 0,
              "ticks": ""
             }
            },
            "type": "scattergeo"
           }
          ],
          "scattergl": [
           {
            "marker": {
             "line": {
              "color": "#283442"
             }
            },
            "type": "scattergl"
           }
          ],
          "scattermapbox": [
           {
            "marker": {
             "colorbar": {
              "outlinewidth": 0,
              "ticks": ""
             }
            },
            "type": "scattermapbox"
           }
          ],
          "scatterpolar": [
           {
            "marker": {
             "colorbar": {
              "outlinewidth": 0,
              "ticks": ""
             }
            },
            "type": "scatterpolar"
           }
          ],
          "scatterpolargl": [
           {
            "marker": {
             "colorbar": {
              "outlinewidth": 0,
              "ticks": ""
             }
            },
            "type": "scatterpolargl"
           }
          ],
          "scatterternary": [
           {
            "marker": {
             "colorbar": {
              "outlinewidth": 0,
              "ticks": ""
             }
            },
            "type": "scatterternary"
           }
          ],
          "surface": [
           {
            "colorbar": {
             "outlinewidth": 0,
             "ticks": ""
            },
            "type": "surface"
           }
          ],
          "table": [
           {
            "cells": {
             "fill": {
              "color": "#506784"
             },
             "line": {
              "color": "rgb(17,17,17)"
             }
            },
            "header": {
             "fill": {
              "color": "#2a3f5f"
             },
             "line": {
              "color": "rgb(17,17,17)"
             }
            },
            "type": "table"
           }
          ]
         },
         "layout": {
          "annotationdefaults": {
           "arrowcolor": "#f2f5fa",
           "arrowhead": 0,
           "arrowwidth": 1
          },
          "colorscale": {
           "diverging": [
            [
             0,
             "#8e0152"
            ],
            [
             0.1,
             "#c51b7d"
            ],
            [
             0.2,
             "#de77ae"
            ],
            [
             0.3,
             "#f1b6da"
            ],
            [
             0.4,
             "#fde0ef"
            ],
            [
             0.5,
             "#f7f7f7"
            ],
            [
             0.6,
             "#e6f5d0"
            ],
            [
             0.7,
             "#b8e186"
            ],
            [
             0.8,
             "#7fbc41"
            ],
            [
             0.9,
             "#4d9221"
            ],
            [
             1,
             "#276419"
            ]
           ],
           "sequential": [
            [
             0,
             "#0508b8"
            ],
            [
             0.0893854748603352,
             "#1910d8"
            ],
            [
             0.1787709497206704,
             "#3c19f0"
            ],
            [
             0.2681564245810056,
             "#6b1cfb"
            ],
            [
             0.3575418994413408,
             "#981cfd"
            ],
            [
             0.44692737430167595,
             "#bf1cfd"
            ],
            [
             0.5363128491620112,
             "#dd2bfd"
            ],
            [
             0.6256983240223464,
             "#f246fe"
            ],
            [
             0.7150837988826816,
             "#fc67fd"
            ],
            [
             0.8044692737430168,
             "#fe88fc"
            ],
            [
             0.8938547486033519,
             "#fea5fd"
            ],
            [
             0.9832402234636871,
             "#febefe"
            ],
            [
             1,
             "#fec3fe"
            ]
           ],
           "sequentialminus": [
            [
             0,
             "#0508b8"
            ],
            [
             0.0893854748603352,
             "#1910d8"
            ],
            [
             0.1787709497206704,
             "#3c19f0"
            ],
            [
             0.2681564245810056,
             "#6b1cfb"
            ],
            [
             0.3575418994413408,
             "#981cfd"
            ],
            [
             0.44692737430167595,
             "#bf1cfd"
            ],
            [
             0.5363128491620112,
             "#dd2bfd"
            ],
            [
             0.6256983240223464,
             "#f246fe"
            ],
            [
             0.7150837988826816,
             "#fc67fd"
            ],
            [
             0.8044692737430168,
             "#fe88fc"
            ],
            [
             0.8938547486033519,
             "#fea5fd"
            ],
            [
             0.9832402234636871,
             "#febefe"
            ],
            [
             1,
             "#fec3fe"
            ]
           ]
          },
          "colorway": [
           "#636efa",
           "#EF553B",
           "#00cc96",
           "#ab63fa",
           "#19d3f3",
           "#e763fa",
           "#FECB52",
           "#FFA15A",
           "#FF6692",
           "#B6E880"
          ],
          "font": {
           "color": "#f2f5fa"
          },
          "geo": {
           "bgcolor": "rgb(17,17,17)",
           "lakecolor": "rgb(17,17,17)",
           "landcolor": "rgb(17,17,17)",
           "showlakes": true,
           "showland": true,
           "subunitcolor": "#506784"
          },
          "hovermode": "closest",
          "mapbox": {
           "style": "dark"
          },
          "paper_bgcolor": "rgb(17,17,17)",
          "plot_bgcolor": "rgb(17,17,17)",
          "polar": {
           "angularaxis": {
            "gridcolor": "#506784",
            "linecolor": "#506784",
            "ticks": ""
           },
           "bgcolor": "rgb(17,17,17)",
           "radialaxis": {
            "gridcolor": "#506784",
            "linecolor": "#506784",
            "ticks": ""
           }
          },
          "scene": {
           "xaxis": {
            "backgroundcolor": "rgb(17,17,17)",
            "gridcolor": "#506784",
            "gridwidth": 2,
            "linecolor": "#506784",
            "showbackground": true,
            "ticks": "",
            "zerolinecolor": "#C8D4E3"
           },
           "yaxis": {
            "backgroundcolor": "rgb(17,17,17)",
            "gridcolor": "#506784",
            "gridwidth": 2,
            "linecolor": "#506784",
            "showbackground": true,
            "ticks": "",
            "zerolinecolor": "#C8D4E3"
           },
           "zaxis": {
            "backgroundcolor": "rgb(17,17,17)",
            "gridcolor": "#506784",
            "gridwidth": 2,
            "linecolor": "#506784",
            "showbackground": true,
            "ticks": "",
            "zerolinecolor": "#C8D4E3"
           }
          },
          "shapedefaults": {
           "fillcolor": "#f2f5fa",
           "line": {
            "width": 0
           },
           "opacity": 0.4
          },
          "sliderdefaults": {
           "bgcolor": "#C8D4E3",
           "bordercolor": "rgb(17,17,17)",
           "borderwidth": 1,
           "tickwidth": 0
          },
          "ternary": {
           "aaxis": {
            "gridcolor": "#506784",
            "linecolor": "#506784",
            "ticks": ""
           },
           "baxis": {
            "gridcolor": "#506784",
            "linecolor": "#506784",
            "ticks": ""
           },
           "bgcolor": "rgb(17,17,17)",
           "caxis": {
            "gridcolor": "#506784",
            "linecolor": "#506784",
            "ticks": ""
           }
          },
          "title": {
           "x": 0.05
          },
          "updatemenudefaults": {
           "bgcolor": "#506784",
           "borderwidth": 0
          },
          "xaxis": {
           "automargin": true,
           "gridcolor": "#283442",
           "linecolor": "#506784",
           "ticks": "",
           "zerolinecolor": "#283442",
           "zerolinewidth": 2
          },
          "yaxis": {
           "automargin": true,
           "gridcolor": "#283442",
           "linecolor": "#506784",
           "ticks": "",
           "zerolinecolor": "#283442",
           "zerolinewidth": 2
          }
         }
        }
       }
      },
      "text/html": [
       "<div id=\"ad6e7b17-0fe1-4dc5-a2e4-eaf04751aced\" style=\"height: 600px; width: 100%;\" class=\"plotly-graph-div\"></div><script type=\"text/javascript\">require([\"plotly\"], function(Plotly) { window.PLOTLYENV=window.PLOTLYENV || {};window.PLOTLYENV.BASE_URL=\"https://plot.ly\";\n",
       "if (document.getElementById(\"ad6e7b17-0fe1-4dc5-a2e4-eaf04751aced\")) {\n",
       "    Plotly.newPlot(\"ad6e7b17-0fe1-4dc5-a2e4-eaf04751aced\", [{\"hovertemplate\": \"quantity=%{r}<br>month=%{theta}<extra></extra>\", \"legendgroup\": \"\", \"marker\": {\"color\": \"#6b1cfb\"}, \"name\": \"\", \"r\": [7394.625, 22913.125, 27095.0, 23878.625, 23025.25, 14926.75, 13300.625, 25760.25, 23829.25, 21543.25, 19075.125, 9102.125], \"showlegend\": false, \"theta\": [\"Jan\", \"Feb\", \"Mar\", \"Apr\", \"May\", \"Jun\", \"Jul\", \"Aug\", \"Sep\", \"Oct\", \"Nov\", \"Dec\"], \"type\": \"barpolar\", \"uid\": \"2f547132-3d53-4663-993d-0717f72745ca\"}], {\"barmode\": \"relative\", \"barnorm\": \"\", \"height\": 600, \"legend\": {\"tracegroupgap\": 0}, \"margin\": {\"t\": 60}, \"template\": {\"data\": {\"barpolar\": [{\"marker\": {\"line\": {\"color\": \"rgb(17,17,17)\", \"width\": 0.5}}, \"type\": \"barpolar\"}], \"bar\": [{\"marker\": {\"line\": {\"color\": \"rgb(17,17,17)\", \"width\": 0.5}}, \"type\": \"bar\"}], \"carpet\": [{\"aaxis\": {\"endlinecolor\": \"#A2B1C6\", \"gridcolor\": \"#506784\", \"linecolor\": \"#506784\", \"minorgridcolor\": \"#506784\", \"startlinecolor\": \"#A2B1C6\"}, \"baxis\": {\"endlinecolor\": \"#A2B1C6\", \"gridcolor\": \"#506784\", \"linecolor\": \"#506784\", \"minorgridcolor\": \"#506784\", \"startlinecolor\": \"#A2B1C6\"}, \"type\": \"carpet\"}], \"choropleth\": [{\"colorbar\": {\"outlinewidth\": 0, \"ticks\": \"\"}, \"type\": \"choropleth\"}], \"contourcarpet\": [{\"colorbar\": {\"outlinewidth\": 0, \"ticks\": \"\"}, \"type\": \"contourcarpet\"}], \"contour\": [{\"autocolorscale\": true, \"colorbar\": {\"outlinewidth\": 0, \"ticks\": \"\"}, \"type\": \"contour\"}], \"heatmapgl\": [{\"colorbar\": {\"outlinewidth\": 0, \"ticks\": \"\"}, \"type\": \"heatmapgl\"}], \"heatmap\": [{\"autocolorscale\": true, \"colorbar\": {\"outlinewidth\": 0, \"ticks\": \"\"}, \"type\": \"heatmap\"}], \"histogram2dcontour\": [{\"autocolorscale\": true, \"colorbar\": {\"outlinewidth\": 0, \"ticks\": \"\"}, \"type\": \"histogram2dcontour\"}], \"histogram2d\": [{\"autocolorscale\": true, \"colorbar\": {\"outlinewidth\": 0, \"ticks\": \"\"}, \"type\": \"histogram2d\"}], \"histogram\": [{\"marker\": {\"colorbar\": {\"outlinewidth\": 0, \"ticks\": \"\"}}, \"type\": \"histogram\"}], \"mesh3d\": [{\"colorbar\": {\"outlinewidth\": 0, \"ticks\": \"\"}, \"type\": \"mesh3d\"}], \"parcoords\": [{\"line\": {\"colorbar\": {\"outlinewidth\": 0, \"ticks\": \"\"}}, \"type\": \"parcoords\"}], \"scatter3d\": [{\"marker\": {\"colorbar\": {\"outlinewidth\": 0, \"ticks\": \"\"}}, \"type\": \"scatter3d\"}], \"scattercarpet\": [{\"marker\": {\"colorbar\": {\"outlinewidth\": 0, \"ticks\": \"\"}}, \"type\": \"scattercarpet\"}], \"scattergeo\": [{\"marker\": {\"colorbar\": {\"outlinewidth\": 0, \"ticks\": \"\"}}, \"type\": \"scattergeo\"}], \"scattergl\": [{\"marker\": {\"line\": {\"color\": \"#283442\"}}, \"type\": \"scattergl\"}], \"scattermapbox\": [{\"marker\": {\"colorbar\": {\"outlinewidth\": 0, \"ticks\": \"\"}}, \"type\": \"scattermapbox\"}], \"scatterpolargl\": [{\"marker\": {\"colorbar\": {\"outlinewidth\": 0, \"ticks\": \"\"}}, \"type\": \"scatterpolargl\"}], \"scatterpolar\": [{\"marker\": {\"colorbar\": {\"outlinewidth\": 0, \"ticks\": \"\"}}, \"type\": \"scatterpolar\"}], \"scatter\": [{\"marker\": {\"line\": {\"color\": \"#283442\"}}, \"type\": \"scatter\"}], \"scatterternary\": [{\"marker\": {\"colorbar\": {\"outlinewidth\": 0, \"ticks\": \"\"}}, \"type\": \"scatterternary\"}], \"surface\": [{\"colorbar\": {\"outlinewidth\": 0, \"ticks\": \"\"}, \"type\": \"surface\"}], \"table\": [{\"cells\": {\"fill\": {\"color\": \"#506784\"}, \"line\": {\"color\": \"rgb(17,17,17)\"}}, \"header\": {\"fill\": {\"color\": \"#2a3f5f\"}, \"line\": {\"color\": \"rgb(17,17,17)\"}}, \"type\": \"table\"}]}, \"layout\": {\"annotationdefaults\": {\"arrowcolor\": \"#f2f5fa\", \"arrowhead\": 0, \"arrowwidth\": 1}, \"colorscale\": {\"diverging\": [[0, \"#8e0152\"], [0.1, \"#c51b7d\"], [0.2, \"#de77ae\"], [0.3, \"#f1b6da\"], [0.4, \"#fde0ef\"], [0.5, \"#f7f7f7\"], [0.6, \"#e6f5d0\"], [0.7, \"#b8e186\"], [0.8, \"#7fbc41\"], [0.9, \"#4d9221\"], [1, \"#276419\"]], \"sequential\": [[0.0, \"#0508b8\"], [0.0893854748603352, \"#1910d8\"], [0.1787709497206704, \"#3c19f0\"], [0.2681564245810056, \"#6b1cfb\"], [0.3575418994413408, \"#981cfd\"], [0.44692737430167595, \"#bf1cfd\"], [0.5363128491620112, \"#dd2bfd\"], [0.6256983240223464, \"#f246fe\"], [0.7150837988826816, \"#fc67fd\"], [0.8044692737430168, \"#fe88fc\"], [0.8938547486033519, \"#fea5fd\"], [0.9832402234636871, \"#febefe\"], [1.0, \"#fec3fe\"]], \"sequentialminus\": [[0.0, \"#0508b8\"], [0.0893854748603352, \"#1910d8\"], [0.1787709497206704, \"#3c19f0\"], [0.2681564245810056, \"#6b1cfb\"], [0.3575418994413408, \"#981cfd\"], [0.44692737430167595, \"#bf1cfd\"], [0.5363128491620112, \"#dd2bfd\"], [0.6256983240223464, \"#f246fe\"], [0.7150837988826816, \"#fc67fd\"], [0.8044692737430168, \"#fe88fc\"], [0.8938547486033519, \"#fea5fd\"], [0.9832402234636871, \"#febefe\"], [1.0, \"#fec3fe\"]]}, \"colorway\": [\"#636efa\", \"#EF553B\", \"#00cc96\", \"#ab63fa\", \"#19d3f3\", \"#e763fa\", \"#FECB52\", \"#FFA15A\", \"#FF6692\", \"#B6E880\"], \"font\": {\"color\": \"#f2f5fa\"}, \"geo\": {\"bgcolor\": \"rgb(17,17,17)\", \"lakecolor\": \"rgb(17,17,17)\", \"landcolor\": \"rgb(17,17,17)\", \"showlakes\": true, \"showland\": true, \"subunitcolor\": \"#506784\"}, \"hovermode\": \"closest\", \"mapbox\": {\"style\": \"dark\"}, \"paper_bgcolor\": \"rgb(17,17,17)\", \"plot_bgcolor\": \"rgb(17,17,17)\", \"polar\": {\"angularaxis\": {\"gridcolor\": \"#506784\", \"linecolor\": \"#506784\", \"ticks\": \"\"}, \"bgcolor\": \"rgb(17,17,17)\", \"radialaxis\": {\"gridcolor\": \"#506784\", \"linecolor\": \"#506784\", \"ticks\": \"\"}}, \"scene\": {\"xaxis\": {\"backgroundcolor\": \"rgb(17,17,17)\", \"gridcolor\": \"#506784\", \"gridwidth\": 2, \"linecolor\": \"#506784\", \"showbackground\": true, \"ticks\": \"\", \"zerolinecolor\": \"#C8D4E3\"}, \"yaxis\": {\"backgroundcolor\": \"rgb(17,17,17)\", \"gridcolor\": \"#506784\", \"gridwidth\": 2, \"linecolor\": \"#506784\", \"showbackground\": true, \"ticks\": \"\", \"zerolinecolor\": \"#C8D4E3\"}, \"zaxis\": {\"backgroundcolor\": \"rgb(17,17,17)\", \"gridcolor\": \"#506784\", \"gridwidth\": 2, \"linecolor\": \"#506784\", \"showbackground\": true, \"ticks\": \"\", \"zerolinecolor\": \"#C8D4E3\"}}, \"shapedefaults\": {\"fillcolor\": \"#f2f5fa\", \"line\": {\"width\": 0}, \"opacity\": 0.4}, \"sliderdefaults\": {\"bgcolor\": \"#C8D4E3\", \"bordercolor\": \"rgb(17,17,17)\", \"borderwidth\": 1, \"tickwidth\": 0}, \"ternary\": {\"aaxis\": {\"gridcolor\": \"#506784\", \"linecolor\": \"#506784\", \"ticks\": \"\"}, \"baxis\": {\"gridcolor\": \"#506784\", \"linecolor\": \"#506784\", \"ticks\": \"\"}, \"bgcolor\": \"rgb(17,17,17)\", \"caxis\": {\"gridcolor\": \"#506784\", \"linecolor\": \"#506784\", \"ticks\": \"\"}}, \"title\": {\"x\": 0.05}, \"updatemenudefaults\": {\"bgcolor\": \"#506784\", \"borderwidth\": 0}, \"xaxis\": {\"automargin\": true, \"gridcolor\": \"#283442\", \"linecolor\": \"#506784\", \"ticks\": \"\", \"zerolinecolor\": \"#283442\", \"zerolinewidth\": 2}, \"yaxis\": {\"automargin\": true, \"gridcolor\": \"#283442\", \"linecolor\": \"#506784\", \"ticks\": \"\", \"zerolinecolor\": \"#283442\", \"zerolinewidth\": 2}}}, \"polar\": {\"angularaxis\": {\"direction\": \"clockwise\", \"rotation\": 90}}}, {\"showLink\": false, \"linkText\": \"Export to plot.ly\", \"plotlyServerURL\": \"https://plot.ly\"}); \n",
       "}\n",
       "});</script><script type=\"text/javascript\">window.addEventListener(\"resize\", function(){if (document.getElementById(\"ad6e7b17-0fe1-4dc5-a2e4-eaf04751aced\")) {window._Plotly.Plots.resize(document.getElementById(\"ad6e7b17-0fe1-4dc5-a2e4-eaf04751aced\"));};})</script>"
      ],
      "text/vnd.plotly.v1+html": [
       "<div id=\"ad6e7b17-0fe1-4dc5-a2e4-eaf04751aced\" style=\"height: 600px; width: 100%;\" class=\"plotly-graph-div\"></div><script type=\"text/javascript\">require([\"plotly\"], function(Plotly) { window.PLOTLYENV=window.PLOTLYENV || {};window.PLOTLYENV.BASE_URL=\"https://plot.ly\";\n",
       "if (document.getElementById(\"ad6e7b17-0fe1-4dc5-a2e4-eaf04751aced\")) {\n",
       "    Plotly.newPlot(\"ad6e7b17-0fe1-4dc5-a2e4-eaf04751aced\", [{\"hovertemplate\": \"quantity=%{r}<br>month=%{theta}<extra></extra>\", \"legendgroup\": \"\", \"marker\": {\"color\": \"#6b1cfb\"}, \"name\": \"\", \"r\": [7394.625, 22913.125, 27095.0, 23878.625, 23025.25, 14926.75, 13300.625, 25760.25, 23829.25, 21543.25, 19075.125, 9102.125], \"showlegend\": false, \"theta\": [\"Jan\", \"Feb\", \"Mar\", \"Apr\", \"May\", \"Jun\", \"Jul\", \"Aug\", \"Sep\", \"Oct\", \"Nov\", \"Dec\"], \"type\": \"barpolar\", \"uid\": \"2f547132-3d53-4663-993d-0717f72745ca\"}], {\"barmode\": \"relative\", \"barnorm\": \"\", \"height\": 600, \"legend\": {\"tracegroupgap\": 0}, \"margin\": {\"t\": 60}, \"template\": {\"data\": {\"barpolar\": [{\"marker\": {\"line\": {\"color\": \"rgb(17,17,17)\", \"width\": 0.5}}, \"type\": \"barpolar\"}], \"bar\": [{\"marker\": {\"line\": {\"color\": \"rgb(17,17,17)\", \"width\": 0.5}}, \"type\": \"bar\"}], \"carpet\": [{\"aaxis\": {\"endlinecolor\": \"#A2B1C6\", \"gridcolor\": \"#506784\", \"linecolor\": \"#506784\", \"minorgridcolor\": \"#506784\", \"startlinecolor\": \"#A2B1C6\"}, \"baxis\": {\"endlinecolor\": \"#A2B1C6\", \"gridcolor\": \"#506784\", \"linecolor\": \"#506784\", \"minorgridcolor\": \"#506784\", \"startlinecolor\": \"#A2B1C6\"}, \"type\": \"carpet\"}], \"choropleth\": [{\"colorbar\": {\"outlinewidth\": 0, \"ticks\": \"\"}, \"type\": \"choropleth\"}], \"contourcarpet\": [{\"colorbar\": {\"outlinewidth\": 0, \"ticks\": \"\"}, \"type\": \"contourcarpet\"}], \"contour\": [{\"autocolorscale\": true, \"colorbar\": {\"outlinewidth\": 0, \"ticks\": \"\"}, \"type\": \"contour\"}], \"heatmapgl\": [{\"colorbar\": {\"outlinewidth\": 0, \"ticks\": \"\"}, \"type\": \"heatmapgl\"}], \"heatmap\": [{\"autocolorscale\": true, \"colorbar\": {\"outlinewidth\": 0, \"ticks\": \"\"}, \"type\": \"heatmap\"}], \"histogram2dcontour\": [{\"autocolorscale\": true, \"colorbar\": {\"outlinewidth\": 0, \"ticks\": \"\"}, \"type\": \"histogram2dcontour\"}], \"histogram2d\": [{\"autocolorscale\": true, \"colorbar\": {\"outlinewidth\": 0, \"ticks\": \"\"}, \"type\": \"histogram2d\"}], \"histogram\": [{\"marker\": {\"colorbar\": {\"outlinewidth\": 0, \"ticks\": \"\"}}, \"type\": \"histogram\"}], \"mesh3d\": [{\"colorbar\": {\"outlinewidth\": 0, \"ticks\": \"\"}, \"type\": \"mesh3d\"}], \"parcoords\": [{\"line\": {\"colorbar\": {\"outlinewidth\": 0, \"ticks\": \"\"}}, \"type\": \"parcoords\"}], \"scatter3d\": [{\"marker\": {\"colorbar\": {\"outlinewidth\": 0, \"ticks\": \"\"}}, \"type\": \"scatter3d\"}], \"scattercarpet\": [{\"marker\": {\"colorbar\": {\"outlinewidth\": 0, \"ticks\": \"\"}}, \"type\": \"scattercarpet\"}], \"scattergeo\": [{\"marker\": {\"colorbar\": {\"outlinewidth\": 0, \"ticks\": \"\"}}, \"type\": \"scattergeo\"}], \"scattergl\": [{\"marker\": {\"line\": {\"color\": \"#283442\"}}, \"type\": \"scattergl\"}], \"scattermapbox\": [{\"marker\": {\"colorbar\": {\"outlinewidth\": 0, \"ticks\": \"\"}}, \"type\": \"scattermapbox\"}], \"scatterpolargl\": [{\"marker\": {\"colorbar\": {\"outlinewidth\": 0, \"ticks\": \"\"}}, \"type\": \"scatterpolargl\"}], \"scatterpolar\": [{\"marker\": {\"colorbar\": {\"outlinewidth\": 0, \"ticks\": \"\"}}, \"type\": \"scatterpolar\"}], \"scatter\": [{\"marker\": {\"line\": {\"color\": \"#283442\"}}, \"type\": \"scatter\"}], \"scatterternary\": [{\"marker\": {\"colorbar\": {\"outlinewidth\": 0, \"ticks\": \"\"}}, \"type\": \"scatterternary\"}], \"surface\": [{\"colorbar\": {\"outlinewidth\": 0, \"ticks\": \"\"}, \"type\": \"surface\"}], \"table\": [{\"cells\": {\"fill\": {\"color\": \"#506784\"}, \"line\": {\"color\": \"rgb(17,17,17)\"}}, \"header\": {\"fill\": {\"color\": \"#2a3f5f\"}, \"line\": {\"color\": \"rgb(17,17,17)\"}}, \"type\": \"table\"}]}, \"layout\": {\"annotationdefaults\": {\"arrowcolor\": \"#f2f5fa\", \"arrowhead\": 0, \"arrowwidth\": 1}, \"colorscale\": {\"diverging\": [[0, \"#8e0152\"], [0.1, \"#c51b7d\"], [0.2, \"#de77ae\"], [0.3, \"#f1b6da\"], [0.4, \"#fde0ef\"], [0.5, \"#f7f7f7\"], [0.6, \"#e6f5d0\"], [0.7, \"#b8e186\"], [0.8, \"#7fbc41\"], [0.9, \"#4d9221\"], [1, \"#276419\"]], \"sequential\": [[0.0, \"#0508b8\"], [0.0893854748603352, \"#1910d8\"], [0.1787709497206704, \"#3c19f0\"], [0.2681564245810056, \"#6b1cfb\"], [0.3575418994413408, \"#981cfd\"], [0.44692737430167595, \"#bf1cfd\"], [0.5363128491620112, \"#dd2bfd\"], [0.6256983240223464, \"#f246fe\"], [0.7150837988826816, \"#fc67fd\"], [0.8044692737430168, \"#fe88fc\"], [0.8938547486033519, \"#fea5fd\"], [0.9832402234636871, \"#febefe\"], [1.0, \"#fec3fe\"]], \"sequentialminus\": [[0.0, \"#0508b8\"], [0.0893854748603352, \"#1910d8\"], [0.1787709497206704, \"#3c19f0\"], [0.2681564245810056, \"#6b1cfb\"], [0.3575418994413408, \"#981cfd\"], [0.44692737430167595, \"#bf1cfd\"], [0.5363128491620112, \"#dd2bfd\"], [0.6256983240223464, \"#f246fe\"], [0.7150837988826816, \"#fc67fd\"], [0.8044692737430168, \"#fe88fc\"], [0.8938547486033519, \"#fea5fd\"], [0.9832402234636871, \"#febefe\"], [1.0, \"#fec3fe\"]]}, \"colorway\": [\"#636efa\", \"#EF553B\", \"#00cc96\", \"#ab63fa\", \"#19d3f3\", \"#e763fa\", \"#FECB52\", \"#FFA15A\", \"#FF6692\", \"#B6E880\"], \"font\": {\"color\": \"#f2f5fa\"}, \"geo\": {\"bgcolor\": \"rgb(17,17,17)\", \"lakecolor\": \"rgb(17,17,17)\", \"landcolor\": \"rgb(17,17,17)\", \"showlakes\": true, \"showland\": true, \"subunitcolor\": \"#506784\"}, \"hovermode\": \"closest\", \"mapbox\": {\"style\": \"dark\"}, \"paper_bgcolor\": \"rgb(17,17,17)\", \"plot_bgcolor\": \"rgb(17,17,17)\", \"polar\": {\"angularaxis\": {\"gridcolor\": \"#506784\", \"linecolor\": \"#506784\", \"ticks\": \"\"}, \"bgcolor\": \"rgb(17,17,17)\", \"radialaxis\": {\"gridcolor\": \"#506784\", \"linecolor\": \"#506784\", \"ticks\": \"\"}}, \"scene\": {\"xaxis\": {\"backgroundcolor\": \"rgb(17,17,17)\", \"gridcolor\": \"#506784\", \"gridwidth\": 2, \"linecolor\": \"#506784\", \"showbackground\": true, \"ticks\": \"\", \"zerolinecolor\": \"#C8D4E3\"}, \"yaxis\": {\"backgroundcolor\": \"rgb(17,17,17)\", \"gridcolor\": \"#506784\", \"gridwidth\": 2, \"linecolor\": \"#506784\", \"showbackground\": true, \"ticks\": \"\", \"zerolinecolor\": \"#C8D4E3\"}, \"zaxis\": {\"backgroundcolor\": \"rgb(17,17,17)\", \"gridcolor\": \"#506784\", \"gridwidth\": 2, \"linecolor\": \"#506784\", \"showbackground\": true, \"ticks\": \"\", \"zerolinecolor\": \"#C8D4E3\"}}, \"shapedefaults\": {\"fillcolor\": \"#f2f5fa\", \"line\": {\"width\": 0}, \"opacity\": 0.4}, \"sliderdefaults\": {\"bgcolor\": \"#C8D4E3\", \"bordercolor\": \"rgb(17,17,17)\", \"borderwidth\": 1, \"tickwidth\": 0}, \"ternary\": {\"aaxis\": {\"gridcolor\": \"#506784\", \"linecolor\": \"#506784\", \"ticks\": \"\"}, \"baxis\": {\"gridcolor\": \"#506784\", \"linecolor\": \"#506784\", \"ticks\": \"\"}, \"bgcolor\": \"rgb(17,17,17)\", \"caxis\": {\"gridcolor\": \"#506784\", \"linecolor\": \"#506784\", \"ticks\": \"\"}}, \"title\": {\"x\": 0.05}, \"updatemenudefaults\": {\"bgcolor\": \"#506784\", \"borderwidth\": 0}, \"xaxis\": {\"automargin\": true, \"gridcolor\": \"#283442\", \"linecolor\": \"#506784\", \"ticks\": \"\", \"zerolinecolor\": \"#283442\", \"zerolinewidth\": 2}, \"yaxis\": {\"automargin\": true, \"gridcolor\": \"#283442\", \"linecolor\": \"#506784\", \"ticks\": \"\", \"zerolinecolor\": \"#283442\", \"zerolinewidth\": 2}}}, \"polar\": {\"angularaxis\": {\"direction\": \"clockwise\", \"rotation\": 90}}}, {\"showLink\": false, \"linkText\": \"Export to plot.ly\", \"plotlyServerURL\": \"https://plot.ly\"}); \n",
       "}\n",
       "});</script><script type=\"text/javascript\">window.addEventListener(\"resize\", function(){if (document.getElementById(\"ad6e7b17-0fe1-4dc5-a2e4-eaf04751aced\")) {window._Plotly.Plots.resize(document.getElementById(\"ad6e7b17-0fe1-4dc5-a2e4-eaf04751aced\"));};})</script>"
      ]
     },
     "metadata": {},
     "output_type": "display_data"
    }
   ],
   "source": [
    "import plotly_express as px\n",
    "\n",
    "px.bar_polar(media_emprestimos_por_mes, r=\"quantity\", theta=\"month\", template=\"plotly_dark\"\n",
    "             ,color_discrete_sequence= px.colors.sequential.Plotly[-10::-3])"
   ]
  },
  {
   "cell_type": "code",
   "execution_count": 243,
   "metadata": {},
   "outputs": [
    {
     "data": {
      "application/vnd.plotly.v1+json": {
       "config": {
        "linkText": "Export to plot.ly",
        "plotlyServerURL": "https://plot.ly",
        "showLink": false
       },
       "data": [
        {
         "marker": {
          "color": "rgb(50, 120, 140)"
         },
         "name": "Empréstimos",
         "type": "bar",
         "uid": "5e2bedce-4082-44d2-bb6e-c701504c1a18",
         "x": [
          "Jan 2010",
          "Feb 2010",
          "Mar 2010",
          "Apr 2010",
          "May 2010",
          "Jun 2010",
          "Jul 2010",
          "Aug 2010",
          "Sep 2010",
          "Oct 2010",
          "Nov 2010",
          "Dec 2010",
          "Jan 2011",
          "Feb 2011",
          "Mar 2011",
          "Apr 2011",
          "May 2011",
          "Jun 2011",
          "Jul 2011",
          "Aug 2011",
          "Sep 2011",
          "Oct 2011",
          "Nov 2011",
          "Dec 2011",
          "Jan 2012",
          "Feb 2012",
          "Mar 2012",
          "Apr 2012",
          "May 2012",
          "Jun 2012",
          "Jul 2012",
          "Aug 2012",
          "Sep 2012",
          "Oct 2012",
          "Nov 2012",
          "Dec 2012",
          "Jan 2013",
          "Feb 2013",
          "Mar 2013",
          "Apr 2013",
          "May 2013",
          "Jun 2013",
          "Jul 2013",
          "Aug 2013",
          "Sep 2013",
          "Oct 2013",
          "Nov 2013",
          "Dec 2013",
          "Jan 2014",
          "Feb 2014",
          "Mar 2014",
          "Apr 2014",
          "May 2014",
          "Jun 2014",
          "Jul 2014",
          "Aug 2014",
          "Sep 2014",
          "Oct 2014",
          "Nov 2014",
          "Dec 2014",
          "Jan 2015",
          "Feb 2015",
          "Mar 2015",
          "Apr 2015",
          "May 2015",
          "Jun 2015",
          "Jul 2015",
          "Aug 2015",
          "Sep 2015",
          "Oct 2015",
          "Nov 2015",
          "Dec 2015",
          "Jan 2016",
          "Feb 2016",
          "Mar 2016",
          "Apr 2016",
          "May 2016",
          "Jun 2016",
          "Jul 2016",
          "Aug 2016",
          "Sep 2016",
          "Oct 2016",
          "Nov 2016",
          "Dec 2016",
          "Jan 2017",
          "Feb 2017",
          "Mar 2017",
          "Apr 2017",
          "May 2017",
          "Jun 2017",
          "Jul 2017",
          "Aug 2017",
          "Sep 2017",
          "Oct 2017",
          "Nov 2017",
          "Dec 2017"
         ],
         "y": [
          5404,
          12091,
          23409,
          19500,
          19309,
          15626,
          8191,
          22799,
          22690,
          19165,
          18086,
          9765,
          1871,
          15635,
          24531,
          22628,
          24567,
          19315,
          9451,
          27887,
          26528,
          22345,
          21288,
          13314,
          8054,
          23278,
          32047,
          27044,
          25857,
          16326,
          6919,
          25387,
          24215,
          25147,
          23277,
          12486,
          8505,
          28291,
          27591,
          29836,
          25630,
          15237,
          16967,
          26571,
          26503,
          23294,
          21181,
          9680,
          16860,
          27778,
          21911,
          20672,
          18485,
          7475,
          19952,
          26097,
          26675,
          23632,
          18773,
          7000,
          6968,
          27485,
          30312,
          25301,
          23227,
          13445,
          14653,
          20714,
          16900,
          19375,
          18943,
          7530,
          6219,
          28046,
          27915,
          24576,
          23192,
          13704,
          15045,
          27718,
          24653,
          19069,
          13783,
          6911,
          5276,
          20701,
          29044,
          21472,
          23935,
          18286,
          15227,
          28909,
          22470,
          20319,
          17270,
          6131
         ]
        }
       ],
       "layout": {
        "title": {
         "text": "Ingressos por ano em diferentes níveis de ensino"
        },
        "xaxis": {
         "title": {
          "text": "Ano"
         }
        },
        "yaxis": {
         "title": {
          "text": "Quantidade de empréstimos"
         }
        }
       }
      },
      "text/html": [
       "<div id=\"904402ca-602f-4ea6-9d9d-7ccd3cc53744\" style=\"height: 525px; width: 100%;\" class=\"plotly-graph-div\"></div><script type=\"text/javascript\">require([\"plotly\"], function(Plotly) { window.PLOTLYENV=window.PLOTLYENV || {};window.PLOTLYENV.BASE_URL=\"https://plot.ly\";\n",
       "if (document.getElementById(\"904402ca-602f-4ea6-9d9d-7ccd3cc53744\")) {\n",
       "    Plotly.newPlot(\"904402ca-602f-4ea6-9d9d-7ccd3cc53744\", [{\"marker\": {\"color\": \"rgb(50, 120, 140)\"}, \"name\": \"Empr\\u00e9stimos\", \"x\": [\"Jan 2010\", \"Feb 2010\", \"Mar 2010\", \"Apr 2010\", \"May 2010\", \"Jun 2010\", \"Jul 2010\", \"Aug 2010\", \"Sep 2010\", \"Oct 2010\", \"Nov 2010\", \"Dec 2010\", \"Jan 2011\", \"Feb 2011\", \"Mar 2011\", \"Apr 2011\", \"May 2011\", \"Jun 2011\", \"Jul 2011\", \"Aug 2011\", \"Sep 2011\", \"Oct 2011\", \"Nov 2011\", \"Dec 2011\", \"Jan 2012\", \"Feb 2012\", \"Mar 2012\", \"Apr 2012\", \"May 2012\", \"Jun 2012\", \"Jul 2012\", \"Aug 2012\", \"Sep 2012\", \"Oct 2012\", \"Nov 2012\", \"Dec 2012\", \"Jan 2013\", \"Feb 2013\", \"Mar 2013\", \"Apr 2013\", \"May 2013\", \"Jun 2013\", \"Jul 2013\", \"Aug 2013\", \"Sep 2013\", \"Oct 2013\", \"Nov 2013\", \"Dec 2013\", \"Jan 2014\", \"Feb 2014\", \"Mar 2014\", \"Apr 2014\", \"May 2014\", \"Jun 2014\", \"Jul 2014\", \"Aug 2014\", \"Sep 2014\", \"Oct 2014\", \"Nov 2014\", \"Dec 2014\", \"Jan 2015\", \"Feb 2015\", \"Mar 2015\", \"Apr 2015\", \"May 2015\", \"Jun 2015\", \"Jul 2015\", \"Aug 2015\", \"Sep 2015\", \"Oct 2015\", \"Nov 2015\", \"Dec 2015\", \"Jan 2016\", \"Feb 2016\", \"Mar 2016\", \"Apr 2016\", \"May 2016\", \"Jun 2016\", \"Jul 2016\", \"Aug 2016\", \"Sep 2016\", \"Oct 2016\", \"Nov 2016\", \"Dec 2016\", \"Jan 2017\", \"Feb 2017\", \"Mar 2017\", \"Apr 2017\", \"May 2017\", \"Jun 2017\", \"Jul 2017\", \"Aug 2017\", \"Sep 2017\", \"Oct 2017\", \"Nov 2017\", \"Dec 2017\"], \"y\": [5404, 12091, 23409, 19500, 19309, 15626, 8191, 22799, 22690, 19165, 18086, 9765, 1871, 15635, 24531, 22628, 24567, 19315, 9451, 27887, 26528, 22345, 21288, 13314, 8054, 23278, 32047, 27044, 25857, 16326, 6919, 25387, 24215, 25147, 23277, 12486, 8505, 28291, 27591, 29836, 25630, 15237, 16967, 26571, 26503, 23294, 21181, 9680, 16860, 27778, 21911, 20672, 18485, 7475, 19952, 26097, 26675, 23632, 18773, 7000, 6968, 27485, 30312, 25301, 23227, 13445, 14653, 20714, 16900, 19375, 18943, 7530, 6219, 28046, 27915, 24576, 23192, 13704, 15045, 27718, 24653, 19069, 13783, 6911, 5276, 20701, 29044, 21472, 23935, 18286, 15227, 28909, 22470, 20319, 17270, 6131], \"type\": \"bar\", \"uid\": \"5e2bedce-4082-44d2-bb6e-c701504c1a18\"}], {\"title\": {\"text\": \"Ingressos por ano em diferentes n\\u00edveis de ensino\"}, \"xaxis\": {\"title\": {\"text\": \"Ano\"}}, \"yaxis\": {\"title\": {\"text\": \"Quantidade de empr\\u00e9stimos\"}}}, {\"showLink\": false, \"linkText\": \"Export to plot.ly\", \"plotlyServerURL\": \"https://plot.ly\"}); \n",
       "}\n",
       "});</script><script type=\"text/javascript\">window.addEventListener(\"resize\", function(){if (document.getElementById(\"904402ca-602f-4ea6-9d9d-7ccd3cc53744\")) {window._Plotly.Plots.resize(document.getElementById(\"904402ca-602f-4ea6-9d9d-7ccd3cc53744\"));};})</script>"
      ],
      "text/vnd.plotly.v1+html": [
       "<div id=\"904402ca-602f-4ea6-9d9d-7ccd3cc53744\" style=\"height: 525px; width: 100%;\" class=\"plotly-graph-div\"></div><script type=\"text/javascript\">require([\"plotly\"], function(Plotly) { window.PLOTLYENV=window.PLOTLYENV || {};window.PLOTLYENV.BASE_URL=\"https://plot.ly\";\n",
       "if (document.getElementById(\"904402ca-602f-4ea6-9d9d-7ccd3cc53744\")) {\n",
       "    Plotly.newPlot(\"904402ca-602f-4ea6-9d9d-7ccd3cc53744\", [{\"marker\": {\"color\": \"rgb(50, 120, 140)\"}, \"name\": \"Empr\\u00e9stimos\", \"x\": [\"Jan 2010\", \"Feb 2010\", \"Mar 2010\", \"Apr 2010\", \"May 2010\", \"Jun 2010\", \"Jul 2010\", \"Aug 2010\", \"Sep 2010\", \"Oct 2010\", \"Nov 2010\", \"Dec 2010\", \"Jan 2011\", \"Feb 2011\", \"Mar 2011\", \"Apr 2011\", \"May 2011\", \"Jun 2011\", \"Jul 2011\", \"Aug 2011\", \"Sep 2011\", \"Oct 2011\", \"Nov 2011\", \"Dec 2011\", \"Jan 2012\", \"Feb 2012\", \"Mar 2012\", \"Apr 2012\", \"May 2012\", \"Jun 2012\", \"Jul 2012\", \"Aug 2012\", \"Sep 2012\", \"Oct 2012\", \"Nov 2012\", \"Dec 2012\", \"Jan 2013\", \"Feb 2013\", \"Mar 2013\", \"Apr 2013\", \"May 2013\", \"Jun 2013\", \"Jul 2013\", \"Aug 2013\", \"Sep 2013\", \"Oct 2013\", \"Nov 2013\", \"Dec 2013\", \"Jan 2014\", \"Feb 2014\", \"Mar 2014\", \"Apr 2014\", \"May 2014\", \"Jun 2014\", \"Jul 2014\", \"Aug 2014\", \"Sep 2014\", \"Oct 2014\", \"Nov 2014\", \"Dec 2014\", \"Jan 2015\", \"Feb 2015\", \"Mar 2015\", \"Apr 2015\", \"May 2015\", \"Jun 2015\", \"Jul 2015\", \"Aug 2015\", \"Sep 2015\", \"Oct 2015\", \"Nov 2015\", \"Dec 2015\", \"Jan 2016\", \"Feb 2016\", \"Mar 2016\", \"Apr 2016\", \"May 2016\", \"Jun 2016\", \"Jul 2016\", \"Aug 2016\", \"Sep 2016\", \"Oct 2016\", \"Nov 2016\", \"Dec 2016\", \"Jan 2017\", \"Feb 2017\", \"Mar 2017\", \"Apr 2017\", \"May 2017\", \"Jun 2017\", \"Jul 2017\", \"Aug 2017\", \"Sep 2017\", \"Oct 2017\", \"Nov 2017\", \"Dec 2017\"], \"y\": [5404, 12091, 23409, 19500, 19309, 15626, 8191, 22799, 22690, 19165, 18086, 9765, 1871, 15635, 24531, 22628, 24567, 19315, 9451, 27887, 26528, 22345, 21288, 13314, 8054, 23278, 32047, 27044, 25857, 16326, 6919, 25387, 24215, 25147, 23277, 12486, 8505, 28291, 27591, 29836, 25630, 15237, 16967, 26571, 26503, 23294, 21181, 9680, 16860, 27778, 21911, 20672, 18485, 7475, 19952, 26097, 26675, 23632, 18773, 7000, 6968, 27485, 30312, 25301, 23227, 13445, 14653, 20714, 16900, 19375, 18943, 7530, 6219, 28046, 27915, 24576, 23192, 13704, 15045, 27718, 24653, 19069, 13783, 6911, 5276, 20701, 29044, 21472, 23935, 18286, 15227, 28909, 22470, 20319, 17270, 6131], \"type\": \"bar\", \"uid\": \"5e2bedce-4082-44d2-bb6e-c701504c1a18\"}], {\"title\": {\"text\": \"Ingressos por ano em diferentes n\\u00edveis de ensino\"}, \"xaxis\": {\"title\": {\"text\": \"Ano\"}}, \"yaxis\": {\"title\": {\"text\": \"Quantidade de empr\\u00e9stimos\"}}}, {\"showLink\": false, \"linkText\": \"Export to plot.ly\", \"plotlyServerURL\": \"https://plot.ly\"}); \n",
       "}\n",
       "});</script><script type=\"text/javascript\">window.addEventListener(\"resize\", function(){if (document.getElementById(\"904402ca-602f-4ea6-9d9d-7ccd3cc53744\")) {window._Plotly.Plots.resize(document.getElementById(\"904402ca-602f-4ea6-9d9d-7ccd3cc53744\"));};})</script>"
      ]
     },
     "metadata": {},
     "output_type": "display_data"
    }
   ],
   "source": [
    "emprestimos_mes_bar = go.Bar(x=emprestimos_por_mes.data_emprestimo,y=emprestimos_por_mes.quantity,name='Empréstimos',\n",
    "                  marker=dict(color='rgb(50, 120, 140)'))\n",
    "\n",
    "data_emprestimos_bar = [emprestimos_mes_bar]\n",
    "\n",
    "layout_emprestimos = go.Layout(title=\"Ingressos por ano em diferentes níveis de ensino\",\n",
    "        xaxis=dict(title='Ano'),\n",
    "        yaxis=dict(title='Quantidade de empréstimos')\n",
    "    )\n",
    "\n",
    "fig_emprestimos = go.Figure(data=data_emprestimos_bar,layout=layout_emprestimos)\n",
    "offline.iplot(fig_emprestimos)"
   ]
  },
  {
   "cell_type": "code",
   "execution_count": 244,
   "metadata": {},
   "outputs": [
    {
     "data": {
      "application/vnd.plotly.v1+json": {
       "config": {
        "linkText": "Export to plot.ly",
        "plotlyServerURL": "https://plot.ly",
        "showLink": false
       },
       "data": [
        {
         "boxpoints": "all",
         "marker": {
          "color": "rgb(200, 10, 100)"
         },
         "name": "Empréstimos",
         "type": "box",
         "uid": "d5422741-1192-452a-b3e9-39de9fc5b02b",
         "y": [
          5404,
          12091,
          23409,
          19500,
          19309,
          15626,
          8191,
          22799,
          22690,
          19165,
          18086,
          9765,
          1871,
          15635,
          24531,
          22628,
          24567,
          19315,
          9451,
          27887,
          26528,
          22345,
          21288,
          13314,
          8054,
          23278,
          32047,
          27044,
          25857,
          16326,
          6919,
          25387,
          24215,
          25147,
          23277,
          12486,
          8505,
          28291,
          27591,
          29836,
          25630,
          15237,
          16967,
          26571,
          26503,
          23294,
          21181,
          9680,
          16860,
          27778,
          21911,
          20672,
          18485,
          7475,
          19952,
          26097,
          26675,
          23632,
          18773,
          7000,
          6968,
          27485,
          30312,
          25301,
          23227,
          13445,
          14653,
          20714,
          16900,
          19375,
          18943,
          7530,
          6219,
          28046,
          27915,
          24576,
          23192,
          13704,
          15045,
          27718,
          24653,
          19069,
          13783,
          6911,
          5276,
          20701,
          29044,
          21472,
          23935,
          18286,
          15227,
          28909,
          22470,
          20319,
          17270,
          6131
         ]
        }
       ],
       "layout": {}
      },
      "text/html": [
       "<div id=\"e1d7a00e-db9a-48e4-a3af-eeb74470e29d\" style=\"height: 525px; width: 100%;\" class=\"plotly-graph-div\"></div><script type=\"text/javascript\">require([\"plotly\"], function(Plotly) { window.PLOTLYENV=window.PLOTLYENV || {};window.PLOTLYENV.BASE_URL=\"https://plot.ly\";\n",
       "if (document.getElementById(\"e1d7a00e-db9a-48e4-a3af-eeb74470e29d\")) {\n",
       "    Plotly.newPlot(\"e1d7a00e-db9a-48e4-a3af-eeb74470e29d\", [{\"boxpoints\": \"all\", \"marker\": {\"color\": \"rgb(200, 10, 100)\"}, \"name\": \"Empr\\u00e9stimos\", \"y\": [5404, 12091, 23409, 19500, 19309, 15626, 8191, 22799, 22690, 19165, 18086, 9765, 1871, 15635, 24531, 22628, 24567, 19315, 9451, 27887, 26528, 22345, 21288, 13314, 8054, 23278, 32047, 27044, 25857, 16326, 6919, 25387, 24215, 25147, 23277, 12486, 8505, 28291, 27591, 29836, 25630, 15237, 16967, 26571, 26503, 23294, 21181, 9680, 16860, 27778, 21911, 20672, 18485, 7475, 19952, 26097, 26675, 23632, 18773, 7000, 6968, 27485, 30312, 25301, 23227, 13445, 14653, 20714, 16900, 19375, 18943, 7530, 6219, 28046, 27915, 24576, 23192, 13704, 15045, 27718, 24653, 19069, 13783, 6911, 5276, 20701, 29044, 21472, 23935, 18286, 15227, 28909, 22470, 20319, 17270, 6131], \"type\": \"box\", \"uid\": \"d5422741-1192-452a-b3e9-39de9fc5b02b\"}], {}, {\"showLink\": false, \"linkText\": \"Export to plot.ly\", \"plotlyServerURL\": \"https://plot.ly\"}); \n",
       "}\n",
       "});</script><script type=\"text/javascript\">window.addEventListener(\"resize\", function(){if (document.getElementById(\"e1d7a00e-db9a-48e4-a3af-eeb74470e29d\")) {window._Plotly.Plots.resize(document.getElementById(\"e1d7a00e-db9a-48e4-a3af-eeb74470e29d\"));};})</script>"
      ],
      "text/vnd.plotly.v1+html": [
       "<div id=\"e1d7a00e-db9a-48e4-a3af-eeb74470e29d\" style=\"height: 525px; width: 100%;\" class=\"plotly-graph-div\"></div><script type=\"text/javascript\">require([\"plotly\"], function(Plotly) { window.PLOTLYENV=window.PLOTLYENV || {};window.PLOTLYENV.BASE_URL=\"https://plot.ly\";\n",
       "if (document.getElementById(\"e1d7a00e-db9a-48e4-a3af-eeb74470e29d\")) {\n",
       "    Plotly.newPlot(\"e1d7a00e-db9a-48e4-a3af-eeb74470e29d\", [{\"boxpoints\": \"all\", \"marker\": {\"color\": \"rgb(200, 10, 100)\"}, \"name\": \"Empr\\u00e9stimos\", \"y\": [5404, 12091, 23409, 19500, 19309, 15626, 8191, 22799, 22690, 19165, 18086, 9765, 1871, 15635, 24531, 22628, 24567, 19315, 9451, 27887, 26528, 22345, 21288, 13314, 8054, 23278, 32047, 27044, 25857, 16326, 6919, 25387, 24215, 25147, 23277, 12486, 8505, 28291, 27591, 29836, 25630, 15237, 16967, 26571, 26503, 23294, 21181, 9680, 16860, 27778, 21911, 20672, 18485, 7475, 19952, 26097, 26675, 23632, 18773, 7000, 6968, 27485, 30312, 25301, 23227, 13445, 14653, 20714, 16900, 19375, 18943, 7530, 6219, 28046, 27915, 24576, 23192, 13704, 15045, 27718, 24653, 19069, 13783, 6911, 5276, 20701, 29044, 21472, 23935, 18286, 15227, 28909, 22470, 20319, 17270, 6131], \"type\": \"box\", \"uid\": \"d5422741-1192-452a-b3e9-39de9fc5b02b\"}], {}, {\"showLink\": false, \"linkText\": \"Export to plot.ly\", \"plotlyServerURL\": \"https://plot.ly\"}); \n",
       "}\n",
       "});</script><script type=\"text/javascript\">window.addEventListener(\"resize\", function(){if (document.getElementById(\"e1d7a00e-db9a-48e4-a3af-eeb74470e29d\")) {window._Plotly.Plots.resize(document.getElementById(\"e1d7a00e-db9a-48e4-a3af-eeb74470e29d\"));};})</script>"
      ]
     },
     "metadata": {},
     "output_type": "display_data"
    }
   ],
   "source": [
    "emprestimos_mes_box = go.Box(y=emprestimos_por_mes.quantity,boxpoints='all',name='Empréstimos',\n",
    "                            marker=dict(color='rgb(200, 10, 100)'))\n",
    "data_emprestimos_box = [emprestimos_mes_box]\n",
    "\n",
    "fig_emprestimos_box = go.Figure(data=data_emprestimos_box)\n",
    "offline.iplot(fig_emprestimos_box)"
   ]
  },
  {
   "cell_type": "code",
   "execution_count": 144,
   "metadata": {},
   "outputs": [
    {
     "data": {
      "text/html": [
       "<div>\n",
       "<style scoped>\n",
       "    .dataframe tbody tr th:only-of-type {\n",
       "        vertical-align: middle;\n",
       "    }\n",
       "\n",
       "    .dataframe tbody tr th {\n",
       "        vertical-align: top;\n",
       "    }\n",
       "\n",
       "    .dataframe thead th {\n",
       "        text-align: right;\n",
       "    }\n",
       "</style>\n",
       "<table border=\"1\" class=\"dataframe\">\n",
       "  <thead>\n",
       "    <tr style=\"text-align: right;\">\n",
       "      <th>nivel_ensino</th>\n",
       "      <th>DOUTORADO</th>\n",
       "      <th>FORMAÇÃO COMPLEMENTAR</th>\n",
       "      <th>FUNDAMENTAL</th>\n",
       "      <th>GRADUAÇÃO</th>\n",
       "      <th>INFANTIL</th>\n",
       "      <th>LATO SENSU</th>\n",
       "      <th>MESTRADO</th>\n",
       "      <th>MÉDIO</th>\n",
       "      <th>RESIDÊNCIA</th>\n",
       "      <th>STRICTO SENSU</th>\n",
       "      <th>TÉCNICO</th>\n",
       "      <th>TÉCNICO INTEGRADO</th>\n",
       "    </tr>\n",
       "    <tr>\n",
       "      <th>ano_ingresso</th>\n",
       "      <th></th>\n",
       "      <th></th>\n",
       "      <th></th>\n",
       "      <th></th>\n",
       "      <th></th>\n",
       "      <th></th>\n",
       "      <th></th>\n",
       "      <th></th>\n",
       "      <th></th>\n",
       "      <th></th>\n",
       "      <th></th>\n",
       "      <th></th>\n",
       "    </tr>\n",
       "  </thead>\n",
       "  <tbody>\n",
       "    <tr>\n",
       "      <th>2009</th>\n",
       "      <td>456.0</td>\n",
       "      <td>NaN</td>\n",
       "      <td>30.0</td>\n",
       "      <td>7507.0</td>\n",
       "      <td>NaN</td>\n",
       "      <td>474.0</td>\n",
       "      <td>1784.0</td>\n",
       "      <td>15.0</td>\n",
       "      <td>4.0</td>\n",
       "      <td>1.0</td>\n",
       "      <td>326.0</td>\n",
       "      <td>4.0</td>\n",
       "    </tr>\n",
       "    <tr>\n",
       "      <th>2010</th>\n",
       "      <td>629.0</td>\n",
       "      <td>NaN</td>\n",
       "      <td>133.0</td>\n",
       "      <td>8884.0</td>\n",
       "      <td>122.0</td>\n",
       "      <td>2162.0</td>\n",
       "      <td>1895.0</td>\n",
       "      <td>51.0</td>\n",
       "      <td>32.0</td>\n",
       "      <td>NaN</td>\n",
       "      <td>1662.0</td>\n",
       "      <td>95.0</td>\n",
       "    </tr>\n",
       "    <tr>\n",
       "      <th>2011</th>\n",
       "      <td>616.0</td>\n",
       "      <td>800.0</td>\n",
       "      <td>20.0</td>\n",
       "      <td>8352.0</td>\n",
       "      <td>NaN</td>\n",
       "      <td>1698.0</td>\n",
       "      <td>1931.0</td>\n",
       "      <td>34.0</td>\n",
       "      <td>73.0</td>\n",
       "      <td>NaN</td>\n",
       "      <td>778.0</td>\n",
       "      <td>NaN</td>\n",
       "    </tr>\n",
       "    <tr>\n",
       "      <th>2012</th>\n",
       "      <td>618.0</td>\n",
       "      <td>1354.0</td>\n",
       "      <td>9.0</td>\n",
       "      <td>10250.0</td>\n",
       "      <td>44.0</td>\n",
       "      <td>1048.0</td>\n",
       "      <td>1989.0</td>\n",
       "      <td>41.0</td>\n",
       "      <td>84.0</td>\n",
       "      <td>NaN</td>\n",
       "      <td>2019.0</td>\n",
       "      <td>53.0</td>\n",
       "    </tr>\n",
       "    <tr>\n",
       "      <th>2013</th>\n",
       "      <td>722.0</td>\n",
       "      <td>3658.0</td>\n",
       "      <td>9.0</td>\n",
       "      <td>8713.0</td>\n",
       "      <td>60.0</td>\n",
       "      <td>3058.0</td>\n",
       "      <td>2103.0</td>\n",
       "      <td>10.0</td>\n",
       "      <td>93.0</td>\n",
       "      <td>NaN</td>\n",
       "      <td>3702.0</td>\n",
       "      <td>192.0</td>\n",
       "    </tr>\n",
       "    <tr>\n",
       "      <th>2014</th>\n",
       "      <td>681.0</td>\n",
       "      <td>1131.0</td>\n",
       "      <td>17.0</td>\n",
       "      <td>9273.0</td>\n",
       "      <td>77.0</td>\n",
       "      <td>2685.0</td>\n",
       "      <td>2303.0</td>\n",
       "      <td>NaN</td>\n",
       "      <td>91.0</td>\n",
       "      <td>NaN</td>\n",
       "      <td>4181.0</td>\n",
       "      <td>166.0</td>\n",
       "    </tr>\n",
       "    <tr>\n",
       "      <th>2015</th>\n",
       "      <td>728.0</td>\n",
       "      <td>1185.0</td>\n",
       "      <td>14.0</td>\n",
       "      <td>7668.0</td>\n",
       "      <td>87.0</td>\n",
       "      <td>2170.0</td>\n",
       "      <td>2225.0</td>\n",
       "      <td>NaN</td>\n",
       "      <td>90.0</td>\n",
       "      <td>NaN</td>\n",
       "      <td>4914.0</td>\n",
       "      <td>127.0</td>\n",
       "    </tr>\n",
       "    <tr>\n",
       "      <th>2016</th>\n",
       "      <td>825.0</td>\n",
       "      <td>1462.0</td>\n",
       "      <td>28.0</td>\n",
       "      <td>8234.0</td>\n",
       "      <td>2.0</td>\n",
       "      <td>2115.0</td>\n",
       "      <td>2742.0</td>\n",
       "      <td>NaN</td>\n",
       "      <td>205.0</td>\n",
       "      <td>NaN</td>\n",
       "      <td>2490.0</td>\n",
       "      <td>131.0</td>\n",
       "    </tr>\n",
       "    <tr>\n",
       "      <th>2017</th>\n",
       "      <td>704.0</td>\n",
       "      <td>1384.0</td>\n",
       "      <td>64.0</td>\n",
       "      <td>9540.0</td>\n",
       "      <td>47.0</td>\n",
       "      <td>1053.0</td>\n",
       "      <td>2545.0</td>\n",
       "      <td>NaN</td>\n",
       "      <td>215.0</td>\n",
       "      <td>NaN</td>\n",
       "      <td>7179.0</td>\n",
       "      <td>139.0</td>\n",
       "    </tr>\n",
       "  </tbody>\n",
       "</table>\n",
       "</div>"
      ],
      "text/plain": [
       "nivel_ensino  DOUTORADO  FORMAÇÃO COMPLEMENTAR  FUNDAMENTAL  GRADUAÇÃO  \\\n",
       "ano_ingresso                                                             \n",
       "2009              456.0                    NaN         30.0     7507.0   \n",
       "2010              629.0                    NaN        133.0     8884.0   \n",
       "2011              616.0                  800.0         20.0     8352.0   \n",
       "2012              618.0                 1354.0          9.0    10250.0   \n",
       "2013              722.0                 3658.0          9.0     8713.0   \n",
       "2014              681.0                 1131.0         17.0     9273.0   \n",
       "2015              728.0                 1185.0         14.0     7668.0   \n",
       "2016              825.0                 1462.0         28.0     8234.0   \n",
       "2017              704.0                 1384.0         64.0     9540.0   \n",
       "\n",
       "nivel_ensino  INFANTIL  LATO SENSU  MESTRADO  MÉDIO  RESIDÊNCIA  \\\n",
       "ano_ingresso                                                      \n",
       "2009               NaN       474.0    1784.0   15.0         4.0   \n",
       "2010             122.0      2162.0    1895.0   51.0        32.0   \n",
       "2011               NaN      1698.0    1931.0   34.0        73.0   \n",
       "2012              44.0      1048.0    1989.0   41.0        84.0   \n",
       "2013              60.0      3058.0    2103.0   10.0        93.0   \n",
       "2014              77.0      2685.0    2303.0    NaN        91.0   \n",
       "2015              87.0      2170.0    2225.0    NaN        90.0   \n",
       "2016               2.0      2115.0    2742.0    NaN       205.0   \n",
       "2017              47.0      1053.0    2545.0    NaN       215.0   \n",
       "\n",
       "nivel_ensino  STRICTO SENSU  TÉCNICO  TÉCNICO INTEGRADO  \n",
       "ano_ingresso                                             \n",
       "2009                    1.0    326.0                4.0  \n",
       "2010                    NaN   1662.0               95.0  \n",
       "2011                    NaN    778.0                NaN  \n",
       "2012                    NaN   2019.0               53.0  \n",
       "2013                    NaN   3702.0              192.0  \n",
       "2014                    NaN   4181.0              166.0  \n",
       "2015                    NaN   4914.0              127.0  \n",
       "2016                    NaN   2490.0              131.0  \n",
       "2017                    NaN   7179.0              139.0  "
      ]
     },
     "execution_count": 144,
     "metadata": {},
     "output_type": "execute_result"
    }
   ],
   "source": [
    "discentes_2009 = pd.read_csv('datasets/discentes/discentes-2009.csv',sep=';')\n",
    "discentes_2010 = pd.read_csv('datasets/discentes/discentes-2010.csv',sep=';')\n",
    "discentes_2011 = pd.read_csv('datasets/discentes/discentes-2011.csv',sep=';')\n",
    "discentes_2012 = pd.read_csv('datasets/discentes/discentes-2012.csv',sep=';')\n",
    "discentes_2013 = pd.read_csv('datasets/discentes/discentes-2013.csv',sep=';')\n",
    "discentes_2014 = pd.read_csv('datasets/discentes/discentes-2014.csv',sep=';')\n",
    "discentes_2015 = pd.read_csv('datasets/discentes/discentes-2015.csv',sep=';')\n",
    "discentes_2016 = pd.read_csv('datasets/discentes/discentes-2016.csv',sep=';')\n",
    "discentes_2017 = pd.read_csv('datasets/discentes/discentes-2017.csv',sep=';')\n",
    "\n",
    "discentes = pd.concat([discentes_2009,discentes_2010,discentes_2011,discentes_2012,discentes_2013,discentes_2014,discentes_2015,discentes_2016,discentes_2017])\n",
    "discentes.reset_index(drop=True)\n",
    "\n",
    "ano_ingresso = pd.DataFrame(discentes.groupby('ano_ingresso', as_index=False).agg('tipo_discente').count())\n",
    "ano_ingresso.columns = ['ano','quantidade']\n",
    "\n",
    "pd.DataFrame(discentes.groupby(['nivel_ensino','ano_ingresso'])['matricula'].agg(['count']))\n",
    "ingresso_nivel_ensino = pd.DataFrame(discentes.groupby(['nivel_ensino','ano_ingresso'], as_index=False).agg('tipo_discente').count())\n",
    "ingresso_nivel_ensino = pd.pivot_table(ingresso_nivel_ensino, index='ano_ingresso',columns=['nivel_ensino'])\n",
    "ingresso_nivel_ensino.columns = ingresso_nivel_ensino.columns.droplevel(level=0)\n",
    "\n",
    "ingresso_nivel_ensino"
   ]
  },
  {
   "cell_type": "code",
   "execution_count": 296,
   "metadata": {
    "scrolled": false
   },
   "outputs": [
    {
     "data": {
      "application/vnd.plotly.v1+json": {
       "config": {
        "linkText": "Export to plot.ly",
        "plotlyServerURL": "https://plot.ly",
        "showLink": false
       },
       "data": [
        {
         "marker": {
          "color": "rgb(42, 169, 201)"
         },
         "name": "Doutorado",
         "type": "bar",
         "uid": "c2c76d4a-4aa6-4b35-9745-a878eb292ac7",
         "x": [
          2009,
          2010,
          2011,
          2012,
          2013,
          2014,
          2015,
          2016,
          2017
         ],
         "y": [
          456,
          629,
          616,
          618,
          722,
          681,
          728,
          825,
          704
         ]
        },
        {
         "marker": {
          "color": "rgb(71, 99, 132)"
         },
         "name": "Mestrado",
         "type": "bar",
         "uid": "45e9551e-5d89-45ae-80e4-7ce0146e8ed0",
         "x": [
          2009,
          2010,
          2011,
          2012,
          2013,
          2014,
          2015,
          2016,
          2017
         ],
         "y": [
          1784,
          1895,
          1931,
          1989,
          2103,
          2303,
          2225,
          2742,
          2545
         ]
        },
        {
         "marker": {
          "color": "rgb(128, 122, 249)"
         },
         "name": "Graduação",
         "type": "bar",
         "uid": "e18a318e-6241-4e4d-989e-cc6f2102fffd",
         "x": [
          2009,
          2010,
          2011,
          2012,
          2013,
          2014,
          2015,
          2016,
          2017
         ],
         "y": [
          7507,
          8884,
          8352,
          10250,
          8713,
          9273,
          7668,
          8234,
          9540
         ]
        },
        {
         "marker": {
          "color": "rgb(111, 21, 124)"
         },
         "name": "Técnico",
         "type": "bar",
         "uid": "ae63b2ab-48bb-4991-8f9f-98312b82958e",
         "x": [
          2009,
          2010,
          2011,
          2012,
          2013,
          2014,
          2015,
          2016,
          2017
         ],
         "y": [
          326,
          1662,
          778,
          2019,
          3702,
          4181,
          4914,
          2490,
          7179
         ]
        }
       ],
       "layout": {
        "title": {
         "text": "Ingressos por ano em diferentes níveis de ensino"
        },
        "xaxis": {
         "title": {
          "text": "Ano"
         }
        },
        "yaxis": {
         "title": {
          "text": "Quantidade de ingressos"
         }
        }
       }
      },
      "text/html": [
       "<div id=\"916bf956-f0bc-4aa4-939b-d434f412fbac\" style=\"height: 525px; width: 100%;\" class=\"plotly-graph-div\"></div><script type=\"text/javascript\">require([\"plotly\"], function(Plotly) { window.PLOTLYENV=window.PLOTLYENV || {};window.PLOTLYENV.BASE_URL=\"https://plot.ly\";\n",
       "if (document.getElementById(\"916bf956-f0bc-4aa4-939b-d434f412fbac\")) {\n",
       "    Plotly.newPlot(\"916bf956-f0bc-4aa4-939b-d434f412fbac\", [{\"marker\": {\"color\": \"rgb(42, 169, 201)\"}, \"name\": \"Doutorado\", \"x\": [2009, 2010, 2011, 2012, 2013, 2014, 2015, 2016, 2017], \"y\": [456.0, 629.0, 616.0, 618.0, 722.0, 681.0, 728.0, 825.0, 704.0], \"type\": \"bar\", \"uid\": \"c2c76d4a-4aa6-4b35-9745-a878eb292ac7\"}, {\"marker\": {\"color\": \"rgb(71, 99, 132)\"}, \"name\": \"Mestrado\", \"x\": [2009, 2010, 2011, 2012, 2013, 2014, 2015, 2016, 2017], \"y\": [1784.0, 1895.0, 1931.0, 1989.0, 2103.0, 2303.0, 2225.0, 2742.0, 2545.0], \"type\": \"bar\", \"uid\": \"45e9551e-5d89-45ae-80e4-7ce0146e8ed0\"}, {\"marker\": {\"color\": \"rgb(128, 122, 249)\"}, \"name\": \"Gradua\\u00e7\\u00e3o\", \"x\": [2009, 2010, 2011, 2012, 2013, 2014, 2015, 2016, 2017], \"y\": [7507.0, 8884.0, 8352.0, 10250.0, 8713.0, 9273.0, 7668.0, 8234.0, 9540.0], \"type\": \"bar\", \"uid\": \"e18a318e-6241-4e4d-989e-cc6f2102fffd\"}, {\"marker\": {\"color\": \"rgb(111, 21, 124)\"}, \"name\": \"T\\u00e9cnico\", \"x\": [2009, 2010, 2011, 2012, 2013, 2014, 2015, 2016, 2017], \"y\": [326.0, 1662.0, 778.0, 2019.0, 3702.0, 4181.0, 4914.0, 2490.0, 7179.0], \"type\": \"bar\", \"uid\": \"ae63b2ab-48bb-4991-8f9f-98312b82958e\"}], {\"title\": {\"text\": \"Ingressos por ano em diferentes n\\u00edveis de ensino\"}, \"xaxis\": {\"title\": {\"text\": \"Ano\"}}, \"yaxis\": {\"title\": {\"text\": \"Quantidade de ingressos\"}}}, {\"showLink\": false, \"linkText\": \"Export to plot.ly\", \"plotlyServerURL\": \"https://plot.ly\"}); \n",
       "}\n",
       "});</script><script type=\"text/javascript\">window.addEventListener(\"resize\", function(){if (document.getElementById(\"916bf956-f0bc-4aa4-939b-d434f412fbac\")) {window._Plotly.Plots.resize(document.getElementById(\"916bf956-f0bc-4aa4-939b-d434f412fbac\"));};})</script>"
      ],
      "text/vnd.plotly.v1+html": [
       "<div id=\"916bf956-f0bc-4aa4-939b-d434f412fbac\" style=\"height: 525px; width: 100%;\" class=\"plotly-graph-div\"></div><script type=\"text/javascript\">require([\"plotly\"], function(Plotly) { window.PLOTLYENV=window.PLOTLYENV || {};window.PLOTLYENV.BASE_URL=\"https://plot.ly\";\n",
       "if (document.getElementById(\"916bf956-f0bc-4aa4-939b-d434f412fbac\")) {\n",
       "    Plotly.newPlot(\"916bf956-f0bc-4aa4-939b-d434f412fbac\", [{\"marker\": {\"color\": \"rgb(42, 169, 201)\"}, \"name\": \"Doutorado\", \"x\": [2009, 2010, 2011, 2012, 2013, 2014, 2015, 2016, 2017], \"y\": [456.0, 629.0, 616.0, 618.0, 722.0, 681.0, 728.0, 825.0, 704.0], \"type\": \"bar\", \"uid\": \"c2c76d4a-4aa6-4b35-9745-a878eb292ac7\"}, {\"marker\": {\"color\": \"rgb(71, 99, 132)\"}, \"name\": \"Mestrado\", \"x\": [2009, 2010, 2011, 2012, 2013, 2014, 2015, 2016, 2017], \"y\": [1784.0, 1895.0, 1931.0, 1989.0, 2103.0, 2303.0, 2225.0, 2742.0, 2545.0], \"type\": \"bar\", \"uid\": \"45e9551e-5d89-45ae-80e4-7ce0146e8ed0\"}, {\"marker\": {\"color\": \"rgb(128, 122, 249)\"}, \"name\": \"Gradua\\u00e7\\u00e3o\", \"x\": [2009, 2010, 2011, 2012, 2013, 2014, 2015, 2016, 2017], \"y\": [7507.0, 8884.0, 8352.0, 10250.0, 8713.0, 9273.0, 7668.0, 8234.0, 9540.0], \"type\": \"bar\", \"uid\": \"e18a318e-6241-4e4d-989e-cc6f2102fffd\"}, {\"marker\": {\"color\": \"rgb(111, 21, 124)\"}, \"name\": \"T\\u00e9cnico\", \"x\": [2009, 2010, 2011, 2012, 2013, 2014, 2015, 2016, 2017], \"y\": [326.0, 1662.0, 778.0, 2019.0, 3702.0, 4181.0, 4914.0, 2490.0, 7179.0], \"type\": \"bar\", \"uid\": \"ae63b2ab-48bb-4991-8f9f-98312b82958e\"}], {\"title\": {\"text\": \"Ingressos por ano em diferentes n\\u00edveis de ensino\"}, \"xaxis\": {\"title\": {\"text\": \"Ano\"}}, \"yaxis\": {\"title\": {\"text\": \"Quantidade de ingressos\"}}}, {\"showLink\": false, \"linkText\": \"Export to plot.ly\", \"plotlyServerURL\": \"https://plot.ly\"}); \n",
       "}\n",
       "});</script><script type=\"text/javascript\">window.addEventListener(\"resize\", function(){if (document.getElementById(\"916bf956-f0bc-4aa4-939b-d434f412fbac\")) {window._Plotly.Plots.resize(document.getElementById(\"916bf956-f0bc-4aa4-939b-d434f412fbac\"));};})</script>"
      ]
     },
     "metadata": {},
     "output_type": "display_data"
    }
   ],
   "source": [
    "doutorado_quantidade_bar = go.Bar(x=ingresso_nivel_ensino.index,y=ingresso_nivel_ensino.DOUTORADO,name='Doutorado',\n",
    "                  marker=dict(color='rgb(42, 169, 201)'))\n",
    "graduacao_quantidade_bar = go.Bar(x=ingresso_nivel_ensino.index,y=ingresso_nivel_ensino.GRADUAÇÃO,name='Graduação',\n",
    "                  marker=dict(color='rgb(128, 122, 249)'))\n",
    "mestrado_quantidade_bar = go.Bar(x=ingresso_nivel_ensino.index,y=ingresso_nivel_ensino.MESTRADO,name='Mestrado',\n",
    "                 marker=dict(color='rgb(71, 99, 132)'))\n",
    "tecnico_quantidade_bar = go.Bar(x=ingresso_nivel_ensino.index,y=ingresso_nivel_ensino.TÉCNICO,name='Técnico',\n",
    "                marker=dict(color='rgb(111, 21, 124)'))\n",
    "\n",
    "data_quantidade_bar = [doutorado_quantidade_bar,mestrado_quantidade_bar,graduacao_quantidade_bar,tecnico_quantidade_bar]\n",
    "\n",
    "layout_quantidade_bar = go.Layout(title=\"Ingressos por ano em diferentes níveis de ensino\",\n",
    "        xaxis=dict(title='Ano'),\n",
    "        yaxis=dict(title='Quantidade de ingressos')\n",
    "    )\n",
    "\n",
    "fig_quantidade_bar = go.Figure(data=data_quantidade_bar,layout=layout_quantidade_bar)\n",
    "offline.iplot(fig_quantidade_bar)"
   ]
  },
  {
   "cell_type": "code",
   "execution_count": 341,
   "metadata": {},
   "outputs": [
    {
     "data": {
      "application/vnd.plotly.v1+json": {
       "config": {
        "linkText": "Export to plot.ly",
        "plotlyServerURL": "https://plot.ly",
        "showLink": false
       },
       "data": [
        {
         "name": "Ativo",
         "type": "bar",
         "uid": "a493af64-6844-4ad3-95d7-7701b441350c",
         "x": [
          2009,
          2010,
          2011,
          2012,
          2013,
          2014,
          2015,
          2016,
          2017
         ],
         "y": [
          1,
          0,
          0,
          1,
          4,
          53,
          331,
          497,
          529
         ]
        },
        {
         "name": "Cancelado",
         "type": "bar",
         "uid": "57400acd-7e09-43e5-8883-44f14552f878",
         "x": [
          2009,
          2010,
          2011,
          2012,
          2013,
          2014,
          2015,
          2016,
          2017
         ],
         "y": [
          214,
          289,
          286,
          312,
          319,
          265,
          277,
          298,
          167
         ]
        },
        {
         "name": "Concluído",
         "type": "bar",
         "uid": "f413d8b8-076c-4bb8-bfed-a539edd638df",
         "x": [
          2009,
          2010,
          2011,
          2012,
          2013,
          2014,
          2015,
          2016,
          2017
         ],
         "y": [
          237,
          330,
          323,
          296,
          378,
          305,
          80,
          18,
          7
         ]
        },
        {
         "name": "Defendido",
         "type": "bar",
         "uid": "85b5ab04-f6d9-479b-a152-65f44333a454",
         "x": [
          2009,
          2010,
          2011,
          2012,
          2013,
          2014,
          2015,
          2016,
          2017
         ],
         "y": [
          3,
          9,
          5,
          9,
          20,
          57,
          38,
          11,
          1
         ]
        },
        {
         "name": "Em homologação",
         "type": "bar",
         "uid": "c81f829b-bb1a-40d4-b6f0-0075143c4547",
         "x": [
          2009,
          2010,
          2011,
          2012,
          2013,
          2014,
          2015,
          2016,
          2017
         ],
         "y": [
          0,
          0,
          0,
          0,
          0,
          0,
          1,
          0,
          0
         ]
        },
        {
         "name": "Trancado",
         "type": "bar",
         "uid": "705d1669-c524-4d57-8bf4-977ce4398e4a",
         "x": [
          2009,
          2010,
          2011,
          2012,
          2013,
          2014,
          2015,
          2016,
          2017
         ],
         "y": [
          1,
          1,
          2,
          0,
          1,
          1,
          1,
          1,
          0
         ]
        }
       ],
       "layout": {
        "barmode": "stack",
        "barnorm": "percent",
        "title": {
         "text": "Porcentagem dos status dos alunos de doutorado (2009-2017)"
        },
        "yaxis": {
         "ticksuffix": "%"
        }
       }
      },
      "text/html": [
       "<div id=\"b1b506e5-24d4-4d79-aa17-ffbac798c1fa\" style=\"height: 525px; width: 100%;\" class=\"plotly-graph-div\"></div><script type=\"text/javascript\">require([\"plotly\"], function(Plotly) { window.PLOTLYENV=window.PLOTLYENV || {};window.PLOTLYENV.BASE_URL=\"https://plot.ly\";\n",
       "if (document.getElementById(\"b1b506e5-24d4-4d79-aa17-ffbac798c1fa\")) {\n",
       "    Plotly.newPlot(\"b1b506e5-24d4-4d79-aa17-ffbac798c1fa\", [{\"name\": \"Ativo\", \"x\": [2009, 2010, 2011, 2012, 2013, 2014, 2015, 2016, 2017], \"y\": [1.0, 0.0, 0.0, 1.0, 4.0, 53.0, 331.0, 497.0, 529.0], \"type\": \"bar\", \"uid\": \"a493af64-6844-4ad3-95d7-7701b441350c\"}, {\"name\": \"Cancelado\", \"x\": [2009, 2010, 2011, 2012, 2013, 2014, 2015, 2016, 2017], \"y\": [214.0, 289.0, 286.0, 312.0, 319.0, 265.0, 277.0, 298.0, 167.0], \"type\": \"bar\", \"uid\": \"57400acd-7e09-43e5-8883-44f14552f878\"}, {\"name\": \"Conclu\\u00eddo\", \"x\": [2009, 2010, 2011, 2012, 2013, 2014, 2015, 2016, 2017], \"y\": [237.0, 330.0, 323.0, 296.0, 378.0, 305.0, 80.0, 18.0, 7.0], \"type\": \"bar\", \"uid\": \"f413d8b8-076c-4bb8-bfed-a539edd638df\"}, {\"name\": \"Defendido\", \"x\": [2009, 2010, 2011, 2012, 2013, 2014, 2015, 2016, 2017], \"y\": [3.0, 9.0, 5.0, 9.0, 20.0, 57.0, 38.0, 11.0, 1.0], \"type\": \"bar\", \"uid\": \"85b5ab04-f6d9-479b-a152-65f44333a454\"}, {\"name\": \"Em homologa\\u00e7\\u00e3o\", \"x\": [2009, 2010, 2011, 2012, 2013, 2014, 2015, 2016, 2017], \"y\": [0.0, 0.0, 0.0, 0.0, 0.0, 0.0, 1.0, 0.0, 0.0], \"type\": \"bar\", \"uid\": \"c81f829b-bb1a-40d4-b6f0-0075143c4547\"}, {\"name\": \"Trancado\", \"x\": [2009, 2010, 2011, 2012, 2013, 2014, 2015, 2016, 2017], \"y\": [1.0, 1.0, 2.0, 0.0, 1.0, 1.0, 1.0, 1.0, 0.0], \"type\": \"bar\", \"uid\": \"705d1669-c524-4d57-8bf4-977ce4398e4a\"}], {\"barmode\": \"stack\", \"barnorm\": \"percent\", \"title\": {\"text\": \"Porcentagem dos status dos alunos de doutorado (2009-2017)\"}, \"yaxis\": {\"ticksuffix\": \"%\"}}, {\"showLink\": false, \"linkText\": \"Export to plot.ly\", \"plotlyServerURL\": \"https://plot.ly\"}); \n",
       "}\n",
       "});</script><script type=\"text/javascript\">window.addEventListener(\"resize\", function(){if (document.getElementById(\"b1b506e5-24d4-4d79-aa17-ffbac798c1fa\")) {window._Plotly.Plots.resize(document.getElementById(\"b1b506e5-24d4-4d79-aa17-ffbac798c1fa\"));};})</script>"
      ],
      "text/vnd.plotly.v1+html": [
       "<div id=\"b1b506e5-24d4-4d79-aa17-ffbac798c1fa\" style=\"height: 525px; width: 100%;\" class=\"plotly-graph-div\"></div><script type=\"text/javascript\">require([\"plotly\"], function(Plotly) { window.PLOTLYENV=window.PLOTLYENV || {};window.PLOTLYENV.BASE_URL=\"https://plot.ly\";\n",
       "if (document.getElementById(\"b1b506e5-24d4-4d79-aa17-ffbac798c1fa\")) {\n",
       "    Plotly.newPlot(\"b1b506e5-24d4-4d79-aa17-ffbac798c1fa\", [{\"name\": \"Ativo\", \"x\": [2009, 2010, 2011, 2012, 2013, 2014, 2015, 2016, 2017], \"y\": [1.0, 0.0, 0.0, 1.0, 4.0, 53.0, 331.0, 497.0, 529.0], \"type\": \"bar\", \"uid\": \"a493af64-6844-4ad3-95d7-7701b441350c\"}, {\"name\": \"Cancelado\", \"x\": [2009, 2010, 2011, 2012, 2013, 2014, 2015, 2016, 2017], \"y\": [214.0, 289.0, 286.0, 312.0, 319.0, 265.0, 277.0, 298.0, 167.0], \"type\": \"bar\", \"uid\": \"57400acd-7e09-43e5-8883-44f14552f878\"}, {\"name\": \"Conclu\\u00eddo\", \"x\": [2009, 2010, 2011, 2012, 2013, 2014, 2015, 2016, 2017], \"y\": [237.0, 330.0, 323.0, 296.0, 378.0, 305.0, 80.0, 18.0, 7.0], \"type\": \"bar\", \"uid\": \"f413d8b8-076c-4bb8-bfed-a539edd638df\"}, {\"name\": \"Defendido\", \"x\": [2009, 2010, 2011, 2012, 2013, 2014, 2015, 2016, 2017], \"y\": [3.0, 9.0, 5.0, 9.0, 20.0, 57.0, 38.0, 11.0, 1.0], \"type\": \"bar\", \"uid\": \"85b5ab04-f6d9-479b-a152-65f44333a454\"}, {\"name\": \"Em homologa\\u00e7\\u00e3o\", \"x\": [2009, 2010, 2011, 2012, 2013, 2014, 2015, 2016, 2017], \"y\": [0.0, 0.0, 0.0, 0.0, 0.0, 0.0, 1.0, 0.0, 0.0], \"type\": \"bar\", \"uid\": \"c81f829b-bb1a-40d4-b6f0-0075143c4547\"}, {\"name\": \"Trancado\", \"x\": [2009, 2010, 2011, 2012, 2013, 2014, 2015, 2016, 2017], \"y\": [1.0, 1.0, 2.0, 0.0, 1.0, 1.0, 1.0, 1.0, 0.0], \"type\": \"bar\", \"uid\": \"705d1669-c524-4d57-8bf4-977ce4398e4a\"}], {\"barmode\": \"stack\", \"barnorm\": \"percent\", \"title\": {\"text\": \"Porcentagem dos status dos alunos de doutorado (2009-2017)\"}, \"yaxis\": {\"ticksuffix\": \"%\"}}, {\"showLink\": false, \"linkText\": \"Export to plot.ly\", \"plotlyServerURL\": \"https://plot.ly\"}); \n",
       "}\n",
       "});</script><script type=\"text/javascript\">window.addEventListener(\"resize\", function(){if (document.getElementById(\"b1b506e5-24d4-4d79-aa17-ffbac798c1fa\")) {window._Plotly.Plots.resize(document.getElementById(\"b1b506e5-24d4-4d79-aa17-ffbac798c1fa\"));};})</script>"
      ]
     },
     "metadata": {},
     "output_type": "display_data"
    }
   ],
   "source": [
    "### doutorado\n",
    "doutorado_status = discentes[discentes.nivel_ensino == 'DOUTORADO'][['ano_ingresso','status']].groupby(['ano_ingresso','status']).apply(lambda x: len(x))\n",
    "doutorado_status = pd.DataFrame(doutorado_status,columns=['count']).unstack(level=0).fillna(0)\n",
    "doutorado_status.columns = doutorado_status.columns.droplevel(level=0)\n",
    "doutorado_status = doutorado_status.T\n",
    "doutorado_status = doutorado_status.rename(columns={'EM HOMOLOGAÇÃO':'HOMOLOGAÇÃO'})\n",
    "\n",
    "data_tecnico_status = [\n",
    "    go.Bar(x=doutorado_status.index,y=doutorado_status.ATIVO,name='Ativo'),\n",
    "    go.Bar(x=doutorado_status.index,y=doutorado_status.CANCELADO,name='Cancelado'),\n",
    "    go.Bar(x=doutorado_status.index,y=doutorado_status.CONCLUÍDO,name='Concluído'),\n",
    "    go.Bar(x=doutorado_status.index,y=doutorado_status.DEFENDIDO,name='Defendido'),\n",
    "    go.Bar(x=doutorado_status.index,y=doutorado_status.HOMOLOGAÇÃO,name='Em homologação'),\n",
    "    go.Bar(x=doutorado_status.index,y=doutorado_status.TRANCADO,name='Trancado')\n",
    "]\n",
    "\n",
    "fig_tecnico_status = go.Figure(data=data_tecnico_status,\n",
    "                               layout=go.Layout(barmode='stack',\n",
    "                                                barnorm='percent',\n",
    "                                                yaxis=dict(ticksuffix='%'),\n",
    "                                                title='Porcentagem dos status dos alunos de doutorado (2009-2017)'\n",
    "                                               ))\n",
    "offline.iplot(fig_tecnico_status)"
   ]
  },
  {
   "cell_type": "code",
   "execution_count": 340,
   "metadata": {},
   "outputs": [
    {
     "data": {
      "application/vnd.plotly.v1+json": {
       "config": {
        "linkText": "Export to plot.ly",
        "plotlyServerURL": "https://plot.ly",
        "showLink": false
       },
       "data": [
        {
         "name": "Ativo",
         "type": "bar",
         "uid": "bfd331e9-013a-4d56-a451-061a9aad9a50",
         "x": [
          2009,
          2010,
          2011,
          2012,
          2013,
          2014,
          2015,
          2016,
          2017
         ],
         "y": [
          0,
          0,
          3,
          0,
          5,
          3,
          2,
          54,
          1362
         ]
        },
        {
         "name": "Cancelado",
         "type": "bar",
         "uid": "c207d83c-7ef4-4f31-904d-a1d40e8b1cb3",
         "x": [
          2009,
          2010,
          2011,
          2012,
          2013,
          2014,
          2015,
          2016,
          2017
         ],
         "y": [
          1111,
          1168,
          1069,
          1127,
          1122,
          1184,
          1216,
          1534,
          848
         ]
        },
        {
         "name": "Concluído",
         "type": "bar",
         "uid": "f743c253-f244-4300-8ed0-ce56cd52f08e",
         "x": [
          2009,
          2010,
          2011,
          2012,
          2013,
          2014,
          2015,
          2016,
          2017
         ],
         "y": [
          663,
          713,
          837,
          831,
          935,
          1063,
          951,
          954,
          136
         ]
        },
        {
         "name": "Defendido",
         "type": "bar",
         "uid": "c6846914-8d30-4c3a-8d6d-85daf5b633ae",
         "x": [
          2009,
          2010,
          2011,
          2012,
          2013,
          2014,
          2015,
          2016,
          2017
         ],
         "y": [
          9,
          14,
          22,
          30,
          38,
          52,
          53,
          198,
          198
         ]
        },
        {
         "name": "Trancado",
         "type": "bar",
         "uid": "01d8ec5a-c413-4998-9e8e-10c25cae3fe6",
         "x": [
          2009,
          2010,
          2011,
          2012,
          2013,
          2014,
          2015,
          2016,
          2017
         ],
         "y": [
          1,
          0,
          0,
          1,
          3,
          1,
          3,
          2,
          1
         ]
        }
       ],
       "layout": {
        "barmode": "stack",
        "barnorm": "percent",
        "title": {
         "text": "Porcentagem dos status dos alunos de mestrado (2009-2017)"
        },
        "yaxis": {
         "ticksuffix": "%"
        }
       }
      },
      "text/html": [
       "<div id=\"a4c3f1a0-a9e7-4b1d-9776-af74bc0d0a09\" style=\"height: 525px; width: 100%;\" class=\"plotly-graph-div\"></div><script type=\"text/javascript\">require([\"plotly\"], function(Plotly) { window.PLOTLYENV=window.PLOTLYENV || {};window.PLOTLYENV.BASE_URL=\"https://plot.ly\";\n",
       "if (document.getElementById(\"a4c3f1a0-a9e7-4b1d-9776-af74bc0d0a09\")) {\n",
       "    Plotly.newPlot(\"a4c3f1a0-a9e7-4b1d-9776-af74bc0d0a09\", [{\"name\": \"Ativo\", \"x\": [2009, 2010, 2011, 2012, 2013, 2014, 2015, 2016, 2017], \"y\": [0.0, 0.0, 3.0, 0.0, 5.0, 3.0, 2.0, 54.0, 1362.0], \"type\": \"bar\", \"uid\": \"bfd331e9-013a-4d56-a451-061a9aad9a50\"}, {\"name\": \"Cancelado\", \"x\": [2009, 2010, 2011, 2012, 2013, 2014, 2015, 2016, 2017], \"y\": [1111.0, 1168.0, 1069.0, 1127.0, 1122.0, 1184.0, 1216.0, 1534.0, 848.0], \"type\": \"bar\", \"uid\": \"c207d83c-7ef4-4f31-904d-a1d40e8b1cb3\"}, {\"name\": \"Conclu\\u00eddo\", \"x\": [2009, 2010, 2011, 2012, 2013, 2014, 2015, 2016, 2017], \"y\": [663.0, 713.0, 837.0, 831.0, 935.0, 1063.0, 951.0, 954.0, 136.0], \"type\": \"bar\", \"uid\": \"f743c253-f244-4300-8ed0-ce56cd52f08e\"}, {\"name\": \"Defendido\", \"x\": [2009, 2010, 2011, 2012, 2013, 2014, 2015, 2016, 2017], \"y\": [9.0, 14.0, 22.0, 30.0, 38.0, 52.0, 53.0, 198.0, 198.0], \"type\": \"bar\", \"uid\": \"c6846914-8d30-4c3a-8d6d-85daf5b633ae\"}, {\"name\": \"Trancado\", \"x\": [2009, 2010, 2011, 2012, 2013, 2014, 2015, 2016, 2017], \"y\": [1.0, 0.0, 0.0, 1.0, 3.0, 1.0, 3.0, 2.0, 1.0], \"type\": \"bar\", \"uid\": \"01d8ec5a-c413-4998-9e8e-10c25cae3fe6\"}], {\"barmode\": \"stack\", \"barnorm\": \"percent\", \"title\": {\"text\": \"Porcentagem dos status dos alunos de mestrado (2009-2017)\"}, \"yaxis\": {\"ticksuffix\": \"%\"}}, {\"showLink\": false, \"linkText\": \"Export to plot.ly\", \"plotlyServerURL\": \"https://plot.ly\"}); \n",
       "}\n",
       "});</script><script type=\"text/javascript\">window.addEventListener(\"resize\", function(){if (document.getElementById(\"a4c3f1a0-a9e7-4b1d-9776-af74bc0d0a09\")) {window._Plotly.Plots.resize(document.getElementById(\"a4c3f1a0-a9e7-4b1d-9776-af74bc0d0a09\"));};})</script>"
      ],
      "text/vnd.plotly.v1+html": [
       "<div id=\"a4c3f1a0-a9e7-4b1d-9776-af74bc0d0a09\" style=\"height: 525px; width: 100%;\" class=\"plotly-graph-div\"></div><script type=\"text/javascript\">require([\"plotly\"], function(Plotly) { window.PLOTLYENV=window.PLOTLYENV || {};window.PLOTLYENV.BASE_URL=\"https://plot.ly\";\n",
       "if (document.getElementById(\"a4c3f1a0-a9e7-4b1d-9776-af74bc0d0a09\")) {\n",
       "    Plotly.newPlot(\"a4c3f1a0-a9e7-4b1d-9776-af74bc0d0a09\", [{\"name\": \"Ativo\", \"x\": [2009, 2010, 2011, 2012, 2013, 2014, 2015, 2016, 2017], \"y\": [0.0, 0.0, 3.0, 0.0, 5.0, 3.0, 2.0, 54.0, 1362.0], \"type\": \"bar\", \"uid\": \"bfd331e9-013a-4d56-a451-061a9aad9a50\"}, {\"name\": \"Cancelado\", \"x\": [2009, 2010, 2011, 2012, 2013, 2014, 2015, 2016, 2017], \"y\": [1111.0, 1168.0, 1069.0, 1127.0, 1122.0, 1184.0, 1216.0, 1534.0, 848.0], \"type\": \"bar\", \"uid\": \"c207d83c-7ef4-4f31-904d-a1d40e8b1cb3\"}, {\"name\": \"Conclu\\u00eddo\", \"x\": [2009, 2010, 2011, 2012, 2013, 2014, 2015, 2016, 2017], \"y\": [663.0, 713.0, 837.0, 831.0, 935.0, 1063.0, 951.0, 954.0, 136.0], \"type\": \"bar\", \"uid\": \"f743c253-f244-4300-8ed0-ce56cd52f08e\"}, {\"name\": \"Defendido\", \"x\": [2009, 2010, 2011, 2012, 2013, 2014, 2015, 2016, 2017], \"y\": [9.0, 14.0, 22.0, 30.0, 38.0, 52.0, 53.0, 198.0, 198.0], \"type\": \"bar\", \"uid\": \"c6846914-8d30-4c3a-8d6d-85daf5b633ae\"}, {\"name\": \"Trancado\", \"x\": [2009, 2010, 2011, 2012, 2013, 2014, 2015, 2016, 2017], \"y\": [1.0, 0.0, 0.0, 1.0, 3.0, 1.0, 3.0, 2.0, 1.0], \"type\": \"bar\", \"uid\": \"01d8ec5a-c413-4998-9e8e-10c25cae3fe6\"}], {\"barmode\": \"stack\", \"barnorm\": \"percent\", \"title\": {\"text\": \"Porcentagem dos status dos alunos de mestrado (2009-2017)\"}, \"yaxis\": {\"ticksuffix\": \"%\"}}, {\"showLink\": false, \"linkText\": \"Export to plot.ly\", \"plotlyServerURL\": \"https://plot.ly\"}); \n",
       "}\n",
       "});</script><script type=\"text/javascript\">window.addEventListener(\"resize\", function(){if (document.getElementById(\"a4c3f1a0-a9e7-4b1d-9776-af74bc0d0a09\")) {window._Plotly.Plots.resize(document.getElementById(\"a4c3f1a0-a9e7-4b1d-9776-af74bc0d0a09\"));};})</script>"
      ]
     },
     "metadata": {},
     "output_type": "display_data"
    }
   ],
   "source": [
    "### mestrado\n",
    "mestrado_status = discentes[discentes.nivel_ensino == 'MESTRADO'][['ano_ingresso','status']].groupby(['ano_ingresso','status']).apply(lambda x: len(x))\n",
    "mestrado_status = pd.DataFrame(mestrado_status,columns=['count']).unstack(level=0).fillna(0)\n",
    "mestrado_status.columns = mestrado_status.columns.droplevel(level=0)\n",
    "mestrado_status = mestrado_status.T\n",
    "\n",
    "data_tecnico_status = [\n",
    "    go.Bar(x=mestrado_status.index,y=mestrado_status.ATIVO,name='Ativo'),\n",
    "    go.Bar(x=mestrado_status.index,y=mestrado_status.CANCELADO,name='Cancelado'),\n",
    "    go.Bar(x=mestrado_status.index,y=mestrado_status.CONCLUÍDO,name='Concluído'),\n",
    "    go.Bar(x=mestrado_status.index,y=mestrado_status.DEFENDIDO,name='Defendido'),\n",
    "    go.Bar(x=mestrado_status.index,y=mestrado_status.TRANCADO,name='Trancado'),\n",
    "]\n",
    "\n",
    "fig_tecnico_status = go.Figure(data=data_tecnico_status,\n",
    "                               layout=go.Layout(barmode='stack',\n",
    "                                                barnorm='percent',\n",
    "                                                yaxis=dict(ticksuffix='%'),\n",
    "                                                title='Porcentagem dos status dos alunos de mestrado (2009-2017)'\n",
    "                                               ))\n",
    "offline.iplot(fig_tecnico_status)"
   ]
  },
  {
   "cell_type": "code",
   "execution_count": 346,
   "metadata": {},
   "outputs": [
    {
     "data": {
      "text/html": [
       "<div>\n",
       "<style scoped>\n",
       "    .dataframe tbody tr th:only-of-type {\n",
       "        vertical-align: middle;\n",
       "    }\n",
       "\n",
       "    .dataframe tbody tr th {\n",
       "        vertical-align: top;\n",
       "    }\n",
       "\n",
       "    .dataframe thead th {\n",
       "        text-align: right;\n",
       "    }\n",
       "</style>\n",
       "<table border=\"1\" class=\"dataframe\">\n",
       "  <thead>\n",
       "    <tr style=\"text-align: right;\">\n",
       "      <th>status</th>\n",
       "      <th>ATIVO</th>\n",
       "      <th>FORMANDO</th>\n",
       "      <th>CADASTRADO</th>\n",
       "      <th>CANCELADO</th>\n",
       "      <th>CONCLUÍDO</th>\n",
       "      <th>FORMADO</th>\n",
       "      <th>TRANCADO</th>\n",
       "    </tr>\n",
       "    <tr>\n",
       "      <th>ano_ingresso</th>\n",
       "      <th></th>\n",
       "      <th></th>\n",
       "      <th></th>\n",
       "      <th></th>\n",
       "      <th></th>\n",
       "      <th></th>\n",
       "      <th></th>\n",
       "    </tr>\n",
       "  </thead>\n",
       "  <tbody>\n",
       "    <tr>\n",
       "      <th>2009</th>\n",
       "      <td>19.0</td>\n",
       "      <td>4.0</td>\n",
       "      <td>63.0</td>\n",
       "      <td>3288.0</td>\n",
       "      <td>4092.0</td>\n",
       "      <td>39.0</td>\n",
       "      <td>2.0</td>\n",
       "    </tr>\n",
       "    <tr>\n",
       "      <th>2010</th>\n",
       "      <td>122.0</td>\n",
       "      <td>12.0</td>\n",
       "      <td>32.0</td>\n",
       "      <td>4355.0</td>\n",
       "      <td>4296.0</td>\n",
       "      <td>63.0</td>\n",
       "      <td>4.0</td>\n",
       "    </tr>\n",
       "    <tr>\n",
       "      <th>2011</th>\n",
       "      <td>242.0</td>\n",
       "      <td>41.0</td>\n",
       "      <td>53.0</td>\n",
       "      <td>3811.0</td>\n",
       "      <td>4151.0</td>\n",
       "      <td>42.0</td>\n",
       "      <td>12.0</td>\n",
       "    </tr>\n",
       "    <tr>\n",
       "      <th>2012</th>\n",
       "      <td>385.0</td>\n",
       "      <td>112.0</td>\n",
       "      <td>33.0</td>\n",
       "      <td>4603.0</td>\n",
       "      <td>5049.0</td>\n",
       "      <td>49.0</td>\n",
       "      <td>19.0</td>\n",
       "    </tr>\n",
       "    <tr>\n",
       "      <th>2013</th>\n",
       "      <td>617.0</td>\n",
       "      <td>183.0</td>\n",
       "      <td>0.0</td>\n",
       "      <td>4245.0</td>\n",
       "      <td>3562.0</td>\n",
       "      <td>54.0</td>\n",
       "      <td>52.0</td>\n",
       "    </tr>\n",
       "    <tr>\n",
       "      <th>2014</th>\n",
       "      <td>1521.0</td>\n",
       "      <td>324.0</td>\n",
       "      <td>0.0</td>\n",
       "      <td>4788.0</td>\n",
       "      <td>2481.0</td>\n",
       "      <td>64.0</td>\n",
       "      <td>95.0</td>\n",
       "    </tr>\n",
       "    <tr>\n",
       "      <th>2015</th>\n",
       "      <td>2961.0</td>\n",
       "      <td>327.0</td>\n",
       "      <td>7.0</td>\n",
       "      <td>3187.0</td>\n",
       "      <td>966.0</td>\n",
       "      <td>21.0</td>\n",
       "      <td>199.0</td>\n",
       "    </tr>\n",
       "    <tr>\n",
       "      <th>2016</th>\n",
       "      <td>4424.0</td>\n",
       "      <td>136.0</td>\n",
       "      <td>0.0</td>\n",
       "      <td>2930.0</td>\n",
       "      <td>418.0</td>\n",
       "      <td>15.0</td>\n",
       "      <td>311.0</td>\n",
       "    </tr>\n",
       "    <tr>\n",
       "      <th>2017</th>\n",
       "      <td>6210.0</td>\n",
       "      <td>63.0</td>\n",
       "      <td>1.0</td>\n",
       "      <td>2587.0</td>\n",
       "      <td>134.0</td>\n",
       "      <td>6.0</td>\n",
       "      <td>539.0</td>\n",
       "    </tr>\n",
       "  </tbody>\n",
       "</table>\n",
       "</div>"
      ],
      "text/plain": [
       "status         ATIVO  FORMANDO  CADASTRADO  CANCELADO  CONCLUÍDO  FORMADO  \\\n",
       "ano_ingresso                                                                \n",
       "2009            19.0       4.0        63.0     3288.0     4092.0     39.0   \n",
       "2010           122.0      12.0        32.0     4355.0     4296.0     63.0   \n",
       "2011           242.0      41.0        53.0     3811.0     4151.0     42.0   \n",
       "2012           385.0     112.0        33.0     4603.0     5049.0     49.0   \n",
       "2013           617.0     183.0         0.0     4245.0     3562.0     54.0   \n",
       "2014          1521.0     324.0         0.0     4788.0     2481.0     64.0   \n",
       "2015          2961.0     327.0         7.0     3187.0      966.0     21.0   \n",
       "2016          4424.0     136.0         0.0     2930.0      418.0     15.0   \n",
       "2017          6210.0      63.0         1.0     2587.0      134.0      6.0   \n",
       "\n",
       "status        TRANCADO  \n",
       "ano_ingresso            \n",
       "2009               2.0  \n",
       "2010               4.0  \n",
       "2011              12.0  \n",
       "2012              19.0  \n",
       "2013              52.0  \n",
       "2014              95.0  \n",
       "2015             199.0  \n",
       "2016             311.0  \n",
       "2017             539.0  "
      ]
     },
     "execution_count": 346,
     "metadata": {},
     "output_type": "execute_result"
    }
   ],
   "source": [
    "### graduação\n",
    "graduacao_status = discentes[discentes.nivel_ensino == 'GRADUAÇÃO'][['ano_ingresso','status']].groupby(['ano_ingresso','status']).apply(lambda x: len(x))\n",
    "graduacao_status = pd.DataFrame(graduacao_status,columns=['count']).unstack(level=0).fillna(0)\n",
    "graduacao_status.columns = graduacao_status.columns.droplevel(level=0)\n",
    "graduacao_status = graduacao_status.T\n",
    "graduacao_status = graduacao_status.rename(columns={'ATIVO - FORMANDO':'FORMANDO'})\n",
    "\n",
    "data_tecnico_status = [\n",
    "    go.Bar(x=graduacao_status.index,y=tecnico_status.ATIVO,name='Ativo'),\n",
    "    go.Bar(x=graduacao_status.index,y=tecnico_status.FORMANDO,name='Formando'),\n",
    "    go.Bar(x=graduacao_status.index,y=tecnico_status.CADASTRADO,name='Cadastrado'),\n",
    "    go.Bar(x=graduacao_status.index,y=tecnico_status.CANCELADO,name='Cancelado'),\n",
    "    go.Bar(x=graduacao_status.index,y=tecnico_status.CONCLUÍDO,name='Concluído'),\n",
    "    go.Bar(x=graduacao_status.index,y=tecnico_status.FORMADO,name='Formado'),\n",
    "    go.Bar(x=graduacao_status.index,y=graduacao_status.TRANCADO,name='Trancado')\n",
    "]\n",
    "\n",
    "fig_tecnico_status = go.Figure(data=data_tecnico_status,\n",
    "                               layout=go.Layout(barmode='stack',\n",
    "                                                barnorm='percent',\n",
    "                                                yaxis=dict(ticksuffix='%'),\n",
    "                                                title='Porcentagem dos status dos alunos de nível técnico (2009-2017)'\n",
    "                                               ))\n",
    "offline.iplot(fig_tecnico_status)"
   ]
  },
  {
   "cell_type": "code",
   "execution_count": 295,
   "metadata": {
    "scrolled": false
   },
   "outputs": [
    {
     "data": {
      "application/vnd.plotly.v1+json": {
       "config": {
        "linkText": "Export to plot.ly",
        "plotlyServerURL": "https://plot.ly",
        "showLink": false
       },
       "data": [
        {
         "name": "Ativo",
         "type": "bar",
         "uid": "fed92619-c149-43a3-b5a5-d3a18b48b3c2",
         "x": [
          2009,
          2010,
          2011,
          2012,
          2013,
          2014,
          2015,
          2016,
          2017
         ],
         "y": [
          1,
          13,
          34,
          44,
          277,
          210,
          718,
          475,
          4962
         ]
        },
        {
         "name": "Dependência",
         "type": "bar",
         "uid": "55b3f89b-7f95-449e-b30d-be1847d7b536",
         "x": [
          2009,
          2010,
          2011,
          2012,
          2013,
          2014,
          2015,
          2016,
          2017
         ],
         "y": [
          0,
          0,
          0,
          0,
          0,
          0,
          0,
          0,
          1
         ]
        },
        {
         "name": "Formando",
         "type": "bar",
         "uid": "3def7e66-86c7-47a0-8244-6a6386b9eb1b",
         "x": [
          2009,
          2010,
          2011,
          2012,
          2013,
          2014,
          2015,
          2016,
          2017
         ],
         "y": [
          0,
          0,
          0,
          0,
          2,
          13,
          28,
          13,
          25
         ]
        },
        {
         "name": "Cadastrado",
         "type": "bar",
         "uid": "d7b8c06c-ddd6-491b-b07b-c2b7a5f25812",
         "x": [
          2009,
          2010,
          2011,
          2012,
          2013,
          2014,
          2015,
          2016,
          2017
         ],
         "y": [
          0,
          0,
          0,
          0,
          0,
          39,
          40,
          47,
          60
         ]
        },
        {
         "name": "Cancelado",
         "type": "bar",
         "uid": "5ca68a4f-90d8-4140-83ee-8d5d1c5b38e6",
         "x": [
          2009,
          2010,
          2011,
          2012,
          2013,
          2014,
          2015,
          2016,
          2017
         ],
         "y": [
          94,
          931,
          421,
          1303,
          2445,
          2513,
          2368,
          1292,
          1533
         ]
        },
        {
         "name": "Concluído",
         "type": "bar",
         "uid": "e4cab3b6-f21b-4886-be82-0f3d81f34bf9",
         "x": [
          2009,
          2010,
          2011,
          2012,
          2013,
          2014,
          2015,
          2016,
          2017
         ],
         "y": [
          211,
          696,
          323,
          559,
          902,
          1405,
          1339,
          497,
          585
         ]
        },
        {
         "name": "Formado",
         "type": "bar",
         "uid": "dfd649ce-18ea-40ec-9677-4b69dc439205",
         "x": [
          2009,
          2010,
          2011,
          2012,
          2013,
          2014,
          2015,
          2016,
          2017
         ],
         "y": [
          0,
          0,
          0,
          3,
          6,
          0,
          394,
          160,
          1
         ]
        },
        {
         "name": "Trancado",
         "type": "bar",
         "uid": "7932782a-7443-4599-a445-319a8d713f05",
         "x": [
          2009,
          2010,
          2011,
          2012,
          2013,
          2014,
          2015,
          2016,
          2017
         ],
         "y": [
          20,
          22,
          0,
          110,
          70,
          1,
          27,
          6,
          12
         ]
        }
       ],
       "layout": {
        "barmode": "stack",
        "barnorm": "percent",
        "title": {
         "text": "Porcentagem dos status dos alunos de nível técnico (2009-2017)"
        },
        "yaxis": {
         "ticksuffix": "%"
        }
       }
      },
      "text/html": [
       "<div id=\"9cda646a-4f23-444e-9c36-40e3c0cd1c5d\" style=\"height: 525px; width: 100%;\" class=\"plotly-graph-div\"></div><script type=\"text/javascript\">require([\"plotly\"], function(Plotly) { window.PLOTLYENV=window.PLOTLYENV || {};window.PLOTLYENV.BASE_URL=\"https://plot.ly\";\n",
       "if (document.getElementById(\"9cda646a-4f23-444e-9c36-40e3c0cd1c5d\")) {\n",
       "    Plotly.newPlot(\"9cda646a-4f23-444e-9c36-40e3c0cd1c5d\", [{\"name\": \"Ativo\", \"x\": [2009, 2010, 2011, 2012, 2013, 2014, 2015, 2016, 2017], \"y\": [1.0, 13.0, 34.0, 44.0, 277.0, 210.0, 718.0, 475.0, 4962.0], \"type\": \"bar\", \"uid\": \"fed92619-c149-43a3-b5a5-d3a18b48b3c2\"}, {\"name\": \"Depend\\u00eancia\", \"x\": [2009, 2010, 2011, 2012, 2013, 2014, 2015, 2016, 2017], \"y\": [0.0, 0.0, 0.0, 0.0, 0.0, 0.0, 0.0, 0.0, 1.0], \"type\": \"bar\", \"uid\": \"55b3f89b-7f95-449e-b30d-be1847d7b536\"}, {\"name\": \"Formando\", \"x\": [2009, 2010, 2011, 2012, 2013, 2014, 2015, 2016, 2017], \"y\": [0.0, 0.0, 0.0, 0.0, 2.0, 13.0, 28.0, 13.0, 25.0], \"type\": \"bar\", \"uid\": \"3def7e66-86c7-47a0-8244-6a6386b9eb1b\"}, {\"name\": \"Cadastrado\", \"x\": [2009, 2010, 2011, 2012, 2013, 2014, 2015, 2016, 2017], \"y\": [0.0, 0.0, 0.0, 0.0, 0.0, 39.0, 40.0, 47.0, 60.0], \"type\": \"bar\", \"uid\": \"d7b8c06c-ddd6-491b-b07b-c2b7a5f25812\"}, {\"name\": \"Cancelado\", \"x\": [2009, 2010, 2011, 2012, 2013, 2014, 2015, 2016, 2017], \"y\": [94.0, 931.0, 421.0, 1303.0, 2445.0, 2513.0, 2368.0, 1292.0, 1533.0], \"type\": \"bar\", \"uid\": \"5ca68a4f-90d8-4140-83ee-8d5d1c5b38e6\"}, {\"name\": \"Conclu\\u00eddo\", \"x\": [2009, 2010, 2011, 2012, 2013, 2014, 2015, 2016, 2017], \"y\": [211.0, 696.0, 323.0, 559.0, 902.0, 1405.0, 1339.0, 497.0, 585.0], \"type\": \"bar\", \"uid\": \"e4cab3b6-f21b-4886-be82-0f3d81f34bf9\"}, {\"name\": \"Formado\", \"x\": [2009, 2010, 2011, 2012, 2013, 2014, 2015, 2016, 2017], \"y\": [0.0, 0.0, 0.0, 3.0, 6.0, 0.0, 394.0, 160.0, 1.0], \"type\": \"bar\", \"uid\": \"dfd649ce-18ea-40ec-9677-4b69dc439205\"}, {\"name\": \"Trancado\", \"x\": [2009, 2010, 2011, 2012, 2013, 2014, 2015, 2016, 2017], \"y\": [20.0, 22.0, 0.0, 110.0, 70.0, 1.0, 27.0, 6.0, 12.0], \"type\": \"bar\", \"uid\": \"7932782a-7443-4599-a445-319a8d713f05\"}], {\"barmode\": \"stack\", \"barnorm\": \"percent\", \"title\": {\"text\": \"Porcentagem dos status dos alunos de n\\u00edvel t\\u00e9cnico (2009-2017)\"}, \"yaxis\": {\"ticksuffix\": \"%\"}}, {\"showLink\": false, \"linkText\": \"Export to plot.ly\", \"plotlyServerURL\": \"https://plot.ly\"}); \n",
       "}\n",
       "});</script><script type=\"text/javascript\">window.addEventListener(\"resize\", function(){if (document.getElementById(\"9cda646a-4f23-444e-9c36-40e3c0cd1c5d\")) {window._Plotly.Plots.resize(document.getElementById(\"9cda646a-4f23-444e-9c36-40e3c0cd1c5d\"));};})</script>"
      ],
      "text/vnd.plotly.v1+html": [
       "<div id=\"9cda646a-4f23-444e-9c36-40e3c0cd1c5d\" style=\"height: 525px; width: 100%;\" class=\"plotly-graph-div\"></div><script type=\"text/javascript\">require([\"plotly\"], function(Plotly) { window.PLOTLYENV=window.PLOTLYENV || {};window.PLOTLYENV.BASE_URL=\"https://plot.ly\";\n",
       "if (document.getElementById(\"9cda646a-4f23-444e-9c36-40e3c0cd1c5d\")) {\n",
       "    Plotly.newPlot(\"9cda646a-4f23-444e-9c36-40e3c0cd1c5d\", [{\"name\": \"Ativo\", \"x\": [2009, 2010, 2011, 2012, 2013, 2014, 2015, 2016, 2017], \"y\": [1.0, 13.0, 34.0, 44.0, 277.0, 210.0, 718.0, 475.0, 4962.0], \"type\": \"bar\", \"uid\": \"fed92619-c149-43a3-b5a5-d3a18b48b3c2\"}, {\"name\": \"Depend\\u00eancia\", \"x\": [2009, 2010, 2011, 2012, 2013, 2014, 2015, 2016, 2017], \"y\": [0.0, 0.0, 0.0, 0.0, 0.0, 0.0, 0.0, 0.0, 1.0], \"type\": \"bar\", \"uid\": \"55b3f89b-7f95-449e-b30d-be1847d7b536\"}, {\"name\": \"Formando\", \"x\": [2009, 2010, 2011, 2012, 2013, 2014, 2015, 2016, 2017], \"y\": [0.0, 0.0, 0.0, 0.0, 2.0, 13.0, 28.0, 13.0, 25.0], \"type\": \"bar\", \"uid\": \"3def7e66-86c7-47a0-8244-6a6386b9eb1b\"}, {\"name\": \"Cadastrado\", \"x\": [2009, 2010, 2011, 2012, 2013, 2014, 2015, 2016, 2017], \"y\": [0.0, 0.0, 0.0, 0.0, 0.0, 39.0, 40.0, 47.0, 60.0], \"type\": \"bar\", \"uid\": \"d7b8c06c-ddd6-491b-b07b-c2b7a5f25812\"}, {\"name\": \"Cancelado\", \"x\": [2009, 2010, 2011, 2012, 2013, 2014, 2015, 2016, 2017], \"y\": [94.0, 931.0, 421.0, 1303.0, 2445.0, 2513.0, 2368.0, 1292.0, 1533.0], \"type\": \"bar\", \"uid\": \"5ca68a4f-90d8-4140-83ee-8d5d1c5b38e6\"}, {\"name\": \"Conclu\\u00eddo\", \"x\": [2009, 2010, 2011, 2012, 2013, 2014, 2015, 2016, 2017], \"y\": [211.0, 696.0, 323.0, 559.0, 902.0, 1405.0, 1339.0, 497.0, 585.0], \"type\": \"bar\", \"uid\": \"e4cab3b6-f21b-4886-be82-0f3d81f34bf9\"}, {\"name\": \"Formado\", \"x\": [2009, 2010, 2011, 2012, 2013, 2014, 2015, 2016, 2017], \"y\": [0.0, 0.0, 0.0, 3.0, 6.0, 0.0, 394.0, 160.0, 1.0], \"type\": \"bar\", \"uid\": \"dfd649ce-18ea-40ec-9677-4b69dc439205\"}, {\"name\": \"Trancado\", \"x\": [2009, 2010, 2011, 2012, 2013, 2014, 2015, 2016, 2017], \"y\": [20.0, 22.0, 0.0, 110.0, 70.0, 1.0, 27.0, 6.0, 12.0], \"type\": \"bar\", \"uid\": \"7932782a-7443-4599-a445-319a8d713f05\"}], {\"barmode\": \"stack\", \"barnorm\": \"percent\", \"title\": {\"text\": \"Porcentagem dos status dos alunos de n\\u00edvel t\\u00e9cnico (2009-2017)\"}, \"yaxis\": {\"ticksuffix\": \"%\"}}, {\"showLink\": false, \"linkText\": \"Export to plot.ly\", \"plotlyServerURL\": \"https://plot.ly\"}); \n",
       "}\n",
       "});</script><script type=\"text/javascript\">window.addEventListener(\"resize\", function(){if (document.getElementById(\"9cda646a-4f23-444e-9c36-40e3c0cd1c5d\")) {window._Plotly.Plots.resize(document.getElementById(\"9cda646a-4f23-444e-9c36-40e3c0cd1c5d\"));};})</script>"
      ]
     },
     "metadata": {},
     "output_type": "display_data"
    }
   ],
   "source": [
    "### técnico\n",
    "tecnico_status = discentes[discentes.nivel_ensino == 'TÉCNICO'][['ano_ingresso','status']].groupby(['ano_ingresso','status']).apply(lambda x: len(x))\n",
    "tecnico_status = pd.DataFrame(tecnico_status,columns=['count']).unstack(level=0).fillna(0)\n",
    "tecnico_status.columns = tecnico_status.columns.droplevel(level=0)\n",
    "tecnico_status = tecnico_status.T\n",
    "tecnico_status = tecnico_status.rename(columns={'ATIVO - DEPENDÊNCIA':'DEPENDÊNCIA','ATIVO - FORMANDO':'FORMANDO'})\n",
    "\n",
    "data_tecnico_status = [\n",
    "    go.Bar(x=tecnico_status.index,y=tecnico_status.ATIVO,name='Ativo'),\n",
    "    go.Bar(x=tecnico_status.index,y=tecnico_status.DEPENDÊNCIA,name='Dependência'),\n",
    "    go.Bar(x=tecnico_status.index,y=tecnico_status.FORMANDO,name='Formando'),\n",
    "    go.Bar(x=tecnico_status.index,y=tecnico_status.CADASTRADO,name='Cadastrado'),\n",
    "    go.Bar(x=tecnico_status.index,y=tecnico_status.CANCELADO,name='Cancelado'),\n",
    "    go.Bar(x=tecnico_status.index,y=tecnico_status.CONCLUÍDO,name='Concluído'),\n",
    "    go.Bar(x=tecnico_status.index,y=tecnico_status.FORMADO,name='Formado'),\n",
    "    go.Bar(x=tecnico_status.index,y=tecnico_status.TRANCADO,name='Trancado')\n",
    "]\n",
    "\n",
    "fig_tecnico_status = go.Figure(data=data_tecnico_status,\n",
    "                               layout=go.Layout(barmode='stack',\n",
    "                                                barnorm='percent',\n",
    "                                                yaxis=dict(ticksuffix='%'),\n",
    "                                                title='Porcentagem dos status dos alunos de nível técnico (2009-2017)'\n",
    "                                               ))\n",
    "offline.iplot(fig_tecnico_status)"
   ]
  },
  {
   "cell_type": "code",
   "execution_count": null,
   "metadata": {},
   "outputs": [],
   "source": []
  }
 ],
 "metadata": {
  "kernelspec": {
   "display_name": "Python 3",
   "language": "python",
   "name": "python3"
  },
  "language_info": {
   "codemirror_mode": {
    "name": "ipython",
    "version": 3
   },
   "file_extension": ".py",
   "mimetype": "text/x-python",
   "name": "python",
   "nbconvert_exporter": "python",
   "pygments_lexer": "ipython3",
   "version": "3.6.8"
  }
 },
 "nbformat": 4,
 "nbformat_minor": 2
}
